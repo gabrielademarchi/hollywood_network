{
 "cells": [
  {
   "cell_type": "markdown",
   "id": "aa198a96",
   "metadata": {},
   "source": [
    "## Holywood Network\n",
    "\n",
    "### Question and problem definition\n",
    "* let's analyze which are the most relevant actors in each decade and how it evolved from the 90s to the 10s."
   ]
  },
  {
   "cell_type": "code",
   "execution_count": 4,
   "id": "9d26de93",
   "metadata": {},
   "outputs": [],
   "source": [
    "import json\n",
    "import pandas as pd\n",
    "from collections import Counter\n",
    "import numpy as np\n",
    "import matplotlib.pyplot as plt\n",
    "import networkx as nx\n",
    "\n",
    "%matplotlib inline"
   ]
  },
  {
   "cell_type": "markdown",
   "id": "ca228be6",
   "metadata": {},
   "source": [
    "Our data base is one taken from the Internet Movie Database (IMDB). Specifically, we use a dataset compiled by the administrators of the [Oracle of Bacon website](https://oracleofbacon.org/)"
   ]
  },
  {
   "cell_type": "markdown",
   "id": "18cb5f91",
   "metadata": {},
   "source": [
    "### 1. Aquire Data"
   ]
  },
  {
   "cell_type": "code",
   "execution_count": 5,
   "id": "0509b4cf",
   "metadata": {},
   "outputs": [
    {
     "data": {
      "text/html": [
       "<div>\n",
       "<style scoped>\n",
       "    .dataframe tbody tr th:only-of-type {\n",
       "        vertical-align: middle;\n",
       "    }\n",
       "\n",
       "    .dataframe tbody tr th {\n",
       "        vertical-align: top;\n",
       "    }\n",
       "\n",
       "    .dataframe thead th {\n",
       "        text-align: right;\n",
       "    }\n",
       "</style>\n",
       "<table border=\"1\" class=\"dataframe\">\n",
       "  <thead>\n",
       "    <tr style=\"text-align: right;\">\n",
       "      <th></th>\n",
       "      <th>title</th>\n",
       "      <th>cast</th>\n",
       "      <th>directors</th>\n",
       "      <th>producers</th>\n",
       "      <th>companies</th>\n",
       "      <th>year</th>\n",
       "    </tr>\n",
       "  </thead>\n",
       "  <tbody>\n",
       "    <tr>\n",
       "      <th>0</th>\n",
       "      <td>Actrius</td>\n",
       "      <td>[Núria Espert, Rosa Maria Sardà, Anna Lizaran,...</td>\n",
       "      <td>[Ventura Pons]</td>\n",
       "      <td>[Ventura Pons]</td>\n",
       "      <td>[Buena Vista International]</td>\n",
       "      <td>1997.0</td>\n",
       "    </tr>\n",
       "    <tr>\n",
       "      <th>1</th>\n",
       "      <td>Army of Darkness</td>\n",
       "      <td>[Bruce Campbell, Embeth Davidtz, Marcus Gilber...</td>\n",
       "      <td>[Sam Raimi]</td>\n",
       "      <td>[Robert Tapert]</td>\n",
       "      <td>[Dino De Laurentiis|Dino De Laurentiis Communi...</td>\n",
       "      <td>1992.0</td>\n",
       "    </tr>\n",
       "    <tr>\n",
       "      <th>2</th>\n",
       "      <td>The Birth of a Nation</td>\n",
       "      <td>[Lillian Gish, Mae Marsh, Henry B. Walthall, M...</td>\n",
       "      <td>[D. W. Griffith]</td>\n",
       "      <td>[D. W. Griffith, Harry Aitken]</td>\n",
       "      <td>[David W. Griffith Corp., Epoch Producing Co.]</td>\n",
       "      <td>1915.0</td>\n",
       "    </tr>\n",
       "    <tr>\n",
       "      <th>3</th>\n",
       "      <td>Blade Runner</td>\n",
       "      <td>[Harrison Ford, Rutger Hauer, Sean Young, Edwa...</td>\n",
       "      <td>[Ridley Scott]</td>\n",
       "      <td>[Michael Deeley]</td>\n",
       "      <td>[The Ladd Company, Shaw Brothers, Blade Runner...</td>\n",
       "      <td>1982.0</td>\n",
       "    </tr>\n",
       "    <tr>\n",
       "      <th>4</th>\n",
       "      <td>Blazing Saddles</td>\n",
       "      <td>[Cleavon Little, Gene Wilder, Slim Pickens, Al...</td>\n",
       "      <td>[Mel Brooks]</td>\n",
       "      <td>[Michael Hertzberg]</td>\n",
       "      <td>[Crossbow Productions, Warner Bros.]</td>\n",
       "      <td>1974.0</td>\n",
       "    </tr>\n",
       "  </tbody>\n",
       "</table>\n",
       "</div>"
      ],
      "text/plain": [
       "                   title                                               cast  \\\n",
       "0                Actrius  [Núria Espert, Rosa Maria Sardà, Anna Lizaran,...   \n",
       "1       Army of Darkness  [Bruce Campbell, Embeth Davidtz, Marcus Gilber...   \n",
       "2  The Birth of a Nation  [Lillian Gish, Mae Marsh, Henry B. Walthall, M...   \n",
       "3           Blade Runner  [Harrison Ford, Rutger Hauer, Sean Young, Edwa...   \n",
       "4        Blazing Saddles  [Cleavon Little, Gene Wilder, Slim Pickens, Al...   \n",
       "\n",
       "          directors                       producers  \\\n",
       "0    [Ventura Pons]                  [Ventura Pons]   \n",
       "1       [Sam Raimi]                 [Robert Tapert]   \n",
       "2  [D. W. Griffith]  [D. W. Griffith, Harry Aitken]   \n",
       "3    [Ridley Scott]                [Michael Deeley]   \n",
       "4      [Mel Brooks]             [Michael Hertzberg]   \n",
       "\n",
       "                                           companies    year  \n",
       "0                        [Buena Vista International]  1997.0  \n",
       "1  [Dino De Laurentiis|Dino De Laurentiis Communi...  1992.0  \n",
       "2     [David W. Griffith Corp., Epoch Producing Co.]  1915.0  \n",
       "3  [The Ladd Company, Shaw Brothers, Blade Runner...  1982.0  \n",
       "4               [Crossbow Productions, Warner Bros.]  1974.0  "
      ]
     },
     "execution_count": 5,
     "metadata": {},
     "output_type": "execute_result"
    }
   ],
   "source": [
    "dicts = []\n",
    "with open('out_test_two.txt', encoding='utf8') as file:\n",
    "    for line in file:\n",
    "        dicts.append(json.loads(line))\n",
    "        \n",
    "df = pd.DataFrame(dicts)\n",
    "\n",
    "df.head(5)"
   ]
  },
  {
   "cell_type": "markdown",
   "id": "483fc963",
   "metadata": {},
   "source": [
    "### 2. Baseline"
   ]
  },
  {
   "cell_type": "code",
   "execution_count": 6,
   "id": "341ccc97",
   "metadata": {},
   "outputs": [],
   "source": [
    "#change the year formart\n",
    "df['year'] = df['year'].fillna(0.0).astype(int)"
   ]
  },
  {
   "cell_type": "code",
   "execution_count": 7,
   "id": "c5903907",
   "metadata": {},
   "outputs": [
    {
     "name": "stdout",
     "output_type": "stream",
     "text": [
      "<class 'pandas.core.frame.DataFrame'>\n",
      "RangeIndex: 146725 entries, 0 to 146724\n",
      "Data columns (total 6 columns):\n",
      " #   Column     Non-Null Count   Dtype \n",
      "---  ------     --------------   ----- \n",
      " 0   title      146725 non-null  object\n",
      " 1   cast       146725 non-null  object\n",
      " 2   directors  140011 non-null  object\n",
      " 3   producers  112218 non-null  object\n",
      " 4   companies  111651 non-null  object\n",
      " 5   year       146725 non-null  int32 \n",
      "dtypes: int32(1), object(5)\n",
      "memory usage: 6.2+ MB\n"
     ]
    }
   ],
   "source": [
    "df.info()"
   ]
  },
  {
   "cell_type": "code",
   "execution_count": 8,
   "id": "59d8f4dd",
   "metadata": {},
   "outputs": [
    {
     "data": {
      "text/plain": [
       "title            0\n",
       "cast             0\n",
       "directors     6714\n",
       "producers    34507\n",
       "companies    35074\n",
       "year             0\n",
       "dtype: int64"
      ]
     },
     "execution_count": 8,
     "metadata": {},
     "output_type": "execute_result"
    }
   ],
   "source": [
    "df.isnull().sum()"
   ]
  },
  {
   "cell_type": "markdown",
   "id": "9aa7a407",
   "metadata": {},
   "source": [
    "We have a lot of null values in the directors, producers and companies categories, but these are not columns that we are going to use, so there is no need for correction."
   ]
  },
  {
   "cell_type": "code",
   "execution_count": 9,
   "id": "a2bf637d",
   "metadata": {},
   "outputs": [
    {
     "data": {
      "text/plain": [
       "0       8223\n",
       "1861       1\n",
       "1871       1\n",
       "1887       1\n",
       "1888       1\n",
       "        ... \n",
       "2020    1731\n",
       "2021    1462\n",
       "2022     149\n",
       "2023      10\n",
       "2024       1\n",
       "Name: year, Length: 141, dtype: int64"
      ]
     },
     "execution_count": 9,
     "metadata": {},
     "output_type": "execute_result"
    }
   ],
   "source": [
    "#see if the database is updated\n",
    "df['year'].value_counts().sort_index()"
   ]
  },
  {
   "cell_type": "markdown",
   "id": "4bcf50ad",
   "metadata": {},
   "source": [
    "* The data is updated, but we see that we have data with year = 0. We are going to drop those rows\n",
    "* I also saw in the raw data that we have a few rows with an empty list as a cast. As that is our main variable, we are going to drop that as well."
   ]
  },
  {
   "cell_type": "markdown",
   "id": "1f16451a",
   "metadata": {},
   "source": [
    "### 3. Correcting"
   ]
  },
  {
   "cell_type": "code",
   "execution_count": 10,
   "id": "53109b21",
   "metadata": {},
   "outputs": [
    {
     "name": "stdout",
     "output_type": "stream",
     "text": [
      "<class 'pandas.core.frame.DataFrame'>\n",
      "Int64Index: 130304 entries, 0 to 146723\n",
      "Data columns (total 6 columns):\n",
      " #   Column     Non-Null Count   Dtype \n",
      "---  ------     --------------   ----- \n",
      " 0   title      130304 non-null  object\n",
      " 1   cast       130304 non-null  object\n",
      " 2   directors  129269 non-null  object\n",
      " 3   producers  104780 non-null  object\n",
      " 4   companies  105045 non-null  object\n",
      " 5   year       130304 non-null  int32 \n",
      "dtypes: int32(1), object(5)\n",
      "memory usage: 6.5+ MB\n"
     ]
    }
   ],
   "source": [
    "df = df[df['cast'].map(lambda d: len(d)) > 0]\n",
    "df = df.drop(df[df.year == 0].index)\n",
    "df.info()"
   ]
  },
  {
   "cell_type": "markdown",
   "id": "8e53e71c",
   "metadata": {},
   "source": [
    "* Let us have a df with only our variables of interest\n",
    "* I'm also going to make a copy of the cast columns, so we have a source and a target column for the networkx graph"
   ]
  },
  {
   "cell_type": "code",
   "execution_count": 11,
   "id": "3f1e2b5a",
   "metadata": {
    "scrolled": true
   },
   "outputs": [],
   "source": [
    "df_copy = df[['title', 'cast', 'year']].copy()\n",
    "df_copy['pairs'] = df_copy['cast']"
   ]
  },
  {
   "cell_type": "code",
   "execution_count": 12,
   "id": "a4585e92",
   "metadata": {
    "scrolled": true
   },
   "outputs": [
    {
     "data": {
      "text/html": [
       "<div>\n",
       "<style scoped>\n",
       "    .dataframe tbody tr th:only-of-type {\n",
       "        vertical-align: middle;\n",
       "    }\n",
       "\n",
       "    .dataframe tbody tr th {\n",
       "        vertical-align: top;\n",
       "    }\n",
       "\n",
       "    .dataframe thead th {\n",
       "        text-align: right;\n",
       "    }\n",
       "</style>\n",
       "<table border=\"1\" class=\"dataframe\">\n",
       "  <thead>\n",
       "    <tr style=\"text-align: right;\">\n",
       "      <th></th>\n",
       "      <th>title</th>\n",
       "      <th>cast</th>\n",
       "      <th>year</th>\n",
       "      <th>pairs</th>\n",
       "    </tr>\n",
       "  </thead>\n",
       "  <tbody>\n",
       "    <tr>\n",
       "      <th>0</th>\n",
       "      <td>Actrius</td>\n",
       "      <td>Núria Espert</td>\n",
       "      <td>1997</td>\n",
       "      <td>[Núria Espert, Rosa Maria Sardà, Anna Lizaran,...</td>\n",
       "    </tr>\n",
       "    <tr>\n",
       "      <th>0</th>\n",
       "      <td>Actrius</td>\n",
       "      <td>Rosa Maria Sardà</td>\n",
       "      <td>1997</td>\n",
       "      <td>[Núria Espert, Rosa Maria Sardà, Anna Lizaran,...</td>\n",
       "    </tr>\n",
       "    <tr>\n",
       "      <th>0</th>\n",
       "      <td>Actrius</td>\n",
       "      <td>Anna Lizaran</td>\n",
       "      <td>1997</td>\n",
       "      <td>[Núria Espert, Rosa Maria Sardà, Anna Lizaran,...</td>\n",
       "    </tr>\n",
       "    <tr>\n",
       "      <th>0</th>\n",
       "      <td>Actrius</td>\n",
       "      <td>Mercè Pons</td>\n",
       "      <td>1997</td>\n",
       "      <td>[Núria Espert, Rosa Maria Sardà, Anna Lizaran,...</td>\n",
       "    </tr>\n",
       "    <tr>\n",
       "      <th>1</th>\n",
       "      <td>Army of Darkness</td>\n",
       "      <td>Bruce Campbell</td>\n",
       "      <td>1992</td>\n",
       "      <td>[Bruce Campbell, Embeth Davidtz, Marcus Gilber...</td>\n",
       "    </tr>\n",
       "  </tbody>\n",
       "</table>\n",
       "</div>"
      ],
      "text/plain": [
       "              title              cast  year  \\\n",
       "0           Actrius      Núria Espert  1997   \n",
       "0           Actrius  Rosa Maria Sardà  1997   \n",
       "0           Actrius      Anna Lizaran  1997   \n",
       "0           Actrius        Mercè Pons  1997   \n",
       "1  Army of Darkness    Bruce Campbell  1992   \n",
       "\n",
       "                                               pairs  \n",
       "0  [Núria Espert, Rosa Maria Sardà, Anna Lizaran,...  \n",
       "0  [Núria Espert, Rosa Maria Sardà, Anna Lizaran,...  \n",
       "0  [Núria Espert, Rosa Maria Sardà, Anna Lizaran,...  \n",
       "0  [Núria Espert, Rosa Maria Sardà, Anna Lizaran,...  \n",
       "1  [Bruce Campbell, Embeth Davidtz, Marcus Gilber...  "
      ]
     },
     "execution_count": 12,
     "metadata": {},
     "output_type": "execute_result"
    }
   ],
   "source": [
    "df_copy = df_copy.explode('cast')\n",
    "df_copy.head()"
   ]
  },
  {
   "cell_type": "code",
   "execution_count": 13,
   "id": "7f38f27c",
   "metadata": {},
   "outputs": [
    {
     "data": {
      "text/html": [
       "<div>\n",
       "<style scoped>\n",
       "    .dataframe tbody tr th:only-of-type {\n",
       "        vertical-align: middle;\n",
       "    }\n",
       "\n",
       "    .dataframe tbody tr th {\n",
       "        vertical-align: top;\n",
       "    }\n",
       "\n",
       "    .dataframe thead th {\n",
       "        text-align: right;\n",
       "    }\n",
       "</style>\n",
       "<table border=\"1\" class=\"dataframe\">\n",
       "  <thead>\n",
       "    <tr style=\"text-align: right;\">\n",
       "      <th></th>\n",
       "      <th>title</th>\n",
       "      <th>cast</th>\n",
       "      <th>year</th>\n",
       "      <th>pairs</th>\n",
       "    </tr>\n",
       "  </thead>\n",
       "  <tbody>\n",
       "    <tr>\n",
       "      <th>0</th>\n",
       "      <td>Actrius</td>\n",
       "      <td>Núria Espert</td>\n",
       "      <td>1997</td>\n",
       "      <td>Núria Espert</td>\n",
       "    </tr>\n",
       "    <tr>\n",
       "      <th>0</th>\n",
       "      <td>Actrius</td>\n",
       "      <td>Núria Espert</td>\n",
       "      <td>1997</td>\n",
       "      <td>Rosa Maria Sardà</td>\n",
       "    </tr>\n",
       "    <tr>\n",
       "      <th>0</th>\n",
       "      <td>Actrius</td>\n",
       "      <td>Núria Espert</td>\n",
       "      <td>1997</td>\n",
       "      <td>Anna Lizaran</td>\n",
       "    </tr>\n",
       "    <tr>\n",
       "      <th>0</th>\n",
       "      <td>Actrius</td>\n",
       "      <td>Núria Espert</td>\n",
       "      <td>1997</td>\n",
       "      <td>Mercè Pons</td>\n",
       "    </tr>\n",
       "    <tr>\n",
       "      <th>0</th>\n",
       "      <td>Actrius</td>\n",
       "      <td>Rosa Maria Sardà</td>\n",
       "      <td>1997</td>\n",
       "      <td>Núria Espert</td>\n",
       "    </tr>\n",
       "  </tbody>\n",
       "</table>\n",
       "</div>"
      ],
      "text/plain": [
       "     title              cast  year             pairs\n",
       "0  Actrius      Núria Espert  1997      Núria Espert\n",
       "0  Actrius      Núria Espert  1997  Rosa Maria Sardà\n",
       "0  Actrius      Núria Espert  1997      Anna Lizaran\n",
       "0  Actrius      Núria Espert  1997        Mercè Pons\n",
       "0  Actrius  Rosa Maria Sardà  1997      Núria Espert"
      ]
     },
     "execution_count": 13,
     "metadata": {},
     "output_type": "execute_result"
    }
   ],
   "source": [
    "df_copy = df_copy.explode('pairs')\n",
    "df_copy.head()"
   ]
  },
  {
   "cell_type": "code",
   "execution_count": 14,
   "id": "59c29219",
   "metadata": {},
   "outputs": [],
   "source": [
    "# drop rows where the cast and the pairs are the same name\n",
    "df_copy = df_copy[df_copy['cast'] != df_copy['pairs']]\n",
    "df_copy.reset_index(drop=True, inplace=True)"
   ]
  },
  {
   "cell_type": "code",
   "execution_count": 15,
   "id": "b4b3c8ba",
   "metadata": {},
   "outputs": [
    {
     "data": {
      "text/html": [
       "<div>\n",
       "<style scoped>\n",
       "    .dataframe tbody tr th:only-of-type {\n",
       "        vertical-align: middle;\n",
       "    }\n",
       "\n",
       "    .dataframe tbody tr th {\n",
       "        vertical-align: top;\n",
       "    }\n",
       "\n",
       "    .dataframe thead th {\n",
       "        text-align: right;\n",
       "    }\n",
       "</style>\n",
       "<table border=\"1\" class=\"dataframe\">\n",
       "  <thead>\n",
       "    <tr style=\"text-align: right;\">\n",
       "      <th></th>\n",
       "      <th>title</th>\n",
       "      <th>cast</th>\n",
       "      <th>year</th>\n",
       "      <th>pairs</th>\n",
       "    </tr>\n",
       "  </thead>\n",
       "  <tbody>\n",
       "    <tr>\n",
       "      <th>0</th>\n",
       "      <td>Actrius</td>\n",
       "      <td>Núria Espert</td>\n",
       "      <td>1997</td>\n",
       "      <td>Rosa Maria Sardà</td>\n",
       "    </tr>\n",
       "    <tr>\n",
       "      <th>1</th>\n",
       "      <td>Actrius</td>\n",
       "      <td>Núria Espert</td>\n",
       "      <td>1997</td>\n",
       "      <td>Anna Lizaran</td>\n",
       "    </tr>\n",
       "    <tr>\n",
       "      <th>2</th>\n",
       "      <td>Actrius</td>\n",
       "      <td>Núria Espert</td>\n",
       "      <td>1997</td>\n",
       "      <td>Mercè Pons</td>\n",
       "    </tr>\n",
       "    <tr>\n",
       "      <th>4</th>\n",
       "      <td>Actrius</td>\n",
       "      <td>Rosa Maria Sardà</td>\n",
       "      <td>1997</td>\n",
       "      <td>Anna Lizaran</td>\n",
       "    </tr>\n",
       "    <tr>\n",
       "      <th>5</th>\n",
       "      <td>Actrius</td>\n",
       "      <td>Rosa Maria Sardà</td>\n",
       "      <td>1997</td>\n",
       "      <td>Mercè Pons</td>\n",
       "    </tr>\n",
       "  </tbody>\n",
       "</table>\n",
       "</div>"
      ],
      "text/plain": [
       "     title              cast  year             pairs\n",
       "0  Actrius      Núria Espert  1997  Rosa Maria Sardà\n",
       "1  Actrius      Núria Espert  1997      Anna Lizaran\n",
       "2  Actrius      Núria Espert  1997        Mercè Pons\n",
       "4  Actrius  Rosa Maria Sardà  1997      Anna Lizaran\n",
       "5  Actrius  Rosa Maria Sardà  1997        Mercè Pons"
      ]
     },
     "execution_count": 15,
     "metadata": {},
     "output_type": "execute_result"
    }
   ],
   "source": [
    "# drop rows where the pair [cast,pairs] is the same as [pairs, cast], as we are not going to work with a directional graph\n",
    "out = df_copy[~df_copy[['cast', 'pairs']].apply(frozenset, axis=1).duplicated()]\n",
    "out.head()"
   ]
  },
  {
   "cell_type": "code",
   "execution_count": 16,
   "id": "b601f8d3",
   "metadata": {},
   "outputs": [
    {
     "data": {
      "text/plain": [
       "[('Nassar (actor)|Nassar', 2675),\n",
       " ('Prakash Raj', 2273),\n",
       " ('Mammootty', 1917),\n",
       " ('Brahmanandam', 1840),\n",
       " ('Andy Lau', 1822)]"
      ]
     },
     "execution_count": 16,
     "metadata": {},
     "output_type": "execute_result"
    }
   ],
   "source": [
    "count = Counter(out['cast'])\n",
    "count.most_common(5)"
   ]
  },
  {
   "cell_type": "markdown",
   "id": "726e5f7a",
   "metadata": {},
   "source": [
    "Ignoring the numbers for a second, I see that 4 out of 5 of these actors are well known in the indian cinema. Our analysis is for the Hollywood context, therefore is best if we filter the actors columns. \n",
    "As we don't have a country column, we are going to use the [Top 1000 Actors and Actresses](https://www.imdb.com/list/ls058011111/) list from IMDB."
   ]
  },
  {
   "cell_type": "code",
   "execution_count": 17,
   "id": "1f9c6bfb",
   "metadata": {},
   "outputs": [
    {
     "data": {
      "text/html": [
       "<div>\n",
       "<style scoped>\n",
       "    .dataframe tbody tr th:only-of-type {\n",
       "        vertical-align: middle;\n",
       "    }\n",
       "\n",
       "    .dataframe tbody tr th {\n",
       "        vertical-align: top;\n",
       "    }\n",
       "\n",
       "    .dataframe thead th {\n",
       "        text-align: right;\n",
       "    }\n",
       "</style>\n",
       "<table border=\"1\" class=\"dataframe\">\n",
       "  <thead>\n",
       "    <tr style=\"text-align: right;\">\n",
       "      <th></th>\n",
       "      <th>Name</th>\n",
       "    </tr>\n",
       "  </thead>\n",
       "  <tbody>\n",
       "    <tr>\n",
       "      <th>0</th>\n",
       "      <td>Robert De Niro</td>\n",
       "    </tr>\n",
       "    <tr>\n",
       "      <th>1</th>\n",
       "      <td>Jack Nicholson</td>\n",
       "    </tr>\n",
       "    <tr>\n",
       "      <th>2</th>\n",
       "      <td>Marlon Brando</td>\n",
       "    </tr>\n",
       "    <tr>\n",
       "      <th>3</th>\n",
       "      <td>Denzel Washington</td>\n",
       "    </tr>\n",
       "    <tr>\n",
       "      <th>4</th>\n",
       "      <td>Katharine Hepburn</td>\n",
       "    </tr>\n",
       "  </tbody>\n",
       "</table>\n",
       "</div>"
      ],
      "text/plain": [
       "                Name\n",
       "0     Robert De Niro\n",
       "1     Jack Nicholson\n",
       "2      Marlon Brando\n",
       "3  Denzel Washington\n",
       "4  Katharine Hepburn"
      ]
     },
     "execution_count": 17,
     "metadata": {},
     "output_type": "execute_result"
    }
   ],
   "source": [
    "df_american_actors = pd.read_csv('Top 1000 Actors and Actresses.csv', index_col=None)\n",
    "df_american_actors.head()"
   ]
  },
  {
   "cell_type": "code",
   "execution_count": 18,
   "id": "c6b901a2",
   "metadata": {},
   "outputs": [],
   "source": [
    "out_final = out[out['cast'].isin(df_american_actors['Name'])]\n",
    "out_final.reset_index(drop=True, inplace=True)"
   ]
  },
  {
   "cell_type": "code",
   "execution_count": 19,
   "id": "1f93c71b",
   "metadata": {
    "scrolled": true
   },
   "outputs": [
    {
     "data": {
      "text/html": [
       "<div>\n",
       "<style scoped>\n",
       "    .dataframe tbody tr th:only-of-type {\n",
       "        vertical-align: middle;\n",
       "    }\n",
       "\n",
       "    .dataframe tbody tr th {\n",
       "        vertical-align: top;\n",
       "    }\n",
       "\n",
       "    .dataframe thead th {\n",
       "        text-align: right;\n",
       "    }\n",
       "</style>\n",
       "<table border=\"1\" class=\"dataframe\">\n",
       "  <thead>\n",
       "    <tr style=\"text-align: right;\">\n",
       "      <th></th>\n",
       "      <th>title</th>\n",
       "      <th>cast</th>\n",
       "      <th>year</th>\n",
       "      <th>pairs</th>\n",
       "    </tr>\n",
       "  </thead>\n",
       "  <tbody>\n",
       "    <tr>\n",
       "      <th>0</th>\n",
       "      <td>The Birth of a Nation</td>\n",
       "      <td>Lillian Gish</td>\n",
       "      <td>1915</td>\n",
       "      <td>Mae Marsh</td>\n",
       "    </tr>\n",
       "    <tr>\n",
       "      <th>1</th>\n",
       "      <td>The Birth of a Nation</td>\n",
       "      <td>Lillian Gish</td>\n",
       "      <td>1915</td>\n",
       "      <td>Henry B. Walthall</td>\n",
       "    </tr>\n",
       "    <tr>\n",
       "      <th>2</th>\n",
       "      <td>The Birth of a Nation</td>\n",
       "      <td>Lillian Gish</td>\n",
       "      <td>1915</td>\n",
       "      <td>Miriam Cooper</td>\n",
       "    </tr>\n",
       "    <tr>\n",
       "      <th>3</th>\n",
       "      <td>The Birth of a Nation</td>\n",
       "      <td>Lillian Gish</td>\n",
       "      <td>1915</td>\n",
       "      <td>Ralph Lewis (actor)|Ralph Lewis</td>\n",
       "    </tr>\n",
       "    <tr>\n",
       "      <th>4</th>\n",
       "      <td>The Birth of a Nation</td>\n",
       "      <td>Lillian Gish</td>\n",
       "      <td>1915</td>\n",
       "      <td>George Siegmann</td>\n",
       "    </tr>\n",
       "  </tbody>\n",
       "</table>\n",
       "</div>"
      ],
      "text/plain": [
       "                   title          cast  year                            pairs\n",
       "0  The Birth of a Nation  Lillian Gish  1915                        Mae Marsh\n",
       "1  The Birth of a Nation  Lillian Gish  1915                Henry B. Walthall\n",
       "2  The Birth of a Nation  Lillian Gish  1915                    Miriam Cooper\n",
       "3  The Birth of a Nation  Lillian Gish  1915  Ralph Lewis (actor)|Ralph Lewis\n",
       "4  The Birth of a Nation  Lillian Gish  1915                  George Siegmann"
      ]
     },
     "execution_count": 19,
     "metadata": {},
     "output_type": "execute_result"
    }
   ],
   "source": [
    "out_final.head()"
   ]
  },
  {
   "cell_type": "code",
   "execution_count": 20,
   "id": "175b3f0a",
   "metadata": {},
   "outputs": [
    {
     "name": "stdout",
     "output_type": "stream",
     "text": [
      "<class 'pandas.core.frame.DataFrame'>\n",
      "RangeIndex: 491474 entries, 0 to 491473\n",
      "Data columns (total 4 columns):\n",
      " #   Column  Non-Null Count   Dtype \n",
      "---  ------  --------------   ----- \n",
      " 0   title   491474 non-null  object\n",
      " 1   cast    491474 non-null  object\n",
      " 2   year    491474 non-null  int32 \n",
      " 3   pairs   491474 non-null  object\n",
      "dtypes: int32(1), object(3)\n",
      "memory usage: 13.1+ MB\n"
     ]
    }
   ],
   "source": [
    "out_final.info()"
   ]
  },
  {
   "cell_type": "markdown",
   "id": "9a56497a",
   "metadata": {},
   "source": [
    "* We still have almost 500k movies in our dataset. Maybe for our visualization exercise we are going to need to filter the titles of interest a little more "
   ]
  },
  {
   "cell_type": "markdown",
   "id": "148a8993",
   "metadata": {},
   "source": [
    "### 5. Charting and 6. Creating"
   ]
  },
  {
   "cell_type": "markdown",
   "id": "cfaa253a",
   "metadata": {},
   "source": [
    "* Lets do a copy of our final dataset, but without the pairs column, just so we can analized a bit more without the cast duplicates"
   ]
  },
  {
   "cell_type": "code",
   "execution_count": 40,
   "id": "b582134f",
   "metadata": {},
   "outputs": [
    {
     "data": {
      "text/html": [
       "<div>\n",
       "<style scoped>\n",
       "    .dataframe tbody tr th:only-of-type {\n",
       "        vertical-align: middle;\n",
       "    }\n",
       "\n",
       "    .dataframe tbody tr th {\n",
       "        vertical-align: top;\n",
       "    }\n",
       "\n",
       "    .dataframe thead th {\n",
       "        text-align: right;\n",
       "    }\n",
       "</style>\n",
       "<table border=\"1\" class=\"dataframe\">\n",
       "  <thead>\n",
       "    <tr style=\"text-align: right;\">\n",
       "      <th></th>\n",
       "      <th>title</th>\n",
       "      <th>cast</th>\n",
       "      <th>year</th>\n",
       "    </tr>\n",
       "  </thead>\n",
       "  <tbody>\n",
       "    <tr>\n",
       "      <th>34879</th>\n",
       "      <td>The Core</td>\n",
       "      <td>Aaron Eckhart</td>\n",
       "      <td>2003</td>\n",
       "    </tr>\n",
       "    <tr>\n",
       "      <th>301080</th>\n",
       "      <td>Neverwas</td>\n",
       "      <td>Aaron Eckhart</td>\n",
       "      <td>2005</td>\n",
       "    </tr>\n",
       "    <tr>\n",
       "      <th>96922</th>\n",
       "      <td>Erin Brockovich (film)</td>\n",
       "      <td>Aaron Eckhart</td>\n",
       "      <td>2000</td>\n",
       "    </tr>\n",
       "    <tr>\n",
       "      <th>52794</th>\n",
       "      <td>In the Company of Men</td>\n",
       "      <td>Aaron Eckhart</td>\n",
       "      <td>1997</td>\n",
       "    </tr>\n",
       "    <tr>\n",
       "      <th>254574</th>\n",
       "      <td>No Reservations (film)</td>\n",
       "      <td>Aaron Eckhart</td>\n",
       "      <td>2007</td>\n",
       "    </tr>\n",
       "    <tr>\n",
       "      <th>...</th>\n",
       "      <td>...</td>\n",
       "      <td>...</td>\n",
       "      <td>...</td>\n",
       "    </tr>\n",
       "    <tr>\n",
       "      <th>231279</th>\n",
       "      <td>Manic (2001 film)</td>\n",
       "      <td>Zooey Deschanel</td>\n",
       "      <td>2001</td>\n",
       "    </tr>\n",
       "    <tr>\n",
       "      <th>299087</th>\n",
       "      <td>Yes Man (film)</td>\n",
       "      <td>Zooey Deschanel</td>\n",
       "      <td>2008</td>\n",
       "    </tr>\n",
       "    <tr>\n",
       "      <th>343260</th>\n",
       "      <td>Do It Again (film)</td>\n",
       "      <td>Zooey Deschanel</td>\n",
       "      <td>2009</td>\n",
       "    </tr>\n",
       "    <tr>\n",
       "      <th>346654</th>\n",
       "      <td>Our Idiot Brother</td>\n",
       "      <td>Zooey Deschanel</td>\n",
       "      <td>2011</td>\n",
       "    </tr>\n",
       "    <tr>\n",
       "      <th>80976</th>\n",
       "      <td>All the Real Girls</td>\n",
       "      <td>Zooey Deschanel</td>\n",
       "      <td>2003</td>\n",
       "    </tr>\n",
       "  </tbody>\n",
       "</table>\n",
       "<p>44438 rows × 3 columns</p>\n",
       "</div>"
      ],
      "text/plain": [
       "                         title             cast  year\n",
       "34879                 The Core    Aaron Eckhart  2003\n",
       "301080                Neverwas    Aaron Eckhart  2005\n",
       "96922   Erin Brockovich (film)    Aaron Eckhart  2000\n",
       "52794    In the Company of Men    Aaron Eckhart  1997\n",
       "254574  No Reservations (film)    Aaron Eckhart  2007\n",
       "...                        ...              ...   ...\n",
       "231279       Manic (2001 film)  Zooey Deschanel  2001\n",
       "299087          Yes Man (film)  Zooey Deschanel  2008\n",
       "343260      Do It Again (film)  Zooey Deschanel  2009\n",
       "346654       Our Idiot Brother  Zooey Deschanel  2011\n",
       "80976       All the Real Girls  Zooey Deschanel  2003\n",
       "\n",
       "[44438 rows x 3 columns]"
      ]
     },
     "execution_count": 40,
     "metadata": {},
     "output_type": "execute_result"
    }
   ],
   "source": [
    "out_final_titles = out_final[['title', 'cast', 'year']].copy()\n",
    "out_final_titles = out_final_titles.drop_duplicates(subset=['cast', 'title'], keep='first')\n",
    "out_final_titles.sort_values(by='cast')"
   ]
  },
  {
   "cell_type": "code",
   "execution_count": 41,
   "id": "55ad4d8b",
   "metadata": {
    "scrolled": true
   },
   "outputs": [
    {
     "data": {
      "text/plain": [
       "[('Mohanlal', 287),\n",
       " ('Christopher Lee', 164),\n",
       " ('Lionel Barrymore', 164),\n",
       " ('John Wayne', 150),\n",
       " ('Gérard Depardieu', 143)]"
      ]
     },
     "execution_count": 41,
     "metadata": {},
     "output_type": "execute_result"
    }
   ],
   "source": [
    "# TOP 5 actors with most films\n",
    "count = Counter(out_final_titles['cast'])\n",
    "count.most_common(5)"
   ]
  },
  {
   "cell_type": "markdown",
   "id": "d01d4ce6",
   "metadata": {},
   "source": [
    "Creating a 'decade' feature:"
   ]
  },
  {
   "cell_type": "code",
   "execution_count": 42,
   "id": "01942d94",
   "metadata": {},
   "outputs": [
    {
     "data": {
      "text/html": [
       "<div>\n",
       "<style scoped>\n",
       "    .dataframe tbody tr th:only-of-type {\n",
       "        vertical-align: middle;\n",
       "    }\n",
       "\n",
       "    .dataframe tbody tr th {\n",
       "        vertical-align: top;\n",
       "    }\n",
       "\n",
       "    .dataframe thead th {\n",
       "        text-align: right;\n",
       "    }\n",
       "</style>\n",
       "<table border=\"1\" class=\"dataframe\">\n",
       "  <thead>\n",
       "    <tr style=\"text-align: right;\">\n",
       "      <th></th>\n",
       "      <th>title</th>\n",
       "      <th>cast</th>\n",
       "      <th>year</th>\n",
       "      <th>decade</th>\n",
       "    </tr>\n",
       "  </thead>\n",
       "  <tbody>\n",
       "    <tr>\n",
       "      <th>0</th>\n",
       "      <td>The Birth of a Nation</td>\n",
       "      <td>Lillian Gish</td>\n",
       "      <td>1915</td>\n",
       "      <td>&lt;90</td>\n",
       "    </tr>\n",
       "    <tr>\n",
       "      <th>44</th>\n",
       "      <td>The Birth of a Nation</td>\n",
       "      <td>Donald Crisp</td>\n",
       "      <td>1915</td>\n",
       "      <td>&lt;90</td>\n",
       "    </tr>\n",
       "    <tr>\n",
       "      <th>71</th>\n",
       "      <td>Blade Runner</td>\n",
       "      <td>Harrison Ford</td>\n",
       "      <td>1982</td>\n",
       "      <td>&lt;90</td>\n",
       "    </tr>\n",
       "    <tr>\n",
       "      <th>83</th>\n",
       "      <td>Blade Runner</td>\n",
       "      <td>Rutger Hauer</td>\n",
       "      <td>1982</td>\n",
       "      <td>&lt;90</td>\n",
       "    </tr>\n",
       "    <tr>\n",
       "      <th>94</th>\n",
       "      <td>Blade Runner</td>\n",
       "      <td>Edward James Olmos</td>\n",
       "      <td>1982</td>\n",
       "      <td>&lt;90</td>\n",
       "    </tr>\n",
       "  </tbody>\n",
       "</table>\n",
       "</div>"
      ],
      "text/plain": [
       "                    title                cast  year decade\n",
       "0   The Birth of a Nation        Lillian Gish  1915    <90\n",
       "44  The Birth of a Nation        Donald Crisp  1915    <90\n",
       "71           Blade Runner       Harrison Ford  1982    <90\n",
       "83           Blade Runner        Rutger Hauer  1982    <90\n",
       "94           Blade Runner  Edward James Olmos  1982    <90"
      ]
     },
     "execution_count": 42,
     "metadata": {},
     "output_type": "execute_result"
    }
   ],
   "source": [
    "conditions = [\n",
    "    (out_final_titles['year'] < 1990),\n",
    "    (out_final_titles['year'] >= 1990) & (out_final_titles['year'] < 2000),\n",
    "    (out_final_titles['year'] >= 2000) & (out_final_titles['year'] < 2010),\n",
    "    (out_final_titles['year'] >= 2010) & (out_final_titles['year'] < 2020),\n",
    "    (out_final_titles['year'] >= 2020)]\n",
    "choices = ['<90', '90s', '00s', '10s', '20s']\n",
    "out_final_titles['decade'] = np.select(conditions, choices)\n",
    "out_final_titles.head()"
   ]
  },
  {
   "cell_type": "code",
   "execution_count": 43,
   "id": "55e4d281",
   "metadata": {},
   "outputs": [
    {
     "data": {
      "text/plain": [
       "decade\n",
       "00s     9576\n",
       "10s    10366\n",
       "20s     1267\n",
       "90s     6628\n",
       "<90    16601\n",
       "Name: title, dtype: int64"
      ]
     },
     "execution_count": 43,
     "metadata": {},
     "output_type": "execute_result"
    }
   ],
   "source": [
    "# number of movies per decade\n",
    "out_final_titles.decade = out_final_titles.decade.astype(\"category\")\n",
    "out_final_titles.groupby('decade')['title'].count()"
   ]
  },
  {
   "cell_type": "code",
   "execution_count": 45,
   "id": "6cf58063",
   "metadata": {},
   "outputs": [
    {
     "data": {
      "text/plain": [
       "decade  decade  cast              \n",
       "00s     00s     Mohanlal               56\n",
       "                Gérard Depardieu       41\n",
       "                Irrfan Khan            38\n",
       "                Samuel L. Jackson      36\n",
       "                Steve Buscemi          35\n",
       "10s     10s     James Franco           60\n",
       "                Mohanlal               52\n",
       "                Danny Glover           48\n",
       "                Nicolas Cage           40\n",
       "                Liam Neeson            35\n",
       "20s     20s     Michelle Yeoh           8\n",
       "                Willem Dafoe            8\n",
       "                Ben Affleck             7\n",
       "                Bruce Willis            7\n",
       "                Andrea Riseborough      6\n",
       "90s     90s     Mohanlal               55\n",
       "                Samuel L. Jackson      42\n",
       "                Harvey Keitel          36\n",
       "                Christopher Walken     33\n",
       "                Steve Buscemi          33\n",
       "<90     <90     Lionel Barrymore      164\n",
       "                John Wayne            149\n",
       "                Boris Karloff         139\n",
       "                Christopher Lee       127\n",
       "                Mohanlal              121\n",
       "Name: cast, dtype: int64"
      ]
     },
     "execution_count": 45,
     "metadata": {},
     "output_type": "execute_result"
    }
   ],
   "source": [
    "# TOP 5 actors with most films per decade\n",
    "group_by_decade = out_final_titles['cast'].groupby(out_final_titles['decade']).value_counts()\n",
    "group_by_decade.groupby('decade').nlargest(5)"
   ]
  },
  {
   "cell_type": "markdown",
   "id": "19f95ad1",
   "metadata": {},
   "source": [
    "* Now a dataset without titles duplicates, so we can plot a histogram"
   ]
  },
  {
   "cell_type": "code",
   "execution_count": 33,
   "id": "6fc4e6d3",
   "metadata": {
    "scrolled": true
   },
   "outputs": [
    {
     "data": {
      "text/plain": [
       "decade  cast             \n",
       "00s     Mohanlal             56\n",
       "        Gérard Depardieu     41\n",
       "        Irrfan Khan          38\n",
       "        Samuel L. Jackson    36\n",
       "        Steve Buscemi        35\n",
       "                             ..\n",
       "<90     Thora Birch           1\n",
       "        Tim Allen             1\n",
       "        Tobey Maguire         1\n",
       "        Tom Wilkinson         1\n",
       "        Vincent Gallo         1\n",
       "Name: cast, Length: 3388, dtype: int64"
      ]
     },
     "execution_count": 33,
     "metadata": {},
     "output_type": "execute_result"
    }
   ],
   "source": [
    "out_final_movies = out_final_titles\n",
    "out_final_movies"
   ]
  },
  {
   "cell_type": "code",
   "execution_count": 46,
   "id": "e450c486",
   "metadata": {
    "scrolled": true
   },
   "outputs": [
    {
     "data": {
      "text/html": [
       "<div>\n",
       "<style scoped>\n",
       "    .dataframe tbody tr th:only-of-type {\n",
       "        vertical-align: middle;\n",
       "    }\n",
       "\n",
       "    .dataframe tbody tr th {\n",
       "        vertical-align: top;\n",
       "    }\n",
       "\n",
       "    .dataframe thead th {\n",
       "        text-align: right;\n",
       "    }\n",
       "</style>\n",
       "<table border=\"1\" class=\"dataframe\">\n",
       "  <thead>\n",
       "    <tr style=\"text-align: right;\">\n",
       "      <th></th>\n",
       "      <th>title</th>\n",
       "      <th>year</th>\n",
       "      <th>decade</th>\n",
       "    </tr>\n",
       "  </thead>\n",
       "  <tbody>\n",
       "    <tr>\n",
       "      <th>0</th>\n",
       "      <td>The Birth of a Nation</td>\n",
       "      <td>1915</td>\n",
       "      <td>&lt;90</td>\n",
       "    </tr>\n",
       "    <tr>\n",
       "      <th>1</th>\n",
       "      <td>Blade Runner</td>\n",
       "      <td>1982</td>\n",
       "      <td>&lt;90</td>\n",
       "    </tr>\n",
       "    <tr>\n",
       "      <th>2</th>\n",
       "      <td>Blazing Saddles</td>\n",
       "      <td>1974</td>\n",
       "      <td>&lt;90</td>\n",
       "    </tr>\n",
       "    <tr>\n",
       "      <th>3</th>\n",
       "      <td>Blue Velvet (film)</td>\n",
       "      <td>1986</td>\n",
       "      <td>&lt;90</td>\n",
       "    </tr>\n",
       "    <tr>\n",
       "      <th>4</th>\n",
       "      <td>Buffy the Vampire Slayer (film)</td>\n",
       "      <td>1992</td>\n",
       "      <td>90s</td>\n",
       "    </tr>\n",
       "  </tbody>\n",
       "</table>\n",
       "</div>"
      ],
      "text/plain": [
       "                             title  year decade\n",
       "0            The Birth of a Nation  1915    <90\n",
       "1                     Blade Runner  1982    <90\n",
       "2                  Blazing Saddles  1974    <90\n",
       "3               Blue Velvet (film)  1986    <90\n",
       "4  Buffy the Vampire Slayer (film)  1992    90s"
      ]
     },
     "execution_count": 46,
     "metadata": {},
     "output_type": "execute_result"
    }
   ],
   "source": [
    "out_final_movies = out_final_titles[['title', 'year', 'decade']].copy()\n",
    "out_final_movies = out_final_movies.drop_duplicates(subset = \"title\")\n",
    "out_final_movies.reset_index(drop=True, inplace=True)\n",
    "out_final_movies.head()"
   ]
  },
  {
   "cell_type": "code",
   "execution_count": 47,
   "id": "3254f406",
   "metadata": {},
   "outputs": [
    {
     "data": {
      "image/png": "[encoded data removed]",
      "text/plain": [
       "<Figure size 432x288 with 1 Axes>"
      ]
     },
     "metadata": {
      "needs_background": "light"
     },
     "output_type": "display_data"
    }
   ],
   "source": [
    "plt.hist(out_final_movies['year'])\n",
    "plt.xlabel(\"Year\")\n",
    "plt.ylabel(\"Frequency\")\n",
    "plt.title(\"Number of films per year\")\n",
    "plt.show()"
   ]
  },
  {
   "cell_type": "code",
   "execution_count": 56,
   "id": "ec1fe325",
   "metadata": {},
   "outputs": [
    {
     "data": {
      "text/html": [
       "<div>\n",
       "<style scoped>\n",
       "    .dataframe tbody tr th:only-of-type {\n",
       "        vertical-align: middle;\n",
       "    }\n",
       "\n",
       "    .dataframe tbody tr th {\n",
       "        vertical-align: top;\n",
       "    }\n",
       "\n",
       "    .dataframe thead th {\n",
       "        text-align: right;\n",
       "    }\n",
       "</style>\n",
       "<table border=\"1\" class=\"dataframe\">\n",
       "  <thead>\n",
       "    <tr style=\"text-align: right;\">\n",
       "      <th></th>\n",
       "      <th>title</th>\n",
       "    </tr>\n",
       "    <tr>\n",
       "      <th>decade</th>\n",
       "      <th></th>\n",
       "    </tr>\n",
       "  </thead>\n",
       "  <tbody>\n",
       "    <tr>\n",
       "      <th>&lt;90</th>\n",
       "      <td>10940</td>\n",
       "    </tr>\n",
       "    <tr>\n",
       "      <th>10s</th>\n",
       "      <td>4391</td>\n",
       "    </tr>\n",
       "    <tr>\n",
       "      <th>00s</th>\n",
       "      <td>4026</td>\n",
       "    </tr>\n",
       "    <tr>\n",
       "      <th>90s</th>\n",
       "      <td>3032</td>\n",
       "    </tr>\n",
       "    <tr>\n",
       "      <th>20s</th>\n",
       "      <td>630</td>\n",
       "    </tr>\n",
       "  </tbody>\n",
       "</table>\n",
       "</div>"
      ],
      "text/plain": [
       "        title\n",
       "decade       \n",
       "<90     10940\n",
       "10s      4391\n",
       "00s      4026\n",
       "90s      3032\n",
       "20s       630"
      ]
     },
     "execution_count": 56,
     "metadata": {},
     "output_type": "execute_result"
    }
   ],
   "source": [
    "# Pivot table\n",
    "pd.pivot_table(out_final_movies, values='title', index='decade', aggfunc='count').sort_values(by=['title'],ascending=False)"
   ]
  },
  {
   "cell_type": "markdown",
   "id": "cf3e2f57",
   "metadata": {},
   "source": [
    "* 32% increase in movie releases from 90s to 00s, and 9% from the 00s to the 10s "
   ]
  },
  {
   "cell_type": "markdown",
   "id": "816e8ee0",
   "metadata": {},
   "source": [
    "### 7. Converting"
   ]
  },
  {
   "cell_type": "code",
   "execution_count": 160,
   "id": "026f0d02",
   "metadata": {
    "scrolled": false
   },
   "outputs": [
    {
     "data": {
      "text/html": [
       "\n",
       "    <div class=\"bk-root\">\n",
       "        <a href=\"https://bokeh.org\" target=\"_blank\" class=\"bk-logo bk-logo-small bk-logo-notebook\"></a>\n",
       "        <span id=\"20068\">Loading BokehJS ...</span>\n",
       "    </div>"
      ]
     },
     "metadata": {},
     "output_type": "display_data"
    },
    {
     "data": {
      "application/javascript": [
       "\n",
       "(function(root) {\n",
       "  function now() {\n",
       "    return new Date();\n",
       "  }\n",
       "\n",
       "  const force = true;\n",
       "\n",
       "  if (typeof root._bokeh_onload_callbacks === \"undefined\" || force === true) {\n",
       "    root._bokeh_onload_callbacks = [];\n",
       "    root._bokeh_is_loading = undefined;\n",
       "  }\n",
       "\n",
       "  const JS_MIME_TYPE = 'application/javascript';\n",
       "  const HTML_MIME_TYPE = 'text/html';\n",
       "  const EXEC_MIME_TYPE = 'application/vnd.bokehjs_exec.v0+json';\n",
       "  const CLASS_NAME = 'output_bokeh rendered_html';\n",
       "\n",
       "  /**\n",
       "   * Render data to the DOM node\n",
       "   */\n",
       "  function render(props, node) {\n",
       "    const script = document.createElement(\"script\");\n",
       "    node.appendChild(script);\n",
       "  }\n",
       "\n",
       "  /**\n",
       "   * Handle when an output is cleared or removed\n",
       "   */\n",
       "  function handleClearOutput(event, handle) {\n",
       "    const cell = handle.cell;\n",
       "\n",
       "    const id = cell.output_area._bokeh_element_id;\n",
       "    const server_id = cell.output_area._bokeh_server_id;\n",
       "    // Clean up Bokeh references\n",
       "    if (id != null && id in Bokeh.index) {\n",
       "      Bokeh.index[id].model.document.clear();\n",
       "      delete Bokeh.index[id];\n",
       "    }\n",
       "\n",
       "    if (server_id !== undefined) {\n",
       "      // Clean up Bokeh references\n",
       "      const cmd_clean = \"from bokeh.io.state import curstate; print(curstate().uuid_to_server['\" + server_id + \"'].get_sessions()[0].document.roots[0]._id)\";\n",
       "      cell.notebook.kernel.execute(cmd_clean, {\n",
       "        iopub: {\n",
       "          output: function(msg) {\n",
       "            const id = msg.content.text.trim();\n",
       "            if (id in Bokeh.index) {\n",
       "              Bokeh.index[id].model.document.clear();\n",
       "              delete Bokeh.index[id];\n",
       "            }\n",
       "          }\n",
       "        }\n",
       "      });\n",
       "      // Destroy server and session\n",
       "      const cmd_destroy = \"import bokeh.io.notebook as ion; ion.destroy_server('\" + server_id + \"')\";\n",
       "      cell.notebook.kernel.execute(cmd_destroy);\n",
       "    }\n",
       "  }\n",
       "\n",
       "  /**\n",
       "   * Handle when a new output is added\n",
       "   */\n",
       "  function handleAddOutput(event, handle) {\n",
       "    const output_area = handle.output_area;\n",
       "    const output = handle.output;\n",
       "\n",
       "    // limit handleAddOutput to display_data with EXEC_MIME_TYPE content only\n",
       "    if ((output.output_type != \"display_data\") || (!Object.prototype.hasOwnProperty.call(output.data, EXEC_MIME_TYPE))) {\n",
       "      return\n",
       "    }\n",
       "\n",
       "    const toinsert = output_area.element.find(\".\" + CLASS_NAME.split(' ')[0]);\n",
       "\n",
       "    if (output.metadata[EXEC_MIME_TYPE][\"id\"] !== undefined) {\n",
       "      toinsert[toinsert.length - 1].firstChild.textContent = output.data[JS_MIME_TYPE];\n",
       "      // store reference to embed id on output_area\n",
       "      output_area._bokeh_element_id = output.metadata[EXEC_MIME_TYPE][\"id\"];\n",
       "    }\n",
       "    if (output.metadata[EXEC_MIME_TYPE][\"server_id\"] !== undefined) {\n",
       "      const bk_div = document.createElement(\"div\");\n",
       "      bk_div.innerHTML = output.data[HTML_MIME_TYPE];\n",
       "      const script_attrs = bk_div.children[0].attributes;\n",
       "      for (let i = 0; i < script_attrs.length; i++) {\n",
       "        toinsert[toinsert.length - 1].firstChild.setAttribute(script_attrs[i].name, script_attrs[i].value);\n",
       "        toinsert[toinsert.length - 1].firstChild.textContent = bk_div.children[0].textContent\n",
       "      }\n",
       "      // store reference to server id on output_area\n",
       "      output_area._bokeh_server_id = output.metadata[EXEC_MIME_TYPE][\"server_id\"];\n",
       "    }\n",
       "  }\n",
       "\n",
       "  function register_renderer(events, OutputArea) {\n",
       "\n",
       "    function append_mime(data, metadata, element) {\n",
       "      // create a DOM node to render to\n",
       "      const toinsert = this.create_output_subarea(\n",
       "        metadata,\n",
       "        CLASS_NAME,\n",
       "        EXEC_MIME_TYPE\n",
       "      );\n",
       "      this.keyboard_manager.register_events(toinsert);\n",
       "      // Render to node\n",
       "      const props = {data: data, metadata: metadata[EXEC_MIME_TYPE]};\n",
       "      render(props, toinsert[toinsert.length - 1]);\n",
       "      element.append(toinsert);\n",
       "      return toinsert\n",
       "    }\n",
       "\n",
       "    /* Handle when an output is cleared or removed */\n",
       "    events.on('clear_output.CodeCell', handleClearOutput);\n",
       "    events.on('delete.Cell', handleClearOutput);\n",
       "\n",
       "    /* Handle when a new output is added */\n",
       "    events.on('output_added.OutputArea', handleAddOutput);\n",
       "\n",
       "    /**\n",
       "     * Register the mime type and append_mime function with output_area\n",
       "     */\n",
       "    OutputArea.prototype.register_mime_type(EXEC_MIME_TYPE, append_mime, {\n",
       "      /* Is output safe? */\n",
       "      safe: true,\n",
       "      /* Index of renderer in `output_area.display_order` */\n",
       "      index: 0\n",
       "    });\n",
       "  }\n",
       "\n",
       "  // register the mime type if in Jupyter Notebook environment and previously unregistered\n",
       "  if (root.Jupyter !== undefined) {\n",
       "    const events = require('base/js/events');\n",
       "    const OutputArea = require('notebook/js/outputarea').OutputArea;\n",
       "\n",
       "    if (OutputArea.prototype.mime_types().indexOf(EXEC_MIME_TYPE) == -1) {\n",
       "      register_renderer(events, OutputArea);\n",
       "    }\n",
       "  }\n",
       "\n",
       "  \n",
       "  if (typeof (root._bokeh_timeout) === \"undefined\" || force === true) {\n",
       "    root._bokeh_timeout = Date.now() + 5000;\n",
       "    root._bokeh_failed_load = false;\n",
       "  }\n",
       "\n",
       "  const NB_LOAD_WARNING = {'data': {'text/html':\n",
       "     \"<div style='background-color: #fdd'>\\n\"+\n",
       "     \"<p>\\n\"+\n",
       "     \"BokehJS does not appear to have successfully loaded. If loading BokehJS from CDN, this \\n\"+\n",
       "     \"may be due to a slow or bad network connection. Possible fixes:\\n\"+\n",
       "     \"</p>\\n\"+\n",
       "     \"<ul>\\n\"+\n",
       "     \"<li>re-rerun `output_notebook()` to attempt to load from CDN again, or</li>\\n\"+\n",
       "     \"<li>use INLINE resources instead, as so:</li>\\n\"+\n",
       "     \"</ul>\\n\"+\n",
       "     \"<code>\\n\"+\n",
       "     \"from bokeh.resources import INLINE\\n\"+\n",
       "     \"output_notebook(resources=INLINE)\\n\"+\n",
       "     \"</code>\\n\"+\n",
       "     \"</div>\"}};\n",
       "\n",
       "  function display_loaded() {\n",
       "    const el = document.getElementById(\"20068\");\n",
       "    if (el != null) {\n",
       "      el.textContent = \"BokehJS is loading...\";\n",
       "    }\n",
       "    if (root.Bokeh !== undefined) {\n",
       "      if (el != null) {\n",
       "        el.textContent = \"BokehJS \" + root.Bokeh.version + \" successfully loaded.\";\n",
       "      }\n",
       "    } else if (Date.now() < root._bokeh_timeout) {\n",
       "      setTimeout(display_loaded, 100)\n",
       "    }\n",
       "  }\n",
       "\n",
       "\n",
       "  function run_callbacks() {\n",
       "    try {\n",
       "      root._bokeh_onload_callbacks.forEach(function(callback) {\n",
       "        if (callback != null)\n",
       "          callback();\n",
       "      });\n",
       "    } finally {\n",
       "      delete root._bokeh_onload_callbacks\n",
       "    }\n",
       "    console.debug(\"Bokeh: all callbacks have finished\");\n",
       "  }\n",
       "\n",
       "  function load_libs(css_urls, js_urls, callback) {\n",
       "    if (css_urls == null) css_urls = [];\n",
       "    if (js_urls == null) js_urls = [];\n",
       "\n",
       "    root._bokeh_onload_callbacks.push(callback);\n",
       "    if (root._bokeh_is_loading > 0) {\n",
       "      console.debug(\"Bokeh: BokehJS is being loaded, scheduling callback at\", now());\n",
       "      return null;\n",
       "    }\n",
       "    if (js_urls == null || js_urls.length === 0) {\n",
       "      run_callbacks();\n",
       "      return null;\n",
       "    }\n",
       "    console.debug(\"Bokeh: BokehJS not loaded, scheduling load and callback at\", now());\n",
       "    root._bokeh_is_loading = css_urls.length + js_urls.length;\n",
       "\n",
       "    function on_load() {\n",
       "      root._bokeh_is_loading--;\n",
       "      if (root._bokeh_is_loading === 0) {\n",
       "        console.debug(\"Bokeh: all BokehJS libraries/stylesheets loaded\");\n",
       "        run_callbacks()\n",
       "      }\n",
       "    }\n",
       "\n",
       "    function on_error(url) {\n",
       "      console.error(\"failed to load \" + url);\n",
       "    }\n",
       "\n",
       "    for (let i = 0; i < css_urls.length; i++) {\n",
       "      const url = css_urls[i];\n",
       "      const element = document.createElement(\"link\");\n",
       "      element.onload = on_load;\n",
       "      element.onerror = on_error.bind(null, url);\n",
       "      element.rel = \"stylesheet\";\n",
       "      element.type = \"text/css\";\n",
       "      element.href = url;\n",
       "      console.debug(\"Bokeh: injecting link tag for BokehJS stylesheet: \", url);\n",
       "      document.body.appendChild(element);\n",
       "    }\n",
       "\n",
       "    for (let i = 0; i < js_urls.length; i++) {\n",
       "      const url = js_urls[i];\n",
       "      const element = document.createElement('script');\n",
       "      element.onload = on_load;\n",
       "      element.onerror = on_error.bind(null, url);\n",
       "      element.async = false;\n",
       "      element.src = url;\n",
       "      console.debug(\"Bokeh: injecting script tag for BokehJS library: \", url);\n",
       "      document.head.appendChild(element);\n",
       "    }\n",
       "  };\n",
       "\n",
       "  function inject_raw_css(css) {\n",
       "    const element = document.createElement(\"style\");\n",
       "    element.appendChild(document.createTextNode(css));\n",
       "    document.body.appendChild(element);\n",
       "  }\n",
       "\n",
       "  \n",
       "  const js_urls = [\"https://cdn.bokeh.org/bokeh/release/bokeh-2.4.1.min.js\", \"https://cdn.bokeh.org/bokeh/release/bokeh-gl-2.4.1.min.js\", \"https://cdn.bokeh.org/bokeh/release/bokeh-widgets-2.4.1.min.js\", \"https://cdn.bokeh.org/bokeh/release/bokeh-tables-2.4.1.min.js\", \"https://cdn.bokeh.org/bokeh/release/bokeh-mathjax-2.4.1.min.js\"];\n",
       "  const css_urls = [];\n",
       "  \n",
       "\n",
       "  const inline_js = [\n",
       "    function(Bokeh) {\n",
       "      Bokeh.set_log_level(\"info\");\n",
       "    },\n",
       "    function(Bokeh) {\n",
       "    \n",
       "    \n",
       "    }\n",
       "  ];\n",
       "\n",
       "  function run_inline_js() {\n",
       "    \n",
       "    if (root.Bokeh !== undefined || force === true) {\n",
       "      \n",
       "    for (let i = 0; i < inline_js.length; i++) {\n",
       "      inline_js[i].call(root, root.Bokeh);\n",
       "    }\n",
       "    if (force === true) {\n",
       "        display_loaded();\n",
       "      }} else if (Date.now() < root._bokeh_timeout) {\n",
       "      setTimeout(run_inline_js, 100);\n",
       "    } else if (!root._bokeh_failed_load) {\n",
       "      console.log(\"Bokeh: BokehJS failed to load within specified timeout.\");\n",
       "      root._bokeh_failed_load = true;\n",
       "    } else if (force !== true) {\n",
       "      const cell = $(document.getElementById(\"20068\")).parents('.cell').data().cell;\n",
       "      cell.output_area.append_execute_result(NB_LOAD_WARNING)\n",
       "    }\n",
       "\n",
       "  }\n",
       "\n",
       "  if (root._bokeh_is_loading === 0) {\n",
       "    console.debug(\"Bokeh: BokehJS loaded, going straight to plotting\");\n",
       "    run_inline_js();\n",
       "  } else {\n",
       "    load_libs(css_urls, js_urls, function() {\n",
       "      console.debug(\"Bokeh: BokehJS plotting callback run at\", now());\n",
       "      run_inline_js();\n",
       "    });\n",
       "  }\n",
       "}(window));"
      ],
      "application/vnd.bokehjs_load.v0+json": "\n(function(root) {\n  function now() {\n    return new Date();\n  }\n\n  const force = true;\n\n  if (typeof root._bokeh_onload_callbacks === \"undefined\" || force === true) {\n    root._bokeh_onload_callbacks = [];\n    root._bokeh_is_loading = undefined;\n  }\n\n  \n\n  \n  if (typeof (root._bokeh_timeout) === \"undefined\" || force === true) {\n    root._bokeh_timeout = Date.now() + 5000;\n    root._bokeh_failed_load = false;\n  }\n\n  const NB_LOAD_WARNING = {'data': {'text/html':\n     \"<div style='background-color: #fdd'>\\n\"+\n     \"<p>\\n\"+\n     \"BokehJS does not appear to have successfully loaded. If loading BokehJS from CDN, this \\n\"+\n     \"may be due to a slow or bad network connection. Possible fixes:\\n\"+\n     \"</p>\\n\"+\n     \"<ul>\\n\"+\n     \"<li>re-rerun `output_notebook()` to attempt to load from CDN again, or</li>\\n\"+\n     \"<li>use INLINE resources instead, as so:</li>\\n\"+\n     \"</ul>\\n\"+\n     \"<code>\\n\"+\n     \"from bokeh.resources import INLINE\\n\"+\n     \"output_notebook(resources=INLINE)\\n\"+\n     \"</code>\\n\"+\n     \"</div>\"}};\n\n  function display_loaded() {\n    const el = document.getElementById(\"20068\");\n    if (el != null) {\n      el.textContent = \"BokehJS is loading...\";\n    }\n    if (root.Bokeh !== undefined) {\n      if (el != null) {\n        el.textContent = \"BokehJS \" + root.Bokeh.version + \" successfully loaded.\";\n      }\n    } else if (Date.now() < root._bokeh_timeout) {\n      setTimeout(display_loaded, 100)\n    }\n  }\n\n\n  function run_callbacks() {\n    try {\n      root._bokeh_onload_callbacks.forEach(function(callback) {\n        if (callback != null)\n          callback();\n      });\n    } finally {\n      delete root._bokeh_onload_callbacks\n    }\n    console.debug(\"Bokeh: all callbacks have finished\");\n  }\n\n  function load_libs(css_urls, js_urls, callback) {\n    if (css_urls == null) css_urls = [];\n    if (js_urls == null) js_urls = [];\n\n    root._bokeh_onload_callbacks.push(callback);\n    if (root._bokeh_is_loading > 0) {\n      console.debug(\"Bokeh: BokehJS is being loaded, scheduling callback at\", now());\n      return null;\n    }\n    if (js_urls == null || js_urls.length === 0) {\n      run_callbacks();\n      return null;\n    }\n    console.debug(\"Bokeh: BokehJS not loaded, scheduling load and callback at\", now());\n    root._bokeh_is_loading = css_urls.length + js_urls.length;\n\n    function on_load() {\n      root._bokeh_is_loading--;\n      if (root._bokeh_is_loading === 0) {\n        console.debug(\"Bokeh: all BokehJS libraries/stylesheets loaded\");\n        run_callbacks()\n      }\n    }\n\n    function on_error(url) {\n      console.error(\"failed to load \" + url);\n    }\n\n    for (let i = 0; i < css_urls.length; i++) {\n      const url = css_urls[i];\n      const element = document.createElement(\"link\");\n      element.onload = on_load;\n      element.onerror = on_error.bind(null, url);\n      element.rel = \"stylesheet\";\n      element.type = \"text/css\";\n      element.href = url;\n      console.debug(\"Bokeh: injecting link tag for BokehJS stylesheet: \", url);\n      document.body.appendChild(element);\n    }\n\n    for (let i = 0; i < js_urls.length; i++) {\n      const url = js_urls[i];\n      const element = document.createElement('script');\n      element.onload = on_load;\n      element.onerror = on_error.bind(null, url);\n      element.async = false;\n      element.src = url;\n      console.debug(\"Bokeh: injecting script tag for BokehJS library: \", url);\n      document.head.appendChild(element);\n    }\n  };\n\n  function inject_raw_css(css) {\n    const element = document.createElement(\"style\");\n    element.appendChild(document.createTextNode(css));\n    document.body.appendChild(element);\n  }\n\n  \n  const js_urls = [\"https://cdn.bokeh.org/bokeh/release/bokeh-2.4.1.min.js\", \"https://cdn.bokeh.org/bokeh/release/bokeh-gl-2.4.1.min.js\", \"https://cdn.bokeh.org/bokeh/release/bokeh-widgets-2.4.1.min.js\", \"https://cdn.bokeh.org/bokeh/release/bokeh-tables-2.4.1.min.js\", \"https://cdn.bokeh.org/bokeh/release/bokeh-mathjax-2.4.1.min.js\"];\n  const css_urls = [];\n  \n\n  const inline_js = [\n    function(Bokeh) {\n      Bokeh.set_log_level(\"info\");\n    },\n    function(Bokeh) {\n    \n    \n    }\n  ];\n\n  function run_inline_js() {\n    \n    if (root.Bokeh !== undefined || force === true) {\n      \n    for (let i = 0; i < inline_js.length; i++) {\n      inline_js[i].call(root, root.Bokeh);\n    }\n    if (force === true) {\n        display_loaded();\n      }} else if (Date.now() < root._bokeh_timeout) {\n      setTimeout(run_inline_js, 100);\n    } else if (!root._bokeh_failed_load) {\n      console.log(\"Bokeh: BokehJS failed to load within specified timeout.\");\n      root._bokeh_failed_load = true;\n    } else if (force !== true) {\n      const cell = $(document.getElementById(\"20068\")).parents('.cell').data().cell;\n      cell.output_area.append_execute_result(NB_LOAD_WARNING)\n    }\n\n  }\n\n  if (root._bokeh_is_loading === 0) {\n    console.debug(\"Bokeh: BokehJS loaded, going straight to plotting\");\n    run_inline_js();\n  } else {\n    load_libs(css_urls, js_urls, function() {\n      console.debug(\"Bokeh: BokehJS plotting callback run at\", now());\n      run_inline_js();\n    });\n  }\n}(window));"
     },
     "metadata": {},
     "output_type": "display_data"
    }
   ],
   "source": [
    "# Loading the Bokeh package\n",
    "from bokeh.io import output_notebook, show, save\n",
    "from bokeh.models import Range1d, Circle, ColumnDataSource, MultiLine, EdgesAndLinkedNodes, NodesAndLinkedEdges, LabelSet\n",
    "from bokeh.plotting import figure\n",
    "from bokeh.plotting import from_networkx\n",
    "from bokeh.palettes import Blues8, Inferno8, Purples8, PuRd8, Plasma8\n",
    "from bokeh.transform import linear_cmap\n",
    "from networkx.algorithms.community import greedy_modularity_communities\n",
    "\n",
    "output_notebook()"
   ]
  },
  {
   "cell_type": "markdown",
   "id": "40e10895",
   "metadata": {},
   "source": [
    "For our visualization exercise, as I mentioned before, we are going to filter our datasets using box office records from the [The Numbers](https://www.the-numbers.com/box-office-records/worldwide/all-movies/cumulative/). I'm only going to use the 100 biggest worldwide revenues movies from each decade, excluding animations."
   ]
  },
  {
   "cell_type": "code",
   "execution_count": 263,
   "id": "8c94460c",
   "metadata": {},
   "outputs": [
    {
     "data": {
      "text/html": [
       "<div>\n",
       "<style scoped>\n",
       "    .dataframe tbody tr th:only-of-type {\n",
       "        vertical-align: middle;\n",
       "    }\n",
       "\n",
       "    .dataframe tbody tr th {\n",
       "        vertical-align: top;\n",
       "    }\n",
       "\n",
       "    .dataframe thead th {\n",
       "        text-align: right;\n",
       "    }\n",
       "</style>\n",
       "<table border=\"1\" class=\"dataframe\">\n",
       "  <thead>\n",
       "    <tr style=\"text-align: right;\">\n",
       "      <th></th>\n",
       "      <th>titles</th>\n",
       "    </tr>\n",
       "    <tr>\n",
       "      <th>index</th>\n",
       "      <th></th>\n",
       "    </tr>\n",
       "  </thead>\n",
       "  <tbody>\n",
       "    <tr>\n",
       "      <th>0</th>\n",
       "      <td>Titanic (1997 film)</td>\n",
       "    </tr>\n",
       "    <tr>\n",
       "      <th>1</th>\n",
       "      <td>Jurassic Park</td>\n",
       "    </tr>\n",
       "    <tr>\n",
       "      <th>2</th>\n",
       "      <td>Star Wars: Episode I â€“ The Phantom Menace</td>\n",
       "    </tr>\n",
       "    <tr>\n",
       "      <th>3</th>\n",
       "      <td>Independence Day (1996 film)</td>\n",
       "    </tr>\n",
       "    <tr>\n",
       "      <th>4</th>\n",
       "      <td>Forrest Gump</td>\n",
       "    </tr>\n",
       "  </tbody>\n",
       "</table>\n",
       "</div>"
      ],
      "text/plain": [
       "                                            titles\n",
       "index                                             \n",
       "0                              Titanic (1997 film)\n",
       "1                                    Jurassic Park\n",
       "2      Star Wars: Episode I â€“ The Phantom Menace\n",
       "3                     Independence Day (1996 film)\n",
       "4                                     Forrest Gump"
      ]
     },
     "execution_count": 263,
     "metadata": {},
     "output_type": "execute_result"
    }
   ],
   "source": [
    "most_revenue_titles_90s = pd.read_excel('most_revenue_titles.xlsx', index_col='index')\n",
    "most_revenue_titles_00s = pd.read_excel('most_revenue_titles_00s.xlsx', index_col='index')\n",
    "most_revenue_titles_10s = pd.read_excel('most_revenue_titles_10s.xlsx', index_col='index')\n",
    "\n",
    "#example\n",
    "most_revenue_titles_90s.head()"
   ]
  },
  {
   "cell_type": "code",
   "execution_count": 276,
   "id": "701f7849",
   "metadata": {},
   "outputs": [],
   "source": [
    "# Separating the data in the decades of interest\n",
    "df_90s = out_final[(out_final.year >= 1990) & (out_final.year < 2000)]\n",
    "df_90s = df_90s[df_90s['title'].isin(most_revenue_titles_90s['titles'])]\n",
    "\n",
    "df_00s = out_final[(out_final.year >= 2000) & (out_final.year < 2010)]\n",
    "df_00s = df_00s[df_00s['title'].isin(most_revenue_titles_00s['titles'])]\n",
    "\n",
    "df_10s = out_final[(out_final.year >= 2010) & (out_final.year < 2020)]\n",
    "df_10s = df_10s[df_10s['title'].isin(most_revenue_titles_10s['titles'])]"
   ]
  },
  {
   "cell_type": "code",
   "execution_count": 392,
   "id": "ddc239ac",
   "metadata": {},
   "outputs": [],
   "source": [
    "# Creating Networkx Graphs\n",
    "G_90s = nx.from_pandas_edgelist(df_90s, 'cast', 'pairs', 'title')\n",
    "G_00s = nx.from_pandas_edgelist(df_00s, 'cast', 'pairs', 'title')\n",
    "G_10s = nx.from_pandas_edgelist(df_10s, 'cast', 'pairs', 'title')"
   ]
  },
  {
   "cell_type": "code",
   "execution_count": 393,
   "id": "4a38d655",
   "metadata": {},
   "outputs": [
    {
     "data": {
      "text/html": [
       "\n",
       "\n",
       "\n",
       "\n",
       "\n",
       "\n",
       "  <div class=\"bk-root\" id=\"9d157022-28a9-4b7a-998e-9fb1aa0cf281\" data-root-id=\"125658\"></div>\n"
      ]
     },
     "metadata": {},
     "output_type": "display_data"
    },
    {
     "data": {
      "application/javascript": [
       "(function(root) {\n",
       "  function embed_document(root) {\n",
       "    \n",
       "  const docs_json = {\"db981442-dd03-4ccc-b969-fffbf79e1869\":{\"defs\":[],\"roots\":{\"references\":[{\"attributes\":{\"below\":[{\"id\":\"125667\"}],\"center\":[{\"id\":\"125670\"},{\"id\":\"125674\"}],\"left\":[{\"id\":\"125671\"}],\"renderers\":[{\"id\":\"125686\"}],\"title\":{\"id\":\"125659\"},\"toolbar\":{\"id\":\"125680\"},\"x_range\":{\"id\":\"125656\"},\"x_scale\":{\"id\":\"125663\"},\"y_range\":{\"id\":\"125657\"},\"y_scale\":{\"id\":\"125665\"}},\"id\":\"125658\",\"subtype\":\"Figure\",\"type\":\"Plot\"},{\"attributes\":{},\"id\":\"127776\",\"type\":\"NodesOnly\"},{\"attributes\":{\"source\":{\"id\":\"125692\"}},\"id\":\"125694\",\"type\":\"CDSView\"},{\"attributes\":{\"data\":{\"index\":[\"Michael Keaton\",\"Danny DeVito\",\"Michelle Pfeiffer\",\"Christopher Walken\",\"Michael Murphy (actor)|Michael Murphy\",\"Vincent Schiavelli\",\"Andrew Bryniarski\",\"Cristi Conaway\",\"Rick Zumwalt\",\"Anna Katarina\",\"Paul Reubens\",\"Diane Salinger\",\"Doug Jones (actor)|Doug Jones\",\"Michael Gough\",\"Pat Hingle\",\"Val Kilmer\",\"Tommy Lee Jones\",\"Jim Carrey\",\"Nicole Kidman\",\"Chris O'Donnell\",\"George Wallace (American comedian)|George Wallace\",\"Drew Barrymore\",\"Debi Mazar\",\"Ed Begley Jr.\",\"Ofer Samra\",\"Elizabeth Sanders\",\"Ren\\u00e9 Auberjonois\",\"Larry A. Lee\",\"Glory Fioramonti\",\"En Vogue\",\"Joe Grifasi\",\"Jon Favreau\",\"Hugh Grant\",\"Andie MacDowell\",\"Kristin Scott Thomas\",\"Simon Callow\",\"James Fleet\",\"John Hannah (actor)|John Hannah\",\"Charlotte Coleman\",\"David Bower\",\"Corin Redgrave\",\"Rowan Atkinson\",\"Timothy Walker (actor)|Timothy Walker\",\"Sara Crowe\",\"David Haig\",\"Sophie Thompson\",\"Anna Chancellor\",\"Rupert Vansittart\",\"Tom Hanks\",\"Edward Burns\",\"Matt Damon\",\"Harrison Young\",\"Tom Sizemore\",\"Jeremy Davies\",\"Vin Diesel\",\"Adam Goldberg\",\"Barry Pepper\",\"Giovanni Ribisi\",\"Dennis Farina\",\"Ted Danson\",\"Harve Presnell\",\"Bryan Cranston\",\"David Wohl (actor)|David Wohl\",\"Nathan Fillion\",\"Paul Giamatti\",\"Ryan Hurst\",\"Max Martini\",\"Leland Orser\",\"Joerg Stadler\",\"Dylan Bruno\",\"Demetri Goritsas\",\"Rolf Saxon\",\"Corey Johnson (actor)|Corey Johnson\",\"John Sharian\",\"Glenn Wrage\",\"St\\u00e9phane Cornicard\",\"Dale Dye\",\"Amanda Boxer\",\"Kathleen Byron\",\"Andrew Scott (actor)|Andrew Scott\",\"Erich Redman\",\"Keanu Reeves\",\"Laurence Fishburne\",\"Carrie-Anne Moss\",\"Hugo Weaving\",\"Joe Pantoliano\",\"Marcus Chong\",\"Anthony Ray Parker\",\"Julian Arahanga\",\"Matt Doran\",\"Gloria Foster\",\"Belinda McClory\",\"Paul Goddard (actor)|Paul Goddard\",\"Robert Taylor (Australian actor)|Robert Taylor\",\"Ada Nicodemou\",\"Bruce Willis\",\"Toni Collette\",\"Olivia Williams\",\"Haley Joel Osment\",\"Donnie Wahlberg\",\"Glenn Fitzgerald\",\"Mischa Barton\",\"Trevor Morgan (actor)|Trevor Morgan\",\"Bruce Norris (playwright)|Bruce Norris\",\"Angelica Page\",\"Greg Wood\",\"M. Night Shyamalan\",\"Peter Tambakis\",\"Jeffrey Zubernis\",\"Robin Wright\",\"Gary Sinise\",\"Mykelti Williamson\",\"Sally Field\",\"Michael Conner Humphreys\",\"Hanna R. Hall\",\"Peter Dobson\",\"Dick Cavett\",\"Sam Anderson\",\"Geoffrey Blake (actor)|Geoffrey Blake\",\"Siobhan Fallon Hogan\",\"Sonny Shroyer\",\"Grand L. Bush\",\"Kevin Spacey\",\"Annette Bening\",\"Thora Birch\",\"Allison Janney\",\"Peter Gallagher\",\"Chris Cooper\",\"Wes Bentley\",\"Mena Suvari\",\"Scott Bakula\",\"Sam Robards\",\"Leonardo DiCaprio\",\"Kate Winslet\",\"Billy Zane\",\"Kathy Bates\",\"Frances Fisher\",\"Bernard Hill\",\"Jonathan Hyde\",\"Danny Nucci\",\"David Warner (actor)|David Warner\",\"Bill Paxton\",\"Gloria Stuart\",\"Suzy Amis Cameron|Suzy Amis\",\"Jason Barry\",\"Victor Garber\",\"Eric Braeden\",\"Bernard Fox (actor)|Bernard Fox\",\"Michael Ensign\",\"Jonathan Evans-Jones\",\"Mark Lindsay Chapman\",\"Ewan Stewart\",\"Jonathan Phillips (actor)|Jonathan Phillips\",\"Simon Crane\",\"Ioan Gruffudd\",\"Edward Fletcher\",\"James Lancaster\",\"Lew Palter\",\"Martin Jarvis (actor)|Martin Jarvis\",\"Rosalind Ayres\",\"Rochelle Rose\",\"Scott G. Anderson\",\"Paul Brightwell\",\"Martin East\",\"Gregory Cooke\",\"Craig Kelly (actor)|Craig Kelly\",\"Liam Tuohy (actor)|Liam Tuohy\",\"Terry Forrestal\",\"Will Smith\",\"Bill Pullman\",\"Jeff Goldblum\",\"Mary McDonnell\",\"Judd Hirsch\",\"Margaret Colin\",\"Randy Quaid\",\"Robert Loggia\",\"James Rebhorn\",\"Harvey Fierstein\",\"Harry Connick Jr|Harry Connick\",\"Vivica A. Fox\",\"Adam Baldwin\",\"Brent Spiner\",\"James Duval\",\"Bill Smitrovich\",\"Harry Connick Jr.\",\"Mae Whitman\",\"Ross Bagley\",\"Lisa Jakub\",\"Giuseppe Andrews\",\"Billy Bob Thornton\",\"Liv Tyler\",\"Ben Affleck\",\"Will Patton\",\"Peter Stormare\",\"Keith David\",\"Steve Buscemi\",\"William Fichtner\",\"Owen Wilson\",\"Michael Clarke Duncan\",\"Ken Campbell\",\"Jessica Steen\",\"Chris Ellis (actor)|Chris Ellis\",\"Jason Isaacs\",\"Grayson McCouch\",\"Clark Brolly\",\"Marshall Teague (actor)|Marshall Teague\",\"Anthony Guidera\",\"Greg Collins (actor)|Greg Collins\",\"John Mahon\",\"Grace Zabriskie\",\"Eddie Griffin\",\"Jim Ishida\",\"Stanley Anderson\",\"Narration\",\"John Travolta\",\"Samuel L. Jackson\",\"Uma Thurman\",\"Harvey Keitel\",\"Tim Roth\",\"Amanda Plummer\",\"Maria de Medeiros\",\"Ving Rhames\",\"Eric Stoltz\",\"Rosanna Arquette\",\"Arnold Schwarzenegger\",\"Rachel Ticotin\",\"Sharon Stone\",\"Michael Ironside\",\"Ronny Cox\",\"Mel Johnson Jr.\",\"Marshall Bell\",\"Roy Brocksmith\",\"Ray Baker (actor)|Ray Baker\",\"Michael Campbell (musician and actor)|Michael Champion\",\"Rosemary Dunsmore\",\"Robert Costanzo\",\"Marc Alaimo\",\"Dean Norris\",\"Debbie Lee Carrington\",\"Lycia Naff\",\"Robert Picardo\",\"Sasha Rionda\",\"Mickey Jones\",\"Alexia Robinson\",\"Liam Neeson\",\"Ben Kingsley\",\"Ralph Fiennes\",\"Caroline Goodall\",\"Jonathan Sagall\",\"Embeth Davidtz\",\"Ma\\u0142gorzata Gebel\",\"Mark Ivanir\",\"Beatrice Macola\",\"Andrzej Seweryn\",\"Friedrich von Thun\",\"Jerzy Nowak\",\"Norbert Weisser\",\"Miri Fabian\",\"Anna Mucha\",\"Adi Nitzan\",\"Piotr Polk\",\"Rami Heuberger\",\"Ezra Dagan\",\"Elina L\\u00f6wensohn\",\"Hans-J\\u00f6rg Assmann\",\"Hans-Michael Rehberg\",\"Daniel Del Ponte\",\"August Schm\\u00f6lzer\",\"Ludger Pistor\",\"Oliwia D\\u0105browska\",\"Jan Jurewicz\",\"Jamie Lee Curtis\",\"Tom Arnold (actor)|Tom Arnold\",\"Art Malik\",\"Tia Carrere\",\"Eliza Dushku\",\"Grant Heslov\",\"Charlton Heston\",\"Marshall Manesh\",\"James Allen\",\"Gwyneth Paltrow\",\"Joseph Fiennes\",\"Geoffrey Rush\",\"Colin Firth\",\"Judi Dench\",\"Jim Carter (actor)|Jim Carter\",\"Martin Clunes\",\"Antony Sher\",\"Imelda Staunton\",\"Tom Wilkinson\",\"Mark Williams (actor)|Mark Williams\",\"Daniel Brocklebank\",\"Nicholas Le Prevost\",\"Jill Baker\",\"Patrick Barlow\",\"Joe Roberts\",\"Rupert Everett\",\"John Inman\",\"Sandra Reinton\",\"Paul Bigley\",\"Dennis Hopper\",\"Sandra Bullock\",\"Joe Morton\",\"Jeff Daniels\",\"Neisha Folkes-LeMelle\",\"Margaret Medina\",\"Richard Lineback\",\"Beau Starr\",\"Jordan Lund\",\"Alan Ruck\",\"Carlos Carrasco (actor)|Carlos Carrasco\",\"Glenn Plummer\",\"Daniel Villarreal\",\"Beth Grant\",\"Natsuko Ohomama\",\"David Kriegel\",\"Hawthorne James\",\"Richard Schiff\",\"John Capodice\",\"Thomas Rosales Jr.\",\"Sandy Martin\",\"Patrick Fischler\",\"Kevin Costner\",\"Graham Greene (actor)|Graham Greene\",\"Rodney A. Grant|Rodney Grant\",\"Rodney A. Grant\",\"Floyd Red Crow Westerman\",\"Tantoo Cardinal\",\"Jimmy Herman\",\"Nathan Lee Chasing His Horse\",\"Michael Spears\",\"Jason R. Lone Hill\",\"Charles Rocket\",\"Robert Pastorelli\",\"Tony Pierce\",\"Larry Joshua\",\"Kirk Baltz\",\"Tom Everett\",\"Maury Chaykin\",\"Wes Studi\",\"Wayne Grace\",\"Michael Horton (actor)|Michael Horton\",\"Doris Leader Charge\",\"Donald Hotton\",\"Frank P. Costanza\",\"Annie Costner\",\"Otakuye Conroy\",\"Jim Wilson (producer)|Jim Wilson\",\"Patrick Swayze\",\"Demi Moore\",\"Whoopi Goldberg\",\"Tony Goldwyn\",\"Rick Aviles\",\"Gail Boggs\",\"Armelia McQueen\",\"Phil Leeds\",\"Augie Blunt\",\"Stephen Root\",\"Bruce Jarchow\",\"Tom Cruise\",\"Cuba Gooding Jr.\",\"Ren\\u00e9e Zellweger\",\"Kelly Preston\",\"Jerry O'Connell\",\"Jay Mohr\",\"Regina King\",\"Jonathan Lipnicki\",\"Todd Louiso\",\"Jeremy Suarez\",\"Jared Jussim\",\"Jann Wenner\",\"Ali Wentworth\",\"Aries Spears\",\"Kelly Coffield Park|Kelly Coffield\",\"Winnie Holzman\",\"Glenn Frey\",\"Donal Logue\",\"Tom Gallop\",\"Angela Goethals\",\"Rick Johnson (gridiron football)|Rick Johnson\",\"Jerry Cantrell\",\"Toby Huss\",\"Drake Bell\",\"Christine Cavanaugh\",\"Brent Barry\",\"Theo Greenly\",\"Jerry Ziesmer\",\"Anthony Natale\",\"Reagan Gomez-Preston\",\"Lucy Liu\",\"Roy Firestone\",\"Beau Bridges\",\"Barry Switzer\",\"Bonnie Hunt\",\"Jack Nicholson\",\"Helen Hunt\",\"Greg Kinnear\",\"Skeet Ulrich\",\"Shirley Knight\",\"Jesse James (actor)|Jesse James\",\"Yeardley Smith\",\"Lupe Ontiveros\",\"Bibi Osterwald\",\"Harold Ramis\",\"Lawrence Kasdan\",\"Julie Benz\",\"Shane Black\",\"Leslie Stefanson\",\"Tom McGowan\",\"Brian Doyle-Murray\",\"Jamie Kennedy\",\"Missi Pyle\",\"Wood Harris\",\"Maya Rudolph\",\"Mark Addy\",\"Steve Huison\",\"Paul Barber (actor)|Paul Barber\",\"Hugo Speer\",\"William Snape\",\"Lesley Sharp\",\"Emily Woof\",\"Deirdre Costello (actress)|Deirdre Costello\",\"Paul Butterworth\",\"Dave Hill (actor)|Dave Hill\",\"Bruce Jones (actor)|Bruce Jones\",\"Andrew Livingston\",\"Vinny Dhillon\",\"Kate Rutter\",\"Robin Williams\",\"Stellan Skarsg\\u00e5rd\",\"Minnie Driver\",\"Casey Affleck\",\"Cole Hauser\",\"John Mighton\",\"Scott William Winters\",\"Jimmy Flynn\",\"Christopher Britton (actor)|Christopher Britton\",\"Alison Folland\",\"George Plimpton\",\"Gary Oldman\",\"Ian Holm\",\"Chris Tucker\",\"Milla Jovovich\",\"Luke Perry\",\"Brion James\",\"Tom Lister Jr.|Tommy \\\"Tiny\\\" Lister Jr.\",\"Lee Evans (comedian)|Lee Evans\",\"Charlie Creed-Miles\",\"Tricky (musician)|Tricky\",\"John Neville (actor)|John Neville\",\"Ma\\u00efwenn Le Besco\",\"Richard Gere\",\"Julia Roberts\",\"Ralph Bellamy\",\"Jason Alexander\",\"H\\u00e9ctor Elizondo\",\"Laura San Giacomo\",\"Alex Hyde-White\",\"Amy Yasbeck\",\"Elinor Donahue\",\"John David Carson\",\"Judith Baldwin\",\"James Patrick Stuart\",\"Dey Young\",\"Larry Miller (comedian)|Larry Miller\",\"Hank Azaria\",\"Amzie Strickland\",\"Lynda Goodfriend\",\"Meg Ryan\",\"Parker Posey\",\"Jean Stapleton\",\"Dave Chappelle\",\"Katie Sagona\",\"Dabney Coleman\",\"Heather Burns\",\"John Randolph (actor)|John Randolph\",\"Deborah Rush\",\"Hallee Hirsh\",\"Sara Ramirez\",\"Cara Seymour\",\"Jeffrey Scaperrotta\",\"Kathryn Meisle\",\"Reiko Aylesworth\",\"Steve Zahn\",\"Pierce Brosnan\",\"Sophie Marceau\",\"Robert Carlyle\",\"Denise Richards\",\"Robbie Coltrane\",\"Desmond Llewelyn\",\"Maria Grazia Cucinotta\",\"Michael Kitchen\",\"Serena Scott Thomas\",\"Ulrich Thomsen\",\"Goldie\",\"John Seru\",\"Claude-Oliver Rudolph\",\"Patrick Malahide\",\"David Calder (actor)|David Calder\",\"Sean Cronin (actor)|Sean Cronin\",\"Martyn Lewis\",\"Samantha Bond\",\"Colin Salmon\",\"Linda Fiorentino\",\"Rip Torn\",\"D'Onofrio\",\"Tony Shalhoub\",\"Mike Nussbaum\",\"Jon Gries\",\"Sergio Calder\\u00f3n\",\"John Alexander\",\"Patrick Breen\",\"Becky Ann Baker\",\"Carel Struycken\",\"Fredric Lehne\",\"Kent Faulcon\",\"Richard Hamilton (actor)|Richard Hamilton\",\"David Cross\",\"Sean Whalen\",\"Ray Park\",\"Tim Blaney\",\"Mark Setrakian\",\"Brad Abrell, Thom Fountain, Carl J. Johnson\",\"Vincent D'Onofrio\",\"Brad Pitt\",\"Morgan Freeman\",\"John C. McGinley\",\"R. Lee Ermey\",\"Richard Roundtree\",\"Mark Boone Junior\",\"Michael Massee\",\"Julie Araskog\",\"Bob Mack\",\"Gene Borkan\",\"Michael Reid MacKay\",\"Cat Mueller\",\"Heidi Schanz\",\"Reg E. Cathey\",\"Michael J. Fox\",\"Mary Steenburgen\",\"Matt Clark (actor)|Matt Clark\",\"Christopher Lloyd\",\"Thomas F. Wilson\",\"Lea Thompson\",\"James Tolkan\",\"Elisabeth Shue\",\"Flea (musician)|Flea\",\"Macaulay Culkin\",\"Joe Pesci\",\"Daniel Stern (actor)|Daniel Stern\",\"John Heard (actor)|John Heard\",\"Catherine O'Hara\",\"Roberts Blossom\",\"Devin Ratray\",\"Gerry Bamman\",\"Hillary Wolf\",\"John Candy\",\"Larry Hankin\",\"Michael C. Maronna\",\"Kristin Minter\",\"Daiana Campeanu\",\"Jedidiah Cohen\",\"Kieran Culkin\",\"Senta Moses\",\"Anna Slotky\",\"Terrie Snell\",\"Jeffrey Wiseman\",\"Virginia Smith\",\"Matt Doherty (actor)|Matt Doherty\",\"Ralph Foody\",\"Michael Guido\",\"Ray Toler\",\"Billie Bird\",\"Bill Erwin\",\"Gerry Becker\",\"Alan Wilder (actor)|Alan Wilder\",\"Hope Davis\",\"Kenneth Hudson Campbell\",\"Ross Malinger\",\"Rob Reiner\",\"Rosie O'Donnell\",\"Gaby Hoffmann\",\"Barbara Garrick\",\"Carey Lowell\",\"David Hyde Pierce\",\"Dana Ivey\",\"Kevin O'Morrison\",\"Caroline Aaron\",\"Frances Conroy\",\"Calvin Trillin\",\"Le Clanch\\u00e9 du Rand\",\"Rita Wilson\",\"Laura Linney\",\"Noah Emmerich\",\"Natascha McElhone\",\"Holland Taylor\",\"Ed Harris\",\"Brian Delate\",\"Peter Krause\",\"Harry Shearer\",\"Joel McKinnon Miller\",\"Mike Myers\",\"Heather Graham\",\"Gia Carides\",\"Oliver Muirhead\",\"Jeff Garlin\",\"Elvis Costello\",\"Jerry Springer\",\"Steve Wilkos\",\"Rebecca Romijn\",\"Woody Harrelson\",\"Tim Robbins\",\"Fred Willard\",\"David Koechner\",\"Jaap Stam\",\"Humberto Tan\",\"Tony Jay\",\"Seth Green\",\"Rob Lowe\",\"Will Ferrell\",\"Kristen Johnston\",\"Willie Nelson\",\"Charles Napier (actor)|Charles Napier\",\"Christian Slater\",\"Alan Rickman\",\"Mary Elizabeth Mastrantonio\",\"Geraldine McEwan\",\"Mike McShane|Michael McShane\",\"Brian Blessed\",\"Michael Wincott\",\"Nick Brimble\",\"Harold Innocent\",\"Walter Sparrow\",\"Daniel Newman (British actor)|Daniel Newman\",\"Daniel Peacock\",\"Jack Wild\",\"Soo Drouet\",\"Liam Halligan\",\"Michael Goldie\",\"Susannah Corbett\",\"Sean Connery\",\"Brandon Hammond\",\"Bill Murray\",\"Larry Bird\",\"Manner Washington\",\"Eric Gordon\",\"Penny Bae Bridges\",\"Charles Barkley\",\"Shawn Bradley\",\"Patrick Ewing\",\"Larry Johnson (basketball, born 1969)|Larry Johnson\",\"Muggsy Bogues\",\"Thom Barry\",\"Dee Bradley Baker\",\"Bob Bergen\",\"Bill Farmer\",\"Maurice LaMarche\",\"June Foray\",\"Kath Soucie\",\"Jocelyn Blue\",\"Darnell Suttles\",\"Charity James\",\"Steve Kehela\",\"June Melby\",\"Joey Camen\",\"Catherine Reitman\",\"Dorian Harewood\",\"Colleen Wainwright\",\"Nerdluck Nawt, the\",\"T. K. Carter\",\"Sniffles (Merrie Melodies)|Sniffles\",\"Frank Welker\",\"Sean Bean\",\"Izabella Scorupco\",\"Famke Janssen\",\"Joe Don Baker\",\"Tch\\u00e9ky Karyo\",\"Gottfried John\",\"Alan Cumming\",\"Serena Gordon\",\"Dermot Mulroney\",\"Cameron Diaz\",\"Philip Bosco\",\"M. Emmet Walsh\",\"Rachel Griffiths\",\"Carrie Preston\",\"Susan Sullivan\",\"Christopher Masterson\",\"Matt Dillon\",\"Ben Stiller\",\"Chris Elliott\",\"Lin Shaye\",\"Jeffrey Tambor\",\"Markie Post\",\"W. Earl Brown\",\"Sarah Silverman\",\"Khandi Alexander\",\"Willie Garson\",\"Harland Williams\",\"Richard Tyson\",\"Rob Moran\",\"Jonathan Richman\",\"Steve Sweeney\",\"Lenny Clarke\",\"Richard Jenkins\",\"Brett Favre\",\"Tim Curry\",\"Brenda Fricker\",\"Maureen Elisabeth Shay\",\"Eddie Bracken\",\"Rob Schneider\",\"Leigh Zimmerman\",\"Clare Hoak\",\"Monica Devereux\",\"Bob Eubanks\",\"Rip Taylor\",\"Jaye P. Morgan\",\"Jimmie Walker\",\"Ally Sheedy\",\"Rod Sell\",\"Ron Canada\",\"Donald Trump\",\"Jami Gertz\",\"Cary Elwes\",\"Alexa PenaVega|Alexa Vega\",\"Philip Seymour Hoffman\",\"Todd Field\",\"Wendle Josepher\",\"Joey Slotnick\",\"Scott Thomson (actor)|Scott Thomson\",\"Lois Smith\",\"Zach Grenier\",\"Rusty Schwimmer\",\"Abraham Benrubi\",\"Anthony Rapp\",\"Jake Busey\",\"Jonathan Pryce\",\"Michelle Yeoh\",\"Teri Hatcher\",\"Ricky Jay\",\"G\\u00f6tz Otto\",\"Nina Young\",\"Daphne Deckers\",\"Julian Fellowes\",\"Cecilie Thomsen\",\"Gerard Butler\",\"Julian Rhind-Tutt\",\"Hugh Bonneville\",\"Geoffrey Palmer (actor)|Geoffrey Palmer\",\"Winona Ryder\",\"Anthony Hopkins\",\"Richard E. Grant\",\"Billy Campbell\",\"Sadie Frost\",\"Tom Waits\",\"Monica Bellucci\",\"Michaela Bercu\",\"Florina Kendrick\",\"Jay Robinson\",\"Robert Prosky\",\"Polly Holliday\",\"Matthew Lawrence\",\"Mara Wilson\",\"Anne Haney\",\"Scott Capurro\",\"Martin Mull\",\"William Newman (actor)|William Newman\",\"Jeremy Irons\",\"Colleen Camp\",\"Larry Bryggman\",\"Sam Phillips (musician)|Sam Phillips\",\"Anthony Peck\",\"Nick Wyman\",\"Stephen Pearlman\",\"Kevin Chamberlin\",\"Richard Russell Ramos\",\"Charles Dumas\",\"Michael Cristofer\",\"Whitney Houston\",\"Gary Kemp\",\"Bill Cobbs\",\"Ralph Waite\",\"Tomas Arana\",\"Michele Lamar Richards\",\"Mike Starr (actor)|Mike Starr\",\"Christopher Birt\",\"DeVaughn Nixon\",\"Franco Nero\",\"William Sadler (actor)|William Sadler\",\"John Amos\",\"Dennis Franz\",\"Art Evans (actor)|Art Evans\",\"Fred Thompson\",\"Tom Bower (actor)|Tom Bower\",\"Sheila McCarthy\",\"Colm Meaney\",\"Michael Douglas\",\"George Dzundza\",\"Jeanne Tripplehorn\",\"Denis Arndt\",\"Leilani Sarelle\",\"Bruce A. Young\",\"Chelcie Ross\",\"Dorothy Malone\",\"Wayne Knight\",\"Daniel von Bargen\",\"Stephen Tobolowsky\",\"Benjamin Mouton\",\"Jack McGee (actor)|Jack McGee\",\"Bill Cable\",\"Jackie Chan\",\"Tzi Ma\",\"Ken Leung\",\"Elizabeth Pe\\u00f1a\",\"Mark Rolston\",\"Rex Linn\",\"Chris Penn\",\"Philip Baker Hall\",\"Julia Hsu\",\"John Hawkes (actor)|John Hawkes\",\"Clifton Powell\",\"Barry Shabaka Henley\",\"Tina Majorino\",\"Michael Jeter\",\"Gerard Murphy (Irish actor)|Gerard Murphy\",\"R. D. Call\",\"Kim Coates\",\"John Fleck (actor)|John Fleck\",\"Robert Joy\",\"Jack Black\",\"John Toles-Bey\",\"Robert LaSardo\",\"Zakes Mokae\",\"Zitto Kazann,\",\"Jack Kehler\",\"Chris Douridas\",\"Robert A. Silverman\",\"Neil Giuntoli\",\"William Preston (actor)|William Preston\",\"Lee Arenberg\",\"Nicolas Cage\",\"Joan Allen\",\"Gina Gershon\",\"Alessandro Nivola\",\"Colm Feore\",\"Dominique Swain\",\"Nick Cassavetes\",\"John Carroll Lynch\",\"CCH Pounder\",\"Robert Wisdom\",\"Margaret Cho\",\"Thomas Jane\",\"James Denton\",\"Tommy Flanagan (actor)|Tommy Flanagan\",\"Matt Ross (actor)|Matt Ross\",\"Danny Masterson\",\"Chris Bauer\",\"Romy Walthall\",\"Myles Jeffrey\",\"David McCurley\",\"Lauren Sinclair\",\"Maura Tierney\",\"Jennifer Tilly\",\"Swoosie Kurtz\",\"Amanda Donohoe\",\"Justin Cooper (actor)|Justin Cooper\",\"Jason Bernard\",\"Mitchell Ryan\",\"Christopher Mayer (American actor)|Chip Mayer\",\"Eric Pierpoint\",\"Cheri Oteri\",\"S W Fisher\",\"Ben Lemon\",\"Jarrad Paul\",\"Marianne Muellerleile\",\"Krista Allen\",\"Stephen James Carver\",\"Don Keefer\",\"Randall \\\"Tex\\\" Cobb\",\"Julianne Moore\",\"Pete Postlethwaite\",\"Arliss Howard\",\"Vince Vaughn\",\"Vanessa Lee Chester\",\"Harvey Jason\",\"Thomas F. Duffy\",\"Camilla Belle\",\"Richard Attenborough\",\"Joseph Mazzello\",\"Ariana Richards\",\"Mel Gibson\",\"Rene Russo\",\"Stuart Wilson (actor)|Stuart Wilson\",\"Nick Chinlund\",\"Alan Scarfe\",\"Delores Hall\",\"Gregory Millar\",\"Andrew Hill Newman\",\"Jason Rainwater\",\"Mark Pellegrino\",\"Danny Glover\",\"Ebonie Smith\",\"Damon Hines\",\"Steve Kahan\",\"Darlene Love\",\"Mary Ellen Trainor\",\"Traci Wolfe\",\"Chris Rock\",\"Jet Li\",\"Kim Chan\",\"Calvin Jung\",\"Eddy Ko\",\"Conan Lee\",\"Richard Libertini\",\"Antonio Banderas\",\"Catherine Zeta-Jones\",\"Matt Letscher\",\"Jos\\u00e9 Mar\\u00eda de Tavira\",\"Mar\\u00eda\",\"Tony Amendola\",\"Victor Rivers\",\"Diego Sieres\",\"William Marquez,\",\"L. Q. Jones\",\"Julieta Rosen\",\"Pedro Armend\\u00e1riz, Jr.\",\"Lauren Holly\",\"Karen Duffy\",\"Teri Garr\",\"Victoria Rowell\",\"Cam Neely\",\"Joe Baker\",\"Brad Lockerman\",\"Hank Brandt\",\"Felton Perry\",\"Brady Bluhm\",\"Connie Sawyer\",\"Robert Redford\",\"Oliver Platt\",\"Seymour Cassel\",\"Billy Connolly\",\"Pamela Holt\",\"Tommy Bush\",\"Sheena Easton\",\"Herbie Hancock\",\"Maggie Smith\",\"Isis Carmen Jones\",\"Mary Wickes\",\"Wendy Makkena\",\"Robert Miranda (actor)|Robert Miranda\",\"Richard Portnow\",\"Rose Parenti\",\"Jim Beaver\",\"Jenifer Lewis\",\"Charlotte Crossley\",\"Adrienne-Joi Johnson|A.J. Johnson\",\"Lois de Banzie\",\"Max Grod\\u00e9nchik\",\"Joseph G. Medalis\",\"Michael Durrell\",\"Toni Kalem\",\"Gene Greytak|Eugene Greytak\",\"Guy Boyd (actor)|Guy Boyd\",\"Ellen Albertini Dow\",\"Carmen Zapata\",\"Pat Crawford Brown\",\"Prudence Wright Holmes\",\"Georgia Creighton\",\"Susan Johnson (actor)|Susan Johnson\",\"Ruth Kobart\",\"Susan Browning\",\"Darlene Koldenhoven\",\"Sheri Izzard\",\"Edith Diaz\",\"Beth Fowler\",\"Bill Nunn\",\"Kathy Najimy\",\"Joseph Maher\",\"Delroy Lindo\",\"Lili Taylor\",\"Brawley Nolte\",\"Liev Schreiber\",\"Evan Handler\",\"Paul Guilfoyle\",\"Jos\\u00e9 Z\\u00fa\\u00f1iga\",\"John Ortiz\",\"David Vadim\",\"Dan Hedaya\",\"Penelope Ann Miller\",\"Pamela Reed\",\"Linda Hunt\",\"Carroll Baker\",\"Cathy Moriarty\",\"Park Overall\",\"Jayne Brook\",\"Bob Nelson (comedian)|Bob Nelson\",\"Angela Bassett\",\"Sarah Rose Karr\",\"Miko Hughes\",\"Ben Diskin\",\"Adam Wylie\",\"Odette Yustman\",\"Matthew Broderick\",\"Jean Reno\",\"Maria Pitillo\",\"Kevin Dunn\",\"Michael Lerner (actor)|Michael Lerner\",\"Arabella Field\",\"Vicki Lewis\",\"Lorry Goldman\",\"Doug Savant\",\"Malcolm Danare\",\"Ralph Manza\",\"Glenn Morshower\",\"Richard Gant\",\"Clyde Kusatsu\",\"Nancy Cartwright\",\"Gary A. Hecker\",\"Kurt Carley\",\"Peter Riegert\",\"Peter Greene\",\"Richard Jeni\",\"Max\",\"Orestes Matacena\",\"Jim Doughan\",\"Jeremy Roberts\",\"Ben Stein\",\"Ivory Ocean\",\"William Daniel Mielcarek\",\"Denis Forest\",\"Eamonn Roche\",\"Nancy Fish\",\"Nils Allen Stewart\",\"Blake Clark\",\"Harrison Ford\",\"Sela Ward\",\"Andreas Katsulas\",\"Jeroen Krabb\\u00e9\",\"Daniel Roebuck\",\"Thomas Mills Wood|Tom Wood\",\"L. Scott Caldwell\",\"Johnny Lee Davenport\",\"Ron Dean\",\"Joseph Kosala\",\"Jane Lynch\",\"Dick Cusack\",\"Andy Romano\",\"Nick Searcy\",\"Eddie Bo Smith\",\"Neil Flynn\",\"Richard Riehle\",\"Kirsten Nelson\",\"David Darlow (actor)|David Darlow\",\"Frank Ray Perilli\",\"Lester Holt\",\"Sam Rockwell\",\"Brian Tochi\",\"Josh Pais\",\"Corey Feldman\",\"Robbie Rist\",\"Kevin Clash\",\"David McCharen\",\"Michael McConnohie\",\"Martin P. Robinson\",\"David Forman\",\"David Rudman\",\"Leif Tilden\",\"Ernie Reyes Jr.\",\"David Greenaway\",\"Kenn Troum\",\"Mak Wilson\",\"Michelan Sisti\",\"Rickey Boyd\",\"Robert Tygner\",\"Eddie Murphy\",\"Ossie Davis\",\"Dari Gerard Smith\",\"Steven Gilborn\",\"June Christopher\",\"Don Calfa\",\"Pruitt Taylor Vince\",\"Norm MacDonald\",\"Royce D. Applegate|Royce Applegate\",\"Albert Brooks\",\"Hamilton Camp\",\"Jim Dean\",\"Ellen DeGeneres\",\"Jeff Doucette\",\"Chad Einbidnder\",\"Jenna Elfman\",\"Eddie Frierson\",\"Archie Hahn (actor)|Archie Hahn\",\"Phyllis Katz\",\"Julie Kavner\",\"John Leguizamo\",\"Kerrigan Mahan\",\"Philip Proctor\",\"Garry Shandling\",\"Tom Towles\",\"Bill Barretta\",\"Kevin Carlson\",\"Bruce Lanoil\",\"Drew Massey\",\"Allan Trautman\",\"Ian Tregonning\",\"Gilbert Gottfried\",\"Reni Santoni\",\"Donald Sutherland\",\"Dennis Miller\",\"Roma Maffia\",\"Dylan Baker\",\"Rosemary Forsyth\",\"Suzie Plakson\",\"Nicholas Sadler\",\"Jacqueline Kim\",\"Kate Williamson\",\"Farrah Forke\",\"Allan Rich\",\"David Gallagher\",\"Kirsten Dunst\",\"David Alan Grier\",\"Bebe Neuwirth\",\"Jada Pinkett\",\"James Coburn\",\"Jada Pinkett Smith|Jada Pinkett\",\"Chappelle\",\"Montell Jordan\",\"Ned Luke\",\"Murphy\",\"John Ales\",\"Jamal Mixon\",\"Brendan Fraser\",\"Luke Ford\",\"Rachel Weisz\",\"Maria Bello\",\"Kevin Bacon\",\"Kevin Pollak\",\"James Marshall (actor)|James Marshall\",\"J. T. Walsh\",\"Kiefer Sutherland\",\"Wolfgang Bodison\",\"J. A. Preston\",\"Michael DeLorenzo\",\"Noah Wyle\",\"Xander Berkeley\",\"Matt Craven\",\"John M. Jackson\",\"Christopher Guest\",\"David Bowe (actor)|David Bowe\",\"Joshua Malina\",\"Little Caesar (singer)|Harry Caesar\",\"Arthur Senzy\",\"Michael Edwards (actor)|Michael Edwards\",\"Linda Hamilton\",\"Gene Hackman\",\"Holly Hunter\",\"Hal Holbrook\",\"David Strathairn\",\"Jerry Hardin\",\"Terry Kinney\",\"Wilford Brimley\",\"Sullivan Walker\",\"Gary Busey\",\"Steven Hill\",\"Paul Sorvino\",\"Joe Viterelli\",\"Jerry Weintraub\",\"Tobin Bell\",\"Karina Lombard\",\"John Beal (actor)|John Beal\",\"Paul Calderon\",\"Margo Martindale\"]},\"selected\":{\"id\":\"127784\"},\"selection_policy\":{\"id\":\"127783\"}},\"id\":\"125688\",\"type\":\"ColumnDataSource\"},{\"attributes\":{},\"id\":\"125672\",\"type\":\"BasicTicker\"},{\"attributes\":{\"active_scroll\":{\"id\":\"125676\"},\"tools\":[{\"id\":\"125675\"},{\"id\":\"125676\"},{\"id\":\"125677\"},{\"id\":\"125678\"},{\"id\":\"125679\"}]},\"id\":\"125680\",\"type\":\"Toolbar\"},{\"attributes\":{},\"id\":\"127779\",\"type\":\"AllLabels\"},{\"attributes\":{\"end\":10.1,\"start\":-10.1},\"id\":\"125656\",\"type\":\"Range1d\"},{\"attributes\":{\"coordinates\":null,\"group\":null,\"text\":\"90s Hollywood Network\"},\"id\":\"125659\",\"type\":\"Title\"},{\"attributes\":{},\"id\":\"125665\",\"type\":\"LinearScale\"},{\"attributes\":{},\"id\":\"127778\",\"type\":\"BasicTickFormatter\"},{\"attributes\":{\"callback\":null,\"tooltips\":[[\"Actor\",\"@index\"]]},\"id\":\"125679\",\"type\":\"HoverTool\"},{\"attributes\":{\"line_alpha\":{\"value\":0.5}},\"id\":\"125701\",\"type\":\"MultiLine\"},{\"attributes\":{},\"id\":\"127784\",\"type\":\"Selection\"},{\"attributes\":{\"fill_color\":{\"value\":\"skyblue\"},\"size\":{\"value\":15}},\"id\":\"125696\",\"type\":\"Circle\"},{\"attributes\":{},\"id\":\"127781\",\"type\":\"BasicTickFormatter\"},{\"attributes\":{},\"id\":\"127785\",\"type\":\"UnionRenderers\"},{\"attributes\":{\"coordinates\":null,\"formatter\":{\"id\":\"127778\"},\"group\":null,\"major_label_policy\":{\"id\":\"127779\"},\"ticker\":{\"id\":\"125672\"}},\"id\":\"125671\",\"type\":\"LinearAxis\"},{\"attributes\":{\"coordinates\":null,\"data_source\":{\"id\":\"125688\"},\"glyph\":{\"id\":\"125696\"},\"group\":null,\"hover_glyph\":null,\"view\":{\"id\":\"125690\"}},\"id\":\"125689\",\"type\":\"GlyphRenderer\"},{\"attributes\":{\"coordinates\":null,\"edge_renderer\":{\"id\":\"125693\"},\"group\":null,\"inspection_policy\":{\"id\":\"127776\"},\"layout_provider\":{\"id\":\"125695\"},\"node_renderer\":{\"id\":\"125689\"},\"selection_policy\":{\"id\":\"127775\"}},\"id\":\"125686\",\"type\":\"GraphRenderer\"},{\"attributes\":{\"graph_layout\":{\"Abraham Benrubi\":[-0.1301649659872055,-0.32011449337005615],\"Ada Nicodemou\":[1.3521558046340942,-2.4407975673675537],\"Adam Baldwin\":[1.081782341003418,-1.3621894121170044],\"Adam Goldberg\":[-0.10433971136808395,2.0744948387145996],\"Adam Wylie\":[2.9772861003875732,0.024692263454198837],\"Adi Nitzan\":[-0.035867854952812195,-6.37835168838501],\"Adrienne-Joi Johnson|A.J. Johnson\":[-1.384921669960022,2.0500731468200684],\"Alan Cumming\":[-2.193922281265259,-0.8331072926521301],\"Alan Rickman\":[0.46627169847488403,-1.635031819343567],\"Alan Ruck\":[0.4995171129703522,-0.7413562536239624],\"Alan Scarfe\":[-2.5686917304992676,0.9586320519447327],\"Alan Wilder (actor)|Alan Wilder\":[-3.8318045139312744,0.5768312811851501],\"Albert Brooks\":[-0.484462171792984,1.3939707279205322],\"Alessandro Nivola\":[-1.549566626548767,3.3078770637512207],\"Alex Hyde-White\":[2.8668670654296875,3.246589183807373],\"Alexa PenaVega|Alexa Vega\":[-0.06385400891304016,-0.8402540683746338],\"Alexia Robinson\":[2.4828221797943115,-1.2192338705062866],\"Ali Wentworth\":[-1.4538490772247314,-1.7174949645996094],\"Alison Folland\":[-0.34741711616516113,0.7651532888412476],\"Allan Rich\":[-0.6376295685768127,-2.17604923248291],\"Allan Trautman\":[-0.4360339045524597,1.553567886352539],\"Allison Janney\":[-0.9604120254516602,1.426023006439209],\"Ally Sheedy\":[-3.4519519805908203,0.34643951058387756],\"Amanda Boxer\":[0.23151175677776337,1.8513761758804321],\"Amanda Donohoe\":[2.9864184856414795,0.5478733777999878],\"Amanda Plummer\":[-0.6759922504425049,1.9722009897232056],\"Amy Yasbeck\":[2.444758892059326,1.7750056982040405],\"Amzie Strickland\":[2.874117612838745,3.316990613937378],\"Andie MacDowell\":[-0.7003231644630432,4.953281879425049],\"Andreas Katsulas\":[3.375337839126587,-1.7979551553726196],\"Andrew Bryniarski\":[-0.5668825507164001,-0.9324731826782227],\"Andrew Hill Newman\":[-2.5087108612060547,0.9243016242980957],\"Andrew Livingston\":[2.849311113357544,-0.24617578089237213],\"Andrew Scott (actor)|Andrew Scott\":[0.13484254479408264,1.9398542642593384],\"Andrzej Seweryn\":[-0.3787010908126831,-6.429477691650391],\"Andy Romano\":[3.942639112472534,-2.5145070552825928],\"Angela Bassett\":[3.0658819675445557,-0.14088064432144165],\"Angela Goethals\":[-2.1291189193725586,-0.673568069934845],\"Angelica Page\":[0.5054246187210083,1.670958399772644],\"Anna Chancellor\":[-0.46773862838745117,4.69218635559082],\"Anna Katarina\":[-0.639556884765625,-0.97520512342453],\"Anna Mucha\":[0.036558233201503754,-6.356384754180908],\"Anna Slotky\":[-3.5592167377471924,0.45019689202308655],\"Anne Haney\":[0.11433269083499908,-0.1550302356481552],\"Annette Bening\":[-0.9161309003829956,1.2875840663909912],\"Annie Costner\":[0.538505494594574,-2.652465343475342],\"Anthony Guidera\":[0.03374581038951874,0.6524412631988525],\"Anthony Hopkins\":[-0.7073737978935242,-1.4291619062423706],\"Anthony Natale\":[-1.6550977230072021,-1.5764764547348022],\"Anthony Peck\":[0.7568511962890625,1.546720266342163],\"Anthony Rapp\":[-0.22364048659801483,-0.5301106572151184],\"Anthony Ray Parker\":[1.1593180894851685,-2.4282312393188477],\"Antonio Banderas\":[-1.6791752576828003,-1.7674027681350708],\"Antony Sher\":[0.3347804844379425,0.020275166258215904],\"Arabella Field\":[0.8460283875465393,3.197444200515747],\"Archie Hahn (actor)|Archie Hahn\":[-0.30388087034225464,1.6696393489837646],\"Ariana Richards\":[2.364164113998413,-1.8556545972824097],\"Aries Spears\":[-1.4055432081222534,-1.6482523679733276],\"Arliss Howard\":[2.088585615158081,-1.9060609340667725],\"Armelia McQueen\":[-1.3484727144241333,0.03217736631631851],\"Arnold Schwarzenegger\":[1.9995839595794678,-0.4476514756679535],\"Art Evans (actor)|Art Evans\":[1.3326196670532227,1.7567670345306396],\"Art Malik\":[0.8902470469474792,-0.14804226160049438],\"Arthur Senzy\":[-1.6316906213760376,-1.3619334697723389],\"Augie Blunt\":[-1.2525079250335693,0.06796035915613174],\"August Schm\\u00f6lzer\":[-0.06248500943183899,-6.498203277587891],\"Barbara Garrick\":[0.51578289270401,0.5671187043190002],\"Barry Pepper\":[0.052729662507772446,1.752187728881836],\"Barry Shabaka Henley\":[2.377115488052368,0.2729998826980591],\"Barry Switzer\":[-1.553979754447937,-1.596963882446289],\"Beatrice Macola\":[0.006895919796079397,-6.286142349243164],\"Beau Bridges\":[-1.4811577796936035,-1.7038850784301758],\"Beau Starr\":[1.437110185623169,-1.2484067678451538],\"Bebe Neuwirth\":[-1.5800906419754028,-0.4289543628692627],\"Becky Ann Baker\":[2.4315898418426514,-1.7581218481063843],\"Belinda McClory\":[1.207261562347412,-2.372591495513916],\"Ben Affleck\":[0.27679383754730225,0.45236170291900635],\"Ben Diskin\":[3.0055134296417236,-0.14456753432750702],\"Ben Kingsley\":[-0.2141404002904892,-6.001090049743652],\"Ben Lemon\":[1.4556677341461182,-0.1386299878358841],\"Ben Stein\":[2.489361047744751,1.0644993782043457],\"Ben Stiller\":[2.307302713394165,1.6032507419586182],\"Benjamin Mouton\":[1.2427735328674316,-2.1715495586395264],\"Bernard Fox (actor)|Bernard Fox\":[-1.4930896759033203,0.5590317249298096],\"Bernard Hill\":[-2.2680678367614746,0.4744302034378052],\"Beth Fowler\":[-1.3442357778549194,1.9820706844329834],\"Beth Grant\":[1.4434682130813599,-1.3227369785308838],\"Bibi Osterwald\":[-1.3524662256240845,-0.5242065787315369],\"Bill Barretta\":[-0.41671302914619446,1.6643537282943726],\"Bill Cable\":[1.218400239944458,-2.2982850074768066],\"Bill Cobbs\":[0.1577499508857727,-2.71269154548645],\"Bill Erwin\":[-3.8187599182128906,0.6659742593765259],\"Bill Farmer\":[-1.4804164171218872,-2.7177462577819824],\"Bill Murray\":[-1.1119818687438965,-2.288384199142456],\"Bill Nunn\":[-0.9451317191123962,2.6505861282348633],\"Bill Paxton\":[-0.501973569393158,0.0064999740570783615],\"Bill Pullman\":[0.565402090549469,-0.41615843772888184],\"Bill Smitrovich\":[1.082625389099121,-1.1999346017837524],\"Billie Bird\":[-3.7470030784606934,0.6532948613166809],\"Billy Bob Thornton\":[-0.5432766079902649,0.22012202441692352],\"Billy Campbell\":[0.30035343766212463,-1.0398151874542236],\"Billy Connolly\":[-1.7242205142974854,-0.533721387386322],\"Billy Zane\":[-1.6733938455581665,0.36608076095581055],\"Blake Clark\":[2.54532790184021,0.9763419032096863],\"Bob Bergen\":[-1.4207371473312378,-2.659278392791748],\"Bob Eubanks\":[-3.4285969734191895,0.26628807187080383],\"Bob Mack\":[0.18538782000541687,-0.127510204911232],\"Bob Nelson (comedian)|Bob Nelson\":[2.944842576980591,-0.06925803422927856],\"Bonnie Hunt\":[-1.4711052179336548,-1.1163840293884277],\"Brad Abrell, Thom Fountain, Carl J. Johnson\":[2.4198920726776123,-1.6914552450180054],\"Brad Lockerman\":[2.3215153217315674,-0.09080329537391663],\"Brad Pitt\":[0.4620700180530548,0.016388826072216034],\"Brady Bluhm\":[2.2331793308258057,-0.0703095868229866],\"Brandon Hammond\":[-1.0764386653900146,-2.9953432083129883],\"Brawley Nolte\":[-1.9167531728744507,1.250653624534607],\"Brenda Fricker\":[-3.084369659423828,0.2083461433649063],\"Brendan Fraser\":[-5.467532634735107,2.8719584941864014],\"Brent Barry\":[-1.7780240774154663,-1.6041715145111084],\"Brent Spiner\":[1.15341317653656,-1.197271466255188],\"Brett Favre\":[2.680655002593994,2.068634510040283],\"Brian Blessed\":[0.3511810600757599,-1.5719552040100098],\"Brian Delate\":[1.243380069732666,-0.23373498022556305],\"Brian Doyle-Murray\":[-0.7104200720787048,0.36323046684265137],\"Brian Tochi\":[-3.9996912479400635,5.373926162719727],\"Brion James\":[1.1580095291137695,0.5850818753242493],\"Bruce A. Young\":[1.3496551513671875,-2.437676191329956],\"Bruce Jarchow\":[-1.3059030771255493,0.09996798634529114],\"Bruce Jones (actor)|Bruce Jones\":[2.7289886474609375,0.10309050977230072],\"Bruce Lanoil\":[-0.45572951436042786,1.6820286512374878],\"Bruce Norris (playwright)|Bruce Norris\":[0.5595131516456604,1.5850270986557007],\"Bruce Willis\":[0.5212549567222595,1.1107310056686401],\"Bryan Cranston\":[0.11104238778352737,1.6809579133987427],\"CCH Pounder\":[-1.1886236667633057,3.327430009841919],\"Calvin Jung\":[-2.2140486240386963,0.9825063347816467],\"Calvin Trillin\":[0.42957407236099243,0.565721333026886],\"Cam Neely\":[2.3616273403167725,-0.043164290487766266],\"Cameron Diaz\":[2.1939358711242676,1.5046281814575195],\"Camilla Belle\":[2.03204607963562,-1.532050609588623],\"Cara Seymour\":[-0.3670792877674103,0.6850100159645081],\"Carel Struycken\":[2.4280221462249756,-1.6026033163070679],\"Carey Lowell\":[0.4782359004020691,0.6298825144767761],\"Carlos Carrasco (actor)|Carlos Carrasco\":[1.4603302478790283,-1.1111081838607788],\"Carmen Zapata\":[-1.4461978673934937,2.2306041717529297],\"Caroline Aaron\":[0.27163416147232056,0.4629787802696228],\"Caroline Goodall\":[-0.4380095601081848,-3.9487359523773193],\"Carrie Preston\":[2.3423783779144287,2.3504562377929688],\"Carrie-Anne Moss\":[1.3590599298477173,-2.268216371536255],\"Carroll Baker\":[3.0320427417755127,0.03848230838775635],\"Cary Elwes\":[0.5702794194221497,-0.4949949085712433],\"Casey Affleck\":[-0.6844755411148071,0.6437543034553528],\"Cat Mueller\":[0.16273632645606995,-0.0171537883579731],\"Catherine O'Hara\":[-3.5147147178649902,0.09600657224655151],\"Catherine Reitman\":[-1.4729645252227783,-2.6058666706085205],\"Catherine Zeta-Jones\":[-1.8944288492202759,-1.7359322309494019],\"Cathy Moriarty\":[3.062318801879883,-0.036341652274131775],\"Cecilie Thomsen\":[-1.0889571905136108,-0.8433813452720642],\"Chad Einbidnder\":[-0.4498903751373291,1.807549238204956],\"Chappelle\":[1.295111894607544,2.0571978092193604],\"Charity James\":[-1.059887170791626,-2.686176300048828],\"Charles Barkley\":[-1.267706274986267,-2.6671741008758545],\"Charles Dumas\":[0.6146090626716614,1.6497803926467896],\"Charles Napier (actor)|Charles Napier\":[-3.621253490447998,-1.1391611099243164],\"Charles Rocket\":[1.2546865940093994,-1.62957763671875],\"Charlie Creed-Miles\":[1.1637156009674072,0.5285533666610718],\"Charlotte Coleman\":[-0.738562285900116,4.610651016235352],\"Charlotte Crossley\":[-1.2717955112457275,2.1148016452789307],\"Charlton Heston\":[0.930298924446106,-0.24683856964111328],\"Chelcie Ross\":[0.2888961434364319,-3.32684588432312],\"Cheri Oteri\":[1.6019799709320068,-0.2452223151922226],\"Chris Bauer\":[-1.1608647108078003,3.441021203994751],\"Chris Cooper\":[-0.8988633751869202,1.3978824615478516],\"Chris Douridas\":[0.29255104064941406,-2.4499080181121826],\"Chris Elliott\":[2.809560537338257,1.8841636180877686],\"Chris Ellis (actor)|Chris Ellis\":[0.3463245928287506,1.2889846563339233],\"Chris O'Donnell\":[2.2478222846984863,-0.5361976027488708],\"Chris Penn\":[2.347161054611206,0.4542030096054077],\"Chris Rock\":[-1.1486921310424805,1.2745299339294434],\"Chris Tucker\":[1.7712821960449219,0.4669460654258728],\"Christian Slater\":[0.7260183095932007,-1.6215037107467651],\"Christine Cavanaugh\":[-1.6558067798614502,-1.5043822526931763],\"Christopher Birt\":[0.25323620438575745,-2.7616636753082275],\"Christopher Britton (actor)|Christopher Britton\":[-0.30008217692375183,0.6856527328491211],\"Christopher Guest\":[-1.6917200088500977,-1.5234178304672241],\"Christopher Lloyd\":[9.871214866638184,8.288113594055176],\"Christopher Masterson\":[2.413090705871582,2.3210978507995605],\"Christopher Mayer (American actor)|Chip Mayer\":[1.5243008136749268,-0.051554229110479355],\"Christopher Walken\":[-0.39276009798049927,0.048985641449689865],\"Clare Hoak\":[-3.469971179962158,0.20776741206645966],\"Clark Brolly\":[0.0875164195895195,0.6088768243789673],\"Claude-Oliver Rudolph\":[-0.8921712636947632,-0.9744352698326111],\"Clifton Powell\":[2.3704700469970703,0.5555605888366699],\"Clyde Kusatsu\":[0.9393273591995239,3.2930641174316406],\"Cole Hauser\":[-0.34935277700424194,0.6247446537017822],\"Colin Firth\":[0.5949367880821228,0.28081008791923523],\"Colin Salmon\":[-2.0304696559906006,-1.2427549362182617],\"Colleen Camp\":[0.7148916721343994,1.7361863851547241],\"Colleen Wainwright\":[-1.1182655096054077,-2.709730863571167],\"Colm Feore\":[-1.0537739992141724,3.4248757362365723],\"Colm Meaney\":[1.0782605409622192,1.9609026908874512],\"Conan Lee\":[-2.2337069511413574,1.0062026977539062],\"Connie Sawyer\":[2.227128744125366,-0.004670234397053719],\"Corey Feldman\":[-3.642935276031494,5.447780132293701],\"Corey Johnson (actor)|Corey Johnson\":[0.22537703812122345,1.783450722694397],\"Corin Redgrave\":[-0.5735741257667542,4.666700839996338],\"Craig Kelly (actor)|Craig Kelly\":[-1.4980491399765015,0.2574369013309479],\"Cristi Conaway\":[-0.6589528322219849,-0.9488967657089233],\"Cuba Gooding Jr.\":[-1.3935950994491577,-1.0807636976242065],\"D'Onofrio\":[2.303610324859619,-1.7239054441452026],\"Dabney Coleman\":[-0.46524184942245483,0.8169974088668823],\"Daiana Campeanu\":[-3.569017171859741,0.4513076841831207],\"Dale Dye\":[0.16194966435432434,1.7526369094848633],\"Damon Hines\":[-2.2712106704711914,1.1733916997909546],\"Dan Hedaya\":[-1.8255385160446167,1.4697353839874268],\"Dana Ivey\":[-1.5838476419448853,0.3479367792606354],\"Daniel Brocklebank\":[0.7191517949104309,0.05728548765182495],\"Daniel Del Ponte\":[-0.16967010498046875,-6.503528118133545],\"Daniel Newman (British actor)|Daniel Newman\":[0.3000459372997284,-1.6472052335739136],\"Daniel Peacock\":[0.5208805203437805,-1.712432861328125],\"Daniel Roebuck\":[3.419956684112549,-1.7475215196609497],\"Daniel Stern (actor)|Daniel Stern\":[-3.845911741256714,0.4110919237136841],\"Daniel Villarreal\":[1.4412968158721924,-1.3335273265838623],\"Daniel von Bargen\":[1.2450640201568604,-2.3143270015716553],\"Danny DeVito\":[-0.8463895916938782,-1.8265876770019531],\"Danny Glover\":[-2.07348370552063,0.7222093343734741],\"Danny Masterson\":[-1.3618727922439575,3.356675863265991],\"Danny Nucci\":[-2.2537684440612793,0.4423171281814575],\"Daphne Deckers\":[-1.1155587434768677,-0.8856507539749146],\"Dari Gerard Smith\":[1.1237854957580566,1.8818532228469849],\"Darlene Koldenhoven\":[-1.458074927330017,1.9909616708755493],\"Darlene Love\":[-1.9956316947937012,1.4697710275650024],\"Darnell Suttles\":[-1.5294575691223145,-2.655062198638916],\"Dave Chappelle\":[0.6274585127830505,1.376952886581421],\"Dave Hill (actor)|Dave Hill\":[2.8003339767456055,0.14041614532470703],\"David Alan Grier\":[-1.7528800964355469,-0.04106182977557182],\"David Bowe (actor)|David Bowe\":[-1.629016637802124,-1.3531169891357422],\"David Bower\":[-0.542310893535614,4.710314750671387],\"David Calder (actor)|David Calder\":[-1.0257675647735596,-1.005193829536438],\"David Cross\":[2.3347978591918945,-1.7954742908477783],\"David Darlow (actor)|David Darlow\":[3.0420358180999756,-1.9144768714904785],\"David Forman\":[-3.930199146270752,5.270181655883789],\"David Gallagher\":[-0.7409769296646118,-2.1577155590057373],\"David Greenaway\":[-3.934232234954834,5.443354606628418],\"David Haig\":[-0.6327645778656006,4.64052677154541],\"David Hyde Pierce\":[0.423296719789505,0.5659762620925903],\"David Koechner\":[-3.757676362991333,-1.3308948278427124],\"David Kriegel\":[1.5150400400161743,-1.2452863454818726],\"David McCharen\":[-3.774923801422119,5.430306434631348],\"David McCurley\":[-1.2951407432556152,3.407133102416992],\"David Rudman\":[-3.8152859210968018,5.255162239074707],\"David Strathairn\":[-0.34064197540283203,-1.918411135673523],\"David Vadim\":[-1.8060210943222046,1.3031476736068726],\"David Warner (actor)|David Warner\":[-2.225416898727417,0.5556542277336121],\"David Wohl (actor)|David Wohl\":[0.02642717771232128,2.0059585571289062],\"DeVaughn Nixon\":[0.2228446900844574,-2.7280614376068115],\"Dean Norris\":[0.3391619920730591,-1.5302573442459106],\"Debbie Lee Carrington\":[2.4337880611419678,-1.1760072708129883],\"Debi Mazar\":[2.4074666500091553,-0.5909676551818848],\"Deborah Rush\":[-0.6339937448501587,0.7295857667922974],\"Dee Bradley Baker\":[-1.1170933246612549,-2.8342134952545166],\"Deirdre Costello (actress)|Deirdre Costello\":[2.704439878463745,-0.17039574682712555],\"Delores Hall\":[-2.513692617416382,0.8557876944541931],\"Delroy Lindo\":[-1.9679245948791504,1.2827595472335815],\"Demetri Goritsas\":[0.02511693350970745,1.8900548219680786],\"Demi Moore\":[-1.1790772676467896,-1.170931339263916],\"Denis Arndt\":[1.3702716827392578,-2.401449203491211],\"Denis Forest\":[2.5550765991210938,1.0457910299301147],\"Denise Richards\":[-2.113401412963867,-1.209855556488037],\"Dennis Farina\":[-0.034962043166160583,2.025369167327881],\"Dennis Franz\":[1.346232295036316,1.6674987077713013],\"Dennis Hopper\":[0.843146800994873,-1.3736822605133057],\"Dennis Miller\":[-0.7296285033226013,-2.2171144485473633],\"Dermot Mulroney\":[2.8346757888793945,3.4531586170196533],\"Desmond Llewelyn\":[-1.3135461807250977,-0.8305865526199341],\"Devin Ratray\":[-3.5237793922424316,0.25576889514923096],\"Dey Young\":[2.663839340209961,3.413205623626709],\"Diane Salinger\":[-0.5251873135566711,-0.9976232647895813],\"Dick Cavett\":[-0.5929495096206665,1.1270966529846191],\"Dick Cusack\":[3.14898943901062,-1.746944546699524],\"Diego Sieres\":[-1.6499934196472168,-2.077390193939209],\"Dominique Swain\":[-1.3413289785385132,3.2538833618164062],\"Don Calfa\":[0.5715292692184448,2.117098569869995],\"Don Keefer\":[1.5312825441360474,-0.2607644200325012],\"Donal Logue\":[-0.9652382731437683,-1.731884479522705],\"Donald Hotton\":[0.6665680408477783,-2.658012866973877],\"Donald Sutherland\":[-0.6599164605140686,-2.434600591659546],\"Donald Trump\":[-3.4964327812194824,0.14319397509098053],\"Donnie Wahlberg\":[-0.854117214679718,1.2504124641418457],\"Dorian Harewood\":[-1.332297444343567,-2.7254202365875244],\"Doris Leader Charge\":[0.9138033390045166,-2.712676525115967],\"Dorothy Malone\":[0.9428203701972961,-1.8916350603103638],\"Doug Jones (actor)|Doug Jones\":[-0.571601927280426,-0.9277840256690979],\"Doug Savant\":[0.8588781952857971,3.277763605117798],\"Drake Bell\":[-1.5776846408843994,-1.706260323524475],\"Drew Barrymore\":[2.2585885524749756,-0.5629984736442566],\"Drew Massey\":[-0.4927075207233429,1.6709803342819214],\"Dylan Baker\":[-0.7091852426528931,-2.1048758029937744],\"Dylan Bruno\":[0.17341968417167664,1.7929987907409668],\"Eamonn Roche\":[2.5580267906188965,1.1111106872558594],\"Ebonie Smith\":[-2.2781119346618652,1.1628297567367554],\"Ed Begley Jr.\":[2.4100189208984375,-0.6395407319068909],\"Ed Harris\":[0.22169405221939087,-0.8612881302833557],\"Eddie Bo Smith\":[3.0909998416900635,-1.6781893968582153],\"Eddie Bracken\":[-3.6134159564971924,0.2922579348087311],\"Eddie Frierson\":[-0.3956867754459381,1.7378543615341187],\"Eddie Griffin\":[0.008817872032523155,0.8352925181388855],\"Eddie Murphy\":[0.22136175632476807,1.4768164157867432],\"Eddy Ko\":[-2.1686198711395264,1.0024818181991577],\"Edith Diaz\":[-1.0435079336166382,2.10237455368042],\"Edward Burns\":[0.07889701426029205,2.307394504547119],\"Edward Fletcher\":[-1.4270437955856323,0.3857559561729431],\"Elina L\\u00f6wensohn\":[-0.1261206418275833,-6.47996711730957],\"Elinor Donahue\":[2.610738754272461,3.3835461139678955],\"Elisabeth Shue\":[9.277560234069824,8.102557182312012],\"Eliza Dushku\":[0.9160579442977905,-0.2733457088470459],\"Elizabeth Pe\\u00f1a\":[2.4070470333099365,0.3384285271167755],\"Elizabeth Sanders\":[2.512352466583252,-0.6339455842971802],\"Ellen Albertini Dow\":[-1.3668123483657837,2.1339352130889893],\"Ellen DeGeneres\":[0.6841796040534973,2.046438694000244],\"Elvis Costello\":[-4.4673590660095215,-1.7210084199905396],\"Embeth Davidtz\":[0.09761091321706772,-6.3412299156188965],\"Emily Woof\":[2.8318684101104736,-0.09469208121299744],\"En Vogue\":[2.4544084072113037,-0.518238365650177],\"Eric Braeden\":[-1.6091853380203247,0.2767432630062103],\"Eric Gordon\":[-1.3132237195968628,-2.5716605186462402],\"Eric Pierpoint\":[1.5881160497665405,-0.3130277693271637],\"Eric Stoltz\":[-1.0131940841674805,0.23866260051727295],\"Erich Redman\":[0.07698582857847214,1.8957998752593994],\"Ernie Reyes Jr.\":[-4.074544429779053,5.30766487121582],\"Evan Handler\":[-1.831889033317566,1.2437845468521118],\"Ewan Stewart\":[-1.5499954223632812,0.529341995716095],\"Ezra Dagan\":[-0.3008192479610443,-6.431550025939941],\"Famke Janssen\":[-1.664223074913025,-0.8120784163475037],\"Farrah Forke\":[-0.6361122131347656,-2.088789701461792],\"Felton Perry\":[2.3895726203918457,-0.13986368477344513],\"Flea (musician)|Flea\":[9.758681297302246,7.914229393005371],\"Florina Kendrick\":[0.32382816076278687,-1.0581257343292236],\"Floyd Red Crow Westerman\":[0.9418198466300964,-2.664048194885254],\"Frances Conroy\":[0.37445470690727234,0.4783942401409149],\"Frances Fisher\":[-2.2067620754241943,0.4970931112766266],\"Franco Nero\":[1.119926929473877,1.8002715110778809],\"Frank P. Costanza\":[0.5918112993240356,-2.7239489555358887],\"Frank Ray Perilli\":[3.126508951187134,-1.6137030124664307],\"Frank Welker\":[-0.08165884017944336,0.23542355000972748],\"Fred Thompson\":[0.9760105609893799,2.0328009128570557],\"Fred Willard\":[-3.795090913772583,-1.2495324611663818],\"Fredric Lehne\":[2.404175043106079,-1.7652710676193237],\"Friedrich von Thun\":[0.04991397634148598,-6.433394432067871],\"Gaby Hoffmann\":[0.36000871658325195,0.5331888198852539],\"Gail Boggs\":[-1.2305506467819214,0.09125816076993942],\"Garry Shandling\":[-0.3932800889015198,1.5772626399993896],\"Gary A. Hecker\":[0.783860981464386,3.235139846801758],\"Gary Busey\":[-0.30098944902420044,-1.903511643409729],\"Gary Kemp\":[0.04728859290480614,-2.742677688598633],\"Gary Oldman\":[0.7285794019699097,-0.23928296566009521],\"Gary Sinise\":[-1.0461452007293701,1.0507405996322632],\"Gene Borkan\":[0.2886621057987213,0.03498930111527443],\"Gene Greytak|Eugene Greytak\":[-1.2976497411727905,2.0441501140594482],\"Gene Hackman\":[-0.42009782791137695,-2.0063130855560303],\"Geoffrey Blake (actor)|Geoffrey Blake\":[-0.5459346175193787,1.0704575777053833],\"Geoffrey Palmer (actor)|Geoffrey Palmer\":[-2.0073461532592773,-1.0124194622039795],\"Geoffrey Rush\":[0.6039279699325562,0.29091766476631165],\"George Dzundza\":[1.2996872663497925,-2.5120716094970703],\"George Plimpton\":[-0.3909788429737091,0.7340260148048401],\"George Wallace (American comedian)|George Wallace\":[2.532478094100952,-0.5457262396812439],\"Georgia Creighton\":[-1.238229513168335,1.9771391153335571],\"Geraldine McEwan\":[0.34757086634635925,-1.7246206998825073],\"Gerard Butler\":[-1.8482190370559692,-1.055359959602356],\"Gerard Murphy (Irish actor)|Gerard Murphy\":[1.047278881072998,-2.057518482208252],\"Gerry Bamman\":[-1.794342041015625,-0.6802008748054504],\"Gerry Becker\":[-3.813188076019287,0.45340850949287415],\"Gia Carides\":[-4.56088924407959,-1.734251856803894],\"Gilbert Gottfried\":[0.00036656809970736504,2.183520555496216],\"Gina Gershon\":[-1.2287260293960571,3.453460216522217],\"Giovanni Ribisi\":[0.04802760109305382,1.7540215253829956],\"Giuseppe Andrews\":[1.0962090492248535,-1.2858397960662842],\"Glenn Fitzgerald\":[0.4506714940071106,1.7290681600570679],\"Glenn Frey\":[-1.5542038679122925,-1.5381138324737549],\"Glenn Morshower\":[1.1632864475250244,3.234116792678833],\"Glenn Plummer\":[1.5151448249816895,-1.335683822631836],\"Glenn Wrage\":[-0.05505441501736641,1.8289581537246704],\"Gloria Foster\":[1.1377888917922974,-2.2915496826171875],\"Gloria Stuart\":[-1.4408466815948486,0.3336265981197357],\"Glory Fioramonti\":[2.4800219535827637,-0.586118221282959],\"Goldie\":[-0.9214298129081726,-0.8428386449813843],\"Gottfried John\":[-2.1827218532562256,-0.9073936343193054],\"Grace Zabriskie\":[0.14515215158462524,0.666839599609375],\"Graham Greene (actor)|Graham Greene\":[0.5043807625770569,-0.16663213074207306],\"Grand L. Bush\":[-0.5172541737556458,1.1171774864196777],\"Grant Heslov\":[0.8713039755821228,-0.14431260526180267],\"Grayson McCouch\":[0.0893564447760582,0.871370255947113],\"Greg Collins (actor)|Greg Collins\":[0.04191182553768158,0.6633253693580627],\"Greg Kinnear\":[-0.8763662576675415,0.036246828734874725],\"Greg Wood\":[0.47137686610221863,1.820725440979004],\"Gregory Cooke\":[-1.528655767440796,0.1643795222043991],\"Gregory Millar\":[-2.5236704349517822,1.005627155303955],\"Guy Boyd (actor)|Guy Boyd\":[-1.224697232246399,2.0633814334869385],\"Gwyneth Paltrow\":[0.5629732012748718,0.16563883423805237],\"G\\u00f6tz Otto\":[-1.061119556427002,-0.7711488008499146],\"Hal Holbrook\":[-0.4341866970062256,-2.038222074508667],\"Haley Joel Osment\":[-0.027659406885504723,1.2461961507797241],\"Hallee Hirsh\":[-0.5451852083206177,0.6301259994506836],\"Hamilton Camp\":[-0.47140151262283325,1.7600693702697754],\"Hank Azaria\":[1.7069662809371948,2.916045904159546],\"Hank Brandt\":[2.295281410217285,0.01734049990773201],\"Hanna R. Hall\":[-0.7529837489128113,0.9741542339324951],\"Hans-J\\u00f6rg Assmann\":[-0.3834821283817291,-6.34173059463501],\"Hans-Michael Rehberg\":[-0.3986615836620331,-6.497458457946777],\"Harland Williams\":[2.175184726715088,0.7826278209686279],\"Harold Innocent\":[0.4264114201068878,-1.730320930480957],\"Harold Ramis\":[-1.2939684391021729,-0.48899808526039124],\"Harrison Ford\":[3.148972511291504,-1.9451069831848145],\"Harrison Young\":[-0.18044421076774597,2.097888946533203],\"Harry Connick Jr.\":[1.0339998006820679,-1.2394142150878906],\"Harry Connick Jr|Harry Connick\":[1.0277482271194458,-1.301903486251831],\"Harry Shearer\":[1.2233363389968872,1.456439733505249],\"Harve Presnell\":[-0.41934704780578613,2.198287010192871],\"Harvey Fierstein\":[0.23112265765666962,-0.8135120868682861],\"Harvey Jason\":[2.0282161235809326,-1.5449475049972534],\"Harvey Keitel\":[-0.8458893299102783,1.7679105997085571],\"Hawthorne James\":[0.7353235483169556,-0.5229208469390869],\"Heather Burns\":[-0.6351094245910645,0.7925825715065002],\"Heather Graham\":[-4.991611957550049,-1.8552531003952026],\"Heidi Schanz\":[0.12731370329856873,-0.06534068286418915],\"Helen Hunt\":[-0.585107147693634,-0.5427582859992981],\"Herbie Hancock\":[-1.6951156854629517,-0.5122539401054382],\"Hillary Wolf\":[-3.5947377681732178,0.1579866111278534],\"Holland Taylor\":[2.1355082988739014,0.6598895192146301],\"Holly Hunter\":[-0.3758767545223236,-2.0532162189483643],\"Hope Davis\":[-3.7800283432006836,0.5170689821243286],\"Hugh Bonneville\":[-1.9788570404052734,-1.1271483898162842],\"Hugh Grant\":[-0.4934670925140381,4.03562068939209],\"Hugo Speer\":[2.801398754119873,-0.3250133693218231],\"Hugo Weaving\":[1.3589822053909302,-2.267446756362915],\"Humberto Tan\":[-3.7964046001434326,-1.2473256587982178],\"H\\u00e9ctor Elizondo\":[2.7373709678649902,3.271653652191162],\"Ian Holm\":[1.2345730066299438,0.616658627986908],\"Ian Tregonning\":[-0.3263053596019745,1.554977297782898],\"Imelda Staunton\":[0.7647159099578857,0.1276463270187378],\"Ioan Gruffudd\":[-1.5357457399368286,0.3238023817539215],\"Isis Carmen Jones\":[-1.3689504861831665,1.9140825271606445],\"Ivory Ocean\":[2.7378761768341064,0.9768400192260742],\"Izabella Scorupco\":[-2.293073892593384,-0.9839030504226685],\"J. A. Preston\":[-1.7878538370132446,-1.4693466424942017],\"J. T. Walsh\":[-1.4488253593444824,-2.028864860534668],\"Jaap Stam\":[-3.75537109375,-1.3283826112747192],\"Jack Black\":[0.24255286157131195,-1.538212776184082],\"Jack Kehler\":[-1.0104036331176758,-0.16152694821357727],\"Jack McGee (actor)|Jack McGee\":[0.0013791186502203345,-0.9316338300704956],\"Jack Nicholson\":[-1.4070103168487549,-0.9178431034088135],\"Jack Wild\":[0.528866708278656,-1.6050314903259277],\"Jackie Chan\":[2.4608235359191895,0.4274761974811554],\"Jacqueline Kim\":[-0.7312242388725281,-2.0737240314483643],\"Jada Pinkett\":[1.0332281589508057,2.04844331741333],\"Jada Pinkett Smith|Jada Pinkett\":[1.3043338060379028,1.994261384010315],\"Jake Busey\":[-0.22813691198825836,-0.41079506278038025],\"Jamal Mixon\":[2.826256036758423,2.498399496078491],\"James Allen\":[0.8494492769241333,-0.21758151054382324],\"James Coburn\":[1.7944566011428833,2.1056439876556396],\"James Denton\":[-1.4051659107208252,3.437553882598877],\"James Duval\":[1.0859075784683228,-1.3623435497283936],\"James Fleet\":[-0.3905549645423889,4.709516525268555],\"James Lancaster\":[-1.39517343044281,0.4490002393722534],\"James Marshall (actor)|James Marshall\":[-1.8209742307662964,-1.5673304796218872],\"James Patrick Stuart\":[2.744875431060791,3.3747360706329346],\"James Rebhorn\":[1.0004061460494995,-1.5269025564193726],\"James Tolkan\":[9.384830474853516,8.026268005371094],\"Jami Gertz\":[-1.0402463674545288,-0.17499008774757385],\"Jamie Kennedy\":[-1.2748907804489136,-0.6337244510650635],\"Jamie Lee Curtis\":[1.0452988147735596,-0.17602352797985077],\"Jan Jurewicz\":[-0.2128073126077652,-6.409630298614502],\"Jane Lynch\":[2.995497703552246,-1.86553955078125],\"Jann Wenner\":[-1.7558021545410156,-1.5746906995773315],\"Jared Jussim\":[-1.6144390106201172,-1.6357043981552124],\"Jarrad Paul\":[1.5917493104934692,-0.3751196265220642],\"Jason Alexander\":[2.946598768234253,3.242954969406128],\"Jason Barry\":[-1.4440062046051025,0.5563417077064514],\"Jason Bernard\":[1.466731309890747,-0.23350077867507935],\"Jason Isaacs\":[0.19775418937206268,0.7345959544181824],\"Jason R. Lone Hill\":[0.7875028848648071,-2.6184377670288086],\"Jason Rainwater\":[-2.560667037963867,0.8354906439781189],\"Jay Mohr\":[-1.6977483034133911,-1.8620394468307495],\"Jay Robinson\":[0.2998093068599701,-1.118241310119629],\"Jaye P. Morgan\":[-3.570326566696167,0.23241494596004486],\"Jayne Brook\":[2.9590020179748535,-0.0039997706189751625],\"Jean Reno\":[0.858347475528717,2.5251224040985107],\"Jean Stapleton\":[0.07376081496477127,1.229114294052124],\"Jeanne Tripplehorn\":[0.34189674258232117,-1.8214412927627563],\"Jedidiah Cohen\":[-3.449986219406128,0.5623233318328857],\"Jeff Daniels\":[1.6055911779403687,-0.5696532130241394],\"Jeff Doucette\":[-0.31321921944618225,1.7413910627365112],\"Jeff Garlin\":[-4.532528877258301,-1.5971280336380005],\"Jeff Goldblum\":[1.3232426643371582,-1.207160234451294],\"Jeffrey Scaperrotta\":[-0.5155103206634521,0.6109142899513245],\"Jeffrey Tambor\":[1.6324964761734009,1.7426811456680298],\"Jeffrey Wiseman\":[-3.749598264694214,0.7724608182907104],\"Jeffrey Zubernis\":[0.49743226170539856,1.7538247108459473],\"Jenifer Lewis\":[-1.4299393892288208,1.9360355138778687],\"Jenna Elfman\":[-0.41323602199554443,1.82162606716156],\"Jennifer Tilly\":[3.1392269134521484,0.44056686758995056],\"Jeremy Davies\":[-0.1261630803346634,0.251381516456604],\"Jeremy Irons\":[0.6664348244667053,1.2702006101608276],\"Jeremy Roberts\":[2.736543893814087,1.0336887836456299],\"Jeremy Suarez\":[-1.5463227033615112,-1.5958530902862549],\"Jeroen Krabb\\u00e9\":[3.372495412826538,-1.7020251750946045],\"Jerry Cantrell\":[-1.6930229663848877,-1.6845320463180542],\"Jerry Hardin\":[-0.37274786829948425,-1.7898534536361694],\"Jerry O'Connell\":[-1.7681231498718262,-1.8092551231384277],\"Jerry Springer\":[-4.482131481170654,-1.6609909534454346],\"Jerry Weintraub\":[-0.328109472990036,-1.796570897102356],\"Jerry Ziesmer\":[-1.4863932132720947,-1.6331719160079956],\"Jerzy Nowak\":[-0.4638530910015106,-6.366964817047119],\"Jesse James (actor)|Jesse James\":[-1.3058418035507202,-0.38581228256225586],\"Jessica Steen\":[0.15972445905208588,0.6752429008483887],\"Jet Li\":[-2.227033853530884,1.0802001953125],\"Jill Baker\":[0.718900740146637,-0.06666626781225204],\"Jim Beaver\":[-1.3831449747085571,2.0479393005371094],\"Jim Carrey\":[2.008307456970215,0.16756406426429749],\"Jim Carter (actor)|Jim Carter\":[0.33990558981895447,0.027082789689302444],\"Jim Dean\":[-0.34707748889923096,1.6894376277923584],\"Jim Doughan\":[2.693718433380127,0.9318167567253113],\"Jim Ishida\":[0.09483896940946579,0.7167098522186279],\"Jim Wilson (producer)|Jim Wilson\":[0.78838711977005,-2.6900057792663574],\"Jimmie Walker\":[-3.4144794940948486,0.41481995582580566],\"Jimmy Flynn\":[-0.3455519676208496,0.7222191095352173],\"Jimmy Herman\":[0.604023277759552,-2.662813186645508],\"Joan Allen\":[-1.2011134624481201,3.1491971015930176],\"Jocelyn Blue\":[-1.3441123962402344,-2.8029212951660156],\"Joe Baker\":[2.2520759105682373,-0.13737376034259796],\"Joe Don Baker\":[-1.9524627923965454,-0.9182248711585999],\"Joe Grifasi\":[2.4368975162506104,-0.5178252458572388],\"Joe Morton\":[1.8239413499832153,-1.199612021446228],\"Joe Pantoliano\":[1.9564722776412964,-2.011248826980591],\"Joe Pesci\":[-2.901974678039551,0.49773910641670227],\"Joe Roberts\":[0.7089110612869263,-0.0753827914595604],\"Joe Viterelli\":[-0.610374927520752,-2.2882003784179688],\"Joel McKinnon Miller\":[0.9134824872016907,0.306400328874588],\"Joerg Stadler\":[0.1278555542230606,1.8861744403839111],\"Joey Camen\":[-1.3502053022384644,-2.633833646774292],\"Joey Slotnick\":[-0.13074272871017456,-0.45784226059913635],\"John Ales\":[2.8569302558898926,2.4197986125946045],\"John Alexander\":[2.468857765197754,-1.830620527267456],\"John Amos\":[1.2601374387741089,1.8518694639205933],\"John Beal (actor)|John Beal\":[-0.4225204885005951,-1.7420670986175537],\"John C. McGinley\":[0.5401976704597473,-0.35673701763153076],\"John Candy\":[-3.747465133666992,0.597808301448822],\"John Capodice\":[1.440632939338684,-1.2319247722625732],\"John Carroll Lynch\":[-1.4450045824050903,3.388568878173828],\"John David Carson\":[2.8985629081726074,3.1541619300842285],\"John Fleck (actor)|John Fleck\":[0.9195098280906677,-2.222928762435913],\"John Hannah (actor)|John Hannah\":[-0.4043618440628052,4.624199867248535],\"John Hawkes (actor)|John Hawkes\":[2.469517469406128,0.26499804854393005],\"John Heard (actor)|John Heard\":[-3.875953435897827,0.5912231206893921],\"John Inman\":[0.6592764854431152,-0.04477451369166374],\"John Leguizamo\":[-0.5494691133499146,1.3464711904525757],\"John M. Jackson\":[-1.5498210191726685,-1.3711334466934204],\"John Mahon\":[0.07377485185861588,0.7252930402755737],\"John Mighton\":[-0.37218937277793884,0.6585916876792908],\"John Neville (actor)|John Neville\":[1.2278196811676025,0.5041571259498596],\"John Ortiz\":[-1.8498420715332031,1.2656617164611816],\"John Randolph (actor)|John Randolph\":[-0.46228188276290894,0.8057366013526917],\"John Seru\":[-0.88813316822052,-1.0199378728866577],\"John Sharian\":[0.16805793344974518,1.8286049365997314],\"John Toles-Bey\":[0.5643281936645508,-2.1193487644195557],\"John Travolta\":[-0.9763515591621399,2.4528682231903076],\"Johnny Lee Davenport\":[3.4094486236572266,-1.6401209831237793],\"Jon Favreau\":[2.43476939201355,-0.5251386761665344],\"Jon Gries\":[2.2902028560638428,-1.9050801992416382],\"Jonathan Evans-Jones\":[-1.3979477882385254,0.5154727697372437],\"Jonathan Hyde\":[-1.9455959796905518,-0.137666717171669],\"Jonathan Lipnicki\":[-0.8119643330574036,0.05025230720639229],\"Jonathan Phillips (actor)|Jonathan Phillips\":[-1.574924111366272,0.2033839374780655],\"Jonathan Pryce\":[-1.4795230627059937,-0.9029081463813782],\"Jonathan Richman\":[2.714226484298706,2.016784906387329],\"Jonathan Sagall\":[-0.3232167661190033,-6.528385162353516],\"Jordan Lund\":[1.4024115800857544,-1.1123288869857788],\"Joseph Fiennes\":[1.3863729238510132,0.7171292901039124],\"Joseph G. Medalis\":[-1.1610956192016602,2.1116983890533447],\"Joseph Kosala\":[3.1613457202911377,-1.6855891942977905],\"Joseph Maher\":[-0.8689010739326477,2.6511878967285156],\"Joseph Mazzello\":[2.430075168609619,-1.8502262830734253],\"Josh Pais\":[-4.02791690826416,5.227416038513184],\"Joshua Malina\":[-1.5230214595794678,-1.4442356824874878],\"Jos\\u00e9 Mar\\u00eda de Tavira\":[-1.795824646949768,-2.008782386779785],\"Jos\\u00e9 Z\\u00fa\\u00f1iga\":[-1.8724138736724854,1.3283977508544922],\"Judd Hirsch\":[1.149928331375122,-1.3454194068908691],\"Judi Dench\":[-0.30208346247673035,-0.35930511355400085],\"Judith Baldwin\":[2.80035662651062,3.211827039718628],\"Julia Hsu\":[2.334428310394287,0.5187552571296692],\"Julia Roberts\":[2.219301462173462,2.5854697227478027],\"Julian Arahanga\":[1.1128054857254028,-2.3655452728271484],\"Julian Fellowes\":[-1.129102349281311,-0.8964215517044067],\"Julian Rhind-Tutt\":[-1.2665770053863525,-0.9270718097686768],\"Julianne Moore\":[2.4775917530059814,-1.5346401929855347],\"Julie Araskog\":[0.24594075977802277,-0.0808108001947403],\"Julie Benz\":[-1.235398530960083,-0.5325901508331299],\"Julie Kavner\":[-0.3552230894565582,1.8061813116073608],\"Julieta Rosen\":[-1.7373476028442383,-2.0773417949676514],\"June Christopher\":[1.1444224119186401,2.027040719985962],\"June Foray\":[-0.9675026535987854,-2.7357778549194336],\"June Melby\":[-1.0350415706634521,-2.8279998302459717],\"Justin Cooper (actor)|Justin Cooper\":[3.030425786972046,0.4706731140613556],\"Karen Duffy\":[2.373188018798828,-0.3061436116695404],\"Karina Lombard\":[-0.31889858841896057,-1.7358434200286865],\"Kate Rutter\":[2.7288835048675537,0.0017763701034709811],\"Kate Williamson\":[-0.6270160675048828,-2.1836960315704346],\"Kate Winslet\":[-1.6808167695999146,0.3657713234424591],\"Kath Soucie\":[-1.2284166812896729,-2.7362868785858154],\"Kathleen Byron\":[-0.06481628865003586,1.8456958532333374],\"Kathryn Meisle\":[-0.5492804050445557,0.814042329788208],\"Kathy Bates\":[-1.6751551628112793,0.3647633492946625],\"Kathy Najimy\":[-1.0232042074203491,2.640742301940918],\"Katie Sagona\":[-0.5603437423706055,0.7837076187133789],\"Keanu Reeves\":[0.970604419708252,-1.4449479579925537],\"Keith David\":[1.1342436075210571,1.054673194885254],\"Kelly Coffield Park|Kelly Coffield\":[-1.5837297439575195,-1.719159722328186],\"Kelly Preston\":[-1.6241652965545654,-1.868264079093933],\"Ken Campbell\":[0.03715231269598007,0.784303605556488],\"Ken Leung\":[2.486280679702759,0.3426204025745392],\"Kenn Troum\":[-3.8436739444732666,5.494900703430176],\"Kenneth Hudson Campbell\":[-3.793480396270752,0.7262145280838013],\"Kent Faulcon\":[2.2623069286346436,-1.7882455587387085],\"Kerrigan Mahan\":[-0.4863448143005371,1.605460524559021],\"Kevin Bacon\":[-1.6909215450286865,-1.420904517173767],\"Kevin Carlson\":[-0.35290390253067017,1.6065586805343628],\"Kevin Chamberlin\":[0.624611496925354,1.7541279792785645],\"Kevin Clash\":[-3.72472882270813,5.35221004486084],\"Kevin Costner\":[0.41413187980651855,-1.941054344177246],\"Kevin Dunn\":[1.1518882513046265,3.1263654232025146],\"Kevin O'Morrison\":[0.5290651917457581,0.6141579151153564],\"Kevin Pollak\":[-1.8172894716262817,-1.4205697774887085],\"Kevin Spacey\":[-0.17200890183448792,0.5228677988052368],\"Khandi Alexander\":[2.7903356552124023,1.9257856607437134],\"Kiefer Sutherland\":[-1.6801496744155884,-1.3932522535324097],\"Kieran Culkin\":[-3.450140953063965,0.5629895329475403],\"Kim Chan\":[-2.182332754135132,1.0691531896591187],\"Kim Coates\":[1.0175751447677612,-2.1707606315612793],\"Kirk Baltz\":[0.7258400917053223,-2.670783758163452],\"Kirsten Dunst\":[-1.6811094284057617,-0.34249716997146606],\"Kirsten Nelson\":[3.0735435485839844,-1.7407578229904175],\"Krista Allen\":[1.5690165758132935,-0.1371198147535324],\"Kristen Johnston\":[-5.0164079666137695,-1.6969273090362549],\"Kristin Minter\":[-3.707719087600708,0.7070909142494202],\"Kristin Scott Thomas\":[-0.47598230838775635,3.9896955490112305],\"Kurt Carley\":[1.0971393585205078,3.272034168243408],\"L. Q. Jones\":[-2.4702398777008057,-2.1929261684417725],\"L. Scott Caldwell\":[3.361206531524658,-1.865149974822998],\"Larry A. Lee\":[2.418388605117798,-0.6461763381958008],\"Larry Bird\":[-1.5437383651733398,-2.5682883262634277],\"Larry Bryggman\":[0.780767560005188,1.617356538772583],\"Larry Hankin\":[-3.650094985961914,0.7125526070594788],\"Larry Johnson (basketball, born 1969)|Larry Johnson\":[-1.402479887008667,-2.569187879562378],\"Larry Joshua\":[0.6656925678253174,-2.743398904800415],\"Larry Miller (comedian)|Larry Miller\":[2.4228618144989014,2.830660820007324],\"Laura Linney\":[1.2873294353485107,0.47367942333221436],\"Laura San Giacomo\":[2.7976160049438477,3.311469554901123],\"Lauren Holly\":[2.3973517417907715,-0.24436497688293457],\"Lauren Sinclair\":[-1.5868644714355469,3.2437617778778076],\"Laurence Fishburne\":[1.360342025756836,-2.276932716369629],\"Lawrence Kasdan\":[-1.3893890380859375,-0.5739601254463196],\"Le Clanch\\u00e9 du Rand\":[0.37308862805366516,0.4926339089870453],\"Lea Thompson\":[8.847567558288574,7.3913068771362305],\"Lee Arenberg\":[0.628042459487915,-2.0078039169311523],\"Lee Evans (comedian)|Lee Evans\":[1.583333969116211,0.9688838720321655],\"Leif Tilden\":[-3.9267146587371826,5.162468910217285],\"Leigh Zimmerman\":[-3.5087826251983643,0.31601759791374207],\"Leilani Sarelle\":[1.3260488510131836,-2.511683464050293],\"Leland Orser\":[0.2258901745080948,0.8962864279747009],\"Lenny Clarke\":[2.571131944656372,2.0474653244018555],\"Leonardo DiCaprio\":[-1.6642017364501953,0.3596300780773163],\"Lesley Sharp\":[2.802372694015503,0.012453686445951462],\"Leslie Stefanson\":[-1.1803534030914307,-0.5999061465263367],\"Lester Holt\":[2.980992317199707,-1.9512823820114136],\"Lew Palter\":[-1.469482421875,0.4823908805847168],\"Liam Halligan\":[0.40052053332328796,-1.631811261177063],\"Liam Neeson\":[-0.2157062292098999,-6.0033135414123535],\"Liam Tuohy (actor)|Liam Tuohy\":[-1.5475211143493652,0.47055986523628235],\"Liev Schreiber\":[-1.6431268453598022,1.306504249572754],\"Lili Taylor\":[-1.66843581199646,1.3215221166610718],\"Lin Shaye\":[2.1758689880371094,0.7823895215988159],\"Linda Fiorentino\":[1.9933973550796509,-1.451723575592041],\"Linda Hamilton\":[2.9337098598480225,-1.2725780010223389],\"Linda Hunt\":[2.501194715499878,0.21102505922317505],\"Lisa Jakub\":[0.2314138263463974,-0.814173698425293],\"Little Caesar (singer)|Harry Caesar\":[-1.5297657251358032,-1.4116100072860718],\"Liv Tyler\":[0.31296852231025696,0.6718886494636536],\"Lois Smith\":[-0.1158139780163765,-0.5021730065345764],\"Lois de Banzie\":[-1.2933179140090942,1.9341546297073364],\"Lorry Goldman\":[0.9199119806289673,3.154599189758301],\"Lucy Liu\":[-1.6344413757324219,-1.686468482017517],\"Ludger Pistor\":[-0.10056402534246445,-6.3230299949646],\"Luke Ford\":[-4.748533725738525,2.503114700317383],\"Luke Perry\":[1.173006534576416,0.5154910683631897],\"Lupe Ontiveros\":[-1.212821364402771,-0.6519996523857117],\"Lycia Naff\":[2.417980432510376,-1.287838101387024],\"Lynda Goodfriend\":[2.9729650020599365,3.1463682651519775],\"M. Emmet Walsh\":[2.730698347091675,2.377000570297241],\"M. Night Shyamalan\":[0.5408861041069031,1.8223634958267212],\"Macaulay Culkin\":[-3.22744083404541,0.31666621565818787],\"Mae Whitman\":[1.0836726427078247,-1.1988047361373901],\"Maggie Smith\":[-0.9509933590888977,2.0211613178253174],\"Mak Wilson\":[-1.248610496520996,2.471151113510132],\"Malcolm Danare\":[1.103962779045105,3.1824474334716797],\"Manner Washington\":[-1.1581885814666748,-2.7636916637420654],\"Mara Wilson\":[-1.0600372552871704,-0.21664288640022278],\"Marc Alaimo\":[2.336381673812866,-1.2441459894180298],\"Marcus Chong\":[1.2510600090026855,-2.4534239768981934],\"Margaret Cho\":[-1.551184058189392,3.1838340759277344],\"Margaret Colin\":[1.1945197582244873,-1.2534568309783936],\"Margaret Medina\":[1.5340293645858765,-1.27094304561615],\"Margo Martindale\":[-0.3571071922779083,-2.623948097229004],\"Maria Bello\":[-4.509018898010254,2.4100494384765625],\"Maria Grazia Cucinotta\":[-0.972922682762146,-0.9541888236999512],\"Maria Pitillo\":[1.232084035873413,3.1158502101898193],\"Maria de Medeiros\":[-0.5807811617851257,2.0339624881744385],\"Marianne Muellerleile\":[1.5074559450149536,-0.3277156352996826],\"Mark Addy\":[2.778754234313965,0.23920315504074097],\"Mark Boone Junior\":[0.21139751374721527,0.020616600289940834],\"Mark Ivanir\":[-0.4612334072589874,-6.408524990081787],\"Mark Lindsay Chapman\":[-1.4908725023269653,0.2601082921028137],\"Mark Pellegrino\":[-2.568470001220703,0.9596012234687805],\"Mark Rolston\":[2.429192304611206,0.21121209859848022],\"Mark Setrakian\":[2.454005241394043,-1.6460953950881958],\"Mark Williams (actor)|Mark Williams\":[0.6585766673088074,-0.03982095047831535],\"Markie Post\":[2.6275031566619873,2.0076944828033447],\"Marshall Bell\":[2.2967753410339355,-1.131334662437439],\"Marshall Manesh\":[0.8313761353492737,-0.28445670008659363],\"Marshall Teague (actor)|Marshall Teague\":[0.21349801123142242,0.8049904108047485],\"Martin Clunes\":[0.35056477785110474,-0.04709339141845703],\"Martin East\":[-1.4764822721481323,0.47599244117736816],\"Martin Jarvis (actor)|Martin Jarvis\":[-1.4549616575241089,0.2176007628440857],\"Martin Mull\":[-1.1743730306625366,-0.16781523823738098],\"Martin P. Robinson\":[-3.7184622287750244,5.520442485809326],\"Martyn Lewis\":[-0.9457817673683167,-1.0768922567367554],\"Mary Elizabeth Mastrantonio\":[0.22766686975955963,-1.663360834121704],\"Mary Ellen Trainor\":[-2.056436538696289,1.4840458631515503],\"Mary McDonnell\":[0.8159065246582031,-1.8503926992416382],\"Mary Steenburgen\":[9.487041473388672,7.932840824127197],\"Mary Wickes\":[-1.189310908317566,2.227761745452881],\"Mar\\u00eda\":[-1.629845380783081,-2.132791757583618],\"Matt Clark (actor)|Matt Clark\":[9.964235305786133,8.179973602294922],\"Matt Craven\":[-1.8997942209243774,-1.456544041633606],\"Matt Damon\":[-0.14584971964359283,1.386288046836853],\"Matt Dillon\":[2.3244903087615967,1.621933937072754],\"Matt Doherty (actor)|Matt Doherty\":[-3.8563363552093506,0.5067551136016846],\"Matt Doran\":[1.2548233270645142,-2.3722500801086426],\"Matt Letscher\":[-1.718389630317688,-2.0208451747894287],\"Matt Ross (actor)|Matt Ross\":[-1.4505224227905273,3.196906328201294],\"Matthew Broderick\":[0.856985330581665,2.524855852127075],\"Matthew Lawrence\":[-1.2525478601455688,-0.13535617291927338],\"Maura Tierney\":[3.1026999950408936,0.5237650871276855],\"Maureen Elisabeth Shay\":[-3.516052484512329,0.33109456300735474],\"Maurice LaMarche\":[-1.1551769971847534,-2.8222579956054688],\"Maury Chaykin\":[-0.3928048312664032,-1.980912446975708],\"Max\":[2.6330888271331787,1.113670825958252],\"Max Grod\\u00e9nchik\":[-1.2150949239730835,2.1604456901550293],\"Max Martini\":[0.13811849057674408,1.9250423908233643],\"Maya Rudolph\":[-1.1056020259857178,-0.6341773271560669],\"Ma\\u00efwenn Le Besco\":[1.2024165391921997,0.6571805477142334],\"Ma\\u0142gorzata Gebel\":[-0.2625938057899475,-6.500845909118652],\"Meg Ryan\":[-0.09215352684259415,0.6009944677352905],\"Mel Gibson\":[-1.9005234241485596,0.9104732275009155],\"Mel Johnson Jr.\":[2.57039737701416,-1.1448085308074951],\"Mena Suvari\":[-0.9890307784080505,1.2525625228881836],\"Michael C. Maronna\":[-3.6079154014587402,0.3884786367416382],\"Michael Campbell (musician and actor)|Michael Champion\":[2.473127841949463,-1.102715253829956],\"Michael Clarke Duncan\":[0.13437022268772125,0.8068640828132629],\"Michael Conner Humphreys\":[-0.7469267249107361,1.0200062990188599],\"Michael Cristofer\":[0.7108131051063538,1.6038588285446167],\"Michael DeLorenzo\":[-1.797048568725586,-1.40681791305542],\"Michael Douglas\":[0.20694613456726074,-2.206944704055786],\"Michael Durrell\":[-1.1121710538864136,2.059370517730713],\"Michael Edwards (actor)|Michael Edwards\":[3.0605430603027344,-0.8324224948883057],\"Michael Ensign\":[-1.6277745962142944,0.1287277489900589],\"Michael Goldie\":[0.5997703671455383,-1.577117681503296],\"Michael Gough\":[0.8800418972969055,-0.791887640953064],\"Michael Guido\":[-3.61675763130188,0.7772931456565857],\"Michael Horton (actor)|Michael Horton\":[0.7153849005699158,-2.7325704097747803],\"Michael Ironside\":[2.2965424060821533,-1.1934421062469482],\"Michael J. Fox\":[10.0,8.302218437194824],\"Michael Jeter\":[1.0048611164093018,-2.1166765689849854],\"Michael Keaton\":[-0.6274479031562805,-0.7449548244476318],\"Michael Kitchen\":[-1.2796528339385986,-0.8259239792823792],\"Michael Lerner (actor)|Michael Lerner\":[0.9380800724029541,3.2240612506866455],\"Michael Massee\":[0.2477944940328598,-0.09484664350748062],\"Michael McConnohie\":[-4.11488151550293,5.102238655090332],\"Michael Murphy (actor)|Michael Murphy\":[-0.5602045059204102,-1.0184612274169922],\"Michael Reid MacKay\":[0.22792604565620422,-0.051532357931137085],\"Michael Spears\":[0.9710222482681274,-2.6200807094573975],\"Michael Wincott\":[0.6173679232597351,-1.5099276304244995],\"Michaela Bercu\":[0.28722062706947327,-1.1186860799789429],\"Michelan Sisti\":[-4.122541427612305,5.188776969909668],\"Michele Lamar Richards\":[0.09585413336753845,-2.6915621757507324],\"Michelle Pfeiffer\":[-0.2627319097518921,-0.7865433692932129],\"Michelle Yeoh\":[-1.4810822010040283,-0.910222053527832],\"Mickey Jones\":[2.354043960571289,-1.0808684825897217],\"Mike McShane|Michael McShane\":[0.6431412696838379,-1.7055915594100952],\"Mike Myers\":[-4.113409996032715,-1.4798680543899536],\"Mike Nussbaum\":[2.409478187561035,-1.8503881692886353],\"Mike Starr (actor)|Mike Starr\":[1.0281968116760254,-1.0951889753341675],\"Miko Hughes\":[2.998659372329712,-0.25001806020736694],\"Milla Jovovich\":[1.2347065210342407,0.6164523363113403],\"Minnie Driver\":[-0.45484769344329834,0.7005341649055481],\"Miri Fabian\":[-0.29854294657707214,-6.364102840423584],\"Mischa Barton\":[0.4280546009540558,1.8725680112838745],\"Missi Pyle\":[-1.3494548797607422,-0.6070159077644348],\"Mitchell Ryan\":[1.5543936491012573,-0.1659291833639145],\"Monica Bellucci\":[0.09148730337619781,-0.9554998874664307],\"Monica Devereux\":[-3.431849479675293,0.14884492754936218],\"Montell Jordan\":[1.2491854429244995,2.1233720779418945],\"Morgan Freeman\":[0.4051971435546875,-0.7853274345397949],\"Muggsy Bogues\":[-1.2336175441741943,-2.8449513912200928],\"Murphy\":[2.7827060222625732,2.572249412536621],\"Mykelti Williamson\":[-0.7153096795082092,1.4535081386566162],\"Myles Jeffrey\":[-1.5036356449127197,3.3547630310058594],\"Nancy Cartwright\":[1.2226707935333252,3.187784194946289],\"Nancy Fish\":[2.631683111190796,1.045464277267456],\"Narration\":[0.0076078386045992374,0.7412996292114258],\"Natascha McElhone\":[2.126293182373047,0.7264106869697571],\"Nathan Fillion\":[-0.07370956987142563,1.9533944129943848],\"Nathan Lee Chasing His Horse\":[0.5495058298110962,-2.5688631534576416],\"Natsuko Ohomama\":[1.5179429054260254,-1.1780258417129517],\"Ned Luke\":[1.2609646320343018,2.14339280128479],\"Neil Flynn\":[3.085892677307129,-1.8567503690719604],\"Neil Giuntoli\":[0.7129488587379456,-2.0388340950012207],\"Neisha Folkes-LeMelle\":[1.494983196258545,-1.1609077453613281],\"Nerdluck Nawt, the\":[-1.1596981287002563,-2.6574082374572754],\"Nicholas Le Prevost\":[0.7237451672554016,0.017501750960946083],\"Nicholas Sadler\":[-0.6462650895118713,-2.0626590251922607],\"Nick Brimble\":[0.5376995801925659,-1.5334147214889526],\"Nick Cassavetes\":[-1.2321803569793701,3.381833553314209],\"Nick Chinlund\":[-2.576146364212036,0.8845686316490173],\"Nick Searcy\":[3.182987928390503,-1.6200969219207764],\"Nick Wyman\":[0.6656018495559692,1.6803830862045288],\"Nicolas Cage\":[-1.3587236404418945,3.340186595916748],\"Nicole Kidman\":[2.0089476108551025,-0.608660876750946],\"Nils Allen Stewart\":[2.614032506942749,0.9354249835014343],\"Nina Young\":[-1.1083111763000488,-0.9629455208778381],\"Noah Emmerich\":[2.03994083404541,0.7130768299102783],\"Noah Wyle\":[-1.7962698936462402,-1.3707362413406372],\"Norbert Weisser\":[-0.11444008350372314,-6.4091315269470215],\"Norm MacDonald\":[0.5990489721298218,2.1460225582122803],\"Odette Yustman\":[3.0507380962371826,-0.2167910933494568],\"Ofer Samra\":[1.4288674592971802,-0.4263812005519867],\"Oliver Muirhead\":[-4.540428638458252,-1.6360162496566772],\"Oliver Platt\":[-1.275882601737976,-0.008863571099936962],\"Olivia Williams\":[0.7347353100776672,2.017446517944336],\"Oliwia D\\u0105browska\":[-0.19527667760849,-6.338560104370117],\"Orestes Matacena\":[2.6977386474609375,1.0810266733169556],\"Ossie Davis\":[1.122208595275879,1.9549504518508911],\"Otakuye Conroy\":[0.8112674355506897,-2.5509514808654785],\"Owen Wilson\":[0.13200466334819794,0.8080189228057861],\"Pamela Holt\":[-1.690079689025879,-0.5757035613059998],\"Pamela Reed\":[3.1539313793182373,-0.5730717778205872],\"Park Overall\":[2.956739902496338,-0.1677977740764618],\"Parker Posey\":[-0.2553651034832001,0.8874016404151917],\"Pat Crawford Brown\":[-0.9871819615364075,2.181943655014038],\"Pat Hingle\":[0.8824352025985718,-0.7921184301376343],\"Patrick Barlow\":[0.6590385437011719,0.016156252473592758],\"Patrick Breen\":[2.517425537109375,-1.677817463874817],\"Patrick Ewing\":[-1.275235891342163,-2.8025460243225098],\"Patrick Fischler\":[0.49959510564804077,-0.742243766784668],\"Patrick Malahide\":[-0.9309496283531189,-0.8575322031974792],\"Patrick Swayze\":[-1.0800412893295288,-0.04311908408999443],\"Paul Barber (actor)|Paul Barber\":[2.760216474533081,-0.10295618325471878],\"Paul Bigley\":[0.7280649542808533,-0.012751217000186443],\"Paul Brightwell\":[-1.5548300743103027,0.15519213676452637],\"Paul Butterworth\":[2.8292016983032227,-0.17326675355434418],\"Paul Calderon\":[-0.37511977553367615,-1.768110752105713],\"Paul Giamatti\":[0.19160446524620056,1.4329493045806885],\"Paul Goddard (actor)|Paul Goddard\":[1.514087200164795,-2.2606468200683594],\"Paul Guilfoyle\":[-1.8253172636032104,1.3603754043579102],\"Paul Reubens\":[-0.46664300560951233,0.2726391851902008],\"Paul Sorvino\":[-0.643226146697998,-2.326049566268921],\"Pedro Armend\\u00e1riz, Jr.\":[-1.8407461643218994,-2.090707540512085],\"Penelope Ann Miller\":[3.169951915740967,-0.4912412464618683],\"Penny Bae Bridges\":[-1.4745489358901978,-2.5309243202209473],\"Pete Postlethwaite\":[1.8515172004699707,-1.2429320812225342],\"Peter Dobson\":[-0.62848299741745,1.0806117057800293],\"Peter Gallagher\":[-1.0773420333862305,1.3493015766143799],\"Peter Greene\":[3.0775468349456787,0.607005774974823],\"Peter Krause\":[0.9152040481567383,0.3076975345611572],\"Peter Riegert\":[2.995523691177368,0.6239795684814453],\"Peter Stormare\":[0.9509475231170654,-0.28869929909706116],\"Peter Tambakis\":[0.4912296533584595,1.6091036796569824],\"Phil Leeds\":[-1.3081796169281006,0.09240388870239258],\"Philip Baker Hall\":[2.3465118408203125,0.3794662058353424],\"Philip Bosco\":[2.6749069690704346,2.3902857303619385],\"Philip Proctor\":[-0.371855765581131,1.5146064758300781],\"Philip Seymour Hoffman\":[0.056002989411354065,-0.4919729232788086],\"Phyllis Katz\":[-0.3698996901512146,1.7916412353515625],\"Pierce Brosnan\":[-1.2802536487579346,-0.7244032025337219],\"Piotr Polk\":[-0.013906411826610565,-6.459696292877197],\"Polly Holliday\":[-1.105634093284607,-0.11472292244434357],\"Prudence Wright Holmes\":[-1.1030323505401611,2.2394375801086426],\"Pruitt Taylor Vince\":[0.7478622794151306,1.9623193740844727],\"R. D. Call\":[1.1025667190551758,-2.0854737758636475],\"R. Lee Ermey\":[0.2851792275905609,0.038770370185375214],\"Rachel Griffiths\":[1.7267380952835083,2.1178903579711914],\"Rachel Ticotin\":[3.1213266849517822,-0.6454952359199524],\"Rachel Weisz\":[-3.725264549255371,1.9536150693893433],\"Ralph Bellamy\":[2.678471326828003,3.335859537124634],\"Ralph Fiennes\":[-0.21184110641479492,-5.997791290283203],\"Ralph Foody\":[-3.5484931468963623,0.38010501861572266],\"Ralph Manza\":[1.0338611602783203,3.13724946975708],\"Ralph Waite\":[0.10990514606237411,-2.7828786373138428],\"Rami Heuberger\":[-0.21006964147090912,-6.544742107391357],\"Randall \\\"Tex\\\" Cobb\":[0.14726147055625916,-0.646761953830719],\"Randy Quaid\":[0.9025037288665771,-1.1900807619094849],\"Ray Baker (actor)|Ray Baker\":[2.526670455932617,-1.067391276359558],\"Ray Park\":[2.5251433849334717,-1.6160695552825928],\"Ray Toler\":[-3.7014408111572266,0.8081465363502502],\"Reagan Gomez-Preston\":[-1.532002329826355,-1.6615184545516968],\"Rebecca Romijn\":[-4.551837921142578,-1.527245283126831],\"Reg E. Cathey\":[1.0601176023483276,0.4166110157966614],\"Regina King\":[-1.4606537818908691,-1.2483024597167969],\"Reiko Aylesworth\":[-0.5006102919578552,0.7510298490524292],\"Rene Russo\":[-1.807405948638916,0.8203105330467224],\"Reni Santoni\":[-0.6354036927223206,1.7348062992095947],\"Ren\\u00e9 Auberjonois\":[2.476802110671997,-0.5915359854698181],\"Ren\\u00e9e Zellweger\":[-1.4631257057189941,-1.2953150272369385],\"Rex Linn\":[2.4310646057128906,0.49274784326553345],\"Richard Attenborough\":[1.8135377168655396,-1.0782287120819092],\"Richard E. Grant\":[0.21972575783729553,-1.0813159942626953],\"Richard Gant\":[1.0200777053833008,3.2830958366394043],\"Richard Gere\":[2.596639633178711,2.9937336444854736],\"Richard Hamilton (actor)|Richard Hamilton\":[2.2446346282958984,-1.8592677116394043],\"Richard Jeni\":[2.9836878776550293,0.6951388120651245],\"Richard Jenkins\":[2.839550495147705,2.088076114654541],\"Richard Libertini\":[-2.2091946601867676,1.0743879079818726],\"Richard Lineback\":[0.49562326073646545,-0.7308570146560669],\"Richard Portnow\":[0.5547383427619934,0.9554259777069092],\"Richard Riehle\":[3.0256619453430176,-1.7987780570983887],\"Richard Roundtree\":[0.1732868254184723,-0.12081487476825714],\"Richard Russell Ramos\":[0.6732866764068604,1.6065726280212402],\"Richard Schiff\":[1.082871913909912,-0.4828929305076599],\"Richard Tyson\":[2.4265942573547363,0.8535180687904358],\"Rick Aviles\":[-0.31927868723869324,-0.6694679260253906],\"Rick Johnson (gridiron football)|Rick Johnson\":[-1.7334078550338745,-1.6263530254364014],\"Rick Zumwalt\":[-0.6061763167381287,-0.9872072339057922],\"Rickey Boyd\":[-4.0036749839782715,5.074793338775635],\"Ricky Jay\":[-1.1338251829147339,-0.7887359261512756],\"Rip Taylor\":[-2.302377462387085,-0.12465731054544449],\"Rip Torn\":[2.4990313053131104,-1.7824310064315796],\"Rita Wilson\":[0.6530441641807556,0.3479469120502472],\"Rob Lowe\":[-4.029911518096924,-1.4270888566970825],\"Rob Moran\":[2.7624850273132324,1.978425145149231],\"Rob Reiner\":[0.49185898900032043,0.49817028641700745],\"Rob Schneider\":[-3.2436673641204834,0.18055878579616547],\"Robbie Coltrane\":[-2.008732557296753,-0.9549559354782104],\"Robbie Rist\":[-3.868541955947876,5.36288595199585],\"Robert A. Silverman\":[0.7516337037086487,-1.9802054166793823],\"Robert Carlyle\":[-2.1267144680023193,-1.1390503644943237],\"Robert Costanzo\":[1.4219480752944946,-0.16034792363643646],\"Robert Joy\":[0.939797043800354,-2.1288211345672607],\"Robert LaSardo\":[0.5376774072647095,-2.0813255310058594],\"Robert Loggia\":[1.027989149093628,-1.3034226894378662],\"Robert Miranda (actor)|Robert Miranda\":[-1.132996916770935,2.1786065101623535],\"Robert Pastorelli\":[0.6822488307952881,-2.5432307720184326],\"Robert Picardo\":[2.514207601547241,-1.1607732772827148],\"Robert Prosky\":[-1.156105399131775,-0.17968609929084778],\"Robert Redford\":[-1.7930608987808228,-0.47274571657180786],\"Robert Taylor (Australian actor)|Robert Taylor\":[1.1041030883789062,-2.3652358055114746],\"Robert Tygner\":[-4.116222858428955,5.017145156860352],\"Robert Wisdom\":[-1.310962438583374,3.4744999408721924],\"Roberts Blossom\":[-3.8398964405059814,0.3382519483566284],\"Robin Williams\":[-0.7072033882141113,0.04538377374410629],\"Robin Wright\":[-0.3683483898639679,0.921410858631134],\"Rochelle Rose\":[-1.635270595550537,0.2071746289730072],\"Rod Sell\":[-3.5412344932556152,0.19737684726715088],\"Rodney A. Grant\":[0.7793094515800476,-2.747119426727295],\"Rodney A. Grant|Rodney Grant\":[0.851958155632019,-2.742995262145996],\"Rolf Saxon\":[-0.005582084879279137,1.8861207962036133],\"Roma Maffia\":[-0.5999010801315308,-2.127744674682617],\"Romy Walthall\":[-1.1306365728378296,3.384493827819824],\"Ron Canada\":[-3.407993793487549,0.41944238543510437],\"Ron Dean\":[3.119823932647705,-1.8027009963989258],\"Ronny Cox\":[2.431292772293091,-1.0594534873962402],\"Rosalind Ayres\":[-1.547186017036438,0.42119523882865906],\"Rosanna Arquette\":[-0.6210889220237732,2.0107152462005615],\"Rose Parenti\":[-1.2672394514083862,2.2029154300689697],\"Rosemary Dunsmore\":[2.5563855171203613,-1.2291250228881836],\"Rosemary Forsyth\":[-0.6990757584571838,-2.213733434677124],\"Rosie O'Donnell\":[0.3105308413505554,0.402771532535553],\"Ross Bagley\":[1.1381064653396606,-1.2508771419525146],\"Ross Malinger\":[0.42103204131126404,0.4572325050830841],\"Rowan Atkinson\":[-0.7316875457763672,4.5355544090271],\"Roy Brocksmith\":[2.384591817855835,-1.1419919729232788],\"Roy Firestone\":[-1.6829906702041626,-1.6404826641082764],\"Royce D. Applegate|Royce Applegate\":[-0.37652257084846497,1.8998363018035889],\"Rupert Everett\":[1.1139410734176636,0.815204381942749],\"Rupert Vansittart\":[-0.5064592361450195,4.590485572814941],\"Rusty Schwimmer\":[-0.20932181179523468,-0.4826311469078064],\"Ruth Kobart\":[-0.9303320646286011,2.1966605186462402],\"Ryan Hurst\":[0.20024867355823517,1.8890409469604492],\"S W Fisher\":[1.4712082147598267,-0.011843446642160416],\"Sadie Frost\":[0.2744446098804474,-1.036296010017395],\"Sally Field\":[-0.5652044415473938,0.30222347378730774],\"Sam Anderson\":[-0.5427745580673218,1.069795846939087],\"Sam Phillips (musician)|Sam Phillips\":[0.632940411567688,1.7840014696121216],\"Sam Robards\":[-0.9403418302536011,1.3376363515853882],\"Sam Rockwell\":[-3.4193568229675293,4.709694862365723],\"Samantha Bond\":[-1.947972297668457,-1.0758780241012573],\"Samuel L. Jackson\":[0.0001119615844800137,1.405392050743103],\"Sandra Bullock\":[1.2062551975250244,-1.0180996656417847],\"Sandra Reinton\":[0.7244247198104858,-0.015419362112879753],\"Sandy Martin\":[1.455189824104309,-1.3881924152374268],\"Sara Crowe\":[-0.8070715069770813,4.585538864135742],\"Sara Ramirez\":[-0.5940778255462646,0.846575140953064],\"Sarah Rose Karr\":[3.0316927433013916,-0.08510027080774307],\"Sarah Silverman\":[2.670372247695923,1.9563053846359253],\"Sasha Rionda\":[2.5028176307678223,-1.2836359739303589],\"Scott Bakula\":[-0.8252125382423401,1.371023416519165],\"Scott Capurro\":[-1.241460919380188,-0.09935954213142395],\"Scott G. Anderson\":[-1.4289939403533936,0.42738085985183716],\"Scott Thomson (actor)|Scott Thomson\":[-0.15721985697746277,-0.3843802809715271],\"Scott William Winters\":[-0.9290493726730347,0.6462047100067139],\"Sean Bean\":[-1.7098058462142944,-0.8407159447669983],\"Sean Connery\":[0.4606834053993225,-1.5377936363220215],\"Sean Cronin (actor)|Sean Cronin\":[-0.9020188450813293,-0.917677640914917],\"Sean Whalen\":[0.7566187381744385,-1.0059945583343506],\"Sela Ward\":[3.3180460929870605,-1.9284371137619019],\"Senta Moses\":[-3.5089643001556396,0.5103858709335327],\"Serena Gordon\":[-2.1793386936187744,-0.9871809482574463],\"Serena Scott Thomas\":[-0.9724160432815552,-1.0269650220870972],\"Sergio Calder\\u00f3n\":[2.5064141750335693,-1.7288888692855835],\"Seth Green\":[-4.044078826904297,-1.4305938482284546],\"Seymour Cassel\":[-2.257492780685425,-1.0805323123931885],\"Shane Black\":[-1.3563820123672485,-0.5225635766983032],\"Sharon Stone\":[1.6554303169250488,-1.5119709968566895],\"Shawn Bradley\":[-1.028184175491333,-2.756009101867676],\"Sheena Easton\":[-1.7055931091308594,-0.5689716339111328],\"Sheila McCarthy\":[1.2571438550949097,1.7434406280517578],\"Sheri Izzard\":[-1.4426707029342651,2.0695078372955322],\"Shirley Knight\":[-1.2497390508651733,-0.5420969128608704],\"Simon Callow\":[-0.006753274705260992,1.6387187242507935],\"Simon Crane\":[-1.5254924297332764,0.39033856987953186],\"Siobhan Fallon Hogan\":[0.6364826560020447,-0.056581076234579086],\"Skeet Ulrich\":[-1.2869594097137451,-0.58922278881073],\"Sniffles (Merrie Melodies)|Sniffles\":[-1.4119739532470703,-2.7439494132995605],\"Sonny Shroyer\":[-0.5910215377807617,1.0293934345245361],\"Soo Drouet\":[0.6694349646568298,-1.5746666193008423],\"Sophie Marceau\":[-1.3668103218078613,-0.9983164072036743],\"Sophie Thompson\":[-0.6994605660438538,4.659385681152344],\"Stanley Anderson\":[0.14863047003746033,0.6116288304328918],\"Stellan Skarsg\\u00e5rd\":[-0.46604418754577637,0.6990557909011841],\"Stephen James Carver\":[1.4635556936264038,-0.08108516037464142],\"Stephen Pearlman\":[0.7547473907470703,1.679328441619873],\"Stephen Root\":[-1.3967251777648926,0.05496856942772865],\"Stephen Tobolowsky\":[1.265812873840332,-2.182562828063965],\"Steve Buscemi\":[0.1253039389848709,0.8104082942008972],\"Steve Huison\":[2.767612934112549,-0.23534585535526276],\"Steve Kahan\":[-2.081228494644165,1.4239330291748047],\"Steve Kehela\":[-1.2161507606506348,-2.613621711730957],\"Steve Sweeney\":[2.7164788246154785,1.9023281335830688],\"Steve Wilkos\":[-4.542904853820801,-1.5165352821350098],\"Steve Zahn\":[0.2710704207420349,1.1745961904525757],\"Steven Gilborn\":[1.0798248052597046,2.1511943340301514],\"Steven Hill\":[-0.2970406115055084,-1.8004802465438843],\"Stuart Wilson (actor)|Stuart Wilson\":[-1.936116099357605,-0.375531405210495],\"St\\u00e9phane Cornicard\":[0.011637803167104721,1.8910318613052368],\"Sullivan Walker\":[-0.4448307156562805,-1.724608302116394],\"Susan Browning\":[-1.0645276308059692,2.1656253337860107],\"Susan Johnson (actor)|Susan Johnson\":[-1.322691798210144,2.152564287185669],\"Susan Sullivan\":[2.395663022994995,2.386108636856079],\"Susannah Corbett\":[0.5989403128623962,-1.6601319313049316],\"Suzie Plakson\":[-0.767481803894043,-2.1453962326049805],\"Suzy Amis Cameron|Suzy Amis\":[-1.6604679822921753,0.18893109261989594],\"Swoosie Kurtz\":[3.0946524143218994,0.3891843557357788],\"T. K. Carter\":[-0.9496940970420837,-2.800360679626465],\"Tantoo Cardinal\":[0.8724063038825989,-2.5631062984466553],\"Tch\\u00e9ky Karyo\":[-2.183166742324829,-0.895585298538208],\"Ted Danson\":[-0.11570169031620026,1.9959362745285034],\"Teri Garr\":[2.2209017276763916,0.1881072074174881],\"Teri Hatcher\":[-2.026235818862915,-1.0769835710525513],\"Terrie Snell\":[-3.5178956985473633,0.5158429145812988],\"Terry Forrestal\":[-1.4086887836456299,0.34333330392837524],\"Terry Kinney\":[-0.3614790737628937,-1.661080002784729],\"Theo Greenly\":[-1.5211657285690308,-1.7448315620422363],\"Thom Barry\":[-1.3306918144226074,-2.7203495502471924],\"Thomas F. Duffy\":[2.0873589515686035,-1.4722490310668945],\"Thomas F. Wilson\":[9.800814628601074,8.381403923034668],\"Thomas Jane\":[-1.4318174123764038,3.2867987155914307],\"Thomas Mills Wood|Tom Wood\":[4.0069899559021,-2.4267053604125977],\"Thomas Rosales Jr.\":[1.4088051319122314,-1.1722685098648071],\"Thora Birch\":[-1.0107686519622803,1.3906575441360474],\"Tia Carrere\":[0.9045314192771912,-0.08530151098966599],\"Tim Blaney\":[2.3159968852996826,-1.8412814140319824],\"Tim Curry\":[-3.083954095840454,0.20807717740535736],\"Tim Robbins\":[-3.903968334197998,-1.337623953819275],\"Tim Roth\":[-0.5605774521827698,1.3827680349349976],\"Timothy Walker (actor)|Timothy Walker\":[-0.6177729964256287,4.560239315032959],\"Tina Majorino\":[0.8664703965187073,-2.1952693462371826],\"Tobin Bell\":[-0.40022119879722595,-1.6859567165374756],\"Toby Huss\":[-1.645537257194519,-1.5751646757125854],\"Todd Field\":[-0.07734489440917969,-0.4137452244758606],\"Todd Louiso\":[-1.7390004396438599,-1.5153921842575073],\"Tom Arnold (actor)|Tom Arnold\":[1.9207121133804321,-0.14472666382789612],\"Tom Bower (actor)|Tom Bower\":[1.014103651046753,2.1180996894836426],\"Tom Cruise\":[-1.0823317766189575,-1.5172436237335205],\"Tom Everett\":[0.8644446134567261,-2.6632721424102783],\"Tom Gallop\":[-1.446863055229187,-1.574629306793213],\"Tom Hanks\":[-0.10575408488512039,1.1307467222213745],\"Tom Lister Jr.|Tommy \\\"Tiny\\\" Lister Jr.\":[1.1390752792358398,0.599169135093689],\"Tom McGowan\":[-1.1081132888793945,-0.6348713040351868],\"Tom Sizemore\":[-0.24394014477729797,2.0664570331573486],\"Tom Towles\":[-0.43201732635498047,1.6213264465332031],\"Tom Waits\":[0.3235141336917877,-1.1012071371078491],\"Tom Wilkinson\":[1.733099102973938,0.0400753915309906],\"Tomas Arana\":[0.18312476575374603,-2.801056146621704],\"Tommy Bush\":[-1.7154117822647095,-0.4829494059085846],\"Tommy Flanagan (actor)|Tommy Flanagan\":[-1.500892996788025,3.2467806339263916],\"Tommy Lee Jones\":[2.3898792266845703,-1.267103672027588],\"Toni Collette\":[0.250419557094574,1.653768539428711],\"Toni Kalem\":[-1.0286182165145874,2.2379021644592285],\"Tony Amendola\":[-1.7687430381774902,-2.0869529247283936],\"Tony Goldwyn\":[-1.395870327949524,0.056216467171907425],\"Tony Jay\":[-3.7465856075286865,-1.3966623544692993],\"Tony Pierce\":[0.7392128109931946,-2.568887948989868],\"Tony Shalhoub\":[2.3454596996307373,-1.6662840843200684],\"Traci Wolfe\":[-2.042888641357422,1.5080389976501465],\"Trevor Morgan (actor)|Trevor Morgan\":[0.4933510422706604,1.8863575458526611],\"Tricky (musician)|Tricky\":[1.2574676275253296,0.5555034279823303],\"Tzi Ma\":[2.726396083831787,0.7061808705329895],\"Ulrich Thomsen\":[-0.9799005389213562,-0.8109217882156372],\"Uma Thurman\":[-0.547191858291626,1.4055912494659424],\"Val Kilmer\":[2.009035348892212,-0.6089097857475281],\"Vanessa Lee Chester\":[2.0907843112945557,-1.4621700048446655],\"Vicki Lewis\":[1.0188850164413452,3.2065036296844482],\"Victor Garber\":[-0.8569093942642212,0.3515508770942688],\"Victor Rivers\":[-1.7010536193847656,-2.134347915649414],\"Victoria Rowell\":[2.3137505054473877,-0.1754026710987091],\"Vin Diesel\":[0.04316233471035957,1.7667770385742188],\"Vince Vaughn\":[1.8532674312591553,-1.2393912076950073],\"Vincent D'Onofrio\":[2.2576189041137695,-2.079575777053833],\"Vincent Schiavelli\":[-0.9299429655075073,-0.4512239694595337],\"Ving Rhames\":[-0.633071780204773,2.0047383308410645],\"Vinny Dhillon\":[2.7187893390655518,-0.29136109352111816],\"Virginia Smith\":[-3.6385586261749268,0.8364278078079224],\"Vivica A. Fox\":[1.165374517440796,-1.3163710832595825],\"W. Earl Brown\":[2.8053436279296875,1.8270962238311768],\"Walter Sparrow\":[0.26915860176086426,-1.7297685146331787],\"Wayne Grace\":[0.924613356590271,-2.5732228755950928],\"Wayne Knight\":[1.1899917125701904,-2.2232542037963867],\"Wendle Josepher\":[-0.16552101075649261,-0.3731110095977783],\"Wendy Makkena\":[-1.1717294454574585,2.006617546081543],\"Wes Bentley\":[-1.0433763265609741,1.297342300415039],\"Wes Studi\":[0.6195141077041626,-2.5703043937683105],\"Whitney Houston\":[-0.11356299370527267,-2.074489116668701],\"Whoopi Goldberg\":[-1.0789273977279663,1.2237622737884521],\"Wilford Brimley\":[-0.771915078163147,-2.3528075218200684],\"Will Ferrell\":[-4.121424674987793,-1.4214115142822266],\"Will Patton\":[-0.03790862485766411,0.7769047021865845],\"Will Smith\":[1.6239855289459229,-1.4060803651809692],\"William Daniel Mielcarek\":[2.645763635635376,0.9911652207374573],\"William Fichtner\":[0.029141021892428398,0.8732409477233887],\"William Marquez,\":[-1.84005606174469,-1.9691673517227173],\"William Newman (actor)|William Newman\":[-1.1756157875061035,-0.09189842641353607],\"William Preston (actor)|William Preston\":[0.6506221294403076,-2.1165361404418945],\"William Sadler (actor)|William Sadler\":[0.9218116998672485,2.1509389877319336],\"William Snape\":[2.685267448425293,-0.06970604509115219],\"Willie Garson\":[2.6055846214294434,2.096262216567993],\"Willie Nelson\":[-4.6879801750183105,-1.5713250637054443],\"Winnie Holzman\":[-1.405031681060791,-1.6548810005187988],\"Winona Ryder\":[0.21486473083496094,-1.0800062417984009],\"Wolfgang Bodison\":[-1.8369550704956055,-1.507585048675537],\"Wood Harris\":[-1.1690242290496826,-0.5975660681724548],\"Woody Harrelson\":[-2.7011873722076416,-0.8913575410842896],\"Xander Berkeley\":[-1.6972968578338623,-1.3044159412384033],\"Yeardley Smith\":[-1.1617151498794556,-0.522956907749176],\"Zach Grenier\":[-0.14619408547878265,-0.5537128448486328],\"Zakes Mokae\":[0.7223317623138428,-2.0539159774780273],\"Zitto Kazann,\":[0.6282265782356262,-2.0666325092315674]}},\"id\":\"125695\",\"type\":\"StaticLayoutProvider\"},{\"attributes\":{},\"id\":\"125663\",\"type\":\"LinearScale\"},{\"attributes\":{},\"id\":\"127783\",\"type\":\"UnionRenderers\"},{\"attributes\":{\"coordinates\":null,\"formatter\":{\"id\":\"127781\"},\"group\":null,\"major_label_policy\":{\"id\":\"127782\"},\"ticker\":{\"id\":\"125668\"}},\"id\":\"125667\",\"type\":\"LinearAxis\"},{\"attributes\":{},\"id\":\"127782\",\"type\":\"AllLabels\"},{\"attributes\":{},\"id\":\"125678\",\"type\":\"ResetTool\"},{\"attributes\":{},\"id\":\"125675\",\"type\":\"PanTool\"},{\"attributes\":{},\"id\":\"127775\",\"type\":\"NodesOnly\"},{\"attributes\":{},\"id\":\"125677\",\"type\":\"SaveTool\"},{\"attributes\":{\"coordinates\":null,\"data_source\":{\"id\":\"125692\"},\"glyph\":{\"id\":\"125701\"},\"group\":null,\"hover_glyph\":null,\"view\":{\"id\":\"125694\"}},\"id\":\"125693\",\"type\":\"GlyphRenderer\"},{\"attributes\":{\"source\":{\"id\":\"125688\"}},\"id\":\"125690\",\"type\":\"CDSView\"},{\"attributes\":{\"axis\":{\"id\":\"125671\"},\"coordinates\":null,\"dimension\":1,\"group\":null,\"ticker\":null},\"id\":\"125674\",\"type\":\"Grid\"},{\"attributes\":{\"end\":10.1,\"start\":-10.1},\"id\":\"125657\",\"type\":\"Range1d\"},{\"attributes\":{},\"id\":\"125668\",\"type\":\"BasicTicker\"},{\"attributes\":{},\"id\":\"125676\",\"type\":\"WheelZoomTool\"},{\"attributes\":{\"data\":{\"end\":[\"Danny DeVito\",\"Michelle Pfeiffer\",\"Christopher Walken\",\"Michael Murphy (actor)|Michael Murphy\",\"Vincent Schiavelli\",\"Andrew Bryniarski\",\"Cristi Conaway\",\"Rick Zumwalt\",\"Anna Katarina\",\"Paul Reubens\",\"Diane Salinger\",\"Doug Jones (actor)|Doug Jones\",\"Michelle Pfeiffer\",\"Christopher Walken\",\"Michael Gough\",\"Pat Hingle\",\"Michael Murphy (actor)|Michael Murphy\",\"Vincent Schiavelli\",\"Andrew Bryniarski\",\"Cristi Conaway\",\"Rick Zumwalt\",\"Anna Katarina\",\"Paul Reubens\",\"Diane Salinger\",\"Doug Jones (actor)|Doug Jones\",\"Brandon Hammond\",\"Bill Murray\",\"Larry Bird\",\"Manner Washington\",\"Eric Gordon\",\"Penny Bae Bridges\",\"Charles Barkley\",\"Shawn Bradley\",\"Patrick Ewing\",\"Larry Johnson (basketball, born 1969)|Larry Johnson\",\"Muggsy Bogues\",\"Thom Barry\",\"Dee Bradley Baker\",\"Bob Bergen\",\"Bill Farmer\",\"Maurice LaMarche\",\"June Foray\",\"Kath Soucie\",\"Jocelyn Blue\",\"Darnell Suttles\",\"Charity James\",\"Steve Kehela\",\"June Melby\",\"Joey Camen\",\"Catherine Reitman\",\"Dorian Harewood\",\"Colleen Wainwright\",\"Nerdluck Nawt, the\",\"T. K. Carter\",\"Sniffles (Merrie Melodies)|Sniffles\",\"Frank Welker\",\"Christopher Walken\",\"Michael Gough\",\"Pat Hingle\",\"Michael Murphy (actor)|Michael Murphy\",\"Vincent Schiavelli\",\"Andrew Bryniarski\",\"Cristi Conaway\",\"Rick Zumwalt\",\"Anna Katarina\",\"Paul Reubens\",\"Diane Salinger\",\"Doug Jones (actor)|Doug Jones\",\"Michael Gough\",\"Pat Hingle\",\"Michael Murphy (actor)|Michael Murphy\",\"Vincent Schiavelli\",\"Andrew Bryniarski\",\"Cristi Conaway\",\"Rick Zumwalt\",\"Anna Katarina\",\"Paul Reubens\",\"Diane Salinger\",\"Doug Jones (actor)|Doug Jones\",\"John Travolta\",\"Samuel L. Jackson\",\"Uma Thurman\",\"Harvey Keitel\",\"Tim Roth\",\"Bruce Willis\",\"Patrick Swayze\",\"Demi Moore\",\"Whoopi Goldberg\",\"Pierce Brosnan\",\"Jonathan Pryce\",\"Michelle Yeoh\",\"Judi Dench\",\"Eddie Murphy\",\"Paul Giamatti\",\"Chris Rock\",\"Albert Brooks\",\"John Leguizamo\",\"Val Kilmer\",\"Tommy Lee Jones\",\"Jim Carrey\",\"Nicole Kidman\",\"Val Kilmer\",\"Tommy Lee Jones\",\"Jim Carrey\",\"Nicole Kidman\",\"Tommy Lee Jones\",\"Jim Carrey\",\"Nicole Kidman\",\"Chris O'Donnell\",\"George Wallace (American comedian)|George Wallace\",\"Drew Barrymore\",\"Debi Mazar\",\"Ed Begley Jr.\",\"Ofer Samra\",\"Elizabeth Sanders\",\"Ren\\u00e9 Auberjonois\",\"Larry A. Lee\",\"Glory Fioramonti\",\"En Vogue\",\"Joe Grifasi\",\"Jon Favreau\",\"Jim Carrey\",\"Nicole Kidman\",\"Chris O'Donnell\",\"George Wallace (American comedian)|George Wallace\",\"Drew Barrymore\",\"Debi Mazar\",\"Ed Begley Jr.\",\"Ofer Samra\",\"Elizabeth Sanders\",\"Ren\\u00e9 Auberjonois\",\"Larry A. Lee\",\"Glory Fioramonti\",\"En Vogue\",\"Joe Grifasi\",\"Jon Favreau\",\"Will Smith\",\"Linda Fiorentino\",\"Rip Torn\",\"D'Onofrio\",\"Tony Shalhoub\",\"Siobhan Fallon Hogan\",\"Mike Nussbaum\",\"Jon Gries\",\"Sergio Calder\\u00f3n\",\"John Alexander\",\"Patrick Breen\",\"Becky Ann Baker\",\"Carel Struycken\",\"Fredric Lehne\",\"Kent Faulcon\",\"Richard Hamilton (actor)|Richard Hamilton\",\"David Cross\",\"Sean Whalen\",\"Ray Park\",\"Tim Blaney\",\"Mark Setrakian\",\"Brad Abrell, Thom Fountain, Carl J. Johnson\",\"Harrison Ford\",\"Sela Ward\",\"Joe Pantoliano\",\"Andreas Katsulas\",\"Jeroen Krabb\\u00e9\",\"Daniel Roebuck\",\"L. Scott Caldwell\",\"Johnny Lee Davenport\",\"Julianne Moore\",\"Ron Dean\",\"Joseph Kosala\",\"Jane Lynch\",\"Dick Cusack\",\"Nick Searcy\",\"Eddie Bo Smith\",\"Neil Flynn\",\"Richard Riehle\",\"Kirsten Nelson\",\"David Darlow (actor)|David Darlow\",\"Frank Ray Perilli\",\"Lester Holt\",\"Nicole Kidman\",\"Chris O'Donnell\",\"George Wallace (American comedian)|George Wallace\",\"Drew Barrymore\",\"Debi Mazar\",\"Ed Begley Jr.\",\"Ofer Samra\",\"Elizabeth Sanders\",\"Ren\\u00e9 Auberjonois\",\"Larry A. Lee\",\"Glory Fioramonti\",\"En Vogue\",\"Joe Grifasi\",\"Jon Favreau\",\"Laura Linney\",\"Noah Emmerich\",\"Natascha McElhone\",\"Holland Taylor\",\"Ed Harris\",\"Brian Delate\",\"Peter Krause\",\"Harry Shearer\",\"Joel McKinnon Miller\",\"Maura Tierney\",\"Jennifer Tilly\",\"Swoosie Kurtz\",\"Amanda Donohoe\",\"Anne Haney\",\"Justin Cooper (actor)|Justin Cooper\",\"Cary Elwes\",\"Jason Bernard\",\"Mitchell Ryan\",\"Christopher Mayer (American actor)|Chip Mayer\",\"Eric Pierpoint\",\"Cheri Oteri\",\"S W Fisher\",\"Ben Lemon\",\"Jarrad Paul\",\"Marianne Muellerleile\",\"Krista Allen\",\"Stephen James Carver\",\"Don Keefer\",\"Jeff Daniels\",\"Lauren Holly\",\"Karen Duffy\",\"Mike Starr (actor)|Mike Starr\",\"Teri Garr\",\"Victoria Rowell\",\"Cam Neely\",\"Joe Baker\",\"Harland Williams\",\"Brad Lockerman\",\"Lin Shaye\",\"Hank Brandt\",\"Felton Perry\",\"Brady Bluhm\",\"Connie Sawyer\",\"Peter Riegert\",\"Peter Greene\",\"Amy Yasbeck\",\"Richard Jeni\",\"Cameron Diaz\",\"Max\",\"Orestes Matacena\",\"Jim Doughan\",\"Jeremy Roberts\",\"Ben Stein\",\"Ivory Ocean\",\"Reg E. Cathey\",\"William Daniel Mielcarek\",\"Denis Forest\",\"Eamonn Roche\",\"Nancy Fish\",\"Nils Allen Stewart\",\"Blake Clark\",\"Chris O'Donnell\",\"George Wallace (American comedian)|George Wallace\",\"Drew Barrymore\",\"Debi Mazar\",\"Ed Begley Jr.\",\"Ofer Samra\",\"Elizabeth Sanders\",\"Ren\\u00e9 Auberjonois\",\"Larry A. Lee\",\"Glory Fioramonti\",\"En Vogue\",\"Joe Grifasi\",\"Jon Favreau\",\"George Wallace (American comedian)|George Wallace\",\"Drew Barrymore\",\"Debi Mazar\",\"Ed Begley Jr.\",\"Ofer Samra\",\"Ren\\u00e9 Auberjonois\",\"Larry A. Lee\",\"Glory Fioramonti\",\"En Vogue\",\"Joe Grifasi\",\"Jon Favreau\",\"Debi Mazar\",\"Ed Begley Jr.\",\"Ofer Samra\",\"Elizabeth Sanders\",\"Ren\\u00e9 Auberjonois\",\"Larry A. Lee\",\"Glory Fioramonti\",\"En Vogue\",\"Joe Grifasi\",\"Jon Favreau\",\"Arnold Schwarzenegger\",\"Jamie Lee Curtis\",\"Bill Paxton\",\"Eliza Dushku\",\"Charlton Heston\",\"Andie MacDowell\",\"Kristin Scott Thomas\",\"Simon Callow\",\"James Fleet\",\"John Hannah (actor)|John Hannah\",\"Charlotte Coleman\",\"David Bower\",\"Corin Redgrave\",\"Rowan Atkinson\",\"Timothy Walker (actor)|Timothy Walker\",\"Sara Crowe\",\"David Haig\",\"Sophie Thompson\",\"Anna Chancellor\",\"Rupert Vansittart\",\"Simon Callow\",\"James Fleet\",\"John Hannah (actor)|John Hannah\",\"Charlotte Coleman\",\"David Bower\",\"Corin Redgrave\",\"Rowan Atkinson\",\"Timothy Walker (actor)|Timothy Walker\",\"Sara Crowe\",\"David Haig\",\"Sophie Thompson\",\"Anna Chancellor\",\"Rupert Vansittart\",\"Gwyneth Paltrow\",\"Geoffrey Rush\",\"Colin Firth\",\"Ben Affleck\",\"Judi Dench\",\"Edward Burns\",\"Matt Damon\",\"Harrison Young\",\"Tom Sizemore\",\"Jeremy Davies\",\"Vin Diesel\",\"Adam Goldberg\",\"Barry Pepper\",\"Giovanni Ribisi\",\"Dennis Farina\",\"Ted Danson\",\"Harve Presnell\",\"Bryan Cranston\",\"David Wohl (actor)|David Wohl\",\"Nathan Fillion\",\"Paul Giamatti\",\"Ryan Hurst\",\"Max Martini\",\"Leland Orser\",\"Joerg Stadler\",\"Dylan Bruno\",\"Demetri Goritsas\",\"Rolf Saxon\",\"Corey Johnson (actor)|Corey Johnson\",\"John Sharian\",\"Glenn Wrage\",\"St\\u00e9phane Cornicard\",\"Dale Dye\",\"Amanda Boxer\",\"Kathleen Byron\",\"Andrew Scott (actor)|Andrew Scott\",\"Erich Redman\",\"Robin Wright\",\"Gary Sinise\",\"Mykelti Williamson\",\"Sally Field\",\"Michael Conner Humphreys\",\"Hanna R. Hall\",\"Haley Joel Osment\",\"Peter Dobson\",\"Dick Cavett\",\"Sam Anderson\",\"Geoffrey Blake (actor)|Geoffrey Blake\",\"Siobhan Fallon Hogan\",\"Sonny Shroyer\",\"Grand L. Bush\",\"Meg Ryan\",\"Parker Posey\",\"Jean Stapleton\",\"Dave Chappelle\",\"Greg Kinnear\",\"Katie Sagona\",\"Dabney Coleman\",\"Heather Burns\",\"John Randolph (actor)|John Randolph\",\"Deborah Rush\",\"Hallee Hirsh\",\"Sara Ramirez\",\"Cara Seymour\",\"Jeffrey Scaperrotta\",\"Kathryn Meisle\",\"Reiko Aylesworth\",\"Bill Pullman\",\"Ross Malinger\",\"Rob Reiner\",\"Rosie O'Donnell\",\"Gaby Hoffmann\",\"Victor Garber\",\"Barbara Garrick\",\"Carey Lowell\",\"David Hyde Pierce\",\"Dana Ivey\",\"Kevin O'Morrison\",\"Caroline Aaron\",\"Frances Conroy\",\"Calvin Trillin\",\"Le Clanch\\u00e9 du Rand\",\"Harrison Young\",\"Tom Sizemore\",\"Jeremy Davies\",\"Vin Diesel\",\"Adam Goldberg\",\"Barry Pepper\",\"Giovanni Ribisi\",\"Dennis Farina\",\"Ted Danson\",\"Harve Presnell\",\"Bryan Cranston\",\"David Wohl (actor)|David Wohl\",\"Nathan Fillion\",\"Paul Giamatti\",\"Ryan Hurst\",\"Max Martini\",\"Leland Orser\",\"Joerg Stadler\",\"Dylan Bruno\",\"Demetri Goritsas\",\"Rolf Saxon\",\"Corey Johnson (actor)|Corey Johnson\",\"John Sharian\",\"Glenn Wrage\",\"St\\u00e9phane Cornicard\",\"Dale Dye\",\"Amanda Boxer\",\"Kathleen Byron\",\"Andrew Scott (actor)|Andrew Scott\",\"Erich Redman\",\"Robin Williams\",\"Stellan Skarsg\\u00e5rd\",\"Minnie Driver\",\"Cole Hauser\",\"John Mighton\",\"Jimmy Flynn\",\"Christopher Britton (actor)|Christopher Britton\",\"Alison Folland\",\"George Plimpton\",\"Helen Hunt\",\"Bill Paxton\",\"Cary Elwes\",\"Philip Seymour Hoffman\",\"Adam Goldberg\",\"Barry Pepper\",\"Giovanni Ribisi\",\"Dennis Farina\",\"Ted Danson\",\"Harve Presnell\",\"Bryan Cranston\",\"David Wohl (actor)|David Wohl\",\"Nathan Fillion\",\"Paul Giamatti\",\"Ryan Hurst\",\"Max Martini\",\"Leland Orser\",\"Joerg Stadler\",\"Dylan Bruno\",\"Demetri Goritsas\",\"Rolf Saxon\",\"Corey Johnson (actor)|Corey Johnson\",\"John Sharian\",\"Glenn Wrage\",\"St\\u00e9phane Cornicard\",\"Dale Dye\",\"Amanda Boxer\",\"Kathleen Byron\",\"Andrew Scott (actor)|Andrew Scott\",\"Erich Redman\",\"Giovanni Ribisi\",\"Dennis Farina\",\"Ted Danson\",\"Harve Presnell\",\"Bryan Cranston\",\"David Wohl (actor)|David Wohl\",\"Nathan Fillion\",\"Paul Giamatti\",\"Ryan Hurst\",\"Max Martini\",\"Leland Orser\",\"Joerg Stadler\",\"Dylan Bruno\",\"Demetri Goritsas\",\"Rolf Saxon\",\"Corey Johnson (actor)|Corey Johnson\",\"John Sharian\",\"Glenn Wrage\",\"St\\u00e9phane Cornicard\",\"Dale Dye\",\"Amanda Boxer\",\"Kathleen Byron\",\"Andrew Scott (actor)|Andrew Scott\",\"Erich Redman\",\"Dennis Farina\",\"Ted Danson\",\"Harve Presnell\",\"Bryan Cranston\",\"David Wohl (actor)|David Wohl\",\"Nathan Fillion\",\"Paul Giamatti\",\"Ryan Hurst\",\"Max Martini\",\"Leland Orser\",\"Joerg Stadler\",\"Dylan Bruno\",\"Demetri Goritsas\",\"Rolf Saxon\",\"Corey Johnson (actor)|Corey Johnson\",\"John Sharian\",\"Glenn Wrage\",\"St\\u00e9phane Cornicard\",\"Dale Dye\",\"Amanda Boxer\",\"Kathleen Byron\",\"Andrew Scott (actor)|Andrew Scott\",\"Erich Redman\",\"John Travolta\",\"Joan Allen\",\"David Wohl (actor)|David Wohl\",\"Nathan Fillion\",\"Paul Giamatti\",\"Ryan Hurst\",\"Max Martini\",\"Leland Orser\",\"Joerg Stadler\",\"Dylan Bruno\",\"Demetri Goritsas\",\"Rolf Saxon\",\"Corey Johnson (actor)|Corey Johnson\",\"John Sharian\",\"Glenn Wrage\",\"St\\u00e9phane Cornicard\",\"Dale Dye\",\"Amanda Boxer\",\"Kathleen Byron\",\"Andrew Scott (actor)|Andrew Scott\",\"Erich Redman\",\"Ryan Hurst\",\"Max Martini\",\"Leland Orser\",\"Joerg Stadler\",\"Dylan Bruno\",\"Demetri Goritsas\",\"Rolf Saxon\",\"Corey Johnson (actor)|Corey Johnson\",\"John Sharian\",\"Glenn Wrage\",\"St\\u00e9phane Cornicard\",\"Dale Dye\",\"Amanda Boxer\",\"Kathleen Byron\",\"Andrew Scott (actor)|Andrew Scott\",\"Erich Redman\",\"Laura Linney\",\"Ed Harris\",\"Peter Krause\",\"Harry Shearer\",\"Joel McKinnon Miller\",\"Julia Roberts\",\"Cameron Diaz\",\"Rachel Griffiths\",\"Eddie Murphy\",\"Don Calfa\",\"Pruitt Taylor Vince\",\"Norm MacDonald\",\"Chris Rock\",\"Royce D. Applegate|Royce Applegate\",\"Albert Brooks\",\"Hamilton Camp\",\"Jim Dean\",\"Ellen DeGeneres\",\"Jeff Doucette\",\"Brian Doyle-Murray\",\"Chad Einbidnder\",\"Jenna Elfman\",\"Eddie Frierson\",\"Gilbert Gottfried\",\"Archie Hahn (actor)|Archie Hahn\",\"Phyllis Katz\",\"John Leguizamo\",\"Jonathan Lipnicki\",\"Kerrigan Mahan\",\"Philip Proctor\",\"Reni Santoni\",\"Garry Shandling\",\"Tom Towles\",\"Bill Barretta\",\"Kevin Carlson\",\"Bruce Lanoil\",\"Drew Massey\",\"Allan Trautman\",\"Ian Tregonning\",\"Mak Wilson\",\"Brad Pitt\",\"Morgan Freeman\",\"Gwyneth Paltrow\",\"Kevin Spacey\",\"Laurence Fishburne\",\"Carrie-Anne Moss\",\"Hugo Weaving\",\"Joe Pantoliano\",\"Marcus Chong\",\"Anthony Ray Parker\",\"Julian Arahanga\",\"Matt Doran\",\"Gloria Foster\",\"Belinda McClory\",\"Paul Goddard (actor)|Paul Goddard\",\"Robert Taylor (Australian actor)|Robert Taylor\",\"Ada Nicodemou\",\"Dennis Hopper\",\"Sandra Bullock\",\"Joe Morton\",\"Jeff Daniels\",\"Neisha Folkes-LeMelle\",\"Margaret Medina\",\"Richard Lineback\",\"Beau Starr\",\"Jordan Lund\",\"Alan Ruck\",\"Carlos Carrasco (actor)|Carlos Carrasco\",\"Glenn Plummer\",\"Daniel Villarreal\",\"Beth Grant\",\"Natsuko Ohomama\",\"David Kriegel\",\"Hawthorne James\",\"Richard Schiff\",\"John Capodice\",\"Thomas Rosales Jr.\",\"Sandy Martin\",\"Patrick Fischler\",\"Gary Oldman\",\"Winona Ryder\",\"Anthony Hopkins\",\"Richard E. Grant\",\"Cary Elwes\",\"Billy Campbell\",\"Sadie Frost\",\"Tom Waits\",\"Michaela Bercu\",\"Florina Kendrick\",\"Jay Robinson\",\"Carrie-Anne Moss\",\"Hugo Weaving\",\"Joe Pantoliano\",\"Marcus Chong\",\"Anthony Ray Parker\",\"Julian Arahanga\",\"Matt Doran\",\"Gloria Foster\",\"Belinda McClory\",\"Paul Goddard (actor)|Paul Goddard\",\"Robert Taylor (Australian actor)|Robert Taylor\",\"Ada Nicodemou\",\"Hugo Weaving\",\"Joe Pantoliano\",\"Marcus Chong\",\"Anthony Ray Parker\",\"Julian Arahanga\",\"Matt Doran\",\"Gloria Foster\",\"Belinda McClory\",\"Paul Goddard (actor)|Paul Goddard\",\"Robert Taylor (Australian actor)|Robert Taylor\",\"Ada Nicodemou\",\"Joe Pantoliano\",\"Marcus Chong\",\"Anthony Ray Parker\",\"Julian Arahanga\",\"Matt Doran\",\"Gloria Foster\",\"Belinda McClory\",\"Paul Goddard (actor)|Paul Goddard\",\"Robert Taylor (Australian actor)|Robert Taylor\",\"Ada Nicodemou\",\"Harrison Ford\",\"Toni Collette\",\"Olivia Williams\",\"Haley Joel Osment\",\"Donnie Wahlberg\",\"Glenn Fitzgerald\",\"Mischa Barton\",\"Trevor Morgan (actor)|Trevor Morgan\",\"Bruce Norris (playwright)|Bruce Norris\",\"Angelica Page\",\"Greg Wood\",\"M. Night Shyamalan\",\"Peter Tambakis\",\"Jeffrey Zubernis\",\"Billy Bob Thornton\",\"Liv Tyler\",\"Ben Affleck\",\"Will Patton\",\"Peter Stormare\",\"Keith David\",\"Steve Buscemi\",\"William Fichtner\",\"Owen Wilson\",\"Michael Clarke Duncan\",\"Ken Campbell\",\"Jessica Steen\",\"Chris Ellis (actor)|Chris Ellis\",\"Jason Isaacs\",\"Grayson McCouch\",\"Clark Brolly\",\"Marshall Teague (actor)|Marshall Teague\",\"Anthony Guidera\",\"Greg Collins (actor)|Greg Collins\",\"John Mahon\",\"Grace Zabriskie\",\"Eddie Griffin\",\"Jim Ishida\",\"Stanley Anderson\",\"Narration\",\"John Travolta\",\"Uma Thurman\",\"Harvey Keitel\",\"Tim Roth\",\"Gary Oldman\",\"Ian Holm\",\"Chris Tucker\",\"Milla Jovovich\",\"Luke Perry\",\"Brion James\",\"Tom Lister Jr.|Tommy \\\"Tiny\\\" Lister Jr.\",\"Lee Evans (comedian)|Lee Evans\",\"Charlie Creed-Miles\",\"Tricky (musician)|Tricky\",\"John Neville (actor)|John Neville\",\"Ma\\u00efwenn Le Besco\",\"Jeremy Irons\",\"Graham Greene (actor)|Graham Greene\",\"Colleen Camp\",\"Larry Bryggman\",\"Sam Phillips (musician)|Sam Phillips\",\"Anthony Peck\",\"Nick Wyman\",\"Stephen Pearlman\",\"Kevin Chamberlin\",\"Richard Russell Ramos\",\"Charles Dumas\",\"Michael Cristofer\",\"Franco Nero\",\"William Sadler (actor)|William Sadler\",\"John Amos\",\"Dennis Franz\",\"Art Evans (actor)|Art Evans\",\"Fred Thompson\",\"Tom Bower (actor)|Tom Bower\",\"Sheila McCarthy\",\"Robert Costanzo\",\"Colm Meaney\",\"Olivia Williams\",\"Haley Joel Osment\",\"Donnie Wahlberg\",\"Glenn Fitzgerald\",\"Mischa Barton\",\"Trevor Morgan (actor)|Trevor Morgan\",\"Bruce Norris (playwright)|Bruce Norris\",\"Angelica Page\",\"Greg Wood\",\"M. Night Shyamalan\",\"Peter Tambakis\",\"Jeffrey Zubernis\",\"Donnie Wahlberg\",\"Glenn Fitzgerald\",\"Mischa Barton\",\"Trevor Morgan (actor)|Trevor Morgan\",\"Bruce Norris (playwright)|Bruce Norris\",\"Angelica Page\",\"Greg Wood\",\"M. Night Shyamalan\",\"Peter Tambakis\",\"Jeffrey Zubernis\",\"Robin Wright\",\"Gary Sinise\",\"Sally Field\",\"Peter Dobson\",\"Dick Cavett\",\"Sam Anderson\",\"Geoffrey Blake (actor)|Geoffrey Blake\",\"Siobhan Fallon Hogan\",\"Sonny Shroyer\",\"Grand L. Bush\",\"Mel Gibson\",\"Rene Russo\",\"Gary Sinise\",\"Lili Taylor\",\"Liev Schreiber\",\"Gary Sinise\",\"Mykelti Williamson\",\"Sally Field\",\"Michael Conner Humphreys\",\"Hanna R. Hall\",\"Peter Dobson\",\"Dick Cavett\",\"Sam Anderson\",\"Geoffrey Blake (actor)|Geoffrey Blake\",\"Siobhan Fallon Hogan\",\"Sonny Shroyer\",\"Grand L. Bush\",\"Mykelti Williamson\",\"Sally Field\",\"Michael Conner Humphreys\",\"Hanna R. Hall\",\"Peter Dobson\",\"Dick Cavett\",\"Sam Anderson\",\"Geoffrey Blake (actor)|Geoffrey Blake\",\"Siobhan Fallon Hogan\",\"Sonny Shroyer\",\"Grand L. Bush\",\"Mel Gibson\",\"Rene Russo\",\"Delroy Lindo\",\"Lili Taylor\",\"Brawley Nolte\",\"Liev Schreiber\",\"Evan Handler\",\"Paul Guilfoyle\",\"Jos\\u00e9 Z\\u00fa\\u00f1iga\",\"Dan Hedaya\",\"John Ortiz\",\"David Vadim\",\"Michael Conner Humphreys\",\"Hanna R. Hall\",\"Peter Dobson\",\"Dick Cavett\",\"Sam Anderson\",\"Geoffrey Blake (actor)|Geoffrey Blake\",\"Siobhan Fallon Hogan\",\"Sonny Shroyer\",\"Grand L. Bush\",\"Robin Williams\",\"Pierce Brosnan\",\"Harvey Fierstein\",\"Robert Prosky\",\"Polly Holliday\",\"Lisa Jakub\",\"Matthew Lawrence\",\"Mara Wilson\",\"Anne Haney\",\"Scott Capurro\",\"Martin Mull\",\"William Newman (actor)|William Newman\",\"Will Smith\",\"Linda Fiorentino\",\"Annette Bening\",\"Thora Birch\",\"Allison Janney\",\"Peter Gallagher\",\"Chris Cooper\",\"Wes Bentley\",\"Mena Suvari\",\"Scott Bakula\",\"Sam Robards\",\"Brad Pitt\",\"Morgan Freeman\",\"R. Lee Ermey\",\"Richard Roundtree\",\"Richard Schiff\",\"Mark Boone Junior\",\"Michael Massee\",\"Julie Araskog\",\"Hawthorne James\",\"Bob Mack\",\"Gene Borkan\",\"Michael Reid MacKay\",\"Cat Mueller\",\"Heidi Schanz\",\"Reg E. Cathey\",\"Thora Birch\",\"Allison Janney\",\"Peter Gallagher\",\"Chris Cooper\",\"Wes Bentley\",\"Mena Suvari\",\"Scott Bakula\",\"Sam Robards\",\"Allison Janney\",\"Peter Gallagher\",\"Chris Cooper\",\"Wes Bentley\",\"Mena Suvari\",\"Scott Bakula\",\"Sam Robards\",\"Peter Gallagher\",\"Chris Cooper\",\"Wes Bentley\",\"Mena Suvari\",\"Scott Bakula\",\"Sam Robards\",\"Wes Bentley\",\"Mena Suvari\",\"Scott Bakula\",\"Sam Robards\",\"Kate Winslet\",\"Billy Zane\",\"Kathy Bates\",\"Frances Fisher\",\"Bernard Hill\",\"Jonathan Hyde\",\"Danny Nucci\",\"David Warner (actor)|David Warner\",\"Bill Paxton\",\"Gloria Stuart\",\"Suzy Amis Cameron|Suzy Amis\",\"Jason Barry\",\"Victor Garber\",\"Eric Braeden\",\"Bernard Fox (actor)|Bernard Fox\",\"Michael Ensign\",\"Jonathan Evans-Jones\",\"Mark Lindsay Chapman\",\"Ewan Stewart\",\"Jonathan Phillips (actor)|Jonathan Phillips\",\"Simon Crane\",\"Ioan Gruffudd\",\"Edward Fletcher\",\"James Lancaster\",\"Lew Palter\",\"Martin Jarvis (actor)|Martin Jarvis\",\"Rosalind Ayres\",\"Rochelle Rose\",\"Scott G. Anderson\",\"Paul Brightwell\",\"Martin East\",\"Gregory Cooke\",\"Craig Kelly (actor)|Craig Kelly\",\"Liam Tuohy (actor)|Liam Tuohy\",\"Terry Forrestal\",\"Billy Zane\",\"Kathy Bates\",\"Frances Fisher\",\"Bernard Hill\",\"Jonathan Hyde\",\"Danny Nucci\",\"David Warner (actor)|David Warner\",\"Bill Paxton\",\"Gloria Stuart\",\"Suzy Amis Cameron|Suzy Amis\",\"Jason Barry\",\"Victor Garber\",\"Eric Braeden\",\"Bernard Fox (actor)|Bernard Fox\",\"Michael Ensign\",\"Jonathan Evans-Jones\",\"Mark Lindsay Chapman\",\"Ewan Stewart\",\"Jonathan Phillips (actor)|Jonathan Phillips\",\"Simon Crane\",\"Ioan Gruffudd\",\"Edward Fletcher\",\"James Lancaster\",\"Lew Palter\",\"Martin Jarvis (actor)|Martin Jarvis\",\"Rosalind Ayres\",\"Rochelle Rose\",\"Scott G. Anderson\",\"Paul Brightwell\",\"Martin East\",\"Gregory Cooke\",\"Craig Kelly (actor)|Craig Kelly\",\"Liam Tuohy (actor)|Liam Tuohy\",\"Terry Forrestal\",\"Kathy Bates\",\"Frances Fisher\",\"Bernard Hill\",\"Jonathan Hyde\",\"Danny Nucci\",\"David Warner (actor)|David Warner\",\"Bill Paxton\",\"Gloria Stuart\",\"Suzy Amis Cameron|Suzy Amis\",\"Jason Barry\",\"Victor Garber\",\"Eric Braeden\",\"Bernard Fox (actor)|Bernard Fox\",\"Michael Ensign\",\"Jonathan Evans-Jones\",\"Mark Lindsay Chapman\",\"Ewan Stewart\",\"Jonathan Phillips (actor)|Jonathan Phillips\",\"Simon Crane\",\"Ioan Gruffudd\",\"Edward Fletcher\",\"James Lancaster\",\"Lew Palter\",\"Martin Jarvis (actor)|Martin Jarvis\",\"Rosalind Ayres\",\"Rochelle Rose\",\"Scott G. Anderson\",\"Paul Brightwell\",\"Martin East\",\"Gregory Cooke\",\"Craig Kelly (actor)|Craig Kelly\",\"Liam Tuohy (actor)|Liam Tuohy\",\"Terry Forrestal\",\"Frances Fisher\",\"Bernard Hill\",\"Jonathan Hyde\",\"Danny Nucci\",\"David Warner (actor)|David Warner\",\"Bill Paxton\",\"Gloria Stuart\",\"Suzy Amis Cameron|Suzy Amis\",\"Jason Barry\",\"Victor Garber\",\"Eric Braeden\",\"Bernard Fox (actor)|Bernard Fox\",\"Michael Ensign\",\"Jonathan Evans-Jones\",\"Mark Lindsay Chapman\",\"Ewan Stewart\",\"Jonathan Phillips (actor)|Jonathan Phillips\",\"Simon Crane\",\"Ioan Gruffudd\",\"Edward Fletcher\",\"James Lancaster\",\"Lew Palter\",\"Martin Jarvis (actor)|Martin Jarvis\",\"Rosalind Ayres\",\"Rochelle Rose\",\"Scott G. Anderson\",\"Paul Brightwell\",\"Martin East\",\"Gregory Cooke\",\"Craig Kelly (actor)|Craig Kelly\",\"Liam Tuohy (actor)|Liam Tuohy\",\"Terry Forrestal\",\"Kirsten Dunst\",\"Bonnie Hunt\",\"Gloria Stuart\",\"Suzy Amis Cameron|Suzy Amis\",\"Jason Barry\",\"Victor Garber\",\"Eric Braeden\",\"Bernard Fox (actor)|Bernard Fox\",\"Michael Ensign\",\"Jonathan Evans-Jones\",\"Mark Lindsay Chapman\",\"Ewan Stewart\",\"Jonathan Phillips (actor)|Jonathan Phillips\",\"Simon Crane\",\"Ioan Gruffudd\",\"Edward Fletcher\",\"James Lancaster\",\"Lew Palter\",\"Martin Jarvis (actor)|Martin Jarvis\",\"Rosalind Ayres\",\"Rochelle Rose\",\"Scott G. Anderson\",\"Paul Brightwell\",\"Martin East\",\"Gregory Cooke\",\"Craig Kelly (actor)|Craig Kelly\",\"Liam Tuohy (actor)|Liam Tuohy\",\"Terry Forrestal\",\"Arnold Schwarzenegger\",\"Jamie Lee Curtis\",\"Art Malik\",\"Tia Carrere\",\"Eliza Dushku\",\"Grant Heslov\",\"Charlton Heston\",\"Marshall Manesh\",\"James Allen\",\"Helen Hunt\",\"Jami Gertz\",\"Cary Elwes\",\"Philip Seymour Hoffman\",\"Alan Ruck\",\"Sean Whalen\",\"Todd Field\",\"Wendle Josepher\",\"Joey Slotnick\",\"Scott Thomson (actor)|Scott Thomson\",\"Lois Smith\",\"Zach Grenier\",\"Richard Lineback\",\"Rusty Schwimmer\",\"Abraham Benrubi\",\"Patrick Fischler\",\"Anthony Rapp\",\"Jake Busey\",\"Suzy Amis Cameron|Suzy Amis\",\"Jason Barry\",\"Victor Garber\",\"Eric Braeden\",\"Bernard Fox (actor)|Bernard Fox\",\"Michael Ensign\",\"Jonathan Evans-Jones\",\"Mark Lindsay Chapman\",\"Ewan Stewart\",\"Jonathan Phillips (actor)|Jonathan Phillips\",\"Simon Crane\",\"Ioan Gruffudd\",\"Edward Fletcher\",\"James Lancaster\",\"Lew Palter\",\"Martin Jarvis (actor)|Martin Jarvis\",\"Rosalind Ayres\",\"Rochelle Rose\",\"Scott G. Anderson\",\"Paul Brightwell\",\"Martin East\",\"Gregory Cooke\",\"Craig Kelly (actor)|Craig Kelly\",\"Liam Tuohy (actor)|Liam Tuohy\",\"Terry Forrestal\",\"Meg Ryan\",\"Bill Pullman\",\"Edward Fletcher\",\"James Lancaster\",\"Lew Palter\",\"Martin Jarvis (actor)|Martin Jarvis\",\"Rosalind Ayres\",\"Rochelle Rose\",\"Scott G. Anderson\",\"Paul Brightwell\",\"Martin East\",\"Gregory Cooke\",\"Craig Kelly (actor)|Craig Kelly\",\"Liam Tuohy (actor)|Liam Tuohy\",\"Terry Forrestal\",\"Bill Pullman\",\"Jeff Goldblum\",\"Mary McDonnell\",\"Judd Hirsch\",\"Margaret Colin\",\"Randy Quaid\",\"Robert Loggia\",\"James Rebhorn\",\"Harvey Fierstein\",\"Harry Connick Jr|Harry Connick\",\"Vivica A. Fox\",\"Adam Baldwin\",\"Brent Spiner\",\"James Duval\",\"Bill Smitrovich\",\"Harry Connick Jr.\",\"Mae Whitman\",\"Ross Bagley\",\"Lisa Jakub\",\"Giuseppe Andrews\",\"Linda Fiorentino\",\"Vincent D'Onofrio\",\"Rip Torn\",\"D'Onofrio\",\"Tony Shalhoub\",\"Mike Nussbaum\",\"Jon Gries\",\"Sergio Calder\\u00f3n\",\"John Alexander\",\"Patrick Breen\",\"Becky Ann Baker\",\"Carel Struycken\",\"Fredric Lehne\",\"Kent Faulcon\",\"Richard Hamilton (actor)|Richard Hamilton\",\"David Cross\",\"Sean Whalen\",\"Ray Park\",\"Tim Blaney\",\"Mark Setrakian\",\"Brad Abrell, Thom Fountain, Carl J. Johnson\",\"Jeff Goldblum\",\"Mary McDonnell\",\"Judd Hirsch\",\"Margaret Colin\",\"Randy Quaid\",\"Robert Loggia\",\"James Rebhorn\",\"Harvey Fierstein\",\"Harry Connick Jr|Harry Connick\",\"Vivica A. Fox\",\"Adam Baldwin\",\"Brent Spiner\",\"James Duval\",\"Bill Smitrovich\",\"Harry Connick Jr.\",\"Mae Whitman\",\"Ross Bagley\",\"Lisa Jakub\",\"Giuseppe Andrews\",\"Meg Ryan\",\"Ross Malinger\",\"Rob Reiner\",\"Rosie O'Donnell\",\"Gaby Hoffmann\",\"Rita Wilson\",\"Barbara Garrick\",\"Carey Lowell\",\"David Hyde Pierce\",\"Dana Ivey\",\"Kevin O'Morrison\",\"Caroline Aaron\",\"Frances Conroy\",\"Calvin Trillin\",\"Le Clanch\\u00e9 du Rand\",\"Mary McDonnell\",\"Judd Hirsch\",\"Margaret Colin\",\"Randy Quaid\",\"Robert Loggia\",\"James Rebhorn\",\"Harvey Fierstein\",\"Harry Connick Jr|Harry Connick\",\"Vivica A. Fox\",\"Adam Baldwin\",\"Brent Spiner\",\"James Duval\",\"Bill Smitrovich\",\"Harry Connick Jr.\",\"Mae Whitman\",\"Ross Bagley\",\"Lisa Jakub\",\"Giuseppe Andrews\",\"Julianne Moore\",\"Pete Postlethwaite\",\"Arliss Howard\",\"Vince Vaughn\",\"Vanessa Lee Chester\",\"Peter Stormare\",\"Harvey Jason\",\"Richard Schiff\",\"Thomas F. Duffy\",\"Camilla Belle\",\"Judd Hirsch\",\"Margaret Colin\",\"Randy Quaid\",\"Robert Loggia\",\"James Rebhorn\",\"Harvey Fierstein\",\"Harry Connick Jr|Harry Connick\",\"Vivica A. Fox\",\"Adam Baldwin\",\"Brent Spiner\",\"James Duval\",\"Bill Smitrovich\",\"Harry Connick Jr.\",\"Mae Whitman\",\"Ross Bagley\",\"Lisa Jakub\",\"Giuseppe Andrews\",\"Kevin Costner\",\"Graham Greene (actor)|Graham Greene\",\"Rodney A. Grant|Rodney Grant\",\"Rodney A. Grant\",\"Floyd Red Crow Westerman\",\"Tantoo Cardinal\",\"Jimmy Herman\",\"Nathan Lee Chasing His Horse\",\"Michael Spears\",\"Jason R. Lone Hill\",\"Charles Rocket\",\"Robert Pastorelli\",\"Tony Pierce\",\"Larry Joshua\",\"Kirk Baltz\",\"Tom Everett\",\"Maury Chaykin\",\"Wes Studi\",\"Wayne Grace\",\"Michael Horton (actor)|Michael Horton\",\"Doris Leader Charge\",\"Donald Hotton\",\"Frank P. Costanza\",\"Annie Costner\",\"Otakuye Conroy\",\"Jim Wilson (producer)|Jim Wilson\",\"Robert Loggia\",\"James Rebhorn\",\"Harvey Fierstein\",\"Harry Connick Jr|Harry Connick\",\"Vivica A. Fox\",\"Adam Baldwin\",\"Brent Spiner\",\"James Duval\",\"Bill Smitrovich\",\"Harry Connick Jr.\",\"Mae Whitman\",\"Ross Bagley\",\"Lisa Jakub\",\"Giuseppe Andrews\",\"Michael Douglas\",\"Sharon Stone\",\"Dorothy Malone\",\"Robin Williams\",\"Pierce Brosnan\",\"Robin Williams\",\"Pierce Brosnan\",\"Liv Tyler\",\"Ben Affleck\",\"Will Patton\",\"Peter Stormare\",\"Keith David\",\"Steve Buscemi\",\"William Fichtner\",\"Owen Wilson\",\"Michael Clarke Duncan\",\"Ken Campbell\",\"Jessica Steen\",\"Chris Ellis (actor)|Chris Ellis\",\"Jason Isaacs\",\"Grayson McCouch\",\"Clark Brolly\",\"Marshall Teague (actor)|Marshall Teague\",\"Anthony Guidera\",\"Greg Collins (actor)|Greg Collins\",\"John Mahon\",\"Grace Zabriskie\",\"Eddie Griffin\",\"Jim Ishida\",\"Stanley Anderson\",\"Narration\",\"Robert Redford\",\"Demi Moore\",\"Woody Harrelson\",\"Rip Taylor\",\"Billy Connolly\",\"Pamela Holt\",\"Tommy Bush\",\"Sheena Easton\",\"Herbie Hancock\",\"Ben Affleck\",\"Will Patton\",\"Peter Stormare\",\"Keith David\",\"Steve Buscemi\",\"William Fichtner\",\"Owen Wilson\",\"Michael Clarke Duncan\",\"Ken Campbell\",\"Jessica Steen\",\"Chris Ellis (actor)|Chris Ellis\",\"Jason Isaacs\",\"Grayson McCouch\",\"Clark Brolly\",\"Marshall Teague (actor)|Marshall Teague\",\"Anthony Guidera\",\"Greg Collins (actor)|Greg Collins\",\"John Mahon\",\"Grace Zabriskie\",\"Eddie Griffin\",\"Jim Ishida\",\"Stanley Anderson\",\"Narration\",\"Will Patton\",\"Peter Stormare\",\"Keith David\",\"Steve Buscemi\",\"William Fichtner\",\"Owen Wilson\",\"Michael Clarke Duncan\",\"Ken Campbell\",\"Jessica Steen\",\"Chris Ellis (actor)|Chris Ellis\",\"Jason Isaacs\",\"Grayson McCouch\",\"Clark Brolly\",\"Marshall Teague (actor)|Marshall Teague\",\"Anthony Guidera\",\"Greg Collins (actor)|Greg Collins\",\"John Mahon\",\"Grace Zabriskie\",\"Eddie Griffin\",\"Jim Ishida\",\"Stanley Anderson\",\"Narration\",\"Gwyneth Paltrow\",\"Geoffrey Rush\",\"Colin Firth\",\"Judi Dench\",\"Jim Carter (actor)|Jim Carter\",\"Martin Clunes\",\"Antony Sher\",\"Imelda Staunton\",\"Tom Wilkinson\",\"Mark Williams (actor)|Mark Williams\",\"Daniel Brocklebank\",\"Nicholas Le Prevost\",\"Jill Baker\",\"Patrick Barlow\",\"Joe Roberts\",\"Rupert Everett\",\"John Inman\",\"Sandra Reinton\",\"Paul Bigley\",\"Robin Williams\",\"Stellan Skarsg\\u00e5rd\",\"Minnie Driver\",\"Cole Hauser\",\"John Mighton\",\"Jimmy Flynn\",\"Christopher Britton (actor)|Christopher Britton\",\"Alison Folland\",\"George Plimpton\",\"Pete Postlethwaite\",\"Richard Attenborough\",\"Vince Vaughn\",\"Cameron Diaz\",\"Matt Dillon\",\"Ben Stiller\",\"William Fichtner\",\"Owen Wilson\",\"Michael Clarke Duncan\",\"Ken Campbell\",\"Jessica Steen\",\"Chris Ellis (actor)|Chris Ellis\",\"Jason Isaacs\",\"Grayson McCouch\",\"Clark Brolly\",\"Marshall Teague (actor)|Marshall Teague\",\"Anthony Guidera\",\"Greg Collins (actor)|Greg Collins\",\"John Mahon\",\"Grace Zabriskie\",\"Eddie Griffin\",\"Jim Ishida\",\"Stanley Anderson\",\"Narration\",\"Michael Clarke Duncan\",\"Ken Campbell\",\"Jessica Steen\",\"Chris Ellis (actor)|Chris Ellis\",\"Jason Isaacs\",\"Grayson McCouch\",\"Clark Brolly\",\"Marshall Teague (actor)|Marshall Teague\",\"Anthony Guidera\",\"Greg Collins (actor)|Greg Collins\",\"John Mahon\",\"Grace Zabriskie\",\"Eddie Griffin\",\"Jim Ishida\",\"Stanley Anderson\",\"Narration\",\"Ken Campbell\",\"Jessica Steen\",\"Chris Ellis (actor)|Chris Ellis\",\"Jason Isaacs\",\"Grayson McCouch\",\"Clark Brolly\",\"Marshall Teague (actor)|Marshall Teague\",\"Anthony Guidera\",\"Greg Collins (actor)|Greg Collins\",\"John Mahon\",\"Grace Zabriskie\",\"Eddie Griffin\",\"Jim Ishida\",\"Stanley Anderson\",\"Narration\",\"Matthew Broderick\",\"Jean Reno\",\"Samuel L. Jackson\",\"Uma Thurman\",\"Harvey Keitel\",\"Tim Roth\",\"Amanda Plummer\",\"Maria de Medeiros\",\"Ving Rhames\",\"Eric Stoltz\",\"Rosanna Arquette\",\"Nicolas Cage\",\"Joan Allen\",\"Gina Gershon\",\"Alessandro Nivola\",\"Colm Feore\",\"Dominique Swain\",\"Nick Cassavetes\",\"John Carroll Lynch\",\"CCH Pounder\",\"Robert Wisdom\",\"Margaret Cho\",\"Thomas Jane\",\"James Denton\",\"Tommy Flanagan (actor)|Tommy Flanagan\",\"Matt Ross (actor)|Matt Ross\",\"Danny Masterson\",\"Chris Bauer\",\"Romy Walthall\",\"Myles Jeffrey\",\"David McCurley\",\"Lauren Sinclair\",\"Uma Thurman\",\"Harvey Keitel\",\"Tim Roth\",\"Amanda Plummer\",\"Maria de Medeiros\",\"Ving Rhames\",\"Eric Stoltz\",\"Rosanna Arquette\",\"Jeremy Irons\",\"Graham Greene (actor)|Graham Greene\",\"Colleen Camp\",\"Larry Bryggman\",\"Sam Phillips (musician)|Sam Phillips\",\"Anthony Peck\",\"Nick Wyman\",\"Stephen Pearlman\",\"Kevin Chamberlin\",\"Richard Russell Ramos\",\"Charles Dumas\",\"Michael Cristofer\",\"Harvey Keitel\",\"Tim Roth\",\"Amanda Plummer\",\"Maria de Medeiros\",\"Ving Rhames\",\"Eric Stoltz\",\"Rosanna Arquette\",\"Tim Roth\",\"Amanda Plummer\",\"Maria de Medeiros\",\"Ving Rhames\",\"Eric Stoltz\",\"Rosanna Arquette\",\"Whoopi Goldberg\",\"Maggie Smith\",\"Isis Carmen Jones\",\"Bill Nunn\",\"Mary Wickes\",\"Kathy Najimy\",\"Wendy Makkena\",\"Joseph Maher\",\"Robert Miranda (actor)|Robert Miranda\",\"Richard Portnow\",\"Rose Parenti\",\"Jim Beaver\",\"Jenifer Lewis\",\"Charlotte Crossley\",\"Adrienne-Joi Johnson|A.J. Johnson\",\"Lois de Banzie\",\"Max Grod\\u00e9nchik\",\"Joseph G. Medalis\",\"Michael Durrell\",\"Toni Kalem\",\"Gene Greytak|Eugene Greytak\",\"Guy Boyd (actor)|Guy Boyd\",\"Ellen Albertini Dow\",\"Pat Crawford Brown\",\"Prudence Wright Holmes\",\"Georgia Creighton\",\"Susan Johnson (actor)|Susan Johnson\",\"Ruth Kobart\",\"Susan Browning\",\"Darlene Koldenhoven\",\"Sheri Izzard\",\"Edith Diaz\",\"Beth Fowler\",\"Amanda Plummer\",\"Maria de Medeiros\",\"Ving Rhames\",\"Eric Stoltz\",\"Rosanna Arquette\",\"Tom Cruise\",\"Cuba Gooding Jr.\",\"Ren\\u00e9e Zellweger\",\"Bonnie Hunt\",\"Regina King\",\"Rachel Ticotin\",\"Sharon Stone\",\"Michael Ironside\",\"Ronny Cox\",\"Mel Johnson Jr.\",\"Marshall Bell\",\"Roy Brocksmith\",\"Ray Baker (actor)|Ray Baker\",\"Michael Campbell (musician and actor)|Michael Champion\",\"Rosemary Dunsmore\",\"Robert Costanzo\",\"Marc Alaimo\",\"Dean Norris\",\"Debbie Lee Carrington\",\"Lycia Naff\",\"Robert Picardo\",\"Sasha Rionda\",\"Mickey Jones\",\"Alexia Robinson\",\"Jamie Lee Curtis\",\"Tom Arnold (actor)|Tom Arnold\",\"Art Malik\",\"Tia Carrere\",\"Eliza Dushku\",\"Grant Heslov\",\"Charlton Heston\",\"Marshall Manesh\",\"James Allen\",\"Penelope Ann Miller\",\"Pamela Reed\",\"Linda Hunt\",\"Richard Tyson\",\"Carroll Baker\",\"Cathy Moriarty\",\"Park Overall\",\"Jayne Brook\",\"Richard Portnow\",\"Bob Nelson (comedian)|Bob Nelson\",\"Angela Bassett\",\"Sarah Rose Karr\",\"Miko Hughes\",\"Ben Diskin\",\"Adam Wylie\",\"Odette Yustman\",\"Michael Edwards (actor)|Michael Edwards\",\"Joe Morton\",\"Michael Ironside\",\"Ronny Cox\",\"Mel Johnson Jr.\",\"Marshall Bell\",\"Roy Brocksmith\",\"Ray Baker (actor)|Ray Baker\",\"Michael Campbell (musician and actor)|Michael Champion\",\"Rosemary Dunsmore\",\"Robert Costanzo\",\"Marc Alaimo\",\"Dean Norris\",\"Debbie Lee Carrington\",\"Lycia Naff\",\"Robert Picardo\",\"Sasha Rionda\",\"Mickey Jones\",\"Alexia Robinson\",\"Michael Douglas\",\"George Dzundza\",\"Jeanne Tripplehorn\",\"Denis Arndt\",\"Leilani Sarelle\",\"Bruce A. Young\",\"Dorothy Malone\",\"Wayne Knight\",\"Daniel von Bargen\",\"Stephen Tobolowsky\",\"Benjamin Mouton\",\"Jack McGee (actor)|Jack McGee\",\"Bill Cable\",\"Tom Cruise\",\"Gene Hackman\",\"Ed Harris\",\"Holly Hunter\",\"Hal Holbrook\",\"David Strathairn\",\"Gary Busey\",\"Ben Kingsley\",\"Ralph Fiennes\",\"Caroline Goodall\",\"Jonathan Sagall\",\"Embeth Davidtz\",\"Ma\\u0142gorzata Gebel\",\"Mark Ivanir\",\"Beatrice Macola\",\"Andrzej Seweryn\",\"Friedrich von Thun\",\"Jerzy Nowak\",\"Norbert Weisser\",\"Miri Fabian\",\"Anna Mucha\",\"Adi Nitzan\",\"Piotr Polk\",\"Rami Heuberger\",\"Ezra Dagan\",\"Elina L\\u00f6wensohn\",\"Hans-J\\u00f6rg Assmann\",\"Hans-Michael Rehberg\",\"Daniel Del Ponte\",\"August Schm\\u00f6lzer\",\"Ludger Pistor\",\"Oliwia D\\u0105browska\",\"Jan Jurewicz\",\"Ralph Fiennes\",\"Caroline Goodall\",\"Jonathan Sagall\",\"Embeth Davidtz\",\"Ma\\u0142gorzata Gebel\",\"Mark Ivanir\",\"Beatrice Macola\",\"Andrzej Seweryn\",\"Friedrich von Thun\",\"Jerzy Nowak\",\"Norbert Weisser\",\"Miri Fabian\",\"Anna Mucha\",\"Adi Nitzan\",\"Piotr Polk\",\"Rami Heuberger\",\"Ezra Dagan\",\"Elina L\\u00f6wensohn\",\"Hans-J\\u00f6rg Assmann\",\"Hans-Michael Rehberg\",\"Daniel Del Ponte\",\"August Schm\\u00f6lzer\",\"Ludger Pistor\",\"Oliwia D\\u0105browska\",\"Jan Jurewicz\",\"Caroline Goodall\",\"Jonathan Sagall\",\"Embeth Davidtz\",\"Ma\\u0142gorzata Gebel\",\"Mark Ivanir\",\"Beatrice Macola\",\"Andrzej Seweryn\",\"Friedrich von Thun\",\"Jerzy Nowak\",\"Norbert Weisser\",\"Miri Fabian\",\"Anna Mucha\",\"Adi Nitzan\",\"Piotr Polk\",\"Rami Heuberger\",\"Ezra Dagan\",\"Elina L\\u00f6wensohn\",\"Hans-J\\u00f6rg Assmann\",\"Hans-Michael Rehberg\",\"Daniel Del Ponte\",\"August Schm\\u00f6lzer\",\"Ludger Pistor\",\"Oliwia D\\u0105browska\",\"Jan Jurewicz\",\"Michael Douglas\",\"Demi Moore\",\"Donald Sutherland\",\"Tom Arnold (actor)|Tom Arnold\",\"Art Malik\",\"Tia Carrere\",\"Eliza Dushku\",\"Grant Heslov\",\"Charlton Heston\",\"Marshall Manesh\",\"James Allen\",\"Grant Heslov\",\"Charlton Heston\",\"Marshall Manesh\",\"James Allen\",\"Marshall Manesh\",\"James Allen\",\"Joseph Fiennes\",\"Geoffrey Rush\",\"Colin Firth\",\"Judi Dench\",\"Jim Carter (actor)|Jim Carter\",\"Martin Clunes\",\"Antony Sher\",\"Imelda Staunton\",\"Tom Wilkinson\",\"Mark Williams (actor)|Mark Williams\",\"Daniel Brocklebank\",\"Nicholas Le Prevost\",\"Jill Baker\",\"Patrick Barlow\",\"Joe Roberts\",\"Rupert Everett\",\"John Inman\",\"Sandra Reinton\",\"Paul Bigley\",\"Brad Pitt\",\"Morgan Freeman\",\"John C. McGinley\",\"R. Lee Ermey\",\"Richard Roundtree\",\"Richard Schiff\",\"Mark Boone Junior\",\"Michael Massee\",\"Julie Araskog\",\"Hawthorne James\",\"Bob Mack\",\"Gene Borkan\",\"Michael Reid MacKay\",\"Cat Mueller\",\"Heidi Schanz\",\"Reg E. Cathey\",\"Colin Firth\",\"Judi Dench\",\"Jim Carter (actor)|Jim Carter\",\"Martin Clunes\",\"Antony Sher\",\"Imelda Staunton\",\"Tom Wilkinson\",\"Mark Williams (actor)|Mark Williams\",\"Daniel Brocklebank\",\"Nicholas Le Prevost\",\"Jill Baker\",\"Patrick Barlow\",\"Joe Roberts\",\"Rupert Everett\",\"John Inman\",\"Sandra Reinton\",\"Paul Bigley\",\"Judi Dench\",\"Jim Carter (actor)|Jim Carter\",\"Martin Clunes\",\"Antony Sher\",\"Imelda Staunton\",\"Tom Wilkinson\",\"Mark Williams (actor)|Mark Williams\",\"Daniel Brocklebank\",\"Nicholas Le Prevost\",\"Jill Baker\",\"Patrick Barlow\",\"Joe Roberts\",\"Rupert Everett\",\"John Inman\",\"Sandra Reinton\",\"Paul Bigley\",\"Jim Carter (actor)|Jim Carter\",\"Martin Clunes\",\"Antony Sher\",\"Imelda Staunton\",\"Tom Wilkinson\",\"Mark Williams (actor)|Mark Williams\",\"Daniel Brocklebank\",\"Nicholas Le Prevost\",\"Jill Baker\",\"Patrick Barlow\",\"Joe Roberts\",\"Rupert Everett\",\"John Inman\",\"Sandra Reinton\",\"Paul Bigley\",\"Sophie Marceau\",\"Desmond Llewelyn\",\"Maria Grazia Cucinotta\",\"Michael Kitchen\",\"Serena Scott Thomas\",\"Ulrich Thomsen\",\"Goldie\",\"John Seru\",\"Claude-Oliver Rudolph\",\"Patrick Malahide\",\"David Calder (actor)|David Calder\",\"Sean Cronin (actor)|Sean Cronin\",\"Martyn Lewis\",\"Sean Bean\",\"Famke Janssen\",\"Jonathan Pryce\",\"Michelle Yeoh\",\"Ricky Jay\",\"G\\u00f6tz Otto\",\"Nina Young\",\"Daphne Deckers\",\"Julian Fellowes\",\"Cecilie Thomsen\",\"Julian Rhind-Tutt\",\"Tom Wilkinson\",\"Mark Williams (actor)|Mark Williams\",\"Daniel Brocklebank\",\"Nicholas Le Prevost\",\"Jill Baker\",\"Patrick Barlow\",\"Joe Roberts\",\"Rupert Everett\",\"John Inman\",\"Sandra Reinton\",\"Paul Bigley\",\"Mark Williams (actor)|Mark Williams\",\"Daniel Brocklebank\",\"Nicholas Le Prevost\",\"Jill Baker\",\"Patrick Barlow\",\"Joe Roberts\",\"Rupert Everett\",\"John Inman\",\"Sandra Reinton\",\"Paul Bigley\",\"Mark Addy\",\"Steve Huison\",\"Paul Barber (actor)|Paul Barber\",\"Hugo Speer\",\"William Snape\",\"Lesley Sharp\",\"Emily Woof\",\"Deirdre Costello (actress)|Deirdre Costello\",\"Paul Butterworth\",\"Dave Hill (actor)|Dave Hill\",\"Bruce Jones (actor)|Bruce Jones\",\"Andrew Livingston\",\"Vinny Dhillon\",\"Kate Rutter\",\"Jackie Chan\",\"Chris Tucker\",\"Ken Leung\",\"Elizabeth Pe\\u00f1a\",\"Mark Rolston\",\"Rex Linn\",\"Chris Penn\",\"Philip Baker Hall\",\"Julia Hsu\",\"John Hawkes (actor)|John Hawkes\",\"Clifton Powell\",\"Barry Shabaka Henley\",\"Julia Roberts\",\"Cameron Diaz\",\"Sandra Bullock\",\"Joe Morton\",\"Jeff Daniels\",\"Neisha Folkes-LeMelle\",\"Margaret Medina\",\"Richard Lineback\",\"Beau Starr\",\"Jordan Lund\",\"Alan Ruck\",\"Carlos Carrasco (actor)|Carlos Carrasco\",\"Glenn Plummer\",\"Daniel Villarreal\",\"Beth Grant\",\"Natsuko Ohomama\",\"David Kriegel\",\"Hawthorne James\",\"Richard Schiff\",\"John Capodice\",\"Thomas Rosales Jr.\",\"Sandy Martin\",\"Patrick Fischler\",\"Kevin Costner\",\"Jeanne Tripplehorn\",\"Tina Majorino\",\"Michael Jeter\",\"Gerard Murphy (Irish actor)|Gerard Murphy\",\"R. D. Call\",\"Kim Coates\",\"John Fleck (actor)|John Fleck\",\"Robert Joy\",\"Jack Black\",\"John Toles-Bey\",\"Robert LaSardo\",\"Zakes Mokae\",\"Zitto Kazann,\",\"Rick Aviles\",\"Jack Kehler\",\"Robert A. Silverman\",\"Neil Giuntoli\",\"William Preston (actor)|William Preston\",\"Sean Whalen\",\"Lee Arenberg\",\"Joe Morton\",\"Jeff Daniels\",\"Neisha Folkes-LeMelle\",\"Margaret Medina\",\"Richard Lineback\",\"Beau Starr\",\"Jordan Lund\",\"Alan Ruck\",\"Carlos Carrasco (actor)|Carlos Carrasco\",\"Glenn Plummer\",\"Daniel Villarreal\",\"Beth Grant\",\"Natsuko Ohomama\",\"David Kriegel\",\"Hawthorne James\",\"Richard Schiff\",\"John Capodice\",\"Thomas Rosales Jr.\",\"Sandy Martin\",\"Patrick Fischler\",\"Linda Hamilton\",\"Neisha Folkes-LeMelle\",\"Margaret Medina\",\"Richard Lineback\",\"Beau Starr\",\"Jordan Lund\",\"Alan Ruck\",\"Carlos Carrasco (actor)|Carlos Carrasco\",\"Glenn Plummer\",\"Daniel Villarreal\",\"Beth Grant\",\"Natsuko Ohomama\",\"David Kriegel\",\"Hawthorne James\",\"Richard Schiff\",\"John Capodice\",\"Thomas Rosales Jr.\",\"Sandy Martin\",\"Patrick Fischler\",\"Lauren Holly\",\"Karen Duffy\",\"Mike Starr (actor)|Mike Starr\",\"Charles Rocket\",\"Teri Garr\",\"Victoria Rowell\",\"Cam Neely\",\"Joe Baker\",\"Harland Williams\",\"Brad Lockerman\",\"Lin Shaye\",\"Hank Brandt\",\"Felton Perry\",\"Brady Bluhm\",\"Connie Sawyer\",\"Helen Hunt\",\"Cary Elwes\",\"Philip Seymour Hoffman\",\"Helen Hunt\",\"Cary Elwes\",\"Philip Seymour Hoffman\",\"Brad Pitt\",\"Morgan Freeman\",\"Brad Pitt\",\"Morgan Freeman\",\"Julianne Moore\",\"Pete Postlethwaite\",\"Richard Attenborough\",\"Vince Vaughn\",\"Eddie Murphy\",\"Helen Hunt\",\"Cary Elwes\",\"Philip Seymour Hoffman\",\"Graham Greene (actor)|Graham Greene\",\"Rodney A. Grant|Rodney Grant\",\"Rodney A. Grant\",\"Floyd Red Crow Westerman\",\"Tantoo Cardinal\",\"Jimmy Herman\",\"Nathan Lee Chasing His Horse\",\"Michael Spears\",\"Jason R. Lone Hill\",\"Charles Rocket\",\"Robert Pastorelli\",\"Tony Pierce\",\"Larry Joshua\",\"Kirk Baltz\",\"Tom Everett\",\"Maury Chaykin\",\"Wes Studi\",\"Wayne Grace\",\"Michael Horton (actor)|Michael Horton\",\"Doris Leader Charge\",\"Donald Hotton\",\"Frank P. Costanza\",\"Annie Costner\",\"Otakuye Conroy\",\"Jim Wilson (producer)|Jim Wilson\",\"Morgan Freeman\",\"Christian Slater\",\"Alan Rickman\",\"Mary Elizabeth Mastrantonio\",\"Geraldine McEwan\",\"Mike McShane|Michael McShane\",\"Brian Blessed\",\"Michael Wincott\",\"Nick Brimble\",\"Harold Innocent\",\"Walter Sparrow\",\"Daniel Newman (British actor)|Daniel Newman\",\"Daniel Peacock\",\"Jack Wild\",\"Soo Drouet\",\"Liam Halligan\",\"Michael Goldie\",\"Susannah Corbett\",\"Sean Connery\",\"Whitney Houston\",\"Gary Kemp\",\"Bill Cobbs\",\"Ralph Waite\",\"Tomas Arana\",\"Michele Lamar Richards\",\"Mike Starr (actor)|Mike Starr\",\"Christopher Birt\",\"DeVaughn Nixon\",\"Gerry Bamman\",\"Jeanne Tripplehorn\",\"Tina Majorino\",\"Michael Jeter\",\"Gerard Murphy (Irish actor)|Gerard Murphy\",\"R. D. Call\",\"Kim Coates\",\"John Fleck (actor)|John Fleck\",\"Robert Joy\",\"Jack Black\",\"John Toles-Bey\",\"Robert LaSardo\",\"Zakes Mokae\",\"Zitto Kazann,\",\"Rick Aviles\",\"Jack Kehler\",\"Chris Douridas\",\"Robert A. Silverman\",\"Neil Giuntoli\",\"William Preston (actor)|William Preston\",\"Sean Whalen\",\"Lee Arenberg\",\"Jeremy Irons\",\"Antonio Banderas\",\"Anthony Hopkins\",\"Demi Moore\",\"Whoopi Goldberg\",\"Tony Goldwyn\",\"Rick Aviles\",\"Gail Boggs\",\"Armelia McQueen\",\"Phil Leeds\",\"Augie Blunt\",\"Stephen Root\",\"Bruce Jarchow\",\"Whoopi Goldberg\",\"Tony Goldwyn\",\"Rick Aviles\",\"Gail Boggs\",\"Armelia McQueen\",\"Phil Leeds\",\"Augie Blunt\",\"Stephen Root\",\"Bruce Jarchow\",\"Robert Redford\",\"Woody Harrelson\",\"Oliver Platt\",\"Seymour Cassel\",\"Rip Taylor\",\"Billy Connolly\",\"Pamela Holt\",\"Tommy Bush\",\"Sheena Easton\",\"Herbie Hancock\",\"Michael Douglas\",\"Donald Sutherland\",\"Dennis Miller\",\"Roma Maffia\",\"Dylan Baker\",\"Rosemary Forsyth\",\"Suzie Plakson\",\"Nicholas Sadler\",\"Jacqueline Kim\",\"Kate Williamson\",\"Donal Logue\",\"Farrah Forke\",\"Allan Rich\",\"David Gallagher\",\"Tom Cruise\",\"Jack Nicholson\",\"Kevin Bacon\",\"Kevin Pollak\",\"James Marshall (actor)|James Marshall\",\"J. T. Walsh\",\"Kiefer Sutherland\",\"Wolfgang Bodison\",\"J. A. Preston\",\"Michael DeLorenzo\",\"Noah Wyle\",\"Cuba Gooding Jr.\",\"Xander Berkeley\",\"John M. Jackson\",\"Christopher Guest\",\"David Bowe (actor)|David Bowe\",\"Joshua Malina\",\"Little Caesar (singer)|Harry Caesar\",\"Arthur Senzy\",\"Tony Goldwyn\",\"Rick Aviles\",\"Gail Boggs\",\"Armelia McQueen\",\"Phil Leeds\",\"Augie Blunt\",\"Stephen Root\",\"Bruce Jarchow\",\"Maggie Smith\",\"Isis Carmen Jones\",\"Mary Wickes\",\"Wendy Makkena\",\"Robert Miranda (actor)|Robert Miranda\",\"Richard Portnow\",\"Rose Parenti\",\"Jim Beaver\",\"Jenifer Lewis\",\"Charlotte Crossley\",\"Adrienne-Joi Johnson|A.J. Johnson\",\"Lois de Banzie\",\"Max Grod\\u00e9nchik\",\"Joseph G. Medalis\",\"Michael Durrell\",\"Toni Kalem\",\"Gene Greytak|Eugene Greytak\",\"Guy Boyd (actor)|Guy Boyd\",\"Ellen Albertini Dow\",\"Carmen Zapata\",\"Pat Crawford Brown\",\"Prudence Wright Holmes\",\"Georgia Creighton\",\"Susan Johnson (actor)|Susan Johnson\",\"Ruth Kobart\",\"Susan Browning\",\"Darlene Koldenhoven\",\"Sheri Izzard\",\"Edith Diaz\",\"Beth Fowler\",\"Jack Black\",\"Cuba Gooding Jr.\",\"Ren\\u00e9e Zellweger\",\"Kelly Preston\",\"Jerry O'Connell\",\"Jay Mohr\",\"Regina King\",\"Jonathan Lipnicki\",\"Todd Louiso\",\"Jeremy Suarez\",\"Jared Jussim\",\"Jann Wenner\",\"Ali Wentworth\",\"Aries Spears\",\"Kelly Coffield Park|Kelly Coffield\",\"Winnie Holzman\",\"Glenn Frey\",\"Donal Logue\",\"Tom Gallop\",\"Angela Goethals\",\"Rick Johnson (gridiron football)|Rick Johnson\",\"Jerry Cantrell\",\"Toby Huss\",\"Drake Bell\",\"Christine Cavanaugh\",\"Brent Barry\",\"Theo Greenly\",\"Jerry Ziesmer\",\"Anthony Natale\",\"Reagan Gomez-Preston\",\"Lucy Liu\",\"Roy Firestone\",\"Beau Bridges\",\"Barry Switzer\",\"Jack Nicholson\",\"Kevin Bacon\",\"Kevin Pollak\",\"James Marshall (actor)|James Marshall\",\"J. T. Walsh\",\"Kiefer Sutherland\",\"Wolfgang Bodison\",\"J. A. Preston\",\"Michael DeLorenzo\",\"Noah Wyle\",\"Xander Berkeley\",\"Matt Craven\",\"John M. Jackson\",\"Christopher Guest\",\"David Bowe (actor)|David Bowe\",\"Joshua Malina\",\"Little Caesar (singer)|Harry Caesar\",\"Arthur Senzy\",\"Jeanne Tripplehorn\",\"Gene Hackman\",\"Ed Harris\",\"Holly Hunter\",\"Hal Holbrook\",\"David Strathairn\",\"Jerry Hardin\",\"Terry Kinney\",\"Wilford Brimley\",\"Sullivan Walker\",\"Gary Busey\",\"Steven Hill\",\"Paul Sorvino\",\"Joe Viterelli\",\"Jerry Weintraub\",\"Tobin Bell\",\"Karina Lombard\",\"John Beal (actor)|John Beal\",\"Paul Calderon\",\"Ren\\u00e9e Zellweger\",\"Kelly Preston\",\"Jerry O'Connell\",\"Jay Mohr\",\"Bonnie Hunt\",\"Regina King\",\"Jonathan Lipnicki\",\"Todd Louiso\",\"Jeremy Suarez\",\"Jared Jussim\",\"Jann Wenner\",\"Ali Wentworth\",\"Aries Spears\",\"Kelly Coffield Park|Kelly Coffield\",\"Winnie Holzman\",\"Glenn Frey\",\"Donal Logue\",\"Tom Gallop\",\"Angela Goethals\",\"Rick Johnson (gridiron football)|Rick Johnson\",\"Jerry Cantrell\",\"Toby Huss\",\"Drake Bell\",\"Christine Cavanaugh\",\"Brent Barry\",\"Theo Greenly\",\"Jerry Ziesmer\",\"Anthony Natale\",\"Reagan Gomez-Preston\",\"Lucy Liu\",\"Roy Firestone\",\"Beau Bridges\",\"Barry Switzer\",\"Jack Nicholson\",\"Helen Hunt\",\"Greg Kinnear\",\"Skeet Ulrich\",\"Shirley Knight\",\"Yeardley Smith\",\"Lupe Ontiveros\",\"Bibi Osterwald\",\"Harold Ramis\",\"Lawrence Kasdan\",\"Julie Benz\",\"Shane Black\",\"Leslie Stefanson\",\"Tom McGowan\",\"Brian Doyle-Murray\",\"Jamie Kennedy\",\"Missi Pyle\",\"Wood Harris\",\"Maya Rudolph\",\"Kevin Bacon\",\"Kiefer Sutherland\",\"Xander Berkeley\",\"Matt Craven\",\"John M. Jackson\",\"Christopher Guest\",\"David Bowe (actor)|David Bowe\",\"Joshua Malina\",\"Little Caesar (singer)|Harry Caesar\",\"Arthur Senzy\",\"Kelly Preston\",\"Jerry O'Connell\",\"Jay Mohr\",\"Bonnie Hunt\",\"Regina King\",\"Jonathan Lipnicki\",\"Todd Louiso\",\"Jeremy Suarez\",\"Jared Jussim\",\"Jann Wenner\",\"Ali Wentworth\",\"Aries Spears\",\"Kelly Coffield Park|Kelly Coffield\",\"Winnie Holzman\",\"Glenn Frey\",\"Donal Logue\",\"Tom Gallop\",\"Angela Goethals\",\"Rick Johnson (gridiron football)|Rick Johnson\",\"Jerry Cantrell\",\"Toby Huss\",\"Drake Bell\",\"Christine Cavanaugh\",\"Brent Barry\",\"Theo Greenly\",\"Jerry Ziesmer\",\"Anthony Natale\",\"Reagan Gomez-Preston\",\"Lucy Liu\",\"Roy Firestone\",\"Beau Bridges\",\"Barry Switzer\",\"Bonnie Hunt\",\"Jonathan Lipnicki\",\"Todd Louiso\",\"Jeremy Suarez\",\"Jared Jussim\",\"Jann Wenner\",\"Ali Wentworth\",\"Aries Spears\",\"Kelly Coffield Park|Kelly Coffield\",\"Winnie Holzman\",\"Glenn Frey\",\"Donal Logue\",\"Tom Gallop\",\"Angela Goethals\",\"Rick Johnson (gridiron football)|Rick Johnson\",\"Jerry Cantrell\",\"Toby Huss\",\"Drake Bell\",\"Christine Cavanaugh\",\"Brent Barry\",\"Theo Greenly\",\"Jerry Ziesmer\",\"Anthony Natale\",\"Reagan Gomez-Preston\",\"Lucy Liu\",\"Roy Firestone\",\"Beau Bridges\",\"Barry Switzer\",\"Bonnie Hunt\",\"Eddie Murphy\",\"Chris Rock\",\"Albert Brooks\",\"John Leguizamo\",\"Bonnie Hunt\",\"Bonnie Hunt\",\"Bonnie Hunt\",\"Bonnie Hunt\",\"Bonnie Hunt\",\"Bonnie Hunt\",\"Bonnie Hunt\",\"Bonnie Hunt\",\"Bonnie Hunt\",\"Bonnie Hunt\",\"Michael Douglas\",\"Donald Sutherland\",\"Bonnie Hunt\",\"Bonnie Hunt\",\"Macaulay Culkin\",\"Joe Pesci\",\"Bonnie Hunt\",\"Bonnie Hunt\",\"Bonnie Hunt\",\"Bonnie Hunt\",\"Bonnie Hunt\",\"Bonnie Hunt\",\"Bonnie Hunt\",\"Bonnie Hunt\",\"Bonnie Hunt\",\"Bonnie Hunt\",\"Bonnie Hunt\",\"Roy Firestone\",\"Beau Bridges\",\"Barry Switzer\",\"Bonnie Hunt\",\"Bonnie Hunt\",\"Bonnie Hunt\",\"Robin Williams\",\"Kirsten Dunst\",\"Bebe Neuwirth\",\"Helen Hunt\",\"Greg Kinnear\",\"Skeet Ulrich\",\"Shirley Knight\",\"Jesse James (actor)|Jesse James\",\"Yeardley Smith\",\"Lupe Ontiveros\",\"Bibi Osterwald\",\"Harold Ramis\",\"Lawrence Kasdan\",\"Julie Benz\",\"Shane Black\",\"Leslie Stefanson\",\"Tom McGowan\",\"Brian Doyle-Murray\",\"Jamie Kennedy\",\"Missi Pyle\",\"Wood Harris\",\"Maya Rudolph\",\"Kevin Bacon\",\"Kevin Pollak\",\"James Marshall (actor)|James Marshall\",\"Kiefer Sutherland\",\"Wolfgang Bodison\",\"J. A. Preston\",\"Michael DeLorenzo\",\"Noah Wyle\",\"Xander Berkeley\",\"Matt Craven\",\"John M. Jackson\",\"David Bowe (actor)|David Bowe\",\"Joshua Malina\",\"Little Caesar (singer)|Harry Caesar\",\"Arthur Senzy\",\"Greg Kinnear\",\"Skeet Ulrich\",\"Shirley Knight\",\"Jesse James (actor)|Jesse James\",\"Yeardley Smith\",\"Lupe Ontiveros\",\"Bibi Osterwald\",\"Harold Ramis\",\"Lawrence Kasdan\",\"Julie Benz\",\"Shane Black\",\"Leslie Stefanson\",\"Tom McGowan\",\"Brian Doyle-Murray\",\"Jamie Kennedy\",\"Missi Pyle\",\"Wood Harris\",\"Maya Rudolph\",\"Jami Gertz\",\"Cary Elwes\",\"Alexa PenaVega|Alexa Vega\",\"Philip Seymour Hoffman\",\"Sean Whalen\",\"Todd Field\",\"Wendle Josepher\",\"Joey Slotnick\",\"Scott Thomson (actor)|Scott Thomson\",\"Lois Smith\",\"Zach Grenier\",\"Rusty Schwimmer\",\"Abraham Benrubi\",\"Anthony Rapp\",\"Jake Busey\",\"Skeet Ulrich\",\"Shirley Knight\",\"Jesse James (actor)|Jesse James\",\"Yeardley Smith\",\"Lupe Ontiveros\",\"Bibi Osterwald\",\"Harold Ramis\",\"Lawrence Kasdan\",\"Julie Benz\",\"Shane Black\",\"Leslie Stefanson\",\"Tom McGowan\",\"Brian Doyle-Murray\",\"Jamie Kennedy\",\"Missi Pyle\",\"Wood Harris\",\"Maya Rudolph\",\"Meg Ryan\",\"Parker Posey\",\"Katie Sagona\",\"Dabney Coleman\",\"Heather Burns\",\"John Randolph (actor)|John Randolph\",\"Deborah Rush\",\"Hallee Hirsh\",\"Sara Ramirez\",\"Cara Seymour\",\"Jeffrey Scaperrotta\",\"Kathryn Meisle\",\"Reiko Aylesworth\",\"Eddie Murphy\",\"Chris Rock\",\"Albert Brooks\",\"Stellan Skarsg\\u00e5rd\",\"Minnie Driver\",\"Casey Affleck\",\"Cole Hauser\",\"John Mighton\",\"Scott William Winters\",\"Jimmy Flynn\",\"Christopher Britton (actor)|Christopher Britton\",\"Alison Folland\",\"George Plimpton\",\"Pierce Brosnan\",\"Robert Prosky\",\"Polly Holliday\",\"Matthew Lawrence\",\"Mara Wilson\",\"Anne Haney\",\"Scott Capurro\",\"Martin Mull\",\"William Newman (actor)|William Newman\",\"Kirsten Dunst\",\"David Alan Grier\",\"Bebe Neuwirth\",\"Minnie Driver\",\"Casey Affleck\",\"Cole Hauser\",\"John Mighton\",\"Scott William Winters\",\"Jimmy Flynn\",\"Christopher Britton (actor)|Christopher Britton\",\"Alison Folland\",\"George Plimpton\",\"Casey Affleck\",\"Cole Hauser\",\"John Mighton\",\"Scott William Winters\",\"Jimmy Flynn\",\"Christopher Britton (actor)|Christopher Britton\",\"Alison Folland\",\"George Plimpton\",\"Cole Hauser\",\"John Mighton\",\"Scott William Winters\",\"Jimmy Flynn\",\"Christopher Britton (actor)|Christopher Britton\",\"Alison Folland\",\"George Plimpton\",\"Ian Holm\",\"Chris Tucker\",\"Milla Jovovich\",\"Luke Perry\",\"Brion James\",\"Tom Lister Jr.|Tommy \\\"Tiny\\\" Lister Jr.\",\"Lee Evans (comedian)|Lee Evans\",\"Charlie Creed-Miles\",\"Tricky (musician)|Tricky\",\"John Neville (actor)|John Neville\",\"Ma\\u00efwenn Le Besco\",\"Winona Ryder\",\"Anthony Hopkins\",\"Richard E. Grant\",\"Cary Elwes\",\"Billy Campbell\",\"Sadie Frost\",\"Tom Waits\",\"Monica Bellucci\",\"Michaela Bercu\",\"Florina Kendrick\",\"Jay Robinson\",\"Chris Tucker\",\"Milla Jovovich\",\"Luke Perry\",\"Brion James\",\"Tom Lister Jr.|Tommy \\\"Tiny\\\" Lister Jr.\",\"Lee Evans (comedian)|Lee Evans\",\"Charlie Creed-Miles\",\"Tricky (musician)|Tricky\",\"John Neville (actor)|John Neville\",\"Ma\\u00efwenn Le Besco\",\"Milla Jovovich\",\"Luke Perry\",\"Brion James\",\"Tom Lister Jr.|Tommy \\\"Tiny\\\" Lister Jr.\",\"Lee Evans (comedian)|Lee Evans\",\"Charlie Creed-Miles\",\"Tricky (musician)|Tricky\",\"John Neville (actor)|John Neville\",\"Ma\\u00efwenn Le Besco\",\"Jackie Chan\",\"Tzi Ma\",\"Ken Leung\",\"Elizabeth Pe\\u00f1a\",\"Mark Rolston\",\"Rex Linn\",\"Chris Penn\",\"Philip Baker Hall\",\"Julia Hsu\",\"John Hawkes (actor)|John Hawkes\",\"Clifton Powell\",\"Barry Shabaka Henley\",\"Luke Perry\",\"Brion James\",\"Tom Lister Jr.|Tommy \\\"Tiny\\\" Lister Jr.\",\"Lee Evans (comedian)|Lee Evans\",\"Charlie Creed-Miles\",\"Tricky (musician)|Tricky\",\"John Neville (actor)|John Neville\",\"Ma\\u00efwenn Le Besco\",\"Cameron Diaz\",\"Matt Dillon\",\"Ben Stiller\",\"Julia Roberts\",\"Ralph Bellamy\",\"Jason Alexander\",\"H\\u00e9ctor Elizondo\",\"Laura San Giacomo\",\"Alex Hyde-White\",\"Amy Yasbeck\",\"Elinor Donahue\",\"John David Carson\",\"Judith Baldwin\",\"James Patrick Stuart\",\"Dey Young\",\"Larry Miller (comedian)|Larry Miller\",\"Hank Azaria\",\"Amzie Strickland\",\"Lynda Goodfriend\",\"Ralph Bellamy\",\"Jason Alexander\",\"H\\u00e9ctor Elizondo\",\"Laura San Giacomo\",\"Alex Hyde-White\",\"Amy Yasbeck\",\"Elinor Donahue\",\"John David Carson\",\"Judith Baldwin\",\"James Patrick Stuart\",\"Dey Young\",\"Larry Miller (comedian)|Larry Miller\",\"Hank Azaria\",\"Amzie Strickland\",\"Lynda Goodfriend\",\"Dermot Mulroney\",\"Cameron Diaz\",\"Philip Bosco\",\"M. Emmet Walsh\",\"Rachel Griffiths\",\"Carrie Preston\",\"Susan Sullivan\",\"Christopher Masterson\",\"James Coburn\",\"Matthew Broderick\",\"Jean Reno\",\"Parker Posey\",\"Jean Stapleton\",\"Dave Chappelle\",\"Steve Zahn\",\"Katie Sagona\",\"Dabney Coleman\",\"Heather Burns\",\"John Randolph (actor)|John Randolph\",\"Deborah Rush\",\"Hallee Hirsh\",\"Sara Ramirez\",\"Cara Seymour\",\"Jeffrey Scaperrotta\",\"Kathryn Meisle\",\"Reiko Aylesworth\",\"Ross Malinger\",\"Rob Reiner\",\"Rosie O'Donnell\",\"Gaby Hoffmann\",\"Rita Wilson\",\"Barbara Garrick\",\"Carey Lowell\",\"David Hyde Pierce\",\"Dana Ivey\",\"Kevin O'Morrison\",\"Caroline Aaron\",\"Frances Conroy\",\"Calvin Trillin\",\"Le Clanch\\u00e9 du Rand\",\"Jean Stapleton\",\"Dave Chappelle\",\"Steve Zahn\",\"Katie Sagona\",\"Dabney Coleman\",\"Heather Burns\",\"John Randolph (actor)|John Randolph\",\"Deborah Rush\",\"Hallee Hirsh\",\"Sara Ramirez\",\"Cara Seymour\",\"Jeffrey Scaperrotta\",\"Kathryn Meisle\",\"Reiko Aylesworth\",\"Eddie Murphy\",\"James Coburn\",\"Sophie Marceau\",\"Robert Carlyle\",\"Denise Richards\",\"Robbie Coltrane\",\"Desmond Llewelyn\",\"Maria Grazia Cucinotta\",\"Michael Kitchen\",\"Serena Scott Thomas\",\"Ulrich Thomsen\",\"Goldie\",\"John Seru\",\"Claude-Oliver Rudolph\",\"Patrick Malahide\",\"David Calder (actor)|David Calder\",\"Sean Cronin (actor)|Sean Cronin\",\"Martyn Lewis\",\"Sean Bean\",\"Izabella Scorupco\",\"Famke Janssen\",\"Joe Don Baker\",\"Tch\\u00e9ky Karyo\",\"Gottfried John\",\"Alan Cumming\",\"Serena Gordon\",\"Jonathan Pryce\",\"Michelle Yeoh\",\"Teri Hatcher\",\"Ricky Jay\",\"G\\u00f6tz Otto\",\"Nina Young\",\"Daphne Deckers\",\"Julian Fellowes\",\"Cecilie Thomsen\",\"Gerard Butler\",\"Julian Rhind-Tutt\",\"Hugh Bonneville\",\"Geoffrey Palmer (actor)|Geoffrey Palmer\",\"Robert Prosky\",\"Polly Holliday\",\"Matthew Lawrence\",\"Mara Wilson\",\"Anne Haney\",\"Scott Capurro\",\"Martin Mull\",\"William Newman (actor)|William Newman\",\"Robert Carlyle\",\"Denise Richards\",\"Robbie Coltrane\",\"Desmond Llewelyn\",\"Maria Grazia Cucinotta\",\"Samantha Bond\",\"Michael Kitchen\",\"Colin Salmon\",\"Serena Scott Thomas\",\"Ulrich Thomsen\",\"Goldie\",\"John Seru\",\"Claude-Oliver Rudolph\",\"Patrick Malahide\",\"David Calder (actor)|David Calder\",\"Sean Cronin (actor)|Sean Cronin\",\"Martyn Lewis\",\"Sean Bean\",\"Famke Janssen\",\"Sean Bean\",\"Famke Janssen\",\"Jonathan Pryce\",\"Michelle Yeoh\",\"Sean Bean\",\"Famke Janssen\",\"Sean Bean\",\"Famke Janssen\",\"Jonathan Pryce\",\"Michelle Yeoh\",\"Jonathan Pryce\",\"Michelle Yeoh\",\"Vincent D'Onofrio\",\"Rip Torn\",\"D'Onofrio\",\"Tony Shalhoub\",\"Mike Nussbaum\",\"Jon Gries\",\"Sergio Calder\\u00f3n\",\"John Alexander\",\"Patrick Breen\",\"Becky Ann Baker\",\"Carel Struycken\",\"Fredric Lehne\",\"Kent Faulcon\",\"Richard Hamilton (actor)|Richard Hamilton\",\"David Cross\",\"Sean Whalen\",\"Ray Park\",\"Tim Blaney\",\"Mark Setrakian\",\"Brad Abrell, Thom Fountain, Carl J. Johnson\",\"Cary Elwes\",\"Philip Seymour Hoffman\",\"Jack Black\",\"Morgan Freeman\",\"John C. McGinley\",\"R. Lee Ermey\",\"Richard Roundtree\",\"Mark Boone Junior\",\"Michael Massee\",\"Julie Araskog\",\"Bob Mack\",\"Gene Borkan\",\"Michael Reid MacKay\",\"Cat Mueller\",\"Heidi Schanz\",\"Reg E. Cathey\",\"John C. McGinley\",\"R. Lee Ermey\",\"Richard Roundtree\",\"Mark Boone Junior\",\"Michael Massee\",\"Julie Araskog\",\"Bob Mack\",\"Gene Borkan\",\"Michael Reid MacKay\",\"Cat Mueller\",\"Heidi Schanz\",\"Reg E. Cathey\",\"Christian Slater\",\"Alan Rickman\",\"Mary Elizabeth Mastrantonio\",\"Geraldine McEwan\",\"Mike McShane|Michael McShane\",\"Brian Blessed\",\"Michael Wincott\",\"Nick Brimble\",\"Harold Innocent\",\"Walter Sparrow\",\"Daniel Newman (British actor)|Daniel Newman\",\"Daniel Peacock\",\"Jack Wild\",\"Soo Drouet\",\"Liam Halligan\",\"Michael Goldie\",\"Susannah Corbett\",\"Sean Connery\",\"Cameron Diaz\",\"Mary Steenburgen\",\"Matt Clark (actor)|Matt Clark\",\"Christopher Lloyd\",\"Thomas F. Wilson\",\"Lea Thompson\",\"James Tolkan\",\"Matt Clark (actor)|Matt Clark\",\"Elisabeth Shue\",\"Flea (musician)|Flea\",\"Joe Pesci\",\"Daniel Stern (actor)|Daniel Stern\",\"John Heard (actor)|John Heard\",\"Catherine O'Hara\",\"Roberts Blossom\",\"Devin Ratray\",\"Gerry Bamman\",\"Hillary Wolf\",\"John Candy\",\"Larry Hankin\",\"Michael C. Maronna\",\"Kristin Minter\",\"Daiana Campeanu\",\"Jedidiah Cohen\",\"Kieran Culkin\",\"Senta Moses\",\"Anna Slotky\",\"Terrie Snell\",\"Jeffrey Wiseman\",\"Virginia Smith\",\"Matt Doherty (actor)|Matt Doherty\",\"Ralph Foody\",\"Michael Guido\",\"Ray Toler\",\"Billie Bird\",\"Bill Erwin\",\"Gerry Becker\",\"Alan Wilder (actor)|Alan Wilder\",\"Hope Davis\",\"Kenneth Hudson Campbell\",\"Tim Curry\",\"Brenda Fricker\",\"Maureen Elisabeth Shay\",\"Eddie Bracken\",\"Dana Ivey\",\"Rob Schneider\",\"Leigh Zimmerman\",\"Clare Hoak\",\"Monica Devereux\",\"Bob Eubanks\",\"Rip Taylor\",\"Jaye P. Morgan\",\"Jimmie Walker\",\"Ally Sheedy\",\"Rod Sell\",\"Ron Canada\",\"Donald Trump\",\"Daniel Stern (actor)|Daniel Stern\",\"John Heard (actor)|John Heard\",\"Catherine O'Hara\",\"Roberts Blossom\",\"Devin Ratray\",\"Gerry Bamman\",\"Hillary Wolf\",\"Larry Hankin\",\"Michael C. Maronna\",\"Kristin Minter\",\"Daiana Campeanu\",\"Jedidiah Cohen\",\"Kieran Culkin\",\"Senta Moses\",\"Anna Slotky\",\"Terrie Snell\",\"Jeffrey Wiseman\",\"Virginia Smith\",\"Matt Doherty (actor)|Matt Doherty\",\"Ralph Foody\",\"Michael Guido\",\"Ray Toler\",\"Billie Bird\",\"Bill Erwin\",\"Gerry Becker\",\"Alan Wilder (actor)|Alan Wilder\",\"Hope Davis\",\"Kenneth Hudson Campbell\",\"Tim Curry\",\"Brenda Fricker\",\"Maureen Elisabeth Shay\",\"Eddie Bracken\",\"Dana Ivey\",\"Rob Schneider\",\"Leigh Zimmerman\",\"Clare Hoak\",\"Monica Devereux\",\"Bob Eubanks\",\"Rip Taylor\",\"Jaye P. Morgan\",\"Jimmie Walker\",\"Ally Sheedy\",\"Rod Sell\",\"Ron Canada\",\"Donald Trump\",\"Rene Russo\",\"Stuart Wilson (actor)|Stuart Wilson\",\"Ebonie Smith\",\"Nick Chinlund\",\"Alan Scarfe\",\"Delores Hall\",\"Gregory Millar\",\"Andrew Hill Newman\",\"Damon Hines\",\"Jason Rainwater\",\"Mark Pellegrino\",\"Chris Rock\",\"Jet Li\",\"Kim Chan\",\"Calvin Jung\",\"Jack Kehler\",\"Eddy Ko\",\"Conan Lee\",\"Richard Libertini\",\"Tim Curry\",\"Brenda Fricker\",\"Tim Curry\",\"Brenda Fricker\",\"Tim Curry\",\"Brenda Fricker\",\"Whitney Houston\",\"Tim Curry\",\"Brenda Fricker\",\"Larry Hankin\",\"Michael C. Maronna\",\"Kristin Minter\",\"Daiana Campeanu\",\"Jedidiah Cohen\",\"Kieran Culkin\",\"Senta Moses\",\"Anna Slotky\",\"Terrie Snell\",\"Jeffrey Wiseman\",\"Virginia Smith\",\"Matt Doherty (actor)|Matt Doherty\",\"Ralph Foody\",\"Michael Guido\",\"Ray Toler\",\"Billie Bird\",\"Bill Erwin\",\"Gerry Becker\",\"Alan Wilder (actor)|Alan Wilder\",\"Hope Davis\",\"Kenneth Hudson Campbell\",\"Tim Curry\",\"Brenda Fricker\",\"Tim Curry\",\"Brenda Fricker\",\"Tim Curry\",\"Brenda Fricker\",\"Tim Curry\",\"Brenda Fricker\",\"Tim Curry\",\"Brenda Fricker\",\"Tim Curry\",\"Brenda Fricker\",\"Tim Curry\",\"Brenda Fricker\",\"Tim Curry\",\"Brenda Fricker\",\"Rob Schneider\",\"Tim Curry\",\"Brenda Fricker\",\"Noah Emmerich\",\"Natascha McElhone\",\"Holland Taylor\",\"Ed Harris\",\"Brian Delate\",\"Peter Krause\",\"Harry Shearer\",\"Joel McKinnon Miller\",\"Brian Delate\",\"Peter Krause\",\"Joel McKinnon Miller\",\"David Strathairn\",\"Jerry Hardin\",\"Terry Kinney\",\"Sullivan Walker\",\"Gary Busey\",\"Steven Hill\",\"Jerry Weintraub\",\"Tobin Bell\",\"Karina Lombard\",\"John Beal (actor)|John Beal\",\"Paul Calderon\",\"Matthew Broderick\",\"Jean Reno\",\"Heather Graham\",\"Gia Carides\",\"Oliver Muirhead\",\"Jeff Garlin\",\"Elvis Costello\",\"Jerry Springer\",\"Steve Wilkos\",\"Rebecca Romijn\",\"Woody Harrelson\",\"Tim Robbins\",\"Fred Willard\",\"David Koechner\",\"Jaap Stam\",\"Humberto Tan\",\"Tony Jay\",\"Seth Green\",\"Rob Lowe\",\"Seth Green\",\"Rob Lowe\",\"Will Ferrell\",\"Seth Green\",\"Rob Lowe\",\"Will Ferrell\",\"Seth Green\",\"Rob Lowe\",\"Will Ferrell\",\"Seth Green\",\"Rob Lowe\",\"Will Ferrell\",\"Seth Green\",\"Rob Lowe\",\"Will Ferrell\",\"Seth Green\",\"Rob Lowe\",\"Will Ferrell\",\"Seth Green\",\"Rob Lowe\",\"Will Ferrell\",\"Charles Napier (actor)|Charles Napier\",\"Tim Robbins\",\"Fred Willard\",\"David Koechner\",\"Jaap Stam\",\"Humberto Tan\",\"Tony Jay\",\"Robert Redford\",\"Oliver Platt\",\"Seymour Cassel\",\"Rip Taylor\",\"Billy Connolly\",\"Pamela Holt\",\"Tommy Bush\",\"Sheena Easton\",\"Herbie Hancock\",\"Seth Green\",\"Rob Lowe\",\"Will Ferrell\",\"Willie Nelson\",\"Fred Willard\",\"David Koechner\",\"Jaap Stam\",\"Humberto Tan\",\"Tony Jay\",\"Seth Green\",\"Rob Lowe\",\"Will Ferrell\",\"Seth Green\",\"Rob Lowe\",\"Will Ferrell\",\"Seth Green\",\"Rob Lowe\",\"Will Ferrell\",\"Seth Green\",\"Rob Lowe\",\"Will Ferrell\",\"Seth Green\",\"Rob Lowe\",\"Will Ferrell\",\"Kristen Johnston\",\"Willie Nelson\",\"Mary Elizabeth Mastrantonio\",\"Geraldine McEwan\",\"Mike McShane|Michael McShane\",\"Brian Blessed\",\"Michael Wincott\",\"Nick Brimble\",\"Harold Innocent\",\"Walter Sparrow\",\"Daniel Newman (British actor)|Daniel Newman\",\"Daniel Peacock\",\"Jack Wild\",\"Soo Drouet\",\"Liam Halligan\",\"Michael Goldie\",\"Susannah Corbett\",\"Sean Connery\",\"Larry Bird\",\"Manner Washington\",\"Eric Gordon\",\"Penny Bae Bridges\",\"Charles Barkley\",\"Shawn Bradley\",\"Patrick Ewing\",\"Larry Johnson (basketball, born 1969)|Larry Johnson\",\"Muggsy Bogues\",\"Thom Barry\",\"Dee Bradley Baker\",\"Bob Bergen\",\"Bill Farmer\",\"Maurice LaMarche\",\"June Foray\",\"Kath Soucie\",\"Jocelyn Blue\",\"Darnell Suttles\",\"Charity James\",\"Steve Kehela\",\"June Melby\",\"Joey Camen\",\"Catherine Reitman\",\"Dorian Harewood\",\"Colleen Wainwright\",\"Nerdluck Nawt, the\",\"T. K. Carter\",\"Sniffles (Merrie Melodies)|Sniffles\",\"Frank Welker\",\"Matthew Broderick\",\"Jean Reno\",\"Izabella Scorupco\",\"Joe Don Baker\",\"Tch\\u00e9ky Karyo\",\"Gottfried John\",\"Alan Cumming\",\"Serena Gordon\",\"Joe Don Baker\",\"Tch\\u00e9ky Karyo\",\"Gottfried John\",\"Alan Cumming\",\"Serena Gordon\",\"Jonathan Pryce\",\"Michelle Yeoh\",\"Philip Bosco\",\"M. Emmet Walsh\",\"Rachel Griffiths\",\"Carrie Preston\",\"Susan Sullivan\",\"Christopher Masterson\",\"Matt Dillon\",\"Ben Stiller\",\"Chris Elliott\",\"Lin Shaye\",\"Jeffrey Tambor\",\"Markie Post\",\"W. Earl Brown\",\"Sarah Silverman\",\"Khandi Alexander\",\"Willie Garson\",\"Harland Williams\",\"Richard Tyson\",\"Rob Moran\",\"Jonathan Richman\",\"Steve Sweeney\",\"Lenny Clarke\",\"Richard Jenkins\",\"Brett Favre\",\"Max\",\"Orestes Matacena\",\"Jim Doughan\",\"Jeremy Roberts\",\"Ben Stein\",\"Ivory Ocean\",\"William Daniel Mielcarek\",\"Denis Forest\",\"Eamonn Roche\",\"Nancy Fish\",\"Nils Allen Stewart\",\"Blake Clark\",\"Carrie Preston\",\"Susan Sullivan\",\"Christopher Masterson\",\"Ben Stiller\",\"Chris Elliott\",\"Lin Shaye\",\"Jeffrey Tambor\",\"Markie Post\",\"W. Earl Brown\",\"Sarah Silverman\",\"Khandi Alexander\",\"Willie Garson\",\"Harland Williams\",\"Richard Tyson\",\"Rob Moran\",\"Jonathan Richman\",\"Steve Sweeney\",\"Lenny Clarke\",\"Richard Jenkins\",\"Brett Favre\",\"Chris Elliott\",\"Lin Shaye\",\"Jeffrey Tambor\",\"Markie Post\",\"W. Earl Brown\",\"Sarah Silverman\",\"Khandi Alexander\",\"Willie Garson\",\"Harland Williams\",\"Richard Tyson\",\"Rob Moran\",\"Jonathan Richman\",\"Steve Sweeney\",\"Lenny Clarke\",\"Brett Favre\",\"Teri Garr\",\"Eddie Murphy\",\"Teri Garr\",\"Linda Hunt\",\"Brett Favre\",\"Brenda Fricker\",\"Maureen Elisabeth Shay\",\"Eddie Bracken\",\"Rob Schneider\",\"Leigh Zimmerman\",\"Clare Hoak\",\"Monica Devereux\",\"Bob Eubanks\",\"Rip Taylor\",\"Jaye P. Morgan\",\"Jimmie Walker\",\"Ally Sheedy\",\"Rod Sell\",\"Ron Canada\",\"Donald Trump\",\"Maureen Elisabeth Shay\",\"Eddie Bracken\",\"Rob Schneider\",\"Leigh Zimmerman\",\"Clare Hoak\",\"Monica Devereux\",\"Bob Eubanks\",\"Rip Taylor\",\"Jaye P. Morgan\",\"Jimmie Walker\",\"Ally Sheedy\",\"Rod Sell\",\"Ron Canada\",\"Donald Trump\",\"Leigh Zimmerman\",\"Clare Hoak\",\"Monica Devereux\",\"Bob Eubanks\",\"Rip Taylor\",\"Jaye P. Morgan\",\"Jimmie Walker\",\"Ally Sheedy\",\"Rod Sell\",\"Ron Canada\",\"Donald Trump\",\"Robert Redford\",\"Alexa PenaVega|Alexa Vega\",\"Philip Seymour Hoffman\",\"Todd Field\",\"Wendle Josepher\",\"Joey Slotnick\",\"Scott Thomson (actor)|Scott Thomson\",\"Lois Smith\",\"Zach Grenier\",\"Rusty Schwimmer\",\"Abraham Benrubi\",\"Anthony Rapp\",\"Jake Busey\",\"Winona Ryder\",\"Anthony Hopkins\",\"Richard E. Grant\",\"Billy Campbell\",\"Sadie Frost\",\"Tom Waits\",\"Monica Bellucci\",\"Michaela Bercu\",\"Florina Kendrick\",\"Jay Robinson\",\"Jason Bernard\",\"Mitchell Ryan\",\"Christopher Mayer (American actor)|Chip Mayer\",\"Eric Pierpoint\",\"Randall \\\"Tex\\\" Cobb\",\"Cheri Oteri\",\"S W Fisher\",\"Ben Lemon\",\"Jarrad Paul\",\"Marianne Muellerleile\",\"Krista Allen\",\"Stephen James Carver\",\"Don Keefer\",\"Todd Field\",\"Wendle Josepher\",\"Joey Slotnick\",\"Scott Thomson (actor)|Scott Thomson\",\"Lois Smith\",\"Zach Grenier\",\"Rusty Schwimmer\",\"Abraham Benrubi\",\"Anthony Rapp\",\"Jake Busey\",\"Michelle Yeoh\",\"Teri Hatcher\",\"Ricky Jay\",\"G\\u00f6tz Otto\",\"Nina Young\",\"Daphne Deckers\",\"Julian Fellowes\",\"Cecilie Thomsen\",\"Gerard Butler\",\"Julian Rhind-Tutt\",\"Hugh Bonneville\",\"Geoffrey Palmer (actor)|Geoffrey Palmer\",\"Teri Hatcher\",\"Ricky Jay\",\"G\\u00f6tz Otto\",\"Nina Young\",\"Daphne Deckers\",\"Julian Fellowes\",\"Cecilie Thomsen\",\"Gerard Butler\",\"Julian Rhind-Tutt\",\"Hugh Bonneville\",\"Geoffrey Palmer (actor)|Geoffrey Palmer\",\"Julian Rhind-Tutt\",\"Hugh Bonneville\",\"Anthony Hopkins\",\"Richard E. Grant\",\"Billy Campbell\",\"Sadie Frost\",\"Tom Waits\",\"Monica Bellucci\",\"Michaela Bercu\",\"Florina Kendrick\",\"Jay Robinson\",\"Richard E. Grant\",\"Billy Campbell\",\"Sadie Frost\",\"Tom Waits\",\"Monica Bellucci\",\"Michaela Bercu\",\"Florina Kendrick\",\"Jay Robinson\",\"Antonio Banderas\",\"Catherine Zeta-Jones\",\"Stuart Wilson (actor)|Stuart Wilson\",\"Matt Letscher\",\"Jos\\u00e9 Mar\\u00eda de Tavira\",\"Mar\\u00eda\",\"Tony Amendola\",\"Pedro Armend\\u00e1riz, Jr.\",\"Victor Rivers\",\"Diego Sieres\",\"William Marquez,\",\"Julieta Rosen\",\"Billy Campbell\",\"Sadie Frost\",\"Tom Waits\",\"Monica Bellucci\",\"Michaela Bercu\",\"Florina Kendrick\",\"Jay Robinson\",\"Colleen Camp\",\"Larry Bryggman\",\"Sam Phillips (musician)|Sam Phillips\",\"Anthony Peck\",\"Nick Wyman\",\"Stephen Pearlman\",\"Kevin Chamberlin\",\"Richard Russell Ramos\",\"Charles Dumas\",\"Michael Cristofer\",\"Gary Kemp\",\"Bill Cobbs\",\"Ralph Waite\",\"Tomas Arana\",\"Michele Lamar Richards\",\"Mike Starr (actor)|Mike Starr\",\"Christopher Birt\",\"DeVaughn Nixon\",\"George Dzundza\",\"Jeanne Tripplehorn\",\"Denis Arndt\",\"Leilani Sarelle\",\"Bruce A. Young\",\"Chelcie Ross\",\"Dorothy Malone\",\"Wayne Knight\",\"Daniel von Bargen\",\"Stephen Tobolowsky\",\"Benjamin Mouton\",\"Jack McGee (actor)|Jack McGee\",\"Bill Cable\",\"Donald Sutherland\",\"Dennis Miller\",\"Roma Maffia\",\"Dylan Baker\",\"Rosemary Forsyth\",\"Suzie Plakson\",\"Nicholas Sadler\",\"Jacqueline Kim\",\"Kate Williamson\",\"Farrah Forke\",\"Allan Rich\",\"David Gallagher\",\"Wayne Knight\",\"Daniel von Bargen\",\"Stephen Tobolowsky\",\"Benjamin Mouton\",\"Jack McGee (actor)|Jack McGee\",\"Bill Cable\",\"Rene Russo\",\"Tzi Ma\",\"Ken Leung\",\"Elizabeth Pe\\u00f1a\",\"Mark Rolston\",\"Rex Linn\",\"Chris Penn\",\"Philip Baker Hall\",\"Julia Hsu\",\"John Hawkes (actor)|John Hawkes\",\"Clifton Powell\",\"Barry Shabaka Henley\",\"John Toles-Bey\",\"Robert LaSardo\",\"Zakes Mokae\",\"Zitto Kazann,\",\"Jack Kehler\",\"Chris Douridas\",\"Robert A. Silverman\",\"Neil Giuntoli\",\"William Preston (actor)|William Preston\",\"Lee Arenberg\",\"Mel Gibson\",\"Danny Glover\",\"Rene Russo\",\"Chris Rock\",\"Jet Li\",\"Gina Gershon\",\"Alessandro Nivola\",\"Dominique Swain\",\"Nick Cassavetes\",\"John Carroll Lynch\",\"CCH Pounder\",\"Robert Wisdom\",\"Margaret Cho\",\"Thomas Jane\",\"James Denton\",\"Tommy Flanagan (actor)|Tommy Flanagan\",\"Matt Ross (actor)|Matt Ross\",\"Danny Masterson\",\"Chris Bauer\",\"Romy Walthall\",\"Myles Jeffrey\",\"David McCurley\",\"Lauren Sinclair\",\"Gina Gershon\",\"Alessandro Nivola\",\"Colm Feore\",\"Dominique Swain\",\"Nick Cassavetes\",\"John Carroll Lynch\",\"CCH Pounder\",\"Robert Wisdom\",\"Margaret Cho\",\"Thomas Jane\",\"James Denton\",\"Tommy Flanagan (actor)|Tommy Flanagan\",\"Matt Ross (actor)|Matt Ross\",\"Danny Masterson\",\"Chris Bauer\",\"Romy Walthall\",\"Myles Jeffrey\",\"David McCurley\",\"Lauren Sinclair\",\"Pete Postlethwaite\",\"Arliss Howard\",\"Richard Attenborough\",\"Vince Vaughn\",\"Vanessa Lee Chester\",\"Harvey Jason\",\"Thomas F. Duffy\",\"Joseph Mazzello\",\"Ariana Richards\",\"Camilla Belle\",\"Harrison Ford\",\"Ron Dean\",\"Joseph Kosala\",\"Jane Lynch\",\"Dick Cusack\",\"Nick Searcy\",\"Eddie Bo Smith\",\"Neil Flynn\",\"Richard Riehle\",\"Kirsten Nelson\",\"David Darlow (actor)|David Darlow\",\"Frank Ray Perilli\",\"Lester Holt\",\"Richard Attenborough\",\"Vince Vaughn\",\"Vanessa Lee Chester\",\"Harvey Jason\",\"Thomas F. Duffy\",\"Joseph Mazzello\",\"Ariana Richards\",\"Camilla Belle\",\"Richard Attenborough\",\"Vanessa Lee Chester\",\"Harvey Jason\",\"Thomas F. Duffy\",\"Joseph Mazzello\",\"Ariana Richards\",\"Camilla Belle\",\"Richard Attenborough\",\"Richard Attenborough\",\"Richard Attenborough\",\"Richard Attenborough\",\"Rene Russo\",\"Stuart Wilson (actor)|Stuart Wilson\",\"Nick Chinlund\",\"Alan Scarfe\",\"Delores Hall\",\"Gregory Millar\",\"Andrew Hill Newman\",\"Jason Rainwater\",\"Mark Pellegrino\",\"Chris Rock\",\"Jet Li\",\"Kim Chan\",\"Calvin Jung\",\"Eddy Ko\",\"Conan Lee\",\"Richard Libertini\",\"Delroy Lindo\",\"Lili Taylor\",\"Brawley Nolte\",\"Liev Schreiber\",\"Evan Handler\",\"Paul Guilfoyle\",\"Jos\\u00e9 Z\\u00fa\\u00f1iga\",\"John Ortiz\",\"David Vadim\",\"Danny Glover\",\"Stuart Wilson (actor)|Stuart Wilson\",\"Steve Kahan\",\"Darlene Love\",\"Ebonie Smith\",\"Nick Chinlund\",\"Alan Scarfe\",\"Mary Ellen Trainor\",\"Delores Hall\",\"Gregory Millar\",\"Andrew Hill Newman\",\"Traci Wolfe\",\"Damon Hines\",\"Jason Rainwater\",\"Mark Pellegrino\",\"Chris Rock\",\"Jet Li\",\"Kim Chan\",\"Calvin Jung\",\"Eddy Ko\",\"Conan Lee\",\"Richard Libertini\",\"Delroy Lindo\",\"Lili Taylor\",\"Brawley Nolte\",\"Liev Schreiber\",\"Evan Handler\",\"Paul Guilfoyle\",\"Jos\\u00e9 Z\\u00fa\\u00f1iga\",\"Dan Hedaya\",\"John Ortiz\",\"David Vadim\",\"Danny Glover\",\"Antonio Banderas\",\"Catherine Zeta-Jones\",\"Danny Glover\",\"Danny Glover\",\"Danny Glover\",\"Danny Glover\",\"Danny Glover\",\"Danny Glover\",\"Danny Glover\",\"Chris Rock\",\"Jet Li\",\"Kim Chan\",\"Calvin Jung\",\"Eddy Ko\",\"Conan Lee\",\"Richard Libertini\",\"Chris Rock\",\"Jet Li\",\"Chris Rock\",\"Jet Li\",\"Chris Rock\",\"Jet Li\",\"Chris Rock\",\"Jet Li\",\"Chris Rock\",\"Jet Li\",\"Chris Rock\",\"Jet Li\",\"Jet Li\",\"Kim Chan\",\"Calvin Jung\",\"Eddy Ko\",\"Conan Lee\",\"Richard Libertini\",\"Royce D. Applegate|Royce Applegate\",\"Albert Brooks\",\"Hamilton Camp\",\"Jim Dean\",\"Jeff Doucette\",\"Chad Einbidnder\",\"Jenna Elfman\",\"Eddie Frierson\",\"Archie Hahn (actor)|Archie Hahn\",\"Phyllis Katz\",\"Julie Kavner\",\"John Leguizamo\",\"Kerrigan Mahan\",\"Philip Proctor\",\"Reni Santoni\",\"Garry Shandling\",\"Tom Towles\",\"Bill Barretta\",\"Kevin Carlson\",\"Bruce Lanoil\",\"Drew Massey\",\"Allan Trautman\",\"Ian Tregonning\",\"Mak Wilson\",\"Kim Chan\",\"Calvin Jung\",\"Eddy Ko\",\"Conan Lee\",\"Richard Libertini\",\"Rachel Weisz\",\"Catherine Zeta-Jones\",\"Matt Letscher\",\"Jos\\u00e9 Mar\\u00eda de Tavira\",\"Mar\\u00eda\",\"Tony Amendola\",\"Victor Rivers\",\"Diego Sieres\",\"William Marquez,\",\"L. Q. Jones\",\"Julieta Rosen\",\"Matt Letscher\",\"Jos\\u00e9 Mar\\u00eda de Tavira\",\"Mar\\u00eda\",\"Tony Amendola\",\"Pedro Armend\\u00e1riz, Jr.\",\"Victor Rivers\",\"Diego Sieres\",\"William Marquez,\",\"L. Q. Jones\",\"Julieta Rosen\",\"Victoria Rowell\",\"Cam Neely\",\"Joe Baker\",\"Brad Lockerman\",\"Hank Brandt\",\"Felton Perry\",\"Brady Bluhm\",\"Connie Sawyer\",\"Oliver Platt\",\"Seymour Cassel\",\"Billy Connolly\",\"Pamela Holt\",\"Tommy Bush\",\"Sheena Easton\",\"Herbie Hancock\",\"Eddie Murphy\",\"Isis Carmen Jones\",\"Bill Nunn\",\"Mary Wickes\",\"Kathy Najimy\",\"Wendy Makkena\",\"Joseph Maher\",\"Robert Miranda (actor)|Robert Miranda\",\"Richard Portnow\",\"Rose Parenti\",\"Jim Beaver\",\"Jenifer Lewis\",\"Charlotte Crossley\",\"Adrienne-Joi Johnson|A.J. Johnson\",\"Lois de Banzie\",\"Max Grod\\u00e9nchik\",\"Joseph G. Medalis\",\"Michael Durrell\",\"Toni Kalem\",\"Gene Greytak|Eugene Greytak\",\"Guy Boyd (actor)|Guy Boyd\",\"Ellen Albertini Dow\",\"Carmen Zapata\",\"Pat Crawford Brown\",\"Prudence Wright Holmes\",\"Georgia Creighton\",\"Susan Johnson (actor)|Susan Johnson\",\"Ruth Kobart\",\"Susan Browning\",\"Darlene Koldenhoven\",\"Sheri Izzard\",\"Edith Diaz\",\"Beth Fowler\",\"Linda Hunt\",\"Brawley Nolte\",\"Liev Schreiber\",\"Evan Handler\",\"Paul Guilfoyle\",\"Jos\\u00e9 Z\\u00fa\\u00f1iga\",\"Dan Hedaya\",\"John Ortiz\",\"David Vadim\",\"Evan Handler\",\"Paul Guilfoyle\",\"Jos\\u00e9 Z\\u00fa\\u00f1iga\",\"John Ortiz\",\"David Vadim\",\"Carroll Baker\",\"Cathy Moriarty\",\"Park Overall\",\"Jayne Brook\",\"Bob Nelson (comedian)|Bob Nelson\",\"Angela Bassett\",\"Sarah Rose Karr\",\"Miko Hughes\",\"Ben Diskin\",\"Adam Wylie\",\"Odette Yustman\",\"Sarah Rose Karr\",\"Miko Hughes\",\"Ben Diskin\",\"Adam Wylie\",\"Odette Yustman\",\"Jean Reno\",\"Maria Pitillo\",\"Kevin Dunn\",\"Michael Lerner (actor)|Michael Lerner\",\"Arabella Field\",\"Vicki Lewis\",\"Lorry Goldman\",\"Doug Savant\",\"Malcolm Danare\",\"Ralph Manza\",\"Glenn Morshower\",\"Richard Gant\",\"Clyde Kusatsu\",\"Nancy Cartwright\",\"Gary A. Hecker\",\"Kurt Carley\",\"Maria Pitillo\",\"Kevin Dunn\",\"Michael Lerner (actor)|Michael Lerner\",\"Arabella Field\",\"Vicki Lewis\",\"Lorry Goldman\",\"Doug Savant\",\"Malcolm Danare\",\"Ralph Manza\",\"Glenn Morshower\",\"Richard Gant\",\"Clyde Kusatsu\",\"Nancy Cartwright\",\"Gary A. Hecker\",\"Kurt Carley\",\"Sela Ward\",\"Andreas Katsulas\",\"Jeroen Krabb\\u00e9\",\"Daniel Roebuck\",\"Thomas Mills Wood|Tom Wood\",\"L. Scott Caldwell\",\"Johnny Lee Davenport\",\"Ron Dean\",\"Joseph Kosala\",\"Jane Lynch\",\"Dick Cusack\",\"Andy Romano\",\"Nick Searcy\",\"Eddie Bo Smith\",\"Neil Flynn\",\"Richard Riehle\",\"Kirsten Nelson\",\"David Darlow (actor)|David Darlow\",\"Frank Ray Perilli\",\"Lester Holt\",\"Brian Tochi\",\"Josh Pais\",\"Corey Feldman\",\"Robbie Rist\",\"Kevin Clash\",\"David McCharen\",\"Michael McConnohie\",\"Martin P. Robinson\",\"David Forman\",\"David Rudman\",\"Leif Tilden\",\"Ernie Reyes Jr.\",\"David Greenaway\",\"Kenn Troum\",\"Mak Wilson\",\"Michelan Sisti\",\"Rickey Boyd\",\"Robert Tygner\",\"Eddie Murphy\",\"Albert Brooks\",\"John Leguizamo\",\"Ossie Davis\",\"Dari Gerard Smith\",\"Steven Gilborn\",\"June Christopher\",\"Don Calfa\",\"Pruitt Taylor Vince\",\"Norm MacDonald\",\"Royce D. Applegate|Royce Applegate\",\"Albert Brooks\",\"Hamilton Camp\",\"Jim Dean\",\"Ellen DeGeneres\",\"Jeff Doucette\",\"Chad Einbidnder\",\"Jenna Elfman\",\"Eddie Frierson\",\"Archie Hahn (actor)|Archie Hahn\",\"Phyllis Katz\",\"Julie Kavner\",\"John Leguizamo\",\"Kerrigan Mahan\",\"Philip Proctor\",\"Garry Shandling\",\"Tom Towles\",\"Bill Barretta\",\"Kevin Carlson\",\"Bruce Lanoil\",\"Drew Massey\",\"Allan Trautman\",\"Ian Tregonning\",\"Jada Pinkett\",\"James Coburn\",\"Jada Pinkett Smith|Jada Pinkett\",\"Chappelle\",\"Montell Jordan\",\"Ned Luke\",\"Hamilton Camp\",\"Jim Dean\",\"Jeff Doucette\",\"Chad Einbidnder\",\"Jenna Elfman\",\"Eddie Frierson\",\"Gilbert Gottfried\",\"Archie Hahn (actor)|Archie Hahn\",\"Phyllis Katz\",\"John Leguizamo\",\"Kerrigan Mahan\",\"Philip Proctor\",\"Reni Santoni\",\"Garry Shandling\",\"Tom Towles\",\"Bill Barretta\",\"Kevin Carlson\",\"Bruce Lanoil\",\"Drew Massey\",\"Allan Trautman\",\"Ian Tregonning\",\"Kerrigan Mahan\",\"Philip Proctor\",\"Reni Santoni\",\"Garry Shandling\",\"Tom Towles\",\"Bill Barretta\",\"Kevin Carlson\",\"Bruce Lanoil\",\"Drew Massey\",\"Allan Trautman\",\"Ian Tregonning\",\"Dennis Miller\",\"Roma Maffia\",\"Dylan Baker\",\"Rosemary Forsyth\",\"Suzie Plakson\",\"Nicholas Sadler\",\"Jacqueline Kim\",\"Kate Williamson\",\"Farrah Forke\",\"Allan Rich\",\"David Gallagher\",\"David Alan Grier\",\"Bebe Neuwirth\",\"Murphy\",\"Jada Pinkett Smith|Jada Pinkett\",\"Chappelle\",\"John Ales\",\"Jamal Mixon\",\"Montell Jordan\",\"Ned Luke\",\"Luke Ford\",\"Rachel Weisz\",\"Maria Bello\",\"Maria Bello\",\"Kevin Pollak\",\"James Marshall (actor)|James Marshall\",\"Wolfgang Bodison\",\"J. A. Preston\",\"Michael DeLorenzo\",\"Noah Wyle\",\"Matt Craven\",\"John M. Jackson\",\"Christopher Guest\",\"David Bowe (actor)|David Bowe\",\"Joshua Malina\",\"Little Caesar (singer)|Harry Caesar\",\"J. A. Preston\",\"Michael DeLorenzo\",\"Noah Wyle\",\"Xander Berkeley\",\"Matt Craven\",\"John M. Jackson\",\"Christopher Guest\",\"David Bowe (actor)|David Bowe\",\"Joshua Malina\",\"Little Caesar (singer)|Harry Caesar\",\"Arthur Senzy\",\"David Bowe (actor)|David Bowe\",\"Joshua Malina\",\"Little Caesar (singer)|Harry Caesar\",\"Arthur Senzy\",\"Linda Hamilton\",\"Holly Hunter\",\"Hal Holbrook\",\"David Strathairn\",\"Jerry Hardin\",\"Terry Kinney\",\"Wilford Brimley\",\"Sullivan Walker\",\"Gary Busey\",\"Steven Hill\",\"Joe Viterelli\",\"Jerry Weintraub\",\"Karina Lombard\",\"John Beal (actor)|John Beal\",\"Paul Calderon\",\"Hal Holbrook\",\"Jerry Hardin\",\"Terry Kinney\",\"Sullivan Walker\",\"Gary Busey\",\"Steven Hill\",\"Margo Martindale\",\"Paul Sorvino\",\"Joe Viterelli\",\"Jerry Weintraub\",\"Tobin Bell\",\"Karina Lombard\",\"John Beal (actor)|John Beal\",\"Paul Calderon\",\"Jerry Hardin\",\"Wilford Brimley\",\"Sullivan Walker\",\"Steven Hill\",\"Paul Sorvino\",\"Joe Viterelli\",\"Jerry Weintraub\",\"Tobin Bell\",\"Karina Lombard\",\"John Beal (actor)|John Beal\",\"Paul Calderon\",\"Jerry Hardin\",\"Terry Kinney\",\"Wilford Brimley\",\"Sullivan Walker\",\"Gary Busey\",\"Steven Hill\",\"Margo Martindale\",\"Paul Sorvino\",\"Joe Viterelli\",\"Jerry Weintraub\",\"Tobin Bell\",\"Karina Lombard\",\"John Beal (actor)|John Beal\",\"Paul Calderon\",\"Steven Hill\",\"Margo Martindale\",\"Paul Sorvino\",\"Joe Viterelli\",\"Jerry Weintraub\",\"Tobin Bell\",\"Karina Lombard\",\"John Beal (actor)|John Beal\",\"Paul Calderon\"],\"start\":[\"Michael Keaton\",\"Michael Keaton\",\"Michael Keaton\",\"Michael Keaton\",\"Michael Keaton\",\"Michael Keaton\",\"Michael Keaton\",\"Michael Keaton\",\"Michael Keaton\",\"Michael Keaton\",\"Michael Keaton\",\"Michael Keaton\",\"Danny DeVito\",\"Danny DeVito\",\"Danny DeVito\",\"Danny DeVito\",\"Danny DeVito\",\"Danny DeVito\",\"Danny DeVito\",\"Danny DeVito\",\"Danny DeVito\",\"Danny DeVito\",\"Danny DeVito\",\"Danny DeVito\",\"Danny DeVito\",\"Danny DeVito\",\"Danny DeVito\",\"Danny DeVito\",\"Danny DeVito\",\"Danny DeVito\",\"Danny DeVito\",\"Danny DeVito\",\"Danny DeVito\",\"Danny DeVito\",\"Danny DeVito\",\"Danny DeVito\",\"Danny DeVito\",\"Danny DeVito\",\"Danny DeVito\",\"Danny DeVito\",\"Danny DeVito\",\"Danny DeVito\",\"Danny DeVito\",\"Danny DeVito\",\"Danny DeVito\",\"Danny DeVito\",\"Danny DeVito\",\"Danny DeVito\",\"Danny DeVito\",\"Danny DeVito\",\"Danny DeVito\",\"Danny DeVito\",\"Danny DeVito\",\"Danny DeVito\",\"Danny DeVito\",\"Danny DeVito\",\"Michelle Pfeiffer\",\"Michelle Pfeiffer\",\"Michelle Pfeiffer\",\"Michelle Pfeiffer\",\"Michelle Pfeiffer\",\"Michelle Pfeiffer\",\"Michelle Pfeiffer\",\"Michelle Pfeiffer\",\"Michelle Pfeiffer\",\"Michelle Pfeiffer\",\"Michelle Pfeiffer\",\"Michelle Pfeiffer\",\"Christopher Walken\",\"Christopher Walken\",\"Christopher Walken\",\"Christopher Walken\",\"Christopher Walken\",\"Christopher Walken\",\"Christopher Walken\",\"Christopher Walken\",\"Christopher Walken\",\"Christopher Walken\",\"Christopher Walken\",\"Christopher Walken\",\"Christopher Walken\",\"Christopher Walken\",\"Christopher Walken\",\"Christopher Walken\",\"Christopher Walken\",\"Vincent Schiavelli\",\"Vincent Schiavelli\",\"Vincent Schiavelli\",\"Vincent Schiavelli\",\"Vincent Schiavelli\",\"Vincent Schiavelli\",\"Vincent Schiavelli\",\"Paul Reubens\",\"Paul Reubens\",\"Paul Reubens\",\"Paul Reubens\",\"Paul Reubens\",\"Michael Gough\",\"Michael Gough\",\"Michael Gough\",\"Michael Gough\",\"Pat Hingle\",\"Pat Hingle\",\"Pat Hingle\",\"Pat Hingle\",\"Val Kilmer\",\"Val Kilmer\",\"Val Kilmer\",\"Val Kilmer\",\"Val Kilmer\",\"Val Kilmer\",\"Val Kilmer\",\"Val Kilmer\",\"Val Kilmer\",\"Val Kilmer\",\"Val Kilmer\",\"Val Kilmer\",\"Val Kilmer\",\"Val Kilmer\",\"Val Kilmer\",\"Val Kilmer\",\"Tommy Lee Jones\",\"Tommy Lee Jones\",\"Tommy Lee Jones\",\"Tommy Lee Jones\",\"Tommy Lee Jones\",\"Tommy Lee Jones\",\"Tommy Lee Jones\",\"Tommy Lee Jones\",\"Tommy Lee Jones\",\"Tommy Lee Jones\",\"Tommy Lee Jones\",\"Tommy Lee Jones\",\"Tommy Lee Jones\",\"Tommy Lee Jones\",\"Tommy Lee Jones\",\"Tommy Lee Jones\",\"Tommy Lee Jones\",\"Tommy Lee Jones\",\"Tommy Lee Jones\",\"Tommy Lee Jones\",\"Tommy Lee Jones\",\"Tommy Lee Jones\",\"Tommy Lee Jones\",\"Tommy Lee Jones\",\"Tommy Lee Jones\",\"Tommy Lee Jones\",\"Tommy Lee Jones\",\"Tommy Lee Jones\",\"Tommy Lee Jones\",\"Tommy Lee Jones\",\"Tommy Lee Jones\",\"Tommy Lee Jones\",\"Tommy Lee Jones\",\"Tommy Lee Jones\",\"Tommy Lee Jones\",\"Tommy Lee Jones\",\"Tommy Lee Jones\",\"Tommy Lee Jones\",\"Tommy Lee Jones\",\"Tommy Lee Jones\",\"Tommy Lee Jones\",\"Tommy Lee Jones\",\"Tommy Lee Jones\",\"Tommy Lee Jones\",\"Tommy Lee Jones\",\"Tommy Lee Jones\",\"Tommy Lee Jones\",\"Tommy Lee Jones\",\"Tommy Lee Jones\",\"Tommy Lee Jones\",\"Tommy Lee Jones\",\"Tommy Lee Jones\",\"Tommy Lee Jones\",\"Tommy Lee Jones\",\"Tommy Lee Jones\",\"Tommy Lee Jones\",\"Tommy Lee Jones\",\"Tommy Lee Jones\",\"Jim Carrey\",\"Jim Carrey\",\"Jim Carrey\",\"Jim Carrey\",\"Jim Carrey\",\"Jim Carrey\",\"Jim Carrey\",\"Jim Carrey\",\"Jim Carrey\",\"Jim Carrey\",\"Jim Carrey\",\"Jim Carrey\",\"Jim Carrey\",\"Jim Carrey\",\"Jim Carrey\",\"Jim Carrey\",\"Jim Carrey\",\"Jim Carrey\",\"Jim Carrey\",\"Jim Carrey\",\"Jim Carrey\",\"Jim Carrey\",\"Jim Carrey\",\"Jim Carrey\",\"Jim Carrey\",\"Jim Carrey\",\"Jim Carrey\",\"Jim Carrey\",\"Jim Carrey\",\"Jim Carrey\",\"Jim Carrey\",\"Jim Carrey\",\"Jim Carrey\",\"Jim Carrey\",\"Jim Carrey\",\"Jim Carrey\",\"Jim Carrey\",\"Jim Carrey\",\"Jim Carrey\",\"Jim Carrey\",\"Jim Carrey\",\"Jim Carrey\",\"Jim Carrey\",\"Jim Carrey\",\"Jim Carrey\",\"Jim Carrey\",\"Jim Carrey\",\"Jim Carrey\",\"Jim Carrey\",\"Jim Carrey\",\"Jim Carrey\",\"Jim Carrey\",\"Jim Carrey\",\"Jim Carrey\",\"Jim Carrey\",\"Jim Carrey\",\"Jim Carrey\",\"Jim Carrey\",\"Jim Carrey\",\"Jim Carrey\",\"Jim Carrey\",\"Jim Carrey\",\"Jim Carrey\",\"Jim Carrey\",\"Jim Carrey\",\"Jim Carrey\",\"Jim Carrey\",\"Jim Carrey\",\"Jim Carrey\",\"Jim Carrey\",\"Jim Carrey\",\"Jim Carrey\",\"Jim Carrey\",\"Jim Carrey\",\"Jim Carrey\",\"Nicole Kidman\",\"Nicole Kidman\",\"Nicole Kidman\",\"Nicole Kidman\",\"Nicole Kidman\",\"Nicole Kidman\",\"Nicole Kidman\",\"Nicole Kidman\",\"Nicole Kidman\",\"Nicole Kidman\",\"Nicole Kidman\",\"Nicole Kidman\",\"Nicole Kidman\",\"Chris O'Donnell\",\"Chris O'Donnell\",\"Chris O'Donnell\",\"Chris O'Donnell\",\"Chris O'Donnell\",\"Chris O'Donnell\",\"Chris O'Donnell\",\"Chris O'Donnell\",\"Chris O'Donnell\",\"Chris O'Donnell\",\"Chris O'Donnell\",\"Drew Barrymore\",\"Drew Barrymore\",\"Drew Barrymore\",\"Drew Barrymore\",\"Drew Barrymore\",\"Drew Barrymore\",\"Drew Barrymore\",\"Drew Barrymore\",\"Drew Barrymore\",\"Drew Barrymore\",\"Ofer Samra\",\"Ofer Samra\",\"Ofer Samra\",\"Ofer Samra\",\"Ofer Samra\",\"Hugh Grant\",\"Hugh Grant\",\"Hugh Grant\",\"Hugh Grant\",\"Hugh Grant\",\"Hugh Grant\",\"Hugh Grant\",\"Hugh Grant\",\"Hugh Grant\",\"Hugh Grant\",\"Hugh Grant\",\"Hugh Grant\",\"Hugh Grant\",\"Hugh Grant\",\"Hugh Grant\",\"Kristin Scott Thomas\",\"Kristin Scott Thomas\",\"Kristin Scott Thomas\",\"Kristin Scott Thomas\",\"Kristin Scott Thomas\",\"Kristin Scott Thomas\",\"Kristin Scott Thomas\",\"Kristin Scott Thomas\",\"Kristin Scott Thomas\",\"Kristin Scott Thomas\",\"Kristin Scott Thomas\",\"Kristin Scott Thomas\",\"Kristin Scott Thomas\",\"Simon Callow\",\"Simon Callow\",\"Simon Callow\",\"Simon Callow\",\"Simon Callow\",\"Tom Hanks\",\"Tom Hanks\",\"Tom Hanks\",\"Tom Hanks\",\"Tom Hanks\",\"Tom Hanks\",\"Tom Hanks\",\"Tom Hanks\",\"Tom Hanks\",\"Tom Hanks\",\"Tom Hanks\",\"Tom Hanks\",\"Tom Hanks\",\"Tom Hanks\",\"Tom Hanks\",\"Tom Hanks\",\"Tom Hanks\",\"Tom Hanks\",\"Tom Hanks\",\"Tom Hanks\",\"Tom Hanks\",\"Tom Hanks\",\"Tom Hanks\",\"Tom Hanks\",\"Tom Hanks\",\"Tom Hanks\",\"Tom Hanks\",\"Tom Hanks\",\"Tom Hanks\",\"Tom Hanks\",\"Tom Hanks\",\"Tom Hanks\",\"Tom Hanks\",\"Tom Hanks\",\"Tom Hanks\",\"Tom Hanks\",\"Tom Hanks\",\"Tom Hanks\",\"Tom Hanks\",\"Tom Hanks\",\"Tom Hanks\",\"Tom Hanks\",\"Tom Hanks\",\"Tom Hanks\",\"Tom Hanks\",\"Tom Hanks\",\"Tom Hanks\",\"Tom Hanks\",\"Tom Hanks\",\"Tom Hanks\",\"Tom Hanks\",\"Tom Hanks\",\"Tom Hanks\",\"Tom Hanks\",\"Tom Hanks\",\"Tom Hanks\",\"Tom Hanks\",\"Tom Hanks\",\"Tom Hanks\",\"Tom Hanks\",\"Tom Hanks\",\"Tom Hanks\",\"Tom Hanks\",\"Tom Hanks\",\"Tom Hanks\",\"Tom Hanks\",\"Tom Hanks\",\"Tom Hanks\",\"Tom Hanks\",\"Tom Hanks\",\"Tom Hanks\",\"Tom Hanks\",\"Tom Hanks\",\"Tom Hanks\",\"Tom Hanks\",\"Tom Hanks\",\"Tom Hanks\",\"Matt Damon\",\"Matt Damon\",\"Matt Damon\",\"Matt Damon\",\"Matt Damon\",\"Matt Damon\",\"Matt Damon\",\"Matt Damon\",\"Matt Damon\",\"Matt Damon\",\"Matt Damon\",\"Matt Damon\",\"Matt Damon\",\"Matt Damon\",\"Matt Damon\",\"Matt Damon\",\"Matt Damon\",\"Matt Damon\",\"Matt Damon\",\"Matt Damon\",\"Matt Damon\",\"Matt Damon\",\"Matt Damon\",\"Matt Damon\",\"Matt Damon\",\"Matt Damon\",\"Matt Damon\",\"Matt Damon\",\"Matt Damon\",\"Matt Damon\",\"Matt Damon\",\"Matt Damon\",\"Matt Damon\",\"Matt Damon\",\"Matt Damon\",\"Matt Damon\",\"Matt Damon\",\"Matt Damon\",\"Matt Damon\",\"Jeremy Davies\",\"Jeremy Davies\",\"Jeremy Davies\",\"Jeremy Davies\",\"Vin Diesel\",\"Vin Diesel\",\"Vin Diesel\",\"Vin Diesel\",\"Vin Diesel\",\"Vin Diesel\",\"Vin Diesel\",\"Vin Diesel\",\"Vin Diesel\",\"Vin Diesel\",\"Vin Diesel\",\"Vin Diesel\",\"Vin Diesel\",\"Vin Diesel\",\"Vin Diesel\",\"Vin Diesel\",\"Vin Diesel\",\"Vin Diesel\",\"Vin Diesel\",\"Vin Diesel\",\"Vin Diesel\",\"Vin Diesel\",\"Vin Diesel\",\"Vin Diesel\",\"Vin Diesel\",\"Vin Diesel\",\"Barry Pepper\",\"Barry Pepper\",\"Barry Pepper\",\"Barry Pepper\",\"Barry Pepper\",\"Barry Pepper\",\"Barry Pepper\",\"Barry Pepper\",\"Barry Pepper\",\"Barry Pepper\",\"Barry Pepper\",\"Barry Pepper\",\"Barry Pepper\",\"Barry Pepper\",\"Barry Pepper\",\"Barry Pepper\",\"Barry Pepper\",\"Barry Pepper\",\"Barry Pepper\",\"Barry Pepper\",\"Barry Pepper\",\"Barry Pepper\",\"Barry Pepper\",\"Barry Pepper\",\"Giovanni Ribisi\",\"Giovanni Ribisi\",\"Giovanni Ribisi\",\"Giovanni Ribisi\",\"Giovanni Ribisi\",\"Giovanni Ribisi\",\"Giovanni Ribisi\",\"Giovanni Ribisi\",\"Giovanni Ribisi\",\"Giovanni Ribisi\",\"Giovanni Ribisi\",\"Giovanni Ribisi\",\"Giovanni Ribisi\",\"Giovanni Ribisi\",\"Giovanni Ribisi\",\"Giovanni Ribisi\",\"Giovanni Ribisi\",\"Giovanni Ribisi\",\"Giovanni Ribisi\",\"Giovanni Ribisi\",\"Giovanni Ribisi\",\"Giovanni Ribisi\",\"Giovanni Ribisi\",\"Harve Presnell\",\"Harve Presnell\",\"Bryan Cranston\",\"Bryan Cranston\",\"Bryan Cranston\",\"Bryan Cranston\",\"Bryan Cranston\",\"Bryan Cranston\",\"Bryan Cranston\",\"Bryan Cranston\",\"Bryan Cranston\",\"Bryan Cranston\",\"Bryan Cranston\",\"Bryan Cranston\",\"Bryan Cranston\",\"Bryan Cranston\",\"Bryan Cranston\",\"Bryan Cranston\",\"Bryan Cranston\",\"Bryan Cranston\",\"Bryan Cranston\",\"Paul Giamatti\",\"Paul Giamatti\",\"Paul Giamatti\",\"Paul Giamatti\",\"Paul Giamatti\",\"Paul Giamatti\",\"Paul Giamatti\",\"Paul Giamatti\",\"Paul Giamatti\",\"Paul Giamatti\",\"Paul Giamatti\",\"Paul Giamatti\",\"Paul Giamatti\",\"Paul Giamatti\",\"Paul Giamatti\",\"Paul Giamatti\",\"Paul Giamatti\",\"Paul Giamatti\",\"Paul Giamatti\",\"Paul Giamatti\",\"Paul Giamatti\",\"Paul Giamatti\",\"Paul Giamatti\",\"Paul Giamatti\",\"Paul Giamatti\",\"Paul Giamatti\",\"Paul Giamatti\",\"Paul Giamatti\",\"Paul Giamatti\",\"Paul Giamatti\",\"Paul Giamatti\",\"Paul Giamatti\",\"Paul Giamatti\",\"Paul Giamatti\",\"Paul Giamatti\",\"Paul Giamatti\",\"Paul Giamatti\",\"Paul Giamatti\",\"Paul Giamatti\",\"Paul Giamatti\",\"Paul Giamatti\",\"Paul Giamatti\",\"Paul Giamatti\",\"Paul Giamatti\",\"Paul Giamatti\",\"Paul Giamatti\",\"Paul Giamatti\",\"Paul Giamatti\",\"Paul Giamatti\",\"Paul Giamatti\",\"Paul Giamatti\",\"Paul Giamatti\",\"Paul Giamatti\",\"Paul Giamatti\",\"Paul Giamatti\",\"Paul Giamatti\",\"Leland Orser\",\"Leland Orser\",\"Leland Orser\",\"Leland Orser\",\"Keanu Reeves\",\"Keanu Reeves\",\"Keanu Reeves\",\"Keanu Reeves\",\"Keanu Reeves\",\"Keanu Reeves\",\"Keanu Reeves\",\"Keanu Reeves\",\"Keanu Reeves\",\"Keanu Reeves\",\"Keanu Reeves\",\"Keanu Reeves\",\"Keanu Reeves\",\"Keanu Reeves\",\"Keanu Reeves\",\"Keanu Reeves\",\"Keanu Reeves\",\"Keanu Reeves\",\"Keanu Reeves\",\"Keanu Reeves\",\"Keanu Reeves\",\"Keanu Reeves\",\"Keanu Reeves\",\"Keanu Reeves\",\"Keanu Reeves\",\"Keanu Reeves\",\"Keanu Reeves\",\"Keanu Reeves\",\"Keanu Reeves\",\"Keanu Reeves\",\"Keanu Reeves\",\"Keanu Reeves\",\"Keanu Reeves\",\"Keanu Reeves\",\"Keanu Reeves\",\"Keanu Reeves\",\"Keanu Reeves\",\"Keanu Reeves\",\"Keanu Reeves\",\"Keanu Reeves\",\"Keanu Reeves\",\"Keanu Reeves\",\"Keanu Reeves\",\"Keanu Reeves\",\"Keanu Reeves\",\"Keanu Reeves\",\"Laurence Fishburne\",\"Laurence Fishburne\",\"Laurence Fishburne\",\"Laurence Fishburne\",\"Laurence Fishburne\",\"Laurence Fishburne\",\"Laurence Fishburne\",\"Laurence Fishburne\",\"Laurence Fishburne\",\"Laurence Fishburne\",\"Laurence Fishburne\",\"Laurence Fishburne\",\"Carrie-Anne Moss\",\"Carrie-Anne Moss\",\"Carrie-Anne Moss\",\"Carrie-Anne Moss\",\"Carrie-Anne Moss\",\"Carrie-Anne Moss\",\"Carrie-Anne Moss\",\"Carrie-Anne Moss\",\"Carrie-Anne Moss\",\"Carrie-Anne Moss\",\"Carrie-Anne Moss\",\"Hugo Weaving\",\"Hugo Weaving\",\"Hugo Weaving\",\"Hugo Weaving\",\"Hugo Weaving\",\"Hugo Weaving\",\"Hugo Weaving\",\"Hugo Weaving\",\"Hugo Weaving\",\"Hugo Weaving\",\"Joe Pantoliano\",\"Bruce Willis\",\"Bruce Willis\",\"Bruce Willis\",\"Bruce Willis\",\"Bruce Willis\",\"Bruce Willis\",\"Bruce Willis\",\"Bruce Willis\",\"Bruce Willis\",\"Bruce Willis\",\"Bruce Willis\",\"Bruce Willis\",\"Bruce Willis\",\"Bruce Willis\",\"Bruce Willis\",\"Bruce Willis\",\"Bruce Willis\",\"Bruce Willis\",\"Bruce Willis\",\"Bruce Willis\",\"Bruce Willis\",\"Bruce Willis\",\"Bruce Willis\",\"Bruce Willis\",\"Bruce Willis\",\"Bruce Willis\",\"Bruce Willis\",\"Bruce Willis\",\"Bruce Willis\",\"Bruce Willis\",\"Bruce Willis\",\"Bruce Willis\",\"Bruce Willis\",\"Bruce Willis\",\"Bruce Willis\",\"Bruce Willis\",\"Bruce Willis\",\"Bruce Willis\",\"Bruce Willis\",\"Bruce Willis\",\"Bruce Willis\",\"Bruce Willis\",\"Bruce Willis\",\"Bruce Willis\",\"Bruce Willis\",\"Bruce Willis\",\"Bruce Willis\",\"Bruce Willis\",\"Bruce Willis\",\"Bruce Willis\",\"Bruce Willis\",\"Bruce Willis\",\"Bruce Willis\",\"Bruce Willis\",\"Bruce Willis\",\"Bruce Willis\",\"Bruce Willis\",\"Bruce Willis\",\"Bruce Willis\",\"Bruce Willis\",\"Bruce Willis\",\"Bruce Willis\",\"Bruce Willis\",\"Bruce Willis\",\"Bruce Willis\",\"Bruce Willis\",\"Bruce Willis\",\"Bruce Willis\",\"Bruce Willis\",\"Bruce Willis\",\"Bruce Willis\",\"Bruce Willis\",\"Bruce Willis\",\"Bruce Willis\",\"Bruce Willis\",\"Bruce Willis\",\"Toni Collette\",\"Toni Collette\",\"Toni Collette\",\"Toni Collette\",\"Toni Collette\",\"Toni Collette\",\"Toni Collette\",\"Toni Collette\",\"Toni Collette\",\"Toni Collette\",\"Toni Collette\",\"Toni Collette\",\"Haley Joel Osment\",\"Haley Joel Osment\",\"Haley Joel Osment\",\"Haley Joel Osment\",\"Haley Joel Osment\",\"Haley Joel Osment\",\"Haley Joel Osment\",\"Haley Joel Osment\",\"Haley Joel Osment\",\"Haley Joel Osment\",\"Haley Joel Osment\",\"Haley Joel Osment\",\"Haley Joel Osment\",\"Haley Joel Osment\",\"Haley Joel Osment\",\"Haley Joel Osment\",\"Haley Joel Osment\",\"Haley Joel Osment\",\"Haley Joel Osment\",\"Haley Joel Osment\",\"Donnie Wahlberg\",\"Donnie Wahlberg\",\"Donnie Wahlberg\",\"Donnie Wahlberg\",\"Donnie Wahlberg\",\"Robin Wright\",\"Robin Wright\",\"Robin Wright\",\"Robin Wright\",\"Robin Wright\",\"Robin Wright\",\"Robin Wright\",\"Robin Wright\",\"Robin Wright\",\"Robin Wright\",\"Robin Wright\",\"Robin Wright\",\"Gary Sinise\",\"Gary Sinise\",\"Gary Sinise\",\"Gary Sinise\",\"Gary Sinise\",\"Gary Sinise\",\"Gary Sinise\",\"Gary Sinise\",\"Gary Sinise\",\"Gary Sinise\",\"Gary Sinise\",\"Gary Sinise\",\"Gary Sinise\",\"Gary Sinise\",\"Gary Sinise\",\"Gary Sinise\",\"Gary Sinise\",\"Gary Sinise\",\"Gary Sinise\",\"Gary Sinise\",\"Gary Sinise\",\"Gary Sinise\",\"Gary Sinise\",\"Sally Field\",\"Sally Field\",\"Sally Field\",\"Sally Field\",\"Sally Field\",\"Sally Field\",\"Sally Field\",\"Sally Field\",\"Sally Field\",\"Sally Field\",\"Sally Field\",\"Sally Field\",\"Sally Field\",\"Sally Field\",\"Sally Field\",\"Sally Field\",\"Sally Field\",\"Sally Field\",\"Sally Field\",\"Sally Field\",\"Sally Field\",\"Siobhan Fallon Hogan\",\"Siobhan Fallon Hogan\",\"Kevin Spacey\",\"Kevin Spacey\",\"Kevin Spacey\",\"Kevin Spacey\",\"Kevin Spacey\",\"Kevin Spacey\",\"Kevin Spacey\",\"Kevin Spacey\",\"Kevin Spacey\",\"Kevin Spacey\",\"Kevin Spacey\",\"Kevin Spacey\",\"Kevin Spacey\",\"Kevin Spacey\",\"Kevin Spacey\",\"Kevin Spacey\",\"Kevin Spacey\",\"Kevin Spacey\",\"Kevin Spacey\",\"Kevin Spacey\",\"Kevin Spacey\",\"Kevin Spacey\",\"Kevin Spacey\",\"Kevin Spacey\",\"Annette Bening\",\"Annette Bening\",\"Annette Bening\",\"Annette Bening\",\"Annette Bening\",\"Annette Bening\",\"Annette Bening\",\"Annette Bening\",\"Thora Birch\",\"Thora Birch\",\"Thora Birch\",\"Thora Birch\",\"Thora Birch\",\"Thora Birch\",\"Thora Birch\",\"Allison Janney\",\"Allison Janney\",\"Allison Janney\",\"Allison Janney\",\"Allison Janney\",\"Allison Janney\",\"Chris Cooper\",\"Chris Cooper\",\"Chris Cooper\",\"Chris Cooper\",\"Leonardo DiCaprio\",\"Leonardo DiCaprio\",\"Leonardo DiCaprio\",\"Leonardo DiCaprio\",\"Leonardo DiCaprio\",\"Leonardo DiCaprio\",\"Leonardo DiCaprio\",\"Leonardo DiCaprio\",\"Leonardo DiCaprio\",\"Leonardo DiCaprio\",\"Leonardo DiCaprio\",\"Leonardo DiCaprio\",\"Leonardo DiCaprio\",\"Leonardo DiCaprio\",\"Leonardo DiCaprio\",\"Leonardo DiCaprio\",\"Leonardo DiCaprio\",\"Leonardo DiCaprio\",\"Leonardo DiCaprio\",\"Leonardo DiCaprio\",\"Leonardo DiCaprio\",\"Leonardo DiCaprio\",\"Leonardo DiCaprio\",\"Leonardo DiCaprio\",\"Leonardo DiCaprio\",\"Leonardo DiCaprio\",\"Leonardo DiCaprio\",\"Leonardo DiCaprio\",\"Leonardo DiCaprio\",\"Leonardo DiCaprio\",\"Leonardo DiCaprio\",\"Leonardo DiCaprio\",\"Leonardo DiCaprio\",\"Leonardo DiCaprio\",\"Leonardo DiCaprio\",\"Kate Winslet\",\"Kate Winslet\",\"Kate Winslet\",\"Kate Winslet\",\"Kate Winslet\",\"Kate Winslet\",\"Kate Winslet\",\"Kate Winslet\",\"Kate Winslet\",\"Kate Winslet\",\"Kate Winslet\",\"Kate Winslet\",\"Kate Winslet\",\"Kate Winslet\",\"Kate Winslet\",\"Kate Winslet\",\"Kate Winslet\",\"Kate Winslet\",\"Kate Winslet\",\"Kate Winslet\",\"Kate Winslet\",\"Kate Winslet\",\"Kate Winslet\",\"Kate Winslet\",\"Kate Winslet\",\"Kate Winslet\",\"Kate Winslet\",\"Kate Winslet\",\"Kate Winslet\",\"Kate Winslet\",\"Kate Winslet\",\"Kate Winslet\",\"Kate Winslet\",\"Kate Winslet\",\"Billy Zane\",\"Billy Zane\",\"Billy Zane\",\"Billy Zane\",\"Billy Zane\",\"Billy Zane\",\"Billy Zane\",\"Billy Zane\",\"Billy Zane\",\"Billy Zane\",\"Billy Zane\",\"Billy Zane\",\"Billy Zane\",\"Billy Zane\",\"Billy Zane\",\"Billy Zane\",\"Billy Zane\",\"Billy Zane\",\"Billy Zane\",\"Billy Zane\",\"Billy Zane\",\"Billy Zane\",\"Billy Zane\",\"Billy Zane\",\"Billy Zane\",\"Billy Zane\",\"Billy Zane\",\"Billy Zane\",\"Billy Zane\",\"Billy Zane\",\"Billy Zane\",\"Billy Zane\",\"Billy Zane\",\"Kathy Bates\",\"Kathy Bates\",\"Kathy Bates\",\"Kathy Bates\",\"Kathy Bates\",\"Kathy Bates\",\"Kathy Bates\",\"Kathy Bates\",\"Kathy Bates\",\"Kathy Bates\",\"Kathy Bates\",\"Kathy Bates\",\"Kathy Bates\",\"Kathy Bates\",\"Kathy Bates\",\"Kathy Bates\",\"Kathy Bates\",\"Kathy Bates\",\"Kathy Bates\",\"Kathy Bates\",\"Kathy Bates\",\"Kathy Bates\",\"Kathy Bates\",\"Kathy Bates\",\"Kathy Bates\",\"Kathy Bates\",\"Kathy Bates\",\"Kathy Bates\",\"Kathy Bates\",\"Kathy Bates\",\"Kathy Bates\",\"Kathy Bates\",\"Jonathan Hyde\",\"Jonathan Hyde\",\"Bill Paxton\",\"Bill Paxton\",\"Bill Paxton\",\"Bill Paxton\",\"Bill Paxton\",\"Bill Paxton\",\"Bill Paxton\",\"Bill Paxton\",\"Bill Paxton\",\"Bill Paxton\",\"Bill Paxton\",\"Bill Paxton\",\"Bill Paxton\",\"Bill Paxton\",\"Bill Paxton\",\"Bill Paxton\",\"Bill Paxton\",\"Bill Paxton\",\"Bill Paxton\",\"Bill Paxton\",\"Bill Paxton\",\"Bill Paxton\",\"Bill Paxton\",\"Bill Paxton\",\"Bill Paxton\",\"Bill Paxton\",\"Bill Paxton\",\"Bill Paxton\",\"Bill Paxton\",\"Bill Paxton\",\"Bill Paxton\",\"Bill Paxton\",\"Bill Paxton\",\"Bill Paxton\",\"Bill Paxton\",\"Bill Paxton\",\"Bill Paxton\",\"Bill Paxton\",\"Bill Paxton\",\"Bill Paxton\",\"Bill Paxton\",\"Bill Paxton\",\"Bill Paxton\",\"Bill Paxton\",\"Bill Paxton\",\"Bill Paxton\",\"Bill Paxton\",\"Bill Paxton\",\"Bill Paxton\",\"Bill Paxton\",\"Bill Paxton\",\"Bill Paxton\",\"Bill Paxton\",\"Gloria Stuart\",\"Gloria Stuart\",\"Gloria Stuart\",\"Gloria Stuart\",\"Gloria Stuart\",\"Gloria Stuart\",\"Gloria Stuart\",\"Gloria Stuart\",\"Gloria Stuart\",\"Gloria Stuart\",\"Gloria Stuart\",\"Gloria Stuart\",\"Gloria Stuart\",\"Gloria Stuart\",\"Gloria Stuart\",\"Gloria Stuart\",\"Gloria Stuart\",\"Gloria Stuart\",\"Gloria Stuart\",\"Gloria Stuart\",\"Gloria Stuart\",\"Gloria Stuart\",\"Gloria Stuart\",\"Gloria Stuart\",\"Gloria Stuart\",\"Victor Garber\",\"Victor Garber\",\"Ioan Gruffudd\",\"Ioan Gruffudd\",\"Ioan Gruffudd\",\"Ioan Gruffudd\",\"Ioan Gruffudd\",\"Ioan Gruffudd\",\"Ioan Gruffudd\",\"Ioan Gruffudd\",\"Ioan Gruffudd\",\"Ioan Gruffudd\",\"Ioan Gruffudd\",\"Ioan Gruffudd\",\"Ioan Gruffudd\",\"Will Smith\",\"Will Smith\",\"Will Smith\",\"Will Smith\",\"Will Smith\",\"Will Smith\",\"Will Smith\",\"Will Smith\",\"Will Smith\",\"Will Smith\",\"Will Smith\",\"Will Smith\",\"Will Smith\",\"Will Smith\",\"Will Smith\",\"Will Smith\",\"Will Smith\",\"Will Smith\",\"Will Smith\",\"Will Smith\",\"Will Smith\",\"Will Smith\",\"Will Smith\",\"Will Smith\",\"Will Smith\",\"Will Smith\",\"Will Smith\",\"Will Smith\",\"Will Smith\",\"Will Smith\",\"Will Smith\",\"Will Smith\",\"Will Smith\",\"Will Smith\",\"Will Smith\",\"Will Smith\",\"Will Smith\",\"Will Smith\",\"Will Smith\",\"Will Smith\",\"Will Smith\",\"Bill Pullman\",\"Bill Pullman\",\"Bill Pullman\",\"Bill Pullman\",\"Bill Pullman\",\"Bill Pullman\",\"Bill Pullman\",\"Bill Pullman\",\"Bill Pullman\",\"Bill Pullman\",\"Bill Pullman\",\"Bill Pullman\",\"Bill Pullman\",\"Bill Pullman\",\"Bill Pullman\",\"Bill Pullman\",\"Bill Pullman\",\"Bill Pullman\",\"Bill Pullman\",\"Bill Pullman\",\"Bill Pullman\",\"Bill Pullman\",\"Bill Pullman\",\"Bill Pullman\",\"Bill Pullman\",\"Bill Pullman\",\"Bill Pullman\",\"Bill Pullman\",\"Bill Pullman\",\"Bill Pullman\",\"Bill Pullman\",\"Bill Pullman\",\"Bill Pullman\",\"Bill Pullman\",\"Jeff Goldblum\",\"Jeff Goldblum\",\"Jeff Goldblum\",\"Jeff Goldblum\",\"Jeff Goldblum\",\"Jeff Goldblum\",\"Jeff Goldblum\",\"Jeff Goldblum\",\"Jeff Goldblum\",\"Jeff Goldblum\",\"Jeff Goldblum\",\"Jeff Goldblum\",\"Jeff Goldblum\",\"Jeff Goldblum\",\"Jeff Goldblum\",\"Jeff Goldblum\",\"Jeff Goldblum\",\"Jeff Goldblum\",\"Jeff Goldblum\",\"Jeff Goldblum\",\"Jeff Goldblum\",\"Jeff Goldblum\",\"Jeff Goldblum\",\"Jeff Goldblum\",\"Jeff Goldblum\",\"Jeff Goldblum\",\"Jeff Goldblum\",\"Jeff Goldblum\",\"Mary McDonnell\",\"Mary McDonnell\",\"Mary McDonnell\",\"Mary McDonnell\",\"Mary McDonnell\",\"Mary McDonnell\",\"Mary McDonnell\",\"Mary McDonnell\",\"Mary McDonnell\",\"Mary McDonnell\",\"Mary McDonnell\",\"Mary McDonnell\",\"Mary McDonnell\",\"Mary McDonnell\",\"Mary McDonnell\",\"Mary McDonnell\",\"Mary McDonnell\",\"Mary McDonnell\",\"Mary McDonnell\",\"Mary McDonnell\",\"Mary McDonnell\",\"Mary McDonnell\",\"Mary McDonnell\",\"Mary McDonnell\",\"Mary McDonnell\",\"Mary McDonnell\",\"Mary McDonnell\",\"Mary McDonnell\",\"Mary McDonnell\",\"Mary McDonnell\",\"Mary McDonnell\",\"Mary McDonnell\",\"Mary McDonnell\",\"Mary McDonnell\",\"Mary McDonnell\",\"Mary McDonnell\",\"Mary McDonnell\",\"Mary McDonnell\",\"Mary McDonnell\",\"Mary McDonnell\",\"Mary McDonnell\",\"Mary McDonnell\",\"Mary McDonnell\",\"Randy Quaid\",\"Randy Quaid\",\"Randy Quaid\",\"Randy Quaid\",\"Randy Quaid\",\"Randy Quaid\",\"Randy Quaid\",\"Randy Quaid\",\"Randy Quaid\",\"Randy Quaid\",\"Randy Quaid\",\"Randy Quaid\",\"Randy Quaid\",\"Randy Quaid\",\"James Rebhorn\",\"James Rebhorn\",\"James Rebhorn\",\"Harvey Fierstein\",\"Harvey Fierstein\",\"Lisa Jakub\",\"Lisa Jakub\",\"Billy Bob Thornton\",\"Billy Bob Thornton\",\"Billy Bob Thornton\",\"Billy Bob Thornton\",\"Billy Bob Thornton\",\"Billy Bob Thornton\",\"Billy Bob Thornton\",\"Billy Bob Thornton\",\"Billy Bob Thornton\",\"Billy Bob Thornton\",\"Billy Bob Thornton\",\"Billy Bob Thornton\",\"Billy Bob Thornton\",\"Billy Bob Thornton\",\"Billy Bob Thornton\",\"Billy Bob Thornton\",\"Billy Bob Thornton\",\"Billy Bob Thornton\",\"Billy Bob Thornton\",\"Billy Bob Thornton\",\"Billy Bob Thornton\",\"Billy Bob Thornton\",\"Billy Bob Thornton\",\"Billy Bob Thornton\",\"Billy Bob Thornton\",\"Billy Bob Thornton\",\"Billy Bob Thornton\",\"Billy Bob Thornton\",\"Billy Bob Thornton\",\"Billy Bob Thornton\",\"Billy Bob Thornton\",\"Billy Bob Thornton\",\"Billy Bob Thornton\",\"Liv Tyler\",\"Liv Tyler\",\"Liv Tyler\",\"Liv Tyler\",\"Liv Tyler\",\"Liv Tyler\",\"Liv Tyler\",\"Liv Tyler\",\"Liv Tyler\",\"Liv Tyler\",\"Liv Tyler\",\"Liv Tyler\",\"Liv Tyler\",\"Liv Tyler\",\"Liv Tyler\",\"Liv Tyler\",\"Liv Tyler\",\"Liv Tyler\",\"Liv Tyler\",\"Liv Tyler\",\"Liv Tyler\",\"Liv Tyler\",\"Liv Tyler\",\"Ben Affleck\",\"Ben Affleck\",\"Ben Affleck\",\"Ben Affleck\",\"Ben Affleck\",\"Ben Affleck\",\"Ben Affleck\",\"Ben Affleck\",\"Ben Affleck\",\"Ben Affleck\",\"Ben Affleck\",\"Ben Affleck\",\"Ben Affleck\",\"Ben Affleck\",\"Ben Affleck\",\"Ben Affleck\",\"Ben Affleck\",\"Ben Affleck\",\"Ben Affleck\",\"Ben Affleck\",\"Ben Affleck\",\"Ben Affleck\",\"Ben Affleck\",\"Ben Affleck\",\"Ben Affleck\",\"Ben Affleck\",\"Ben Affleck\",\"Ben Affleck\",\"Ben Affleck\",\"Ben Affleck\",\"Ben Affleck\",\"Ben Affleck\",\"Ben Affleck\",\"Ben Affleck\",\"Ben Affleck\",\"Ben Affleck\",\"Ben Affleck\",\"Ben Affleck\",\"Ben Affleck\",\"Ben Affleck\",\"Ben Affleck\",\"Ben Affleck\",\"Ben Affleck\",\"Ben Affleck\",\"Ben Affleck\",\"Ben Affleck\",\"Ben Affleck\",\"Ben Affleck\",\"Ben Affleck\",\"Ben Affleck\",\"Peter Stormare\",\"Peter Stormare\",\"Peter Stormare\",\"Keith David\",\"Keith David\",\"Keith David\",\"Steve Buscemi\",\"Steve Buscemi\",\"Steve Buscemi\",\"Steve Buscemi\",\"Steve Buscemi\",\"Steve Buscemi\",\"Steve Buscemi\",\"Steve Buscemi\",\"Steve Buscemi\",\"Steve Buscemi\",\"Steve Buscemi\",\"Steve Buscemi\",\"Steve Buscemi\",\"Steve Buscemi\",\"Steve Buscemi\",\"Steve Buscemi\",\"Steve Buscemi\",\"Steve Buscemi\",\"Owen Wilson\",\"Owen Wilson\",\"Owen Wilson\",\"Owen Wilson\",\"Owen Wilson\",\"Owen Wilson\",\"Owen Wilson\",\"Owen Wilson\",\"Owen Wilson\",\"Owen Wilson\",\"Owen Wilson\",\"Owen Wilson\",\"Owen Wilson\",\"Owen Wilson\",\"Owen Wilson\",\"Owen Wilson\",\"Michael Clarke Duncan\",\"Michael Clarke Duncan\",\"Michael Clarke Duncan\",\"Michael Clarke Duncan\",\"Michael Clarke Duncan\",\"Michael Clarke Duncan\",\"Michael Clarke Duncan\",\"Michael Clarke Duncan\",\"Michael Clarke Duncan\",\"Michael Clarke Duncan\",\"Michael Clarke Duncan\",\"Michael Clarke Duncan\",\"Michael Clarke Duncan\",\"Michael Clarke Duncan\",\"Michael Clarke Duncan\",\"Chris Ellis (actor)|Chris Ellis\",\"Chris Ellis (actor)|Chris Ellis\",\"John Travolta\",\"John Travolta\",\"John Travolta\",\"John Travolta\",\"John Travolta\",\"John Travolta\",\"John Travolta\",\"John Travolta\",\"John Travolta\",\"John Travolta\",\"John Travolta\",\"John Travolta\",\"John Travolta\",\"John Travolta\",\"John Travolta\",\"John Travolta\",\"John Travolta\",\"John Travolta\",\"John Travolta\",\"John Travolta\",\"John Travolta\",\"John Travolta\",\"John Travolta\",\"John Travolta\",\"John Travolta\",\"John Travolta\",\"John Travolta\",\"John Travolta\",\"John Travolta\",\"John Travolta\",\"Samuel L. Jackson\",\"Samuel L. Jackson\",\"Samuel L. Jackson\",\"Samuel L. Jackson\",\"Samuel L. Jackson\",\"Samuel L. Jackson\",\"Samuel L. Jackson\",\"Samuel L. Jackson\",\"Samuel L. Jackson\",\"Samuel L. Jackson\",\"Samuel L. Jackson\",\"Samuel L. Jackson\",\"Samuel L. Jackson\",\"Samuel L. Jackson\",\"Samuel L. Jackson\",\"Samuel L. Jackson\",\"Samuel L. Jackson\",\"Samuel L. Jackson\",\"Samuel L. Jackson\",\"Samuel L. Jackson\",\"Uma Thurman\",\"Uma Thurman\",\"Uma Thurman\",\"Uma Thurman\",\"Uma Thurman\",\"Uma Thurman\",\"Uma Thurman\",\"Harvey Keitel\",\"Harvey Keitel\",\"Harvey Keitel\",\"Harvey Keitel\",\"Harvey Keitel\",\"Harvey Keitel\",\"Harvey Keitel\",\"Harvey Keitel\",\"Harvey Keitel\",\"Harvey Keitel\",\"Harvey Keitel\",\"Harvey Keitel\",\"Harvey Keitel\",\"Harvey Keitel\",\"Harvey Keitel\",\"Harvey Keitel\",\"Harvey Keitel\",\"Harvey Keitel\",\"Harvey Keitel\",\"Harvey Keitel\",\"Harvey Keitel\",\"Harvey Keitel\",\"Harvey Keitel\",\"Harvey Keitel\",\"Harvey Keitel\",\"Harvey Keitel\",\"Harvey Keitel\",\"Harvey Keitel\",\"Harvey Keitel\",\"Harvey Keitel\",\"Harvey Keitel\",\"Harvey Keitel\",\"Harvey Keitel\",\"Harvey Keitel\",\"Harvey Keitel\",\"Harvey Keitel\",\"Harvey Keitel\",\"Harvey Keitel\",\"Harvey Keitel\",\"Tim Roth\",\"Tim Roth\",\"Tim Roth\",\"Tim Roth\",\"Tim Roth\",\"Eric Stoltz\",\"Eric Stoltz\",\"Eric Stoltz\",\"Eric Stoltz\",\"Eric Stoltz\",\"Arnold Schwarzenegger\",\"Arnold Schwarzenegger\",\"Arnold Schwarzenegger\",\"Arnold Schwarzenegger\",\"Arnold Schwarzenegger\",\"Arnold Schwarzenegger\",\"Arnold Schwarzenegger\",\"Arnold Schwarzenegger\",\"Arnold Schwarzenegger\",\"Arnold Schwarzenegger\",\"Arnold Schwarzenegger\",\"Arnold Schwarzenegger\",\"Arnold Schwarzenegger\",\"Arnold Schwarzenegger\",\"Arnold Schwarzenegger\",\"Arnold Schwarzenegger\",\"Arnold Schwarzenegger\",\"Arnold Schwarzenegger\",\"Arnold Schwarzenegger\",\"Arnold Schwarzenegger\",\"Arnold Schwarzenegger\",\"Arnold Schwarzenegger\",\"Arnold Schwarzenegger\",\"Arnold Schwarzenegger\",\"Arnold Schwarzenegger\",\"Arnold Schwarzenegger\",\"Arnold Schwarzenegger\",\"Arnold Schwarzenegger\",\"Arnold Schwarzenegger\",\"Arnold Schwarzenegger\",\"Arnold Schwarzenegger\",\"Arnold Schwarzenegger\",\"Arnold Schwarzenegger\",\"Arnold Schwarzenegger\",\"Arnold Schwarzenegger\",\"Arnold Schwarzenegger\",\"Arnold Schwarzenegger\",\"Arnold Schwarzenegger\",\"Arnold Schwarzenegger\",\"Arnold Schwarzenegger\",\"Arnold Schwarzenegger\",\"Arnold Schwarzenegger\",\"Arnold Schwarzenegger\",\"Arnold Schwarzenegger\",\"Arnold Schwarzenegger\",\"Arnold Schwarzenegger\",\"Sharon Stone\",\"Sharon Stone\",\"Sharon Stone\",\"Sharon Stone\",\"Sharon Stone\",\"Sharon Stone\",\"Sharon Stone\",\"Sharon Stone\",\"Sharon Stone\",\"Sharon Stone\",\"Sharon Stone\",\"Sharon Stone\",\"Sharon Stone\",\"Sharon Stone\",\"Sharon Stone\",\"Sharon Stone\",\"Sharon Stone\",\"Sharon Stone\",\"Sharon Stone\",\"Sharon Stone\",\"Sharon Stone\",\"Sharon Stone\",\"Sharon Stone\",\"Sharon Stone\",\"Sharon Stone\",\"Sharon Stone\",\"Sharon Stone\",\"Sharon Stone\",\"Sharon Stone\",\"Sharon Stone\",\"Dean Norris\",\"Dean Norris\",\"Dean Norris\",\"Dean Norris\",\"Dean Norris\",\"Dean Norris\",\"Dean Norris\",\"Liam Neeson\",\"Liam Neeson\",\"Liam Neeson\",\"Liam Neeson\",\"Liam Neeson\",\"Liam Neeson\",\"Liam Neeson\",\"Liam Neeson\",\"Liam Neeson\",\"Liam Neeson\",\"Liam Neeson\",\"Liam Neeson\",\"Liam Neeson\",\"Liam Neeson\",\"Liam Neeson\",\"Liam Neeson\",\"Liam Neeson\",\"Liam Neeson\",\"Liam Neeson\",\"Liam Neeson\",\"Liam Neeson\",\"Liam Neeson\",\"Liam Neeson\",\"Liam Neeson\",\"Liam Neeson\",\"Liam Neeson\",\"Ben Kingsley\",\"Ben Kingsley\",\"Ben Kingsley\",\"Ben Kingsley\",\"Ben Kingsley\",\"Ben Kingsley\",\"Ben Kingsley\",\"Ben Kingsley\",\"Ben Kingsley\",\"Ben Kingsley\",\"Ben Kingsley\",\"Ben Kingsley\",\"Ben Kingsley\",\"Ben Kingsley\",\"Ben Kingsley\",\"Ben Kingsley\",\"Ben Kingsley\",\"Ben Kingsley\",\"Ben Kingsley\",\"Ben Kingsley\",\"Ben Kingsley\",\"Ben Kingsley\",\"Ben Kingsley\",\"Ben Kingsley\",\"Ben Kingsley\",\"Ralph Fiennes\",\"Ralph Fiennes\",\"Ralph Fiennes\",\"Ralph Fiennes\",\"Ralph Fiennes\",\"Ralph Fiennes\",\"Ralph Fiennes\",\"Ralph Fiennes\",\"Ralph Fiennes\",\"Ralph Fiennes\",\"Ralph Fiennes\",\"Ralph Fiennes\",\"Ralph Fiennes\",\"Ralph Fiennes\",\"Ralph Fiennes\",\"Ralph Fiennes\",\"Ralph Fiennes\",\"Ralph Fiennes\",\"Ralph Fiennes\",\"Ralph Fiennes\",\"Ralph Fiennes\",\"Ralph Fiennes\",\"Ralph Fiennes\",\"Ralph Fiennes\",\"Caroline Goodall\",\"Caroline Goodall\",\"Caroline Goodall\",\"Jamie Lee Curtis\",\"Jamie Lee Curtis\",\"Jamie Lee Curtis\",\"Jamie Lee Curtis\",\"Jamie Lee Curtis\",\"Jamie Lee Curtis\",\"Jamie Lee Curtis\",\"Jamie Lee Curtis\",\"Eliza Dushku\",\"Eliza Dushku\",\"Eliza Dushku\",\"Eliza Dushku\",\"Charlton Heston\",\"Charlton Heston\",\"Gwyneth Paltrow\",\"Gwyneth Paltrow\",\"Gwyneth Paltrow\",\"Gwyneth Paltrow\",\"Gwyneth Paltrow\",\"Gwyneth Paltrow\",\"Gwyneth Paltrow\",\"Gwyneth Paltrow\",\"Gwyneth Paltrow\",\"Gwyneth Paltrow\",\"Gwyneth Paltrow\",\"Gwyneth Paltrow\",\"Gwyneth Paltrow\",\"Gwyneth Paltrow\",\"Gwyneth Paltrow\",\"Gwyneth Paltrow\",\"Gwyneth Paltrow\",\"Gwyneth Paltrow\",\"Gwyneth Paltrow\",\"Gwyneth Paltrow\",\"Gwyneth Paltrow\",\"Gwyneth Paltrow\",\"Gwyneth Paltrow\",\"Gwyneth Paltrow\",\"Gwyneth Paltrow\",\"Gwyneth Paltrow\",\"Gwyneth Paltrow\",\"Gwyneth Paltrow\",\"Gwyneth Paltrow\",\"Gwyneth Paltrow\",\"Gwyneth Paltrow\",\"Gwyneth Paltrow\",\"Gwyneth Paltrow\",\"Gwyneth Paltrow\",\"Gwyneth Paltrow\",\"Geoffrey Rush\",\"Geoffrey Rush\",\"Geoffrey Rush\",\"Geoffrey Rush\",\"Geoffrey Rush\",\"Geoffrey Rush\",\"Geoffrey Rush\",\"Geoffrey Rush\",\"Geoffrey Rush\",\"Geoffrey Rush\",\"Geoffrey Rush\",\"Geoffrey Rush\",\"Geoffrey Rush\",\"Geoffrey Rush\",\"Geoffrey Rush\",\"Geoffrey Rush\",\"Geoffrey Rush\",\"Colin Firth\",\"Colin Firth\",\"Colin Firth\",\"Colin Firth\",\"Colin Firth\",\"Colin Firth\",\"Colin Firth\",\"Colin Firth\",\"Colin Firth\",\"Colin Firth\",\"Colin Firth\",\"Colin Firth\",\"Colin Firth\",\"Colin Firth\",\"Colin Firth\",\"Colin Firth\",\"Judi Dench\",\"Judi Dench\",\"Judi Dench\",\"Judi Dench\",\"Judi Dench\",\"Judi Dench\",\"Judi Dench\",\"Judi Dench\",\"Judi Dench\",\"Judi Dench\",\"Judi Dench\",\"Judi Dench\",\"Judi Dench\",\"Judi Dench\",\"Judi Dench\",\"Judi Dench\",\"Judi Dench\",\"Judi Dench\",\"Judi Dench\",\"Judi Dench\",\"Judi Dench\",\"Judi Dench\",\"Judi Dench\",\"Judi Dench\",\"Judi Dench\",\"Judi Dench\",\"Judi Dench\",\"Judi Dench\",\"Judi Dench\",\"Judi Dench\",\"Judi Dench\",\"Judi Dench\",\"Judi Dench\",\"Judi Dench\",\"Judi Dench\",\"Judi Dench\",\"Judi Dench\",\"Judi Dench\",\"Judi Dench\",\"Imelda Staunton\",\"Imelda Staunton\",\"Imelda Staunton\",\"Imelda Staunton\",\"Imelda Staunton\",\"Imelda Staunton\",\"Imelda Staunton\",\"Imelda Staunton\",\"Imelda Staunton\",\"Imelda Staunton\",\"Imelda Staunton\",\"Tom Wilkinson\",\"Tom Wilkinson\",\"Tom Wilkinson\",\"Tom Wilkinson\",\"Tom Wilkinson\",\"Tom Wilkinson\",\"Tom Wilkinson\",\"Tom Wilkinson\",\"Tom Wilkinson\",\"Tom Wilkinson\",\"Tom Wilkinson\",\"Tom Wilkinson\",\"Tom Wilkinson\",\"Tom Wilkinson\",\"Tom Wilkinson\",\"Tom Wilkinson\",\"Tom Wilkinson\",\"Tom Wilkinson\",\"Tom Wilkinson\",\"Tom Wilkinson\",\"Tom Wilkinson\",\"Tom Wilkinson\",\"Tom Wilkinson\",\"Tom Wilkinson\",\"Tom Wilkinson\",\"Tom Wilkinson\",\"Tom Wilkinson\",\"Tom Wilkinson\",\"Tom Wilkinson\",\"Tom Wilkinson\",\"Tom Wilkinson\",\"Tom Wilkinson\",\"Tom Wilkinson\",\"Tom Wilkinson\",\"Tom Wilkinson\",\"Tom Wilkinson\",\"Rupert Everett\",\"Rupert Everett\",\"Dennis Hopper\",\"Dennis Hopper\",\"Dennis Hopper\",\"Dennis Hopper\",\"Dennis Hopper\",\"Dennis Hopper\",\"Dennis Hopper\",\"Dennis Hopper\",\"Dennis Hopper\",\"Dennis Hopper\",\"Dennis Hopper\",\"Dennis Hopper\",\"Dennis Hopper\",\"Dennis Hopper\",\"Dennis Hopper\",\"Dennis Hopper\",\"Dennis Hopper\",\"Dennis Hopper\",\"Dennis Hopper\",\"Dennis Hopper\",\"Dennis Hopper\",\"Dennis Hopper\",\"Dennis Hopper\",\"Dennis Hopper\",\"Dennis Hopper\",\"Dennis Hopper\",\"Dennis Hopper\",\"Dennis Hopper\",\"Dennis Hopper\",\"Dennis Hopper\",\"Dennis Hopper\",\"Dennis Hopper\",\"Dennis Hopper\",\"Dennis Hopper\",\"Dennis Hopper\",\"Dennis Hopper\",\"Dennis Hopper\",\"Dennis Hopper\",\"Dennis Hopper\",\"Dennis Hopper\",\"Dennis Hopper\",\"Dennis Hopper\",\"Sandra Bullock\",\"Sandra Bullock\",\"Sandra Bullock\",\"Sandra Bullock\",\"Sandra Bullock\",\"Sandra Bullock\",\"Sandra Bullock\",\"Sandra Bullock\",\"Sandra Bullock\",\"Sandra Bullock\",\"Sandra Bullock\",\"Sandra Bullock\",\"Sandra Bullock\",\"Sandra Bullock\",\"Sandra Bullock\",\"Sandra Bullock\",\"Sandra Bullock\",\"Sandra Bullock\",\"Sandra Bullock\",\"Sandra Bullock\",\"Joe Morton\",\"Jeff Daniels\",\"Jeff Daniels\",\"Jeff Daniels\",\"Jeff Daniels\",\"Jeff Daniels\",\"Jeff Daniels\",\"Jeff Daniels\",\"Jeff Daniels\",\"Jeff Daniels\",\"Jeff Daniels\",\"Jeff Daniels\",\"Jeff Daniels\",\"Jeff Daniels\",\"Jeff Daniels\",\"Jeff Daniels\",\"Jeff Daniels\",\"Jeff Daniels\",\"Jeff Daniels\",\"Jeff Daniels\",\"Jeff Daniels\",\"Jeff Daniels\",\"Jeff Daniels\",\"Jeff Daniels\",\"Jeff Daniels\",\"Jeff Daniels\",\"Jeff Daniels\",\"Jeff Daniels\",\"Jeff Daniels\",\"Jeff Daniels\",\"Jeff Daniels\",\"Jeff Daniels\",\"Jeff Daniels\",\"Jeff Daniels\",\"Richard Lineback\",\"Richard Lineback\",\"Richard Lineback\",\"Alan Ruck\",\"Alan Ruck\",\"Alan Ruck\",\"Hawthorne James\",\"Hawthorne James\",\"Richard Schiff\",\"Richard Schiff\",\"Richard Schiff\",\"Richard Schiff\",\"Richard Schiff\",\"Richard Schiff\",\"Richard Schiff\",\"Patrick Fischler\",\"Patrick Fischler\",\"Patrick Fischler\",\"Kevin Costner\",\"Kevin Costner\",\"Kevin Costner\",\"Kevin Costner\",\"Kevin Costner\",\"Kevin Costner\",\"Kevin Costner\",\"Kevin Costner\",\"Kevin Costner\",\"Kevin Costner\",\"Kevin Costner\",\"Kevin Costner\",\"Kevin Costner\",\"Kevin Costner\",\"Kevin Costner\",\"Kevin Costner\",\"Kevin Costner\",\"Kevin Costner\",\"Kevin Costner\",\"Kevin Costner\",\"Kevin Costner\",\"Kevin Costner\",\"Kevin Costner\",\"Kevin Costner\",\"Kevin Costner\",\"Kevin Costner\",\"Kevin Costner\",\"Kevin Costner\",\"Kevin Costner\",\"Kevin Costner\",\"Kevin Costner\",\"Kevin Costner\",\"Kevin Costner\",\"Kevin Costner\",\"Kevin Costner\",\"Kevin Costner\",\"Kevin Costner\",\"Kevin Costner\",\"Kevin Costner\",\"Kevin Costner\",\"Kevin Costner\",\"Kevin Costner\",\"Kevin Costner\",\"Kevin Costner\",\"Kevin Costner\",\"Kevin Costner\",\"Kevin Costner\",\"Kevin Costner\",\"Kevin Costner\",\"Kevin Costner\",\"Kevin Costner\",\"Kevin Costner\",\"Kevin Costner\",\"Kevin Costner\",\"Kevin Costner\",\"Kevin Costner\",\"Kevin Costner\",\"Kevin Costner\",\"Kevin Costner\",\"Kevin Costner\",\"Kevin Costner\",\"Kevin Costner\",\"Kevin Costner\",\"Kevin Costner\",\"Kevin Costner\",\"Kevin Costner\",\"Kevin Costner\",\"Kevin Costner\",\"Kevin Costner\",\"Kevin Costner\",\"Kevin Costner\",\"Kevin Costner\",\"Kevin Costner\",\"Kevin Costner\",\"Kevin Costner\",\"Graham Greene (actor)|Graham Greene\",\"Maury Chaykin\",\"Maury Chaykin\",\"Patrick Swayze\",\"Patrick Swayze\",\"Patrick Swayze\",\"Patrick Swayze\",\"Patrick Swayze\",\"Patrick Swayze\",\"Patrick Swayze\",\"Patrick Swayze\",\"Patrick Swayze\",\"Patrick Swayze\",\"Demi Moore\",\"Demi Moore\",\"Demi Moore\",\"Demi Moore\",\"Demi Moore\",\"Demi Moore\",\"Demi Moore\",\"Demi Moore\",\"Demi Moore\",\"Demi Moore\",\"Demi Moore\",\"Demi Moore\",\"Demi Moore\",\"Demi Moore\",\"Demi Moore\",\"Demi Moore\",\"Demi Moore\",\"Demi Moore\",\"Demi Moore\",\"Demi Moore\",\"Demi Moore\",\"Demi Moore\",\"Demi Moore\",\"Demi Moore\",\"Demi Moore\",\"Demi Moore\",\"Demi Moore\",\"Demi Moore\",\"Demi Moore\",\"Demi Moore\",\"Demi Moore\",\"Demi Moore\",\"Demi Moore\",\"Demi Moore\",\"Demi Moore\",\"Demi Moore\",\"Demi Moore\",\"Demi Moore\",\"Demi Moore\",\"Demi Moore\",\"Demi Moore\",\"Demi Moore\",\"Demi Moore\",\"Demi Moore\",\"Demi Moore\",\"Demi Moore\",\"Demi Moore\",\"Demi Moore\",\"Demi Moore\",\"Demi Moore\",\"Demi Moore\",\"Demi Moore\",\"Whoopi Goldberg\",\"Whoopi Goldberg\",\"Whoopi Goldberg\",\"Whoopi Goldberg\",\"Whoopi Goldberg\",\"Whoopi Goldberg\",\"Whoopi Goldberg\",\"Whoopi Goldberg\",\"Whoopi Goldberg\",\"Whoopi Goldberg\",\"Whoopi Goldberg\",\"Whoopi Goldberg\",\"Whoopi Goldberg\",\"Whoopi Goldberg\",\"Whoopi Goldberg\",\"Whoopi Goldberg\",\"Whoopi Goldberg\",\"Whoopi Goldberg\",\"Whoopi Goldberg\",\"Whoopi Goldberg\",\"Whoopi Goldberg\",\"Whoopi Goldberg\",\"Whoopi Goldberg\",\"Whoopi Goldberg\",\"Whoopi Goldberg\",\"Whoopi Goldberg\",\"Whoopi Goldberg\",\"Whoopi Goldberg\",\"Whoopi Goldberg\",\"Whoopi Goldberg\",\"Whoopi Goldberg\",\"Whoopi Goldberg\",\"Whoopi Goldberg\",\"Whoopi Goldberg\",\"Whoopi Goldberg\",\"Whoopi Goldberg\",\"Whoopi Goldberg\",\"Whoopi Goldberg\",\"Rick Aviles\",\"Tom Cruise\",\"Tom Cruise\",\"Tom Cruise\",\"Tom Cruise\",\"Tom Cruise\",\"Tom Cruise\",\"Tom Cruise\",\"Tom Cruise\",\"Tom Cruise\",\"Tom Cruise\",\"Tom Cruise\",\"Tom Cruise\",\"Tom Cruise\",\"Tom Cruise\",\"Tom Cruise\",\"Tom Cruise\",\"Tom Cruise\",\"Tom Cruise\",\"Tom Cruise\",\"Tom Cruise\",\"Tom Cruise\",\"Tom Cruise\",\"Tom Cruise\",\"Tom Cruise\",\"Tom Cruise\",\"Tom Cruise\",\"Tom Cruise\",\"Tom Cruise\",\"Tom Cruise\",\"Tom Cruise\",\"Tom Cruise\",\"Tom Cruise\",\"Tom Cruise\",\"Tom Cruise\",\"Tom Cruise\",\"Tom Cruise\",\"Tom Cruise\",\"Tom Cruise\",\"Tom Cruise\",\"Tom Cruise\",\"Tom Cruise\",\"Tom Cruise\",\"Tom Cruise\",\"Tom Cruise\",\"Tom Cruise\",\"Tom Cruise\",\"Tom Cruise\",\"Tom Cruise\",\"Tom Cruise\",\"Tom Cruise\",\"Tom Cruise\",\"Tom Cruise\",\"Tom Cruise\",\"Tom Cruise\",\"Tom Cruise\",\"Tom Cruise\",\"Tom Cruise\",\"Tom Cruise\",\"Tom Cruise\",\"Tom Cruise\",\"Tom Cruise\",\"Tom Cruise\",\"Tom Cruise\",\"Tom Cruise\",\"Tom Cruise\",\"Tom Cruise\",\"Tom Cruise\",\"Tom Cruise\",\"Tom Cruise\",\"Tom Cruise\",\"Cuba Gooding Jr.\",\"Cuba Gooding Jr.\",\"Cuba Gooding Jr.\",\"Cuba Gooding Jr.\",\"Cuba Gooding Jr.\",\"Cuba Gooding Jr.\",\"Cuba Gooding Jr.\",\"Cuba Gooding Jr.\",\"Cuba Gooding Jr.\",\"Cuba Gooding Jr.\",\"Cuba Gooding Jr.\",\"Cuba Gooding Jr.\",\"Cuba Gooding Jr.\",\"Cuba Gooding Jr.\",\"Cuba Gooding Jr.\",\"Cuba Gooding Jr.\",\"Cuba Gooding Jr.\",\"Cuba Gooding Jr.\",\"Cuba Gooding Jr.\",\"Cuba Gooding Jr.\",\"Cuba Gooding Jr.\",\"Cuba Gooding Jr.\",\"Cuba Gooding Jr.\",\"Cuba Gooding Jr.\",\"Cuba Gooding Jr.\",\"Cuba Gooding Jr.\",\"Cuba Gooding Jr.\",\"Cuba Gooding Jr.\",\"Cuba Gooding Jr.\",\"Cuba Gooding Jr.\",\"Cuba Gooding Jr.\",\"Cuba Gooding Jr.\",\"Cuba Gooding Jr.\",\"Cuba Gooding Jr.\",\"Cuba Gooding Jr.\",\"Cuba Gooding Jr.\",\"Cuba Gooding Jr.\",\"Cuba Gooding Jr.\",\"Cuba Gooding Jr.\",\"Cuba Gooding Jr.\",\"Cuba Gooding Jr.\",\"Cuba Gooding Jr.\",\"Cuba Gooding Jr.\",\"Cuba Gooding Jr.\",\"Cuba Gooding Jr.\",\"Cuba Gooding Jr.\",\"Cuba Gooding Jr.\",\"Cuba Gooding Jr.\",\"Cuba Gooding Jr.\",\"Cuba Gooding Jr.\",\"Cuba Gooding Jr.\",\"Cuba Gooding Jr.\",\"Cuba Gooding Jr.\",\"Cuba Gooding Jr.\",\"Cuba Gooding Jr.\",\"Cuba Gooding Jr.\",\"Cuba Gooding Jr.\",\"Cuba Gooding Jr.\",\"Cuba Gooding Jr.\",\"Cuba Gooding Jr.\",\"Cuba Gooding Jr.\",\"Cuba Gooding Jr.\",\"Ren\\u00e9e Zellweger\",\"Ren\\u00e9e Zellweger\",\"Ren\\u00e9e Zellweger\",\"Ren\\u00e9e Zellweger\",\"Ren\\u00e9e Zellweger\",\"Ren\\u00e9e Zellweger\",\"Ren\\u00e9e Zellweger\",\"Ren\\u00e9e Zellweger\",\"Ren\\u00e9e Zellweger\",\"Ren\\u00e9e Zellweger\",\"Ren\\u00e9e Zellweger\",\"Ren\\u00e9e Zellweger\",\"Ren\\u00e9e Zellweger\",\"Ren\\u00e9e Zellweger\",\"Ren\\u00e9e Zellweger\",\"Ren\\u00e9e Zellweger\",\"Ren\\u00e9e Zellweger\",\"Ren\\u00e9e Zellweger\",\"Ren\\u00e9e Zellweger\",\"Ren\\u00e9e Zellweger\",\"Ren\\u00e9e Zellweger\",\"Ren\\u00e9e Zellweger\",\"Ren\\u00e9e Zellweger\",\"Ren\\u00e9e Zellweger\",\"Ren\\u00e9e Zellweger\",\"Ren\\u00e9e Zellweger\",\"Ren\\u00e9e Zellweger\",\"Ren\\u00e9e Zellweger\",\"Ren\\u00e9e Zellweger\",\"Ren\\u00e9e Zellweger\",\"Ren\\u00e9e Zellweger\",\"Ren\\u00e9e Zellweger\",\"Regina King\",\"Regina King\",\"Regina King\",\"Regina King\",\"Regina King\",\"Regina King\",\"Regina King\",\"Regina King\",\"Regina King\",\"Regina King\",\"Regina King\",\"Regina King\",\"Regina King\",\"Regina King\",\"Regina King\",\"Regina King\",\"Regina King\",\"Regina King\",\"Regina King\",\"Regina King\",\"Regina King\",\"Regina King\",\"Regina King\",\"Regina King\",\"Regina King\",\"Regina King\",\"Regina King\",\"Regina King\",\"Jonathan Lipnicki\",\"Jonathan Lipnicki\",\"Jonathan Lipnicki\",\"Jonathan Lipnicki\",\"Jonathan Lipnicki\",\"Todd Louiso\",\"Jeremy Suarez\",\"Jared Jussim\",\"Jann Wenner\",\"Ali Wentworth\",\"Aries Spears\",\"Kelly Coffield Park|Kelly Coffield\",\"Winnie Holzman\",\"Glenn Frey\",\"Donal Logue\",\"Donal Logue\",\"Donal Logue\",\"Tom Gallop\",\"Angela Goethals\",\"Angela Goethals\",\"Angela Goethals\",\"Rick Johnson (gridiron football)|Rick Johnson\",\"Jerry Cantrell\",\"Toby Huss\",\"Drake Bell\",\"Christine Cavanaugh\",\"Brent Barry\",\"Theo Greenly\",\"Jerry Ziesmer\",\"Anthony Natale\",\"Reagan Gomez-Preston\",\"Lucy Liu\",\"Lucy Liu\",\"Lucy Liu\",\"Lucy Liu\",\"Roy Firestone\",\"Beau Bridges\",\"Barry Switzer\",\"Bonnie Hunt\",\"Bonnie Hunt\",\"Bonnie Hunt\",\"Jack Nicholson\",\"Jack Nicholson\",\"Jack Nicholson\",\"Jack Nicholson\",\"Jack Nicholson\",\"Jack Nicholson\",\"Jack Nicholson\",\"Jack Nicholson\",\"Jack Nicholson\",\"Jack Nicholson\",\"Jack Nicholson\",\"Jack Nicholson\",\"Jack Nicholson\",\"Jack Nicholson\",\"Jack Nicholson\",\"Jack Nicholson\",\"Jack Nicholson\",\"Jack Nicholson\",\"Jack Nicholson\",\"Jack Nicholson\",\"Jack Nicholson\",\"Jack Nicholson\",\"Jack Nicholson\",\"Jack Nicholson\",\"Jack Nicholson\",\"Jack Nicholson\",\"Jack Nicholson\",\"Jack Nicholson\",\"Jack Nicholson\",\"Jack Nicholson\",\"Jack Nicholson\",\"Jack Nicholson\",\"Jack Nicholson\",\"Jack Nicholson\",\"Helen Hunt\",\"Helen Hunt\",\"Helen Hunt\",\"Helen Hunt\",\"Helen Hunt\",\"Helen Hunt\",\"Helen Hunt\",\"Helen Hunt\",\"Helen Hunt\",\"Helen Hunt\",\"Helen Hunt\",\"Helen Hunt\",\"Helen Hunt\",\"Helen Hunt\",\"Helen Hunt\",\"Helen Hunt\",\"Helen Hunt\",\"Helen Hunt\",\"Helen Hunt\",\"Helen Hunt\",\"Helen Hunt\",\"Helen Hunt\",\"Helen Hunt\",\"Helen Hunt\",\"Helen Hunt\",\"Helen Hunt\",\"Helen Hunt\",\"Helen Hunt\",\"Helen Hunt\",\"Helen Hunt\",\"Helen Hunt\",\"Helen Hunt\",\"Helen Hunt\",\"Greg Kinnear\",\"Greg Kinnear\",\"Greg Kinnear\",\"Greg Kinnear\",\"Greg Kinnear\",\"Greg Kinnear\",\"Greg Kinnear\",\"Greg Kinnear\",\"Greg Kinnear\",\"Greg Kinnear\",\"Greg Kinnear\",\"Greg Kinnear\",\"Greg Kinnear\",\"Greg Kinnear\",\"Greg Kinnear\",\"Greg Kinnear\",\"Greg Kinnear\",\"Greg Kinnear\",\"Greg Kinnear\",\"Greg Kinnear\",\"Greg Kinnear\",\"Greg Kinnear\",\"Greg Kinnear\",\"Greg Kinnear\",\"Greg Kinnear\",\"Greg Kinnear\",\"Greg Kinnear\",\"Greg Kinnear\",\"Greg Kinnear\",\"Greg Kinnear\",\"Brian Doyle-Murray\",\"Brian Doyle-Murray\",\"Brian Doyle-Murray\",\"Robin Williams\",\"Robin Williams\",\"Robin Williams\",\"Robin Williams\",\"Robin Williams\",\"Robin Williams\",\"Robin Williams\",\"Robin Williams\",\"Robin Williams\",\"Robin Williams\",\"Robin Williams\",\"Robin Williams\",\"Robin Williams\",\"Robin Williams\",\"Robin Williams\",\"Robin Williams\",\"Robin Williams\",\"Robin Williams\",\"Robin Williams\",\"Robin Williams\",\"Robin Williams\",\"Robin Williams\",\"Stellan Skarsg\\u00e5rd\",\"Stellan Skarsg\\u00e5rd\",\"Stellan Skarsg\\u00e5rd\",\"Stellan Skarsg\\u00e5rd\",\"Stellan Skarsg\\u00e5rd\",\"Stellan Skarsg\\u00e5rd\",\"Stellan Skarsg\\u00e5rd\",\"Stellan Skarsg\\u00e5rd\",\"Stellan Skarsg\\u00e5rd\",\"Minnie Driver\",\"Minnie Driver\",\"Minnie Driver\",\"Minnie Driver\",\"Minnie Driver\",\"Minnie Driver\",\"Minnie Driver\",\"Minnie Driver\",\"Casey Affleck\",\"Casey Affleck\",\"Casey Affleck\",\"Casey Affleck\",\"Casey Affleck\",\"Casey Affleck\",\"Casey Affleck\",\"Gary Oldman\",\"Gary Oldman\",\"Gary Oldman\",\"Gary Oldman\",\"Gary Oldman\",\"Gary Oldman\",\"Gary Oldman\",\"Gary Oldman\",\"Gary Oldman\",\"Gary Oldman\",\"Gary Oldman\",\"Gary Oldman\",\"Gary Oldman\",\"Gary Oldman\",\"Gary Oldman\",\"Gary Oldman\",\"Gary Oldman\",\"Gary Oldman\",\"Gary Oldman\",\"Gary Oldman\",\"Gary Oldman\",\"Gary Oldman\",\"Ian Holm\",\"Ian Holm\",\"Ian Holm\",\"Ian Holm\",\"Ian Holm\",\"Ian Holm\",\"Ian Holm\",\"Ian Holm\",\"Ian Holm\",\"Ian Holm\",\"Chris Tucker\",\"Chris Tucker\",\"Chris Tucker\",\"Chris Tucker\",\"Chris Tucker\",\"Chris Tucker\",\"Chris Tucker\",\"Chris Tucker\",\"Chris Tucker\",\"Chris Tucker\",\"Chris Tucker\",\"Chris Tucker\",\"Chris Tucker\",\"Chris Tucker\",\"Chris Tucker\",\"Chris Tucker\",\"Chris Tucker\",\"Chris Tucker\",\"Chris Tucker\",\"Chris Tucker\",\"Chris Tucker\",\"Milla Jovovich\",\"Milla Jovovich\",\"Milla Jovovich\",\"Milla Jovovich\",\"Milla Jovovich\",\"Milla Jovovich\",\"Milla Jovovich\",\"Milla Jovovich\",\"Lee Evans (comedian)|Lee Evans\",\"Lee Evans (comedian)|Lee Evans\",\"Lee Evans (comedian)|Lee Evans\",\"Richard Gere\",\"Richard Gere\",\"Richard Gere\",\"Richard Gere\",\"Richard Gere\",\"Richard Gere\",\"Richard Gere\",\"Richard Gere\",\"Richard Gere\",\"Richard Gere\",\"Richard Gere\",\"Richard Gere\",\"Richard Gere\",\"Richard Gere\",\"Richard Gere\",\"Richard Gere\",\"Julia Roberts\",\"Julia Roberts\",\"Julia Roberts\",\"Julia Roberts\",\"Julia Roberts\",\"Julia Roberts\",\"Julia Roberts\",\"Julia Roberts\",\"Julia Roberts\",\"Julia Roberts\",\"Julia Roberts\",\"Julia Roberts\",\"Julia Roberts\",\"Julia Roberts\",\"Julia Roberts\",\"Julia Roberts\",\"Julia Roberts\",\"Julia Roberts\",\"Julia Roberts\",\"Julia Roberts\",\"Julia Roberts\",\"Julia Roberts\",\"Julia Roberts\",\"Larry Miller (comedian)|Larry Miller\",\"Hank Azaria\",\"Hank Azaria\",\"Meg Ryan\",\"Meg Ryan\",\"Meg Ryan\",\"Meg Ryan\",\"Meg Ryan\",\"Meg Ryan\",\"Meg Ryan\",\"Meg Ryan\",\"Meg Ryan\",\"Meg Ryan\",\"Meg Ryan\",\"Meg Ryan\",\"Meg Ryan\",\"Meg Ryan\",\"Meg Ryan\",\"Meg Ryan\",\"Meg Ryan\",\"Meg Ryan\",\"Meg Ryan\",\"Meg Ryan\",\"Meg Ryan\",\"Meg Ryan\",\"Meg Ryan\",\"Meg Ryan\",\"Meg Ryan\",\"Meg Ryan\",\"Meg Ryan\",\"Meg Ryan\",\"Meg Ryan\",\"Parker Posey\",\"Parker Posey\",\"Parker Posey\",\"Parker Posey\",\"Parker Posey\",\"Parker Posey\",\"Parker Posey\",\"Parker Posey\",\"Parker Posey\",\"Parker Posey\",\"Parker Posey\",\"Parker Posey\",\"Parker Posey\",\"Parker Posey\",\"Dave Chappelle\",\"Dave Chappelle\",\"Pierce Brosnan\",\"Pierce Brosnan\",\"Pierce Brosnan\",\"Pierce Brosnan\",\"Pierce Brosnan\",\"Pierce Brosnan\",\"Pierce Brosnan\",\"Pierce Brosnan\",\"Pierce Brosnan\",\"Pierce Brosnan\",\"Pierce Brosnan\",\"Pierce Brosnan\",\"Pierce Brosnan\",\"Pierce Brosnan\",\"Pierce Brosnan\",\"Pierce Brosnan\",\"Pierce Brosnan\",\"Pierce Brosnan\",\"Pierce Brosnan\",\"Pierce Brosnan\",\"Pierce Brosnan\",\"Pierce Brosnan\",\"Pierce Brosnan\",\"Pierce Brosnan\",\"Pierce Brosnan\",\"Pierce Brosnan\",\"Pierce Brosnan\",\"Pierce Brosnan\",\"Pierce Brosnan\",\"Pierce Brosnan\",\"Pierce Brosnan\",\"Pierce Brosnan\",\"Pierce Brosnan\",\"Pierce Brosnan\",\"Pierce Brosnan\",\"Pierce Brosnan\",\"Pierce Brosnan\",\"Pierce Brosnan\",\"Pierce Brosnan\",\"Pierce Brosnan\",\"Pierce Brosnan\",\"Pierce Brosnan\",\"Pierce Brosnan\",\"Pierce Brosnan\",\"Pierce Brosnan\",\"Sophie Marceau\",\"Sophie Marceau\",\"Sophie Marceau\",\"Sophie Marceau\",\"Sophie Marceau\",\"Sophie Marceau\",\"Sophie Marceau\",\"Sophie Marceau\",\"Sophie Marceau\",\"Sophie Marceau\",\"Sophie Marceau\",\"Sophie Marceau\",\"Sophie Marceau\",\"Sophie Marceau\",\"Sophie Marceau\",\"Sophie Marceau\",\"Sophie Marceau\",\"Robbie Coltrane\",\"Robbie Coltrane\",\"Desmond Llewelyn\",\"Desmond Llewelyn\",\"Desmond Llewelyn\",\"Desmond Llewelyn\",\"Michael Kitchen\",\"Michael Kitchen\",\"Samantha Bond\",\"Samantha Bond\",\"Samantha Bond\",\"Samantha Bond\",\"Colin Salmon\",\"Colin Salmon\",\"Linda Fiorentino\",\"Linda Fiorentino\",\"Linda Fiorentino\",\"Linda Fiorentino\",\"Linda Fiorentino\",\"Linda Fiorentino\",\"Linda Fiorentino\",\"Linda Fiorentino\",\"Linda Fiorentino\",\"Linda Fiorentino\",\"Linda Fiorentino\",\"Linda Fiorentino\",\"Linda Fiorentino\",\"Linda Fiorentino\",\"Linda Fiorentino\",\"Linda Fiorentino\",\"Linda Fiorentino\",\"Linda Fiorentino\",\"Linda Fiorentino\",\"Linda Fiorentino\",\"Sean Whalen\",\"Sean Whalen\",\"Sean Whalen\",\"Brad Pitt\",\"Brad Pitt\",\"Brad Pitt\",\"Brad Pitt\",\"Brad Pitt\",\"Brad Pitt\",\"Brad Pitt\",\"Brad Pitt\",\"Brad Pitt\",\"Brad Pitt\",\"Brad Pitt\",\"Brad Pitt\",\"Brad Pitt\",\"Morgan Freeman\",\"Morgan Freeman\",\"Morgan Freeman\",\"Morgan Freeman\",\"Morgan Freeman\",\"Morgan Freeman\",\"Morgan Freeman\",\"Morgan Freeman\",\"Morgan Freeman\",\"Morgan Freeman\",\"Morgan Freeman\",\"Morgan Freeman\",\"Morgan Freeman\",\"Morgan Freeman\",\"Morgan Freeman\",\"Morgan Freeman\",\"Morgan Freeman\",\"Morgan Freeman\",\"Morgan Freeman\",\"Morgan Freeman\",\"Morgan Freeman\",\"Morgan Freeman\",\"Morgan Freeman\",\"Morgan Freeman\",\"Morgan Freeman\",\"Morgan Freeman\",\"Morgan Freeman\",\"Morgan Freeman\",\"Morgan Freeman\",\"Morgan Freeman\",\"Reg E. Cathey\",\"Michael J. Fox\",\"Michael J. Fox\",\"Mary Steenburgen\",\"Mary Steenburgen\",\"Mary Steenburgen\",\"Mary Steenburgen\",\"Mary Steenburgen\",\"Mary Steenburgen\",\"Mary Steenburgen\",\"Macaulay Culkin\",\"Macaulay Culkin\",\"Macaulay Culkin\",\"Macaulay Culkin\",\"Macaulay Culkin\",\"Macaulay Culkin\",\"Macaulay Culkin\",\"Macaulay Culkin\",\"Macaulay Culkin\",\"Macaulay Culkin\",\"Macaulay Culkin\",\"Macaulay Culkin\",\"Macaulay Culkin\",\"Macaulay Culkin\",\"Macaulay Culkin\",\"Macaulay Culkin\",\"Macaulay Culkin\",\"Macaulay Culkin\",\"Macaulay Culkin\",\"Macaulay Culkin\",\"Macaulay Culkin\",\"Macaulay Culkin\",\"Macaulay Culkin\",\"Macaulay Culkin\",\"Macaulay Culkin\",\"Macaulay Culkin\",\"Macaulay Culkin\",\"Macaulay Culkin\",\"Macaulay Culkin\",\"Macaulay Culkin\",\"Macaulay Culkin\",\"Macaulay Culkin\",\"Macaulay Culkin\",\"Macaulay Culkin\",\"Macaulay Culkin\",\"Macaulay Culkin\",\"Macaulay Culkin\",\"Macaulay Culkin\",\"Macaulay Culkin\",\"Macaulay Culkin\",\"Macaulay Culkin\",\"Macaulay Culkin\",\"Macaulay Culkin\",\"Macaulay Culkin\",\"Macaulay Culkin\",\"Macaulay Culkin\",\"Macaulay Culkin\",\"Joe Pesci\",\"Joe Pesci\",\"Joe Pesci\",\"Joe Pesci\",\"Joe Pesci\",\"Joe Pesci\",\"Joe Pesci\",\"Joe Pesci\",\"Joe Pesci\",\"Joe Pesci\",\"Joe Pesci\",\"Joe Pesci\",\"Joe Pesci\",\"Joe Pesci\",\"Joe Pesci\",\"Joe Pesci\",\"Joe Pesci\",\"Joe Pesci\",\"Joe Pesci\",\"Joe Pesci\",\"Joe Pesci\",\"Joe Pesci\",\"Joe Pesci\",\"Joe Pesci\",\"Joe Pesci\",\"Joe Pesci\",\"Joe Pesci\",\"Joe Pesci\",\"Joe Pesci\",\"Joe Pesci\",\"Joe Pesci\",\"Joe Pesci\",\"Joe Pesci\",\"Joe Pesci\",\"Joe Pesci\",\"Joe Pesci\",\"Joe Pesci\",\"Joe Pesci\",\"Joe Pesci\",\"Joe Pesci\",\"Joe Pesci\",\"Joe Pesci\",\"Joe Pesci\",\"Joe Pesci\",\"Joe Pesci\",\"Joe Pesci\",\"Joe Pesci\",\"Joe Pesci\",\"Joe Pesci\",\"Joe Pesci\",\"Joe Pesci\",\"Joe Pesci\",\"Joe Pesci\",\"Joe Pesci\",\"Joe Pesci\",\"Joe Pesci\",\"Joe Pesci\",\"Joe Pesci\",\"Joe Pesci\",\"Joe Pesci\",\"Joe Pesci\",\"Joe Pesci\",\"Joe Pesci\",\"Joe Pesci\",\"Catherine O'Hara\",\"Catherine O'Hara\",\"Devin Ratray\",\"Devin Ratray\",\"Gerry Bamman\",\"Gerry Bamman\",\"Gerry Bamman\",\"Hillary Wolf\",\"Hillary Wolf\",\"John Candy\",\"John Candy\",\"John Candy\",\"John Candy\",\"John Candy\",\"John Candy\",\"John Candy\",\"John Candy\",\"John Candy\",\"John Candy\",\"John Candy\",\"John Candy\",\"John Candy\",\"John Candy\",\"John Candy\",\"John Candy\",\"John Candy\",\"John Candy\",\"John Candy\",\"John Candy\",\"John Candy\",\"Michael C. Maronna\",\"Michael C. Maronna\",\"Daiana Campeanu\",\"Daiana Campeanu\",\"Jedidiah Cohen\",\"Jedidiah Cohen\",\"Kieran Culkin\",\"Kieran Culkin\",\"Senta Moses\",\"Senta Moses\",\"Anna Slotky\",\"Anna Slotky\",\"Terrie Snell\",\"Terrie Snell\",\"Ralph Foody\",\"Ralph Foody\",\"Ralph Foody\",\"Dana Ivey\",\"Dana Ivey\",\"Laura Linney\",\"Laura Linney\",\"Laura Linney\",\"Laura Linney\",\"Laura Linney\",\"Laura Linney\",\"Laura Linney\",\"Laura Linney\",\"Ed Harris\",\"Ed Harris\",\"Ed Harris\",\"Ed Harris\",\"Ed Harris\",\"Ed Harris\",\"Ed Harris\",\"Ed Harris\",\"Ed Harris\",\"Ed Harris\",\"Ed Harris\",\"Ed Harris\",\"Ed Harris\",\"Ed Harris\",\"Harry Shearer\",\"Harry Shearer\",\"Mike Myers\",\"Mike Myers\",\"Mike Myers\",\"Mike Myers\",\"Mike Myers\",\"Mike Myers\",\"Mike Myers\",\"Mike Myers\",\"Mike Myers\",\"Mike Myers\",\"Mike Myers\",\"Mike Myers\",\"Mike Myers\",\"Mike Myers\",\"Mike Myers\",\"Gia Carides\",\"Gia Carides\",\"Oliver Muirhead\",\"Oliver Muirhead\",\"Oliver Muirhead\",\"Jeff Garlin\",\"Jeff Garlin\",\"Jeff Garlin\",\"Elvis Costello\",\"Elvis Costello\",\"Elvis Costello\",\"Jerry Springer\",\"Jerry Springer\",\"Jerry Springer\",\"Steve Wilkos\",\"Steve Wilkos\",\"Steve Wilkos\",\"Rebecca Romijn\",\"Rebecca Romijn\",\"Rebecca Romijn\",\"Woody Harrelson\",\"Woody Harrelson\",\"Woody Harrelson\",\"Woody Harrelson\",\"Woody Harrelson\",\"Woody Harrelson\",\"Woody Harrelson\",\"Woody Harrelson\",\"Woody Harrelson\",\"Woody Harrelson\",\"Woody Harrelson\",\"Woody Harrelson\",\"Woody Harrelson\",\"Woody Harrelson\",\"Woody Harrelson\",\"Woody Harrelson\",\"Woody Harrelson\",\"Woody Harrelson\",\"Woody Harrelson\",\"Tim Robbins\",\"Tim Robbins\",\"Tim Robbins\",\"Tim Robbins\",\"Tim Robbins\",\"Tim Robbins\",\"Tim Robbins\",\"Tim Robbins\",\"Tim Robbins\",\"Fred Willard\",\"Fred Willard\",\"Fred Willard\",\"David Koechner\",\"David Koechner\",\"David Koechner\",\"Jaap Stam\",\"Jaap Stam\",\"Jaap Stam\",\"Humberto Tan\",\"Humberto Tan\",\"Humberto Tan\",\"Tony Jay\",\"Tony Jay\",\"Tony Jay\",\"Will Ferrell\",\"Will Ferrell\",\"Alan Rickman\",\"Alan Rickman\",\"Alan Rickman\",\"Alan Rickman\",\"Alan Rickman\",\"Alan Rickman\",\"Alan Rickman\",\"Alan Rickman\",\"Alan Rickman\",\"Alan Rickman\",\"Alan Rickman\",\"Alan Rickman\",\"Alan Rickman\",\"Alan Rickman\",\"Alan Rickman\",\"Alan Rickman\",\"Bill Murray\",\"Bill Murray\",\"Bill Murray\",\"Bill Murray\",\"Bill Murray\",\"Bill Murray\",\"Bill Murray\",\"Bill Murray\",\"Bill Murray\",\"Bill Murray\",\"Bill Murray\",\"Bill Murray\",\"Bill Murray\",\"Bill Murray\",\"Bill Murray\",\"Bill Murray\",\"Bill Murray\",\"Bill Murray\",\"Bill Murray\",\"Bill Murray\",\"Bill Murray\",\"Bill Murray\",\"Bill Murray\",\"Bill Murray\",\"Bill Murray\",\"Bill Murray\",\"Bill Murray\",\"Bill Murray\",\"Bill Murray\",\"Frank Welker\",\"Frank Welker\",\"Sean Bean\",\"Sean Bean\",\"Sean Bean\",\"Sean Bean\",\"Sean Bean\",\"Sean Bean\",\"Famke Janssen\",\"Famke Janssen\",\"Famke Janssen\",\"Famke Janssen\",\"Famke Janssen\",\"Joe Don Baker\",\"Joe Don Baker\",\"Cameron Diaz\",\"Cameron Diaz\",\"Cameron Diaz\",\"Cameron Diaz\",\"Cameron Diaz\",\"Cameron Diaz\",\"Cameron Diaz\",\"Cameron Diaz\",\"Cameron Diaz\",\"Cameron Diaz\",\"Cameron Diaz\",\"Cameron Diaz\",\"Cameron Diaz\",\"Cameron Diaz\",\"Cameron Diaz\",\"Cameron Diaz\",\"Cameron Diaz\",\"Cameron Diaz\",\"Cameron Diaz\",\"Cameron Diaz\",\"Cameron Diaz\",\"Cameron Diaz\",\"Cameron Diaz\",\"Cameron Diaz\",\"Cameron Diaz\",\"Cameron Diaz\",\"Cameron Diaz\",\"Cameron Diaz\",\"Cameron Diaz\",\"Cameron Diaz\",\"Cameron Diaz\",\"Cameron Diaz\",\"Cameron Diaz\",\"Cameron Diaz\",\"Cameron Diaz\",\"Cameron Diaz\",\"Rachel Griffiths\",\"Rachel Griffiths\",\"Rachel Griffiths\",\"Matt Dillon\",\"Matt Dillon\",\"Matt Dillon\",\"Matt Dillon\",\"Matt Dillon\",\"Matt Dillon\",\"Matt Dillon\",\"Matt Dillon\",\"Matt Dillon\",\"Matt Dillon\",\"Matt Dillon\",\"Matt Dillon\",\"Matt Dillon\",\"Matt Dillon\",\"Matt Dillon\",\"Matt Dillon\",\"Matt Dillon\",\"Ben Stiller\",\"Ben Stiller\",\"Ben Stiller\",\"Ben Stiller\",\"Ben Stiller\",\"Ben Stiller\",\"Ben Stiller\",\"Ben Stiller\",\"Ben Stiller\",\"Ben Stiller\",\"Ben Stiller\",\"Ben Stiller\",\"Ben Stiller\",\"Ben Stiller\",\"Ben Stiller\",\"Lin Shaye\",\"Jeffrey Tambor\",\"Harland Williams\",\"Richard Tyson\",\"Richard Jenkins\",\"Tim Curry\",\"Tim Curry\",\"Tim Curry\",\"Tim Curry\",\"Tim Curry\",\"Tim Curry\",\"Tim Curry\",\"Tim Curry\",\"Tim Curry\",\"Tim Curry\",\"Tim Curry\",\"Tim Curry\",\"Tim Curry\",\"Tim Curry\",\"Tim Curry\",\"Brenda Fricker\",\"Brenda Fricker\",\"Brenda Fricker\",\"Brenda Fricker\",\"Brenda Fricker\",\"Brenda Fricker\",\"Brenda Fricker\",\"Brenda Fricker\",\"Brenda Fricker\",\"Brenda Fricker\",\"Brenda Fricker\",\"Brenda Fricker\",\"Brenda Fricker\",\"Brenda Fricker\",\"Rob Schneider\",\"Rob Schneider\",\"Rob Schneider\",\"Rob Schneider\",\"Rob Schneider\",\"Rob Schneider\",\"Rob Schneider\",\"Rob Schneider\",\"Rob Schneider\",\"Rob Schneider\",\"Rob Schneider\",\"Rip Taylor\",\"Cary Elwes\",\"Cary Elwes\",\"Cary Elwes\",\"Cary Elwes\",\"Cary Elwes\",\"Cary Elwes\",\"Cary Elwes\",\"Cary Elwes\",\"Cary Elwes\",\"Cary Elwes\",\"Cary Elwes\",\"Cary Elwes\",\"Cary Elwes\",\"Cary Elwes\",\"Cary Elwes\",\"Cary Elwes\",\"Cary Elwes\",\"Cary Elwes\",\"Cary Elwes\",\"Cary Elwes\",\"Cary Elwes\",\"Cary Elwes\",\"Cary Elwes\",\"Cary Elwes\",\"Cary Elwes\",\"Cary Elwes\",\"Cary Elwes\",\"Cary Elwes\",\"Cary Elwes\",\"Cary Elwes\",\"Cary Elwes\",\"Cary Elwes\",\"Cary Elwes\",\"Cary Elwes\",\"Cary Elwes\",\"Philip Seymour Hoffman\",\"Philip Seymour Hoffman\",\"Philip Seymour Hoffman\",\"Philip Seymour Hoffman\",\"Philip Seymour Hoffman\",\"Philip Seymour Hoffman\",\"Philip Seymour Hoffman\",\"Philip Seymour Hoffman\",\"Philip Seymour Hoffman\",\"Philip Seymour Hoffman\",\"Jonathan Pryce\",\"Jonathan Pryce\",\"Jonathan Pryce\",\"Jonathan Pryce\",\"Jonathan Pryce\",\"Jonathan Pryce\",\"Jonathan Pryce\",\"Jonathan Pryce\",\"Jonathan Pryce\",\"Jonathan Pryce\",\"Jonathan Pryce\",\"Jonathan Pryce\",\"Michelle Yeoh\",\"Michelle Yeoh\",\"Michelle Yeoh\",\"Michelle Yeoh\",\"Michelle Yeoh\",\"Michelle Yeoh\",\"Michelle Yeoh\",\"Michelle Yeoh\",\"Michelle Yeoh\",\"Michelle Yeoh\",\"Michelle Yeoh\",\"Gerard Butler\",\"Gerard Butler\",\"Winona Ryder\",\"Winona Ryder\",\"Winona Ryder\",\"Winona Ryder\",\"Winona Ryder\",\"Winona Ryder\",\"Winona Ryder\",\"Winona Ryder\",\"Winona Ryder\",\"Anthony Hopkins\",\"Anthony Hopkins\",\"Anthony Hopkins\",\"Anthony Hopkins\",\"Anthony Hopkins\",\"Anthony Hopkins\",\"Anthony Hopkins\",\"Anthony Hopkins\",\"Anthony Hopkins\",\"Anthony Hopkins\",\"Anthony Hopkins\",\"Anthony Hopkins\",\"Anthony Hopkins\",\"Anthony Hopkins\",\"Anthony Hopkins\",\"Anthony Hopkins\",\"Anthony Hopkins\",\"Anthony Hopkins\",\"Anthony Hopkins\",\"Anthony Hopkins\",\"Richard E. Grant\",\"Richard E. Grant\",\"Richard E. Grant\",\"Richard E. Grant\",\"Richard E. Grant\",\"Richard E. Grant\",\"Richard E. Grant\",\"Jeremy Irons\",\"Jeremy Irons\",\"Jeremy Irons\",\"Jeremy Irons\",\"Jeremy Irons\",\"Jeremy Irons\",\"Jeremy Irons\",\"Jeremy Irons\",\"Jeremy Irons\",\"Jeremy Irons\",\"Whitney Houston\",\"Whitney Houston\",\"Whitney Houston\",\"Whitney Houston\",\"Whitney Houston\",\"Whitney Houston\",\"Whitney Houston\",\"Whitney Houston\",\"Michael Douglas\",\"Michael Douglas\",\"Michael Douglas\",\"Michael Douglas\",\"Michael Douglas\",\"Michael Douglas\",\"Michael Douglas\",\"Michael Douglas\",\"Michael Douglas\",\"Michael Douglas\",\"Michael Douglas\",\"Michael Douglas\",\"Michael Douglas\",\"Michael Douglas\",\"Michael Douglas\",\"Michael Douglas\",\"Michael Douglas\",\"Michael Douglas\",\"Michael Douglas\",\"Michael Douglas\",\"Michael Douglas\",\"Michael Douglas\",\"Michael Douglas\",\"Michael Douglas\",\"Michael Douglas\",\"Dorothy Malone\",\"Dorothy Malone\",\"Dorothy Malone\",\"Dorothy Malone\",\"Dorothy Malone\",\"Dorothy Malone\",\"Jack McGee (actor)|Jack McGee\",\"Jackie Chan\",\"Jackie Chan\",\"Jackie Chan\",\"Jackie Chan\",\"Jackie Chan\",\"Jackie Chan\",\"Jackie Chan\",\"Jackie Chan\",\"Jackie Chan\",\"Jackie Chan\",\"Jackie Chan\",\"Jack Black\",\"Jack Black\",\"Jack Black\",\"Jack Black\",\"Jack Black\",\"Jack Black\",\"Jack Black\",\"Jack Black\",\"Jack Black\",\"Jack Black\",\"Jack Kehler\",\"Jack Kehler\",\"Jack Kehler\",\"Jack Kehler\",\"Jack Kehler\",\"Nicolas Cage\",\"Nicolas Cage\",\"Nicolas Cage\",\"Nicolas Cage\",\"Nicolas Cage\",\"Nicolas Cage\",\"Nicolas Cage\",\"Nicolas Cage\",\"Nicolas Cage\",\"Nicolas Cage\",\"Nicolas Cage\",\"Nicolas Cage\",\"Nicolas Cage\",\"Nicolas Cage\",\"Nicolas Cage\",\"Nicolas Cage\",\"Nicolas Cage\",\"Nicolas Cage\",\"Joan Allen\",\"Joan Allen\",\"Joan Allen\",\"Joan Allen\",\"Joan Allen\",\"Joan Allen\",\"Joan Allen\",\"Joan Allen\",\"Joan Allen\",\"Joan Allen\",\"Joan Allen\",\"Joan Allen\",\"Joan Allen\",\"Joan Allen\",\"Joan Allen\",\"Joan Allen\",\"Joan Allen\",\"Joan Allen\",\"Joan Allen\",\"Julianne Moore\",\"Julianne Moore\",\"Julianne Moore\",\"Julianne Moore\",\"Julianne Moore\",\"Julianne Moore\",\"Julianne Moore\",\"Julianne Moore\",\"Julianne Moore\",\"Julianne Moore\",\"Julianne Moore\",\"Julianne Moore\",\"Julianne Moore\",\"Julianne Moore\",\"Julianne Moore\",\"Julianne Moore\",\"Julianne Moore\",\"Julianne Moore\",\"Julianne Moore\",\"Julianne Moore\",\"Julianne Moore\",\"Julianne Moore\",\"Julianne Moore\",\"Pete Postlethwaite\",\"Pete Postlethwaite\",\"Pete Postlethwaite\",\"Pete Postlethwaite\",\"Pete Postlethwaite\",\"Pete Postlethwaite\",\"Pete Postlethwaite\",\"Pete Postlethwaite\",\"Vince Vaughn\",\"Vince Vaughn\",\"Vince Vaughn\",\"Vince Vaughn\",\"Vince Vaughn\",\"Vince Vaughn\",\"Vince Vaughn\",\"Vanessa Lee Chester\",\"Harvey Jason\",\"Thomas F. Duffy\",\"Camilla Belle\",\"Mel Gibson\",\"Mel Gibson\",\"Mel Gibson\",\"Mel Gibson\",\"Mel Gibson\",\"Mel Gibson\",\"Mel Gibson\",\"Mel Gibson\",\"Mel Gibson\",\"Mel Gibson\",\"Mel Gibson\",\"Mel Gibson\",\"Mel Gibson\",\"Mel Gibson\",\"Mel Gibson\",\"Mel Gibson\",\"Mel Gibson\",\"Mel Gibson\",\"Mel Gibson\",\"Mel Gibson\",\"Mel Gibson\",\"Mel Gibson\",\"Mel Gibson\",\"Mel Gibson\",\"Mel Gibson\",\"Rene Russo\",\"Rene Russo\",\"Rene Russo\",\"Rene Russo\",\"Rene Russo\",\"Rene Russo\",\"Rene Russo\",\"Rene Russo\",\"Rene Russo\",\"Rene Russo\",\"Rene Russo\",\"Rene Russo\",\"Rene Russo\",\"Rene Russo\",\"Rene Russo\",\"Rene Russo\",\"Rene Russo\",\"Rene Russo\",\"Rene Russo\",\"Rene Russo\",\"Rene Russo\",\"Rene Russo\",\"Rene Russo\",\"Rene Russo\",\"Rene Russo\",\"Rene Russo\",\"Rene Russo\",\"Rene Russo\",\"Rene Russo\",\"Rene Russo\",\"Rene Russo\",\"Rene Russo\",\"Stuart Wilson (actor)|Stuart Wilson\",\"Stuart Wilson (actor)|Stuart Wilson\",\"Stuart Wilson (actor)|Stuart Wilson\",\"Nick Chinlund\",\"Alan Scarfe\",\"Delores Hall\",\"Gregory Millar\",\"Andrew Hill Newman\",\"Jason Rainwater\",\"Mark Pellegrino\",\"Danny Glover\",\"Danny Glover\",\"Danny Glover\",\"Danny Glover\",\"Danny Glover\",\"Danny Glover\",\"Danny Glover\",\"Ebonie Smith\",\"Ebonie Smith\",\"Damon Hines\",\"Damon Hines\",\"Steve Kahan\",\"Steve Kahan\",\"Darlene Love\",\"Darlene Love\",\"Mary Ellen Trainor\",\"Mary Ellen Trainor\",\"Traci Wolfe\",\"Traci Wolfe\",\"Chris Rock\",\"Chris Rock\",\"Chris Rock\",\"Chris Rock\",\"Chris Rock\",\"Chris Rock\",\"Chris Rock\",\"Chris Rock\",\"Chris Rock\",\"Chris Rock\",\"Chris Rock\",\"Chris Rock\",\"Chris Rock\",\"Chris Rock\",\"Chris Rock\",\"Chris Rock\",\"Chris Rock\",\"Chris Rock\",\"Chris Rock\",\"Chris Rock\",\"Chris Rock\",\"Chris Rock\",\"Chris Rock\",\"Chris Rock\",\"Chris Rock\",\"Chris Rock\",\"Chris Rock\",\"Chris Rock\",\"Chris Rock\",\"Chris Rock\",\"Jet Li\",\"Jet Li\",\"Jet Li\",\"Jet Li\",\"Jet Li\",\"Jet Li\",\"Antonio Banderas\",\"Antonio Banderas\",\"Antonio Banderas\",\"Antonio Banderas\",\"Antonio Banderas\",\"Antonio Banderas\",\"Antonio Banderas\",\"Antonio Banderas\",\"Antonio Banderas\",\"Antonio Banderas\",\"Catherine Zeta-Jones\",\"Catherine Zeta-Jones\",\"Catherine Zeta-Jones\",\"Catherine Zeta-Jones\",\"Catherine Zeta-Jones\",\"Catherine Zeta-Jones\",\"Catherine Zeta-Jones\",\"Catherine Zeta-Jones\",\"Catherine Zeta-Jones\",\"Catherine Zeta-Jones\",\"Teri Garr\",\"Teri Garr\",\"Teri Garr\",\"Teri Garr\",\"Teri Garr\",\"Teri Garr\",\"Teri Garr\",\"Teri Garr\",\"Robert Redford\",\"Robert Redford\",\"Robert Redford\",\"Robert Redford\",\"Robert Redford\",\"Robert Redford\",\"Robert Redford\",\"Oliver Platt\",\"Maggie Smith\",\"Maggie Smith\",\"Maggie Smith\",\"Maggie Smith\",\"Maggie Smith\",\"Maggie Smith\",\"Maggie Smith\",\"Maggie Smith\",\"Maggie Smith\",\"Maggie Smith\",\"Maggie Smith\",\"Maggie Smith\",\"Maggie Smith\",\"Maggie Smith\",\"Maggie Smith\",\"Maggie Smith\",\"Maggie Smith\",\"Maggie Smith\",\"Maggie Smith\",\"Maggie Smith\",\"Maggie Smith\",\"Maggie Smith\",\"Maggie Smith\",\"Maggie Smith\",\"Maggie Smith\",\"Maggie Smith\",\"Maggie Smith\",\"Maggie Smith\",\"Maggie Smith\",\"Maggie Smith\",\"Maggie Smith\",\"Maggie Smith\",\"Richard Portnow\",\"Lili Taylor\",\"Lili Taylor\",\"Lili Taylor\",\"Lili Taylor\",\"Lili Taylor\",\"Lili Taylor\",\"Lili Taylor\",\"Lili Taylor\",\"Liev Schreiber\",\"Liev Schreiber\",\"Liev Schreiber\",\"Liev Schreiber\",\"Liev Schreiber\",\"Linda Hunt\",\"Linda Hunt\",\"Linda Hunt\",\"Linda Hunt\",\"Linda Hunt\",\"Linda Hunt\",\"Linda Hunt\",\"Linda Hunt\",\"Linda Hunt\",\"Linda Hunt\",\"Linda Hunt\",\"Angela Bassett\",\"Angela Bassett\",\"Angela Bassett\",\"Angela Bassett\",\"Angela Bassett\",\"Matthew Broderick\",\"Matthew Broderick\",\"Matthew Broderick\",\"Matthew Broderick\",\"Matthew Broderick\",\"Matthew Broderick\",\"Matthew Broderick\",\"Matthew Broderick\",\"Matthew Broderick\",\"Matthew Broderick\",\"Matthew Broderick\",\"Matthew Broderick\",\"Matthew Broderick\",\"Matthew Broderick\",\"Matthew Broderick\",\"Matthew Broderick\",\"Jean Reno\",\"Jean Reno\",\"Jean Reno\",\"Jean Reno\",\"Jean Reno\",\"Jean Reno\",\"Jean Reno\",\"Jean Reno\",\"Jean Reno\",\"Jean Reno\",\"Jean Reno\",\"Jean Reno\",\"Jean Reno\",\"Jean Reno\",\"Jean Reno\",\"Harrison Ford\",\"Harrison Ford\",\"Harrison Ford\",\"Harrison Ford\",\"Harrison Ford\",\"Harrison Ford\",\"Harrison Ford\",\"Harrison Ford\",\"Harrison Ford\",\"Harrison Ford\",\"Harrison Ford\",\"Harrison Ford\",\"Harrison Ford\",\"Harrison Ford\",\"Harrison Ford\",\"Harrison Ford\",\"Harrison Ford\",\"Harrison Ford\",\"Harrison Ford\",\"Harrison Ford\",\"Sam Rockwell\",\"Sam Rockwell\",\"Sam Rockwell\",\"Sam Rockwell\",\"Sam Rockwell\",\"Sam Rockwell\",\"Sam Rockwell\",\"Sam Rockwell\",\"Sam Rockwell\",\"Sam Rockwell\",\"Sam Rockwell\",\"Sam Rockwell\",\"Sam Rockwell\",\"Sam Rockwell\",\"Sam Rockwell\",\"Sam Rockwell\",\"Sam Rockwell\",\"Sam Rockwell\",\"Mak Wilson\",\"Mak Wilson\",\"Mak Wilson\",\"Eddie Murphy\",\"Eddie Murphy\",\"Eddie Murphy\",\"Eddie Murphy\",\"Eddie Murphy\",\"Eddie Murphy\",\"Eddie Murphy\",\"Eddie Murphy\",\"Eddie Murphy\",\"Eddie Murphy\",\"Eddie Murphy\",\"Eddie Murphy\",\"Eddie Murphy\",\"Eddie Murphy\",\"Eddie Murphy\",\"Eddie Murphy\",\"Eddie Murphy\",\"Eddie Murphy\",\"Eddie Murphy\",\"Eddie Murphy\",\"Eddie Murphy\",\"Eddie Murphy\",\"Eddie Murphy\",\"Eddie Murphy\",\"Eddie Murphy\",\"Eddie Murphy\",\"Eddie Murphy\",\"Eddie Murphy\",\"Eddie Murphy\",\"Eddie Murphy\",\"Eddie Murphy\",\"Eddie Murphy\",\"Eddie Murphy\",\"Eddie Murphy\",\"Eddie Murphy\",\"Eddie Murphy\",\"Albert Brooks\",\"Albert Brooks\",\"Albert Brooks\",\"Albert Brooks\",\"Albert Brooks\",\"Albert Brooks\",\"Albert Brooks\",\"Albert Brooks\",\"Albert Brooks\",\"Albert Brooks\",\"Albert Brooks\",\"Albert Brooks\",\"Albert Brooks\",\"Albert Brooks\",\"Albert Brooks\",\"Albert Brooks\",\"Albert Brooks\",\"Albert Brooks\",\"Albert Brooks\",\"Albert Brooks\",\"Albert Brooks\",\"John Leguizamo\",\"John Leguizamo\",\"John Leguizamo\",\"John Leguizamo\",\"John Leguizamo\",\"John Leguizamo\",\"John Leguizamo\",\"John Leguizamo\",\"John Leguizamo\",\"John Leguizamo\",\"John Leguizamo\",\"Donald Sutherland\",\"Donald Sutherland\",\"Donald Sutherland\",\"Donald Sutherland\",\"Donald Sutherland\",\"Donald Sutherland\",\"Donald Sutherland\",\"Donald Sutherland\",\"Donald Sutherland\",\"Donald Sutherland\",\"Donald Sutherland\",\"Kirsten Dunst\",\"Kirsten Dunst\",\"James Coburn\",\"James Coburn\",\"James Coburn\",\"James Coburn\",\"James Coburn\",\"James Coburn\",\"James Coburn\",\"Brendan Fraser\",\"Luke Ford\",\"Luke Ford\",\"Rachel Weisz\",\"Kevin Bacon\",\"Kevin Bacon\",\"Kevin Bacon\",\"Kevin Bacon\",\"Kevin Bacon\",\"Kevin Bacon\",\"Kevin Bacon\",\"Kevin Bacon\",\"Kevin Bacon\",\"Kevin Bacon\",\"Kevin Bacon\",\"Kevin Bacon\",\"Kiefer Sutherland\",\"Kiefer Sutherland\",\"Kiefer Sutherland\",\"Kiefer Sutherland\",\"Kiefer Sutherland\",\"Kiefer Sutherland\",\"Kiefer Sutherland\",\"Kiefer Sutherland\",\"Kiefer Sutherland\",\"Kiefer Sutherland\",\"Kiefer Sutherland\",\"Christopher Guest\",\"Christopher Guest\",\"Christopher Guest\",\"Christopher Guest\",\"Michael Edwards (actor)|Michael Edwards\",\"Gene Hackman\",\"Gene Hackman\",\"Gene Hackman\",\"Gene Hackman\",\"Gene Hackman\",\"Gene Hackman\",\"Gene Hackman\",\"Gene Hackman\",\"Gene Hackman\",\"Gene Hackman\",\"Gene Hackman\",\"Gene Hackman\",\"Gene Hackman\",\"Gene Hackman\",\"Holly Hunter\",\"Holly Hunter\",\"Holly Hunter\",\"Holly Hunter\",\"Holly Hunter\",\"Holly Hunter\",\"Holly Hunter\",\"Holly Hunter\",\"Holly Hunter\",\"Holly Hunter\",\"Holly Hunter\",\"Holly Hunter\",\"Holly Hunter\",\"Holly Hunter\",\"Hal Holbrook\",\"Hal Holbrook\",\"Hal Holbrook\",\"Hal Holbrook\",\"Hal Holbrook\",\"Hal Holbrook\",\"Hal Holbrook\",\"Hal Holbrook\",\"Hal Holbrook\",\"Hal Holbrook\",\"Hal Holbrook\",\"David Strathairn\",\"David Strathairn\",\"David Strathairn\",\"David Strathairn\",\"David Strathairn\",\"David Strathairn\",\"David Strathairn\",\"David Strathairn\",\"David Strathairn\",\"David Strathairn\",\"David Strathairn\",\"David Strathairn\",\"David Strathairn\",\"David Strathairn\",\"Gary Busey\",\"Gary Busey\",\"Gary Busey\",\"Gary Busey\",\"Gary Busey\",\"Gary Busey\",\"Gary Busey\",\"Gary Busey\",\"Gary Busey\"],\"title\":[\"Batman Returns\",\"Batman Returns\",\"Batman Returns\",\"Batman Returns\",\"Batman Returns\",\"Batman Returns\",\"Batman Returns\",\"Batman Returns\",\"Batman Returns\",\"Batman Returns\",\"Batman Returns\",\"Batman Returns\",\"Batman Returns\",\"Batman Returns\",\"Batman Returns\",\"Batman Returns\",\"Batman Returns\",\"Batman Returns\",\"Batman Returns\",\"Batman Returns\",\"Batman Returns\",\"Batman Returns\",\"Batman Returns\",\"Batman Returns\",\"Batman Returns\",\"Space Jam\",\"Space Jam\",\"Space Jam\",\"Space Jam\",\"Space Jam\",\"Space Jam\",\"Space Jam\",\"Space Jam\",\"Space Jam\",\"Space Jam\",\"Space Jam\",\"Space Jam\",\"Space Jam\",\"Space Jam\",\"Space Jam\",\"Space Jam\",\"Space Jam\",\"Space Jam\",\"Space Jam\",\"Space Jam\",\"Space Jam\",\"Space Jam\",\"Space Jam\",\"Space Jam\",\"Space Jam\",\"Space Jam\",\"Space Jam\",\"Space Jam\",\"Space Jam\",\"Space Jam\",\"Space Jam\",\"Batman Returns\",\"Batman Returns\",\"Batman Returns\",\"Batman Returns\",\"Batman Returns\",\"Batman Returns\",\"Batman Returns\",\"Batman Returns\",\"Batman Returns\",\"Batman Returns\",\"Batman Returns\",\"Batman Returns\",\"Batman Returns\",\"Batman Returns\",\"Batman Returns\",\"Batman Returns\",\"Batman Returns\",\"Batman Returns\",\"Batman Returns\",\"Batman Returns\",\"Batman Returns\",\"Batman Returns\",\"Batman Returns\",\"Pulp Fiction\",\"Pulp Fiction\",\"Pulp Fiction\",\"Pulp Fiction\",\"Pulp Fiction\",\"Pulp Fiction\",\"Ghost (1990 film)\",\"Ghost (1990 film)\",\"Ghost (1990 film)\",\"Tomorrow Never Dies\",\"Tomorrow Never Dies\",\"Tomorrow Never Dies\",\"Tomorrow Never Dies\",\"Dr. Dolittle (1998 film)\",\"Dr. Dolittle (1998 film)\",\"Dr. Dolittle (1998 film)\",\"Dr. Dolittle (1998 film)\",\"Dr. Dolittle (1998 film)\",\"Batman Forever\",\"Batman Forever\",\"Batman Forever\",\"Batman Forever\",\"Batman Forever\",\"Batman Forever\",\"Batman Forever\",\"Batman Forever\",\"Batman Forever\",\"Batman Forever\",\"Batman Forever\",\"Batman Forever\",\"Batman Forever\",\"Batman Forever\",\"Batman Forever\",\"Batman Forever\",\"Batman Forever\",\"Batman Forever\",\"Batman Forever\",\"Batman Forever\",\"Batman Forever\",\"Batman Forever\",\"Batman Forever\",\"Batman Forever\",\"Batman Forever\",\"Batman Forever\",\"Batman Forever\",\"Batman Forever\",\"Batman Forever\",\"Batman Forever\",\"Batman Forever\",\"Batman Forever\",\"Batman Forever\",\"Batman Forever\",\"Batman Forever\",\"Batman Forever\",\"Batman Forever\",\"Batman Forever\",\"Batman Forever\",\"Men in Black (1997 film)\",\"Men in Black (1997 film)\",\"Men in Black (1997 film)\",\"Men in Black (1997 film)\",\"Men in Black (1997 film)\",\"Men in Black (1997 film)\",\"Men in Black (1997 film)\",\"Men in Black (1997 film)\",\"Men in Black (1997 film)\",\"Men in Black (1997 film)\",\"Men in Black (1997 film)\",\"Men in Black (1997 film)\",\"Men in Black (1997 film)\",\"Men in Black (1997 film)\",\"Men in Black (1997 film)\",\"Men in Black (1997 film)\",\"Men in Black (1997 film)\",\"Men in Black (1997 film)\",\"Men in Black (1997 film)\",\"Men in Black (1997 film)\",\"Men in Black (1997 film)\",\"Men in Black (1997 film)\",\"The Fugitive (1993 film)\",\"The Fugitive (1993 film)\",\"The Fugitive (1993 film)\",\"The Fugitive (1993 film)\",\"The Fugitive (1993 film)\",\"The Fugitive (1993 film)\",\"The Fugitive (1993 film)\",\"The Fugitive (1993 film)\",\"The Fugitive (1993 film)\",\"The Fugitive (1993 film)\",\"The Fugitive (1993 film)\",\"The Fugitive (1993 film)\",\"The Fugitive (1993 film)\",\"The Fugitive (1993 film)\",\"The Fugitive (1993 film)\",\"The Fugitive (1993 film)\",\"The Fugitive (1993 film)\",\"The Fugitive (1993 film)\",\"The Fugitive (1993 film)\",\"The Fugitive (1993 film)\",\"The Fugitive (1993 film)\",\"Batman Forever\",\"Batman Forever\",\"Batman Forever\",\"Batman Forever\",\"Batman Forever\",\"Batman Forever\",\"Batman Forever\",\"Batman Forever\",\"Batman Forever\",\"Batman Forever\",\"Batman Forever\",\"Batman Forever\",\"Batman Forever\",\"Batman Forever\",\"The Truman Show\",\"The Truman Show\",\"The Truman Show\",\"The Truman Show\",\"The Truman Show\",\"The Truman Show\",\"The Truman Show\",\"The Truman Show\",\"The Truman Show\",\"Liar Liar\",\"Liar Liar\",\"Liar Liar\",\"Liar Liar\",\"Liar Liar\",\"Liar Liar\",\"Liar Liar\",\"Liar Liar\",\"Liar Liar\",\"Liar Liar\",\"Liar Liar\",\"Liar Liar\",\"Liar Liar\",\"Liar Liar\",\"Liar Liar\",\"Liar Liar\",\"Liar Liar\",\"Liar Liar\",\"Liar Liar\",\"Dumb and Dumber\",\"Dumb and Dumber\",\"Dumb and Dumber\",\"Dumb and Dumber\",\"Dumb and Dumber\",\"Dumb and Dumber\",\"Dumb and Dumber\",\"Dumb and Dumber\",\"Dumb and Dumber\",\"Dumb and Dumber\",\"Dumb and Dumber\",\"Dumb and Dumber\",\"Dumb and Dumber\",\"Dumb and Dumber\",\"Dumb and Dumber\",\"The Mask (1994 film)\",\"The Mask (1994 film)\",\"The Mask (1994 film)\",\"The Mask (1994 film)\",\"The Mask (1994 film)\",\"The Mask (1994 film)\",\"The Mask (1994 film)\",\"The Mask (1994 film)\",\"The Mask (1994 film)\",\"The Mask (1994 film)\",\"The Mask (1994 film)\",\"The Mask (1994 film)\",\"The Mask (1994 film)\",\"The Mask (1994 film)\",\"The Mask (1994 film)\",\"The Mask (1994 film)\",\"The Mask (1994 film)\",\"The Mask (1994 film)\",\"Batman Forever\",\"Batman Forever\",\"Batman Forever\",\"Batman Forever\",\"Batman Forever\",\"Batman Forever\",\"Batman Forever\",\"Batman Forever\",\"Batman Forever\",\"Batman Forever\",\"Batman Forever\",\"Batman Forever\",\"Batman Forever\",\"Batman Forever\",\"Batman Forever\",\"Batman Forever\",\"Batman Forever\",\"Batman Forever\",\"Batman Forever\",\"Batman Forever\",\"Batman Forever\",\"Batman Forever\",\"Batman Forever\",\"Batman Forever\",\"Batman Forever\",\"Batman Forever\",\"Batman Forever\",\"Batman Forever\",\"Batman Forever\",\"Batman Forever\",\"Batman Forever\",\"Batman Forever\",\"Batman Forever\",\"Batman Forever\",\"True Lies\",\"True Lies\",\"True Lies\",\"True Lies\",\"True Lies\",\"Four Weddings and a Funeral\",\"Four Weddings and a Funeral\",\"Four Weddings and a Funeral\",\"Four Weddings and a Funeral\",\"Four Weddings and a Funeral\",\"Four Weddings and a Funeral\",\"Four Weddings and a Funeral\",\"Four Weddings and a Funeral\",\"Four Weddings and a Funeral\",\"Four Weddings and a Funeral\",\"Four Weddings and a Funeral\",\"Four Weddings and a Funeral\",\"Four Weddings and a Funeral\",\"Four Weddings and a Funeral\",\"Four Weddings and a Funeral\",\"Four Weddings and a Funeral\",\"Four Weddings and a Funeral\",\"Four Weddings and a Funeral\",\"Four Weddings and a Funeral\",\"Four Weddings and a Funeral\",\"Four Weddings and a Funeral\",\"Four Weddings and a Funeral\",\"Four Weddings and a Funeral\",\"Four Weddings and a Funeral\",\"Four Weddings and a Funeral\",\"Four Weddings and a Funeral\",\"Four Weddings and a Funeral\",\"Four Weddings and a Funeral\",\"Shakespeare in Love\",\"Shakespeare in Love\",\"Shakespeare in Love\",\"Shakespeare in Love\",\"Shakespeare in Love\",\"Saving Private Ryan\",\"Saving Private Ryan\",\"Saving Private Ryan\",\"Saving Private Ryan\",\"Saving Private Ryan\",\"Saving Private Ryan\",\"Saving Private Ryan\",\"Saving Private Ryan\",\"Saving Private Ryan\",\"Saving Private Ryan\",\"Saving Private Ryan\",\"Saving Private Ryan\",\"Saving Private Ryan\",\"Saving Private Ryan\",\"Saving Private Ryan\",\"Saving Private Ryan\",\"Saving Private Ryan\",\"Saving Private Ryan\",\"Saving Private Ryan\",\"Saving Private Ryan\",\"Saving Private Ryan\",\"Saving Private Ryan\",\"Saving Private Ryan\",\"Saving Private Ryan\",\"Saving Private Ryan\",\"Saving Private Ryan\",\"Saving Private Ryan\",\"Saving Private Ryan\",\"Saving Private Ryan\",\"Saving Private Ryan\",\"Saving Private Ryan\",\"Saving Private Ryan\",\"Forrest Gump\",\"Forrest Gump\",\"Forrest Gump\",\"Forrest Gump\",\"Forrest Gump\",\"Forrest Gump\",\"Forrest Gump\",\"Forrest Gump\",\"Forrest Gump\",\"Forrest Gump\",\"Forrest Gump\",\"Forrest Gump\",\"Forrest Gump\",\"Forrest Gump\",\"You've Got Mail\",\"You've Got Mail\",\"You've Got Mail\",\"You've Got Mail\",\"You've Got Mail\",\"You've Got Mail\",\"You've Got Mail\",\"You've Got Mail\",\"You've Got Mail\",\"You've Got Mail\",\"You've Got Mail\",\"You've Got Mail\",\"You've Got Mail\",\"You've Got Mail\",\"You've Got Mail\",\"You've Got Mail\",\"Sleepless in Seattle\",\"Sleepless in Seattle\",\"Sleepless in Seattle\",\"Sleepless in Seattle\",\"Sleepless in Seattle\",\"Sleepless in Seattle\",\"Sleepless in Seattle\",\"Sleepless in Seattle\",\"Sleepless in Seattle\",\"Sleepless in Seattle\",\"Sleepless in Seattle\",\"Sleepless in Seattle\",\"Sleepless in Seattle\",\"Sleepless in Seattle\",\"Sleepless in Seattle\",\"Saving Private Ryan\",\"Saving Private Ryan\",\"Saving Private Ryan\",\"Saving Private Ryan\",\"Saving Private Ryan\",\"Saving Private Ryan\",\"Saving Private Ryan\",\"Saving Private Ryan\",\"Saving Private Ryan\",\"Saving Private Ryan\",\"Saving Private Ryan\",\"Saving Private Ryan\",\"Saving Private Ryan\",\"Saving Private Ryan\",\"Saving Private Ryan\",\"Saving Private Ryan\",\"Saving Private Ryan\",\"Saving Private Ryan\",\"Saving Private Ryan\",\"Saving Private Ryan\",\"Saving Private Ryan\",\"Saving Private Ryan\",\"Saving Private Ryan\",\"Saving Private Ryan\",\"Saving Private Ryan\",\"Saving Private Ryan\",\"Saving Private Ryan\",\"Saving Private Ryan\",\"Saving Private Ryan\",\"Saving Private Ryan\",\"Good Will Hunting\",\"Good Will Hunting\",\"Good Will Hunting\",\"Good Will Hunting\",\"Good Will Hunting\",\"Good Will Hunting\",\"Good Will Hunting\",\"Good Will Hunting\",\"Good Will Hunting\",\"Twister (1996 film)\",\"Twister (1996 film)\",\"Twister (1996 film)\",\"Twister (1996 film)\",\"Saving Private Ryan\",\"Saving Private Ryan\",\"Saving Private Ryan\",\"Saving Private Ryan\",\"Saving Private Ryan\",\"Saving Private Ryan\",\"Saving Private Ryan\",\"Saving Private Ryan\",\"Saving Private Ryan\",\"Saving Private Ryan\",\"Saving Private Ryan\",\"Saving Private Ryan\",\"Saving Private Ryan\",\"Saving Private Ryan\",\"Saving Private Ryan\",\"Saving Private Ryan\",\"Saving Private Ryan\",\"Saving Private Ryan\",\"Saving Private Ryan\",\"Saving Private Ryan\",\"Saving Private Ryan\",\"Saving Private Ryan\",\"Saving Private Ryan\",\"Saving Private Ryan\",\"Saving Private Ryan\",\"Saving Private Ryan\",\"Saving Private Ryan\",\"Saving Private Ryan\",\"Saving Private Ryan\",\"Saving Private Ryan\",\"Saving Private Ryan\",\"Saving Private Ryan\",\"Saving Private Ryan\",\"Saving Private Ryan\",\"Saving Private Ryan\",\"Saving Private Ryan\",\"Saving Private Ryan\",\"Saving Private Ryan\",\"Saving Private Ryan\",\"Saving Private Ryan\",\"Saving Private Ryan\",\"Saving Private Ryan\",\"Saving Private Ryan\",\"Saving Private Ryan\",\"Saving Private Ryan\",\"Saving Private Ryan\",\"Saving Private Ryan\",\"Saving Private Ryan\",\"Saving Private Ryan\",\"Saving Private Ryan\",\"Saving Private Ryan\",\"Saving Private Ryan\",\"Saving Private Ryan\",\"Saving Private Ryan\",\"Saving Private Ryan\",\"Saving Private Ryan\",\"Saving Private Ryan\",\"Saving Private Ryan\",\"Saving Private Ryan\",\"Saving Private Ryan\",\"Saving Private Ryan\",\"Saving Private Ryan\",\"Saving Private Ryan\",\"Saving Private Ryan\",\"Saving Private Ryan\",\"Saving Private Ryan\",\"Saving Private Ryan\",\"Saving Private Ryan\",\"Saving Private Ryan\",\"Saving Private Ryan\",\"Saving Private Ryan\",\"Saving Private Ryan\",\"Saving Private Ryan\",\"Face/Off\",\"Face/Off\",\"Saving Private Ryan\",\"Saving Private Ryan\",\"Saving Private Ryan\",\"Saving Private Ryan\",\"Saving Private Ryan\",\"Saving Private Ryan\",\"Saving Private Ryan\",\"Saving Private Ryan\",\"Saving Private Ryan\",\"Saving Private Ryan\",\"Saving Private Ryan\",\"Saving Private Ryan\",\"Saving Private Ryan\",\"Saving Private Ryan\",\"Saving Private Ryan\",\"Saving Private Ryan\",\"Saving Private Ryan\",\"Saving Private Ryan\",\"Saving Private Ryan\",\"Saving Private Ryan\",\"Saving Private Ryan\",\"Saving Private Ryan\",\"Saving Private Ryan\",\"Saving Private Ryan\",\"Saving Private Ryan\",\"Saving Private Ryan\",\"Saving Private Ryan\",\"Saving Private Ryan\",\"Saving Private Ryan\",\"Saving Private Ryan\",\"Saving Private Ryan\",\"Saving Private Ryan\",\"Saving Private Ryan\",\"Saving Private Ryan\",\"Saving Private Ryan\",\"The Truman Show\",\"The Truman Show\",\"The Truman Show\",\"The Truman Show\",\"The Truman Show\",\"My Best Friend's Wedding\",\"My Best Friend's Wedding\",\"My Best Friend's Wedding\",\"Dr. Dolittle (1998 film)\",\"Dr. Dolittle (1998 film)\",\"Dr. Dolittle (1998 film)\",\"Dr. Dolittle (1998 film)\",\"Dr. Dolittle (1998 film)\",\"Dr. Dolittle (1998 film)\",\"Dr. Dolittle (1998 film)\",\"Dr. Dolittle (1998 film)\",\"Dr. Dolittle (1998 film)\",\"Dr. Dolittle (1998 film)\",\"Dr. Dolittle (1998 film)\",\"Dr. Dolittle (1998 film)\",\"Dr. Dolittle (1998 film)\",\"Dr. Dolittle (1998 film)\",\"Dr. Dolittle (1998 film)\",\"Dr. Dolittle (1998 film)\",\"Dr. Dolittle (1998 film)\",\"Dr. Dolittle (1998 film)\",\"Dr. Dolittle (1998 film)\",\"Dr. Dolittle (1998 film)\",\"Dr. Dolittle (1998 film)\",\"Dr. Dolittle (1998 film)\",\"Dr. Dolittle (1998 film)\",\"Dr. Dolittle (1998 film)\",\"Dr. Dolittle (1998 film)\",\"Dr. Dolittle (1998 film)\",\"Dr. Dolittle (1998 film)\",\"Dr. Dolittle (1998 film)\",\"Dr. Dolittle (1998 film)\",\"Dr. Dolittle (1998 film)\",\"Dr. Dolittle (1998 film)\",\"Dr. Dolittle (1998 film)\",\"Seven (1995 film)\",\"Seven (1995 film)\",\"Seven (1995 film)\",\"Seven (1995 film)\",\"The Matrix\",\"The Matrix\",\"The Matrix\",\"The Matrix\",\"The Matrix\",\"The Matrix\",\"The Matrix\",\"The Matrix\",\"The Matrix\",\"The Matrix\",\"The Matrix\",\"The Matrix\",\"The Matrix\",\"Speed (1994 film)\",\"Speed (1994 film)\",\"Speed (1994 film)\",\"Speed (1994 film)\",\"Speed (1994 film)\",\"Speed (1994 film)\",\"Speed (1994 film)\",\"Speed (1994 film)\",\"Speed (1994 film)\",\"Speed (1994 film)\",\"Speed (1994 film)\",\"Speed (1994 film)\",\"Speed (1994 film)\",\"Speed (1994 film)\",\"Speed (1994 film)\",\"Speed (1994 film)\",\"Speed (1994 film)\",\"Speed (1994 film)\",\"Speed (1994 film)\",\"Speed (1994 film)\",\"Speed (1994 film)\",\"Speed (1994 film)\",\"Bram Stoker's Dracula (1992 film)\",\"Bram Stoker's Dracula (1992 film)\",\"Bram Stoker's Dracula (1992 film)\",\"Bram Stoker's Dracula (1992 film)\",\"Bram Stoker's Dracula (1992 film)\",\"Bram Stoker's Dracula (1992 film)\",\"Bram Stoker's Dracula (1992 film)\",\"Bram Stoker's Dracula (1992 film)\",\"Bram Stoker's Dracula (1992 film)\",\"Bram Stoker's Dracula (1992 film)\",\"Bram Stoker's Dracula (1992 film)\",\"The Matrix\",\"The Matrix\",\"The Matrix\",\"The Matrix\",\"The Matrix\",\"The Matrix\",\"The Matrix\",\"The Matrix\",\"The Matrix\",\"The Matrix\",\"The Matrix\",\"The Matrix\",\"The Matrix\",\"The Matrix\",\"The Matrix\",\"The Matrix\",\"The Matrix\",\"The Matrix\",\"The Matrix\",\"The Matrix\",\"The Matrix\",\"The Matrix\",\"The Matrix\",\"The Matrix\",\"The Matrix\",\"The Matrix\",\"The Matrix\",\"The Matrix\",\"The Matrix\",\"The Matrix\",\"The Matrix\",\"The Matrix\",\"The Matrix\",\"The Fugitive (1993 film)\",\"The Sixth Sense\",\"The Sixth Sense\",\"The Sixth Sense\",\"The Sixth Sense\",\"The Sixth Sense\",\"The Sixth Sense\",\"The Sixth Sense\",\"The Sixth Sense\",\"The Sixth Sense\",\"The Sixth Sense\",\"The Sixth Sense\",\"The Sixth Sense\",\"The Sixth Sense\",\"Armageddon (1998 film)\",\"Armageddon (1998 film)\",\"Armageddon (1998 film)\",\"Armageddon (1998 film)\",\"Armageddon (1998 film)\",\"Armageddon (1998 film)\",\"Armageddon (1998 film)\",\"Armageddon (1998 film)\",\"Armageddon (1998 film)\",\"Armageddon (1998 film)\",\"Armageddon (1998 film)\",\"Armageddon (1998 film)\",\"Armageddon (1998 film)\",\"Armageddon (1998 film)\",\"Armageddon (1998 film)\",\"Armageddon (1998 film)\",\"Armageddon (1998 film)\",\"Armageddon (1998 film)\",\"Armageddon (1998 film)\",\"Armageddon (1998 film)\",\"Armageddon (1998 film)\",\"Armageddon (1998 film)\",\"Armageddon (1998 film)\",\"Armageddon (1998 film)\",\"Armageddon (1998 film)\",\"Pulp Fiction\",\"Pulp Fiction\",\"Pulp Fiction\",\"Pulp Fiction\",\"The Fifth Element\",\"The Fifth Element\",\"The Fifth Element\",\"The Fifth Element\",\"The Fifth Element\",\"The Fifth Element\",\"The Fifth Element\",\"The Fifth Element\",\"The Fifth Element\",\"The Fifth Element\",\"The Fifth Element\",\"The Fifth Element\",\"Die Hard with a Vengeance\",\"Die Hard with a Vengeance\",\"Die Hard with a Vengeance\",\"Die Hard with a Vengeance\",\"Die Hard with a Vengeance\",\"Die Hard with a Vengeance\",\"Die Hard with a Vengeance\",\"Die Hard with a Vengeance\",\"Die Hard with a Vengeance\",\"Die Hard with a Vengeance\",\"Die Hard with a Vengeance\",\"Die Hard with a Vengeance\",\"Die Hard 2\",\"Die Hard 2\",\"Die Hard 2\",\"Die Hard 2\",\"Die Hard 2\",\"Die Hard 2\",\"Die Hard 2\",\"Die Hard 2\",\"Die Hard 2\",\"Die Hard 2\",\"The Sixth Sense\",\"The Sixth Sense\",\"The Sixth Sense\",\"The Sixth Sense\",\"The Sixth Sense\",\"The Sixth Sense\",\"The Sixth Sense\",\"The Sixth Sense\",\"The Sixth Sense\",\"The Sixth Sense\",\"The Sixth Sense\",\"The Sixth Sense\",\"The Sixth Sense\",\"The Sixth Sense\",\"The Sixth Sense\",\"The Sixth Sense\",\"The Sixth Sense\",\"The Sixth Sense\",\"The Sixth Sense\",\"The Sixth Sense\",\"The Sixth Sense\",\"The Sixth Sense\",\"Forrest Gump\",\"Forrest Gump\",\"Forrest Gump\",\"Forrest Gump\",\"Forrest Gump\",\"Forrest Gump\",\"Forrest Gump\",\"Forrest Gump\",\"Forrest Gump\",\"Forrest Gump\",\"Ransom (1996 film)\",\"Ransom (1996 film)\",\"Ransom (1996 film)\",\"Ransom (1996 film)\",\"Ransom (1996 film)\",\"Forrest Gump\",\"Forrest Gump\",\"Forrest Gump\",\"Forrest Gump\",\"Forrest Gump\",\"Forrest Gump\",\"Forrest Gump\",\"Forrest Gump\",\"Forrest Gump\",\"Forrest Gump\",\"Forrest Gump\",\"Forrest Gump\",\"Forrest Gump\",\"Forrest Gump\",\"Forrest Gump\",\"Forrest Gump\",\"Forrest Gump\",\"Forrest Gump\",\"Forrest Gump\",\"Forrest Gump\",\"Forrest Gump\",\"Forrest Gump\",\"Forrest Gump\",\"Ransom (1996 film)\",\"Ransom (1996 film)\",\"Ransom (1996 film)\",\"Ransom (1996 film)\",\"Ransom (1996 film)\",\"Ransom (1996 film)\",\"Ransom (1996 film)\",\"Ransom (1996 film)\",\"Ransom (1996 film)\",\"Ransom (1996 film)\",\"Ransom (1996 film)\",\"Ransom (1996 film)\",\"Forrest Gump\",\"Forrest Gump\",\"Forrest Gump\",\"Forrest Gump\",\"Forrest Gump\",\"Forrest Gump\",\"Forrest Gump\",\"Forrest Gump\",\"Forrest Gump\",\"Mrs. Doubtfire\",\"Mrs. Doubtfire\",\"Mrs. Doubtfire\",\"Mrs. Doubtfire\",\"Mrs. Doubtfire\",\"Mrs. Doubtfire\",\"Mrs. Doubtfire\",\"Mrs. Doubtfire\",\"Mrs. Doubtfire\",\"Mrs. Doubtfire\",\"Mrs. Doubtfire\",\"Mrs. Doubtfire\",\"Men in Black (1997 film)\",\"Men in Black (1997 film)\",\"American Beauty (1999 film)\",\"American Beauty (1999 film)\",\"American Beauty (1999 film)\",\"American Beauty (1999 film)\",\"American Beauty (1999 film)\",\"American Beauty (1999 film)\",\"American Beauty (1999 film)\",\"American Beauty (1999 film)\",\"American Beauty (1999 film)\",\"Seven (1995 film)\",\"Seven (1995 film)\",\"Seven (1995 film)\",\"Seven (1995 film)\",\"Seven (1995 film)\",\"Seven (1995 film)\",\"Seven (1995 film)\",\"Seven (1995 film)\",\"Seven (1995 film)\",\"Seven (1995 film)\",\"Seven (1995 film)\",\"Seven (1995 film)\",\"Seven (1995 film)\",\"Seven (1995 film)\",\"Seven (1995 film)\",\"American Beauty (1999 film)\",\"American Beauty (1999 film)\",\"American Beauty (1999 film)\",\"American Beauty (1999 film)\",\"American Beauty (1999 film)\",\"American Beauty (1999 film)\",\"American Beauty (1999 film)\",\"American Beauty (1999 film)\",\"American Beauty (1999 film)\",\"American Beauty (1999 film)\",\"American Beauty (1999 film)\",\"American Beauty (1999 film)\",\"American Beauty (1999 film)\",\"American Beauty (1999 film)\",\"American Beauty (1999 film)\",\"American Beauty (1999 film)\",\"American Beauty (1999 film)\",\"American Beauty (1999 film)\",\"American Beauty (1999 film)\",\"American Beauty (1999 film)\",\"American Beauty (1999 film)\",\"American Beauty (1999 film)\",\"American Beauty (1999 film)\",\"American Beauty (1999 film)\",\"American Beauty (1999 film)\",\"Titanic (1997 film)\",\"Titanic (1997 film)\",\"Titanic (1997 film)\",\"Titanic (1997 film)\",\"Titanic (1997 film)\",\"Titanic (1997 film)\",\"Titanic (1997 film)\",\"Titanic (1997 film)\",\"Titanic (1997 film)\",\"Titanic (1997 film)\",\"Titanic (1997 film)\",\"Titanic (1997 film)\",\"Titanic (1997 film)\",\"Titanic (1997 film)\",\"Titanic (1997 film)\",\"Titanic (1997 film)\",\"Titanic (1997 film)\",\"Titanic (1997 film)\",\"Titanic (1997 film)\",\"Titanic (1997 film)\",\"Titanic (1997 film)\",\"Titanic (1997 film)\",\"Titanic (1997 film)\",\"Titanic (1997 film)\",\"Titanic (1997 film)\",\"Titanic (1997 film)\",\"Titanic (1997 film)\",\"Titanic (1997 film)\",\"Titanic (1997 film)\",\"Titanic (1997 film)\",\"Titanic (1997 film)\",\"Titanic (1997 film)\",\"Titanic (1997 film)\",\"Titanic (1997 film)\",\"Titanic (1997 film)\",\"Titanic (1997 film)\",\"Titanic (1997 film)\",\"Titanic (1997 film)\",\"Titanic (1997 film)\",\"Titanic (1997 film)\",\"Titanic (1997 film)\",\"Titanic (1997 film)\",\"Titanic (1997 film)\",\"Titanic (1997 film)\",\"Titanic (1997 film)\",\"Titanic (1997 film)\",\"Titanic (1997 film)\",\"Titanic (1997 film)\",\"Titanic (1997 film)\",\"Titanic (1997 film)\",\"Titanic (1997 film)\",\"Titanic (1997 film)\",\"Titanic (1997 film)\",\"Titanic (1997 film)\",\"Titanic (1997 film)\",\"Titanic (1997 film)\",\"Titanic (1997 film)\",\"Titanic (1997 film)\",\"Titanic (1997 film)\",\"Titanic (1997 film)\",\"Titanic (1997 film)\",\"Titanic (1997 film)\",\"Titanic (1997 film)\",\"Titanic (1997 film)\",\"Titanic (1997 film)\",\"Titanic (1997 film)\",\"Titanic (1997 film)\",\"Titanic (1997 film)\",\"Titanic (1997 film)\",\"Titanic (1997 film)\",\"Titanic (1997 film)\",\"Titanic (1997 film)\",\"Titanic (1997 film)\",\"Titanic (1997 film)\",\"Titanic (1997 film)\",\"Titanic (1997 film)\",\"Titanic (1997 film)\",\"Titanic (1997 film)\",\"Titanic (1997 film)\",\"Titanic (1997 film)\",\"Titanic (1997 film)\",\"Titanic (1997 film)\",\"Titanic (1997 film)\",\"Titanic (1997 film)\",\"Titanic (1997 film)\",\"Titanic (1997 film)\",\"Titanic (1997 film)\",\"Titanic (1997 film)\",\"Titanic (1997 film)\",\"Titanic (1997 film)\",\"Titanic (1997 film)\",\"Titanic (1997 film)\",\"Titanic (1997 film)\",\"Titanic (1997 film)\",\"Titanic (1997 film)\",\"Titanic (1997 film)\",\"Titanic (1997 film)\",\"Titanic (1997 film)\",\"Titanic (1997 film)\",\"Titanic (1997 film)\",\"Titanic (1997 film)\",\"Titanic (1997 film)\",\"Titanic (1997 film)\",\"Titanic (1997 film)\",\"Titanic (1997 film)\",\"Titanic (1997 film)\",\"Titanic (1997 film)\",\"Titanic (1997 film)\",\"Titanic (1997 film)\",\"Titanic (1997 film)\",\"Titanic (1997 film)\",\"Titanic (1997 film)\",\"Titanic (1997 film)\",\"Titanic (1997 film)\",\"Titanic (1997 film)\",\"Titanic (1997 film)\",\"Titanic (1997 film)\",\"Titanic (1997 film)\",\"Titanic (1997 film)\",\"Titanic (1997 film)\",\"Titanic (1997 film)\",\"Titanic (1997 film)\",\"Titanic (1997 film)\",\"Titanic (1997 film)\",\"Titanic (1997 film)\",\"Titanic (1997 film)\",\"Titanic (1997 film)\",\"Titanic (1997 film)\",\"Titanic (1997 film)\",\"Titanic (1997 film)\",\"Titanic (1997 film)\",\"Titanic (1997 film)\",\"Titanic (1997 film)\",\"Titanic (1997 film)\",\"Jumanji\",\"Jumanji\",\"Titanic (1997 film)\",\"Titanic (1997 film)\",\"Titanic (1997 film)\",\"Titanic (1997 film)\",\"Titanic (1997 film)\",\"Titanic (1997 film)\",\"Titanic (1997 film)\",\"Titanic (1997 film)\",\"Titanic (1997 film)\",\"Titanic (1997 film)\",\"Titanic (1997 film)\",\"Titanic (1997 film)\",\"Titanic (1997 film)\",\"Titanic (1997 film)\",\"Titanic (1997 film)\",\"Titanic (1997 film)\",\"Titanic (1997 film)\",\"Titanic (1997 film)\",\"Titanic (1997 film)\",\"Titanic (1997 film)\",\"Titanic (1997 film)\",\"Titanic (1997 film)\",\"Titanic (1997 film)\",\"Titanic (1997 film)\",\"Titanic (1997 film)\",\"Titanic (1997 film)\",\"True Lies\",\"True Lies\",\"True Lies\",\"True Lies\",\"True Lies\",\"True Lies\",\"True Lies\",\"True Lies\",\"True Lies\",\"Twister (1996 film)\",\"Twister (1996 film)\",\"Twister (1996 film)\",\"Twister (1996 film)\",\"Twister (1996 film)\",\"Twister (1996 film)\",\"Twister (1996 film)\",\"Twister (1996 film)\",\"Twister (1996 film)\",\"Twister (1996 film)\",\"Twister (1996 film)\",\"Twister (1996 film)\",\"Twister (1996 film)\",\"Twister (1996 film)\",\"Twister (1996 film)\",\"Twister (1996 film)\",\"Twister (1996 film)\",\"Twister (1996 film)\",\"Titanic (1997 film)\",\"Titanic (1997 film)\",\"Titanic (1997 film)\",\"Titanic (1997 film)\",\"Titanic (1997 film)\",\"Titanic (1997 film)\",\"Titanic (1997 film)\",\"Titanic (1997 film)\",\"Titanic (1997 film)\",\"Titanic (1997 film)\",\"Titanic (1997 film)\",\"Titanic (1997 film)\",\"Titanic (1997 film)\",\"Titanic (1997 film)\",\"Titanic (1997 film)\",\"Titanic (1997 film)\",\"Titanic (1997 film)\",\"Titanic (1997 film)\",\"Titanic (1997 film)\",\"Titanic (1997 film)\",\"Titanic (1997 film)\",\"Titanic (1997 film)\",\"Titanic (1997 film)\",\"Titanic (1997 film)\",\"Titanic (1997 film)\",\"Sleepless in Seattle\",\"Sleepless in Seattle\",\"Titanic (1997 film)\",\"Titanic (1997 film)\",\"Titanic (1997 film)\",\"Titanic (1997 film)\",\"Titanic (1997 film)\",\"Titanic (1997 film)\",\"Titanic (1997 film)\",\"Titanic (1997 film)\",\"Titanic (1997 film)\",\"Titanic (1997 film)\",\"Titanic (1997 film)\",\"Titanic (1997 film)\",\"Titanic (1997 film)\",\"Independence Day (1996 film)\",\"Independence Day (1996 film)\",\"Independence Day (1996 film)\",\"Independence Day (1996 film)\",\"Independence Day (1996 film)\",\"Independence Day (1996 film)\",\"Independence Day (1996 film)\",\"Independence Day (1996 film)\",\"Independence Day (1996 film)\",\"Independence Day (1996 film)\",\"Independence Day (1996 film)\",\"Independence Day (1996 film)\",\"Independence Day (1996 film)\",\"Independence Day (1996 film)\",\"Independence Day (1996 film)\",\"Independence Day (1996 film)\",\"Independence Day (1996 film)\",\"Independence Day (1996 film)\",\"Independence Day (1996 film)\",\"Independence Day (1996 film)\",\"Men in Black (1997 film)\",\"Men in Black (1997 film)\",\"Men in Black (1997 film)\",\"Men in Black (1997 film)\",\"Men in Black (1997 film)\",\"Men in Black (1997 film)\",\"Men in Black (1997 film)\",\"Men in Black (1997 film)\",\"Men in Black (1997 film)\",\"Men in Black (1997 film)\",\"Men in Black (1997 film)\",\"Men in Black (1997 film)\",\"Men in Black (1997 film)\",\"Men in Black (1997 film)\",\"Men in Black (1997 film)\",\"Men in Black (1997 film)\",\"Men in Black (1997 film)\",\"Men in Black (1997 film)\",\"Men in Black (1997 film)\",\"Men in Black (1997 film)\",\"Men in Black (1997 film)\",\"Independence Day (1996 film)\",\"Independence Day (1996 film)\",\"Independence Day (1996 film)\",\"Independence Day (1996 film)\",\"Independence Day (1996 film)\",\"Independence Day (1996 film)\",\"Independence Day (1996 film)\",\"Independence Day (1996 film)\",\"Independence Day (1996 film)\",\"Independence Day (1996 film)\",\"Independence Day (1996 film)\",\"Independence Day (1996 film)\",\"Independence Day (1996 film)\",\"Independence Day (1996 film)\",\"Independence Day (1996 film)\",\"Independence Day (1996 film)\",\"Independence Day (1996 film)\",\"Independence Day (1996 film)\",\"Independence Day (1996 film)\",\"Sleepless in Seattle\",\"Sleepless in Seattle\",\"Sleepless in Seattle\",\"Sleepless in Seattle\",\"Sleepless in Seattle\",\"Sleepless in Seattle\",\"Sleepless in Seattle\",\"Sleepless in Seattle\",\"Sleepless in Seattle\",\"Sleepless in Seattle\",\"Sleepless in Seattle\",\"Sleepless in Seattle\",\"Sleepless in Seattle\",\"Sleepless in Seattle\",\"Sleepless in Seattle\",\"Independence Day (1996 film)\",\"Independence Day (1996 film)\",\"Independence Day (1996 film)\",\"Independence Day (1996 film)\",\"Independence Day (1996 film)\",\"Independence Day (1996 film)\",\"Independence Day (1996 film)\",\"Independence Day (1996 film)\",\"Independence Day (1996 film)\",\"Independence Day (1996 film)\",\"Independence Day (1996 film)\",\"Independence Day (1996 film)\",\"Independence Day (1996 film)\",\"Independence Day (1996 film)\",\"Independence Day (1996 film)\",\"Independence Day (1996 film)\",\"Independence Day (1996 film)\",\"Independence Day (1996 film)\",\"The Lost World: Jurassic Park\",\"The Lost World: Jurassic Park\",\"The Lost World: Jurassic Park\",\"The Lost World: Jurassic Park\",\"The Lost World: Jurassic Park\",\"The Lost World: Jurassic Park\",\"The Lost World: Jurassic Park\",\"The Lost World: Jurassic Park\",\"The Lost World: Jurassic Park\",\"The Lost World: Jurassic Park\",\"Independence Day (1996 film)\",\"Independence Day (1996 film)\",\"Independence Day (1996 film)\",\"Independence Day (1996 film)\",\"Independence Day (1996 film)\",\"Independence Day (1996 film)\",\"Independence Day (1996 film)\",\"Independence Day (1996 film)\",\"Independence Day (1996 film)\",\"Independence Day (1996 film)\",\"Independence Day (1996 film)\",\"Independence Day (1996 film)\",\"Independence Day (1996 film)\",\"Independence Day (1996 film)\",\"Independence Day (1996 film)\",\"Independence Day (1996 film)\",\"Independence Day (1996 film)\",\"Dances with Wolves\",\"Dances with Wolves\",\"Dances with Wolves\",\"Dances with Wolves\",\"Dances with Wolves\",\"Dances with Wolves\",\"Dances with Wolves\",\"Dances with Wolves\",\"Dances with Wolves\",\"Dances with Wolves\",\"Dances with Wolves\",\"Dances with Wolves\",\"Dances with Wolves\",\"Dances with Wolves\",\"Dances with Wolves\",\"Dances with Wolves\",\"Dances with Wolves\",\"Dances with Wolves\",\"Dances with Wolves\",\"Dances with Wolves\",\"Dances with Wolves\",\"Dances with Wolves\",\"Dances with Wolves\",\"Dances with Wolves\",\"Dances with Wolves\",\"Dances with Wolves\",\"Independence Day (1996 film)\",\"Independence Day (1996 film)\",\"Independence Day (1996 film)\",\"Independence Day (1996 film)\",\"Independence Day (1996 film)\",\"Independence Day (1996 film)\",\"Independence Day (1996 film)\",\"Independence Day (1996 film)\",\"Independence Day (1996 film)\",\"Independence Day (1996 film)\",\"Independence Day (1996 film)\",\"Independence Day (1996 film)\",\"Independence Day (1996 film)\",\"Independence Day (1996 film)\",\"Basic Instinct\",\"Basic Instinct\",\"Basic Instinct\",\"Mrs. Doubtfire\",\"Mrs. Doubtfire\",\"Mrs. Doubtfire\",\"Mrs. Doubtfire\",\"Armageddon (1998 film)\",\"Armageddon (1998 film)\",\"Armageddon (1998 film)\",\"Armageddon (1998 film)\",\"Armageddon (1998 film)\",\"Armageddon (1998 film)\",\"Armageddon (1998 film)\",\"Armageddon (1998 film)\",\"Armageddon (1998 film)\",\"Armageddon (1998 film)\",\"Armageddon (1998 film)\",\"Armageddon (1998 film)\",\"Armageddon (1998 film)\",\"Armageddon (1998 film)\",\"Armageddon (1998 film)\",\"Armageddon (1998 film)\",\"Armageddon (1998 film)\",\"Armageddon (1998 film)\",\"Armageddon (1998 film)\",\"Armageddon (1998 film)\",\"Armageddon (1998 film)\",\"Armageddon (1998 film)\",\"Armageddon (1998 film)\",\"Armageddon (1998 film)\",\"Indecent Proposal\",\"Indecent Proposal\",\"Indecent Proposal\",\"Indecent Proposal\",\"Indecent Proposal\",\"Indecent Proposal\",\"Indecent Proposal\",\"Indecent Proposal\",\"Indecent Proposal\",\"Armageddon (1998 film)\",\"Armageddon (1998 film)\",\"Armageddon (1998 film)\",\"Armageddon (1998 film)\",\"Armageddon (1998 film)\",\"Armageddon (1998 film)\",\"Armageddon (1998 film)\",\"Armageddon (1998 film)\",\"Armageddon (1998 film)\",\"Armageddon (1998 film)\",\"Armageddon (1998 film)\",\"Armageddon (1998 film)\",\"Armageddon (1998 film)\",\"Armageddon (1998 film)\",\"Armageddon (1998 film)\",\"Armageddon (1998 film)\",\"Armageddon (1998 film)\",\"Armageddon (1998 film)\",\"Armageddon (1998 film)\",\"Armageddon (1998 film)\",\"Armageddon (1998 film)\",\"Armageddon (1998 film)\",\"Armageddon (1998 film)\",\"Armageddon (1998 film)\",\"Armageddon (1998 film)\",\"Armageddon (1998 film)\",\"Armageddon (1998 film)\",\"Armageddon (1998 film)\",\"Armageddon (1998 film)\",\"Armageddon (1998 film)\",\"Armageddon (1998 film)\",\"Armageddon (1998 film)\",\"Armageddon (1998 film)\",\"Armageddon (1998 film)\",\"Armageddon (1998 film)\",\"Armageddon (1998 film)\",\"Armageddon (1998 film)\",\"Armageddon (1998 film)\",\"Armageddon (1998 film)\",\"Armageddon (1998 film)\",\"Armageddon (1998 film)\",\"Armageddon (1998 film)\",\"Armageddon (1998 film)\",\"Armageddon (1998 film)\",\"Armageddon (1998 film)\",\"Shakespeare in Love\",\"Shakespeare in Love\",\"Shakespeare in Love\",\"Shakespeare in Love\",\"Shakespeare in Love\",\"Shakespeare in Love\",\"Shakespeare in Love\",\"Shakespeare in Love\",\"Shakespeare in Love\",\"Shakespeare in Love\",\"Shakespeare in Love\",\"Shakespeare in Love\",\"Shakespeare in Love\",\"Shakespeare in Love\",\"Shakespeare in Love\",\"Shakespeare in Love\",\"Shakespeare in Love\",\"Shakespeare in Love\",\"Shakespeare in Love\",\"Good Will Hunting\",\"Good Will Hunting\",\"Good Will Hunting\",\"Good Will Hunting\",\"Good Will Hunting\",\"Good Will Hunting\",\"Good Will Hunting\",\"Good Will Hunting\",\"Good Will Hunting\",\"The Lost World: Jurassic Park\",\"The Lost World: Jurassic Park\",\"The Lost World: Jurassic Park\",\"There's Something About Mary\",\"There's Something About Mary\",\"There's Something About Mary\",\"Armageddon (1998 film)\",\"Armageddon (1998 film)\",\"Armageddon (1998 film)\",\"Armageddon (1998 film)\",\"Armageddon (1998 film)\",\"Armageddon (1998 film)\",\"Armageddon (1998 film)\",\"Armageddon (1998 film)\",\"Armageddon (1998 film)\",\"Armageddon (1998 film)\",\"Armageddon (1998 film)\",\"Armageddon (1998 film)\",\"Armageddon (1998 film)\",\"Armageddon (1998 film)\",\"Armageddon (1998 film)\",\"Armageddon (1998 film)\",\"Armageddon (1998 film)\",\"Armageddon (1998 film)\",\"Armageddon (1998 film)\",\"Armageddon (1998 film)\",\"Armageddon (1998 film)\",\"Armageddon (1998 film)\",\"Armageddon (1998 film)\",\"Armageddon (1998 film)\",\"Armageddon (1998 film)\",\"Armageddon (1998 film)\",\"Armageddon (1998 film)\",\"Armageddon (1998 film)\",\"Armageddon (1998 film)\",\"Armageddon (1998 film)\",\"Armageddon (1998 film)\",\"Armageddon (1998 film)\",\"Armageddon (1998 film)\",\"Armageddon (1998 film)\",\"Armageddon (1998 film)\",\"Armageddon (1998 film)\",\"Armageddon (1998 film)\",\"Armageddon (1998 film)\",\"Armageddon (1998 film)\",\"Armageddon (1998 film)\",\"Armageddon (1998 film)\",\"Armageddon (1998 film)\",\"Armageddon (1998 film)\",\"Armageddon (1998 film)\",\"Armageddon (1998 film)\",\"Armageddon (1998 film)\",\"Armageddon (1998 film)\",\"Armageddon (1998 film)\",\"Armageddon (1998 film)\",\"Godzilla (1998 film)\",\"Godzilla (1998 film)\",\"Pulp Fiction\",\"Pulp Fiction\",\"Pulp Fiction\",\"Pulp Fiction\",\"Pulp Fiction\",\"Pulp Fiction\",\"Pulp Fiction\",\"Pulp Fiction\",\"Pulp Fiction\",\"Face/Off\",\"Face/Off\",\"Face/Off\",\"Face/Off\",\"Face/Off\",\"Face/Off\",\"Face/Off\",\"Face/Off\",\"Face/Off\",\"Face/Off\",\"Face/Off\",\"Face/Off\",\"Face/Off\",\"Face/Off\",\"Face/Off\",\"Face/Off\",\"Face/Off\",\"Face/Off\",\"Face/Off\",\"Face/Off\",\"Face/Off\",\"Pulp Fiction\",\"Pulp Fiction\",\"Pulp Fiction\",\"Pulp Fiction\",\"Pulp Fiction\",\"Pulp Fiction\",\"Pulp Fiction\",\"Pulp Fiction\",\"Die Hard with a Vengeance\",\"Die Hard with a Vengeance\",\"Die Hard with a Vengeance\",\"Die Hard with a Vengeance\",\"Die Hard with a Vengeance\",\"Die Hard with a Vengeance\",\"Die Hard with a Vengeance\",\"Die Hard with a Vengeance\",\"Die Hard with a Vengeance\",\"Die Hard with a Vengeance\",\"Die Hard with a Vengeance\",\"Die Hard with a Vengeance\",\"Pulp Fiction\",\"Pulp Fiction\",\"Pulp Fiction\",\"Pulp Fiction\",\"Pulp Fiction\",\"Pulp Fiction\",\"Pulp Fiction\",\"Pulp Fiction\",\"Pulp Fiction\",\"Pulp Fiction\",\"Pulp Fiction\",\"Pulp Fiction\",\"Pulp Fiction\",\"Sister Act\",\"Sister Act\",\"Sister Act\",\"Sister Act\",\"Sister Act\",\"Sister Act\",\"Sister Act\",\"Sister Act\",\"Sister Act\",\"Sister Act\",\"Sister Act\",\"Sister Act\",\"Sister Act\",\"Sister Act\",\"Sister Act\",\"Sister Act\",\"Sister Act\",\"Sister Act\",\"Sister Act\",\"Sister Act\",\"Sister Act\",\"Sister Act\",\"Sister Act\",\"Sister Act\",\"Sister Act\",\"Sister Act\",\"Sister Act\",\"Sister Act\",\"Sister Act\",\"Sister Act\",\"Sister Act\",\"Sister Act\",\"Sister Act\",\"Pulp Fiction\",\"Pulp Fiction\",\"Pulp Fiction\",\"Pulp Fiction\",\"Pulp Fiction\",\"Jerry Maguire\",\"Jerry Maguire\",\"Jerry Maguire\",\"Jerry Maguire\",\"Jerry Maguire\",\"Total Recall (1990 film)\",\"Total Recall (1990 film)\",\"Total Recall (1990 film)\",\"Total Recall (1990 film)\",\"Total Recall (1990 film)\",\"Total Recall (1990 film)\",\"Total Recall (1990 film)\",\"Total Recall (1990 film)\",\"Total Recall (1990 film)\",\"Total Recall (1990 film)\",\"Total Recall (1990 film)\",\"Total Recall (1990 film)\",\"Total Recall (1990 film)\",\"Total Recall (1990 film)\",\"Total Recall (1990 film)\",\"Total Recall (1990 film)\",\"Total Recall (1990 film)\",\"Total Recall (1990 film)\",\"Total Recall (1990 film)\",\"True Lies\",\"True Lies\",\"True Lies\",\"True Lies\",\"True Lies\",\"True Lies\",\"True Lies\",\"True Lies\",\"True Lies\",\"Kindergarten Cop\",\"Kindergarten Cop\",\"Kindergarten Cop\",\"Kindergarten Cop\",\"Kindergarten Cop\",\"Kindergarten Cop\",\"Kindergarten Cop\",\"Kindergarten Cop\",\"Kindergarten Cop\",\"Kindergarten Cop\",\"Kindergarten Cop\",\"Kindergarten Cop\",\"Kindergarten Cop\",\"Kindergarten Cop\",\"Kindergarten Cop\",\"Kindergarten Cop\",\"Terminator 2: Judgment Day\",\"Terminator 2: Judgment Day\",\"Total Recall (1990 film)\",\"Total Recall (1990 film)\",\"Total Recall (1990 film)\",\"Total Recall (1990 film)\",\"Total Recall (1990 film)\",\"Total Recall (1990 film)\",\"Total Recall (1990 film)\",\"Total Recall (1990 film)\",\"Total Recall (1990 film)\",\"Total Recall (1990 film)\",\"Total Recall (1990 film)\",\"Total Recall (1990 film)\",\"Total Recall (1990 film)\",\"Total Recall (1990 film)\",\"Total Recall (1990 film)\",\"Total Recall (1990 film)\",\"Total Recall (1990 film)\",\"Basic Instinct\",\"Basic Instinct\",\"Basic Instinct\",\"Basic Instinct\",\"Basic Instinct\",\"Basic Instinct\",\"Basic Instinct\",\"Basic Instinct\",\"Basic Instinct\",\"Basic Instinct\",\"Basic Instinct\",\"Basic Instinct\",\"Basic Instinct\",\"The Firm (1993 film)\",\"The Firm (1993 film)\",\"The Firm (1993 film)\",\"The Firm (1993 film)\",\"The Firm (1993 film)\",\"The Firm (1993 film)\",\"The Firm (1993 film)\",\"Schindler's List\",\"Schindler's List\",\"Schindler's List\",\"Schindler's List\",\"Schindler's List\",\"Schindler's List\",\"Schindler's List\",\"Schindler's List\",\"Schindler's List\",\"Schindler's List\",\"Schindler's List\",\"Schindler's List\",\"Schindler's List\",\"Schindler's List\",\"Schindler's List\",\"Schindler's List\",\"Schindler's List\",\"Schindler's List\",\"Schindler's List\",\"Schindler's List\",\"Schindler's List\",\"Schindler's List\",\"Schindler's List\",\"Schindler's List\",\"Schindler's List\",\"Schindler's List\",\"Schindler's List\",\"Schindler's List\",\"Schindler's List\",\"Schindler's List\",\"Schindler's List\",\"Schindler's List\",\"Schindler's List\",\"Schindler's List\",\"Schindler's List\",\"Schindler's List\",\"Schindler's List\",\"Schindler's List\",\"Schindler's List\",\"Schindler's List\",\"Schindler's List\",\"Schindler's List\",\"Schindler's List\",\"Schindler's List\",\"Schindler's List\",\"Schindler's List\",\"Schindler's List\",\"Schindler's List\",\"Schindler's List\",\"Schindler's List\",\"Schindler's List\",\"Schindler's List\",\"Schindler's List\",\"Schindler's List\",\"Schindler's List\",\"Schindler's List\",\"Schindler's List\",\"Schindler's List\",\"Schindler's List\",\"Schindler's List\",\"Schindler's List\",\"Schindler's List\",\"Schindler's List\",\"Schindler's List\",\"Schindler's List\",\"Schindler's List\",\"Schindler's List\",\"Schindler's List\",\"Schindler's List\",\"Schindler's List\",\"Schindler's List\",\"Schindler's List\",\"Schindler's List\",\"Schindler's List\",\"Schindler's List\",\"Disclosure (1994 film)\",\"Disclosure (1994 film)\",\"Disclosure (1994 film)\",\"True Lies\",\"True Lies\",\"True Lies\",\"True Lies\",\"True Lies\",\"True Lies\",\"True Lies\",\"True Lies\",\"True Lies\",\"True Lies\",\"True Lies\",\"True Lies\",\"True Lies\",\"True Lies\",\"Shakespeare in Love\",\"Shakespeare in Love\",\"Shakespeare in Love\",\"Shakespeare in Love\",\"Shakespeare in Love\",\"Shakespeare in Love\",\"Shakespeare in Love\",\"Shakespeare in Love\",\"Shakespeare in Love\",\"Shakespeare in Love\",\"Shakespeare in Love\",\"Shakespeare in Love\",\"Shakespeare in Love\",\"Shakespeare in Love\",\"Shakespeare in Love\",\"Shakespeare in Love\",\"Shakespeare in Love\",\"Shakespeare in Love\",\"Shakespeare in Love\",\"Seven (1995 film)\",\"Seven (1995 film)\",\"Seven (1995 film)\",\"Seven (1995 film)\",\"Seven (1995 film)\",\"Seven (1995 film)\",\"Seven (1995 film)\",\"Seven (1995 film)\",\"Seven (1995 film)\",\"Seven (1995 film)\",\"Seven (1995 film)\",\"Seven (1995 film)\",\"Seven (1995 film)\",\"Seven (1995 film)\",\"Seven (1995 film)\",\"Seven (1995 film)\",\"Shakespeare in Love\",\"Shakespeare in Love\",\"Shakespeare in Love\",\"Shakespeare in Love\",\"Shakespeare in Love\",\"Shakespeare in Love\",\"Shakespeare in Love\",\"Shakespeare in Love\",\"Shakespeare in Love\",\"Shakespeare in Love\",\"Shakespeare in Love\",\"Shakespeare in Love\",\"Shakespeare in Love\",\"Shakespeare in Love\",\"Shakespeare in Love\",\"Shakespeare in Love\",\"Shakespeare in Love\",\"Shakespeare in Love\",\"Shakespeare in Love\",\"Shakespeare in Love\",\"Shakespeare in Love\",\"Shakespeare in Love\",\"Shakespeare in Love\",\"Shakespeare in Love\",\"Shakespeare in Love\",\"Shakespeare in Love\",\"Shakespeare in Love\",\"Shakespeare in Love\",\"Shakespeare in Love\",\"Shakespeare in Love\",\"Shakespeare in Love\",\"Shakespeare in Love\",\"Shakespeare in Love\",\"Shakespeare in Love\",\"Shakespeare in Love\",\"Shakespeare in Love\",\"Shakespeare in Love\",\"Shakespeare in Love\",\"Shakespeare in Love\",\"Shakespeare in Love\",\"Shakespeare in Love\",\"Shakespeare in Love\",\"Shakespeare in Love\",\"Shakespeare in Love\",\"Shakespeare in Love\",\"Shakespeare in Love\",\"Shakespeare in Love\",\"Shakespeare in Love\",\"The World Is Not Enough\",\"The World Is Not Enough\",\"The World Is Not Enough\",\"The World Is Not Enough\",\"The World Is Not Enough\",\"The World Is Not Enough\",\"The World Is Not Enough\",\"The World Is Not Enough\",\"The World Is Not Enough\",\"The World Is Not Enough\",\"The World Is Not Enough\",\"The World Is Not Enough\",\"The World Is Not Enough\",\"GoldenEye\",\"GoldenEye\",\"Tomorrow Never Dies\",\"Tomorrow Never Dies\",\"Tomorrow Never Dies\",\"Tomorrow Never Dies\",\"Tomorrow Never Dies\",\"Tomorrow Never Dies\",\"Tomorrow Never Dies\",\"Tomorrow Never Dies\",\"Tomorrow Never Dies\",\"Shakespeare in Love\",\"Shakespeare in Love\",\"Shakespeare in Love\",\"Shakespeare in Love\",\"Shakespeare in Love\",\"Shakespeare in Love\",\"Shakespeare in Love\",\"Shakespeare in Love\",\"Shakespeare in Love\",\"Shakespeare in Love\",\"Shakespeare in Love\",\"Shakespeare in Love\",\"Shakespeare in Love\",\"Shakespeare in Love\",\"Shakespeare in Love\",\"Shakespeare in Love\",\"Shakespeare in Love\",\"Shakespeare in Love\",\"Shakespeare in Love\",\"Shakespeare in Love\",\"Shakespeare in Love\",\"The Full Monty\",\"The Full Monty\",\"The Full Monty\",\"The Full Monty\",\"The Full Monty\",\"The Full Monty\",\"The Full Monty\",\"The Full Monty\",\"The Full Monty\",\"The Full Monty\",\"The Full Monty\",\"The Full Monty\",\"The Full Monty\",\"The Full Monty\",\"Rush Hour (1998 film)\",\"Rush Hour (1998 film)\",\"Rush Hour (1998 film)\",\"Rush Hour (1998 film)\",\"Rush Hour (1998 film)\",\"Rush Hour (1998 film)\",\"Rush Hour (1998 film)\",\"Rush Hour (1998 film)\",\"Rush Hour (1998 film)\",\"Rush Hour (1998 film)\",\"Rush Hour (1998 film)\",\"Rush Hour (1998 film)\",\"My Best Friend's Wedding\",\"My Best Friend's Wedding\",\"Speed (1994 film)\",\"Speed (1994 film)\",\"Speed (1994 film)\",\"Speed (1994 film)\",\"Speed (1994 film)\",\"Speed (1994 film)\",\"Speed (1994 film)\",\"Speed (1994 film)\",\"Speed (1994 film)\",\"Speed (1994 film)\",\"Speed (1994 film)\",\"Speed (1994 film)\",\"Speed (1994 film)\",\"Speed (1994 film)\",\"Speed (1994 film)\",\"Speed (1994 film)\",\"Speed (1994 film)\",\"Speed (1994 film)\",\"Speed (1994 film)\",\"Speed (1994 film)\",\"Speed (1994 film)\",\"Waterworld\",\"Waterworld\",\"Waterworld\",\"Waterworld\",\"Waterworld\",\"Waterworld\",\"Waterworld\",\"Waterworld\",\"Waterworld\",\"Waterworld\",\"Waterworld\",\"Waterworld\",\"Waterworld\",\"Waterworld\",\"Waterworld\",\"Waterworld\",\"Waterworld\",\"Waterworld\",\"Waterworld\",\"Waterworld\",\"Waterworld\",\"Speed (1994 film)\",\"Speed (1994 film)\",\"Speed (1994 film)\",\"Speed (1994 film)\",\"Speed (1994 film)\",\"Speed (1994 film)\",\"Speed (1994 film)\",\"Speed (1994 film)\",\"Speed (1994 film)\",\"Speed (1994 film)\",\"Speed (1994 film)\",\"Speed (1994 film)\",\"Speed (1994 film)\",\"Speed (1994 film)\",\"Speed (1994 film)\",\"Speed (1994 film)\",\"Speed (1994 film)\",\"Speed (1994 film)\",\"Speed (1994 film)\",\"Speed (1994 film)\",\"Terminator 2: Judgment Day\",\"Speed (1994 film)\",\"Speed (1994 film)\",\"Speed (1994 film)\",\"Speed (1994 film)\",\"Speed (1994 film)\",\"Speed (1994 film)\",\"Speed (1994 film)\",\"Speed (1994 film)\",\"Speed (1994 film)\",\"Speed (1994 film)\",\"Speed (1994 film)\",\"Speed (1994 film)\",\"Speed (1994 film)\",\"Speed (1994 film)\",\"Speed (1994 film)\",\"Speed (1994 film)\",\"Speed (1994 film)\",\"Speed (1994 film)\",\"Dumb and Dumber\",\"Dumb and Dumber\",\"Dumb and Dumber\",\"Dumb and Dumber\",\"Dumb and Dumber\",\"Dumb and Dumber\",\"Dumb and Dumber\",\"Dumb and Dumber\",\"Dumb and Dumber\",\"Dumb and Dumber\",\"Dumb and Dumber\",\"Dumb and Dumber\",\"Dumb and Dumber\",\"Dumb and Dumber\",\"Dumb and Dumber\",\"Twister (1996 film)\",\"Twister (1996 film)\",\"Twister (1996 film)\",\"Twister (1996 film)\",\"Twister (1996 film)\",\"Twister (1996 film)\",\"Seven (1995 film)\",\"Seven (1995 film)\",\"Seven (1995 film)\",\"Seven (1995 film)\",\"The Lost World: Jurassic Park\",\"The Lost World: Jurassic Park\",\"The Lost World: Jurassic Park\",\"The Lost World: Jurassic Park\",\"Dr. Dolittle (1998 film)\",\"Twister (1996 film)\",\"Twister (1996 film)\",\"Twister (1996 film)\",\"Dances with Wolves\",\"Dances with Wolves\",\"Dances with Wolves\",\"Dances with Wolves\",\"Dances with Wolves\",\"Dances with Wolves\",\"Dances with Wolves\",\"Dances with Wolves\",\"Dances with Wolves\",\"Dances with Wolves\",\"Dances with Wolves\",\"Dances with Wolves\",\"Dances with Wolves\",\"Dances with Wolves\",\"Dances with Wolves\",\"Dances with Wolves\",\"Dances with Wolves\",\"Dances with Wolves\",\"Dances with Wolves\",\"Dances with Wolves\",\"Dances with Wolves\",\"Dances with Wolves\",\"Dances with Wolves\",\"Dances with Wolves\",\"Dances with Wolves\",\"Robin Hood: Prince of Thieves\",\"Robin Hood: Prince of Thieves\",\"Robin Hood: Prince of Thieves\",\"Robin Hood: Prince of Thieves\",\"Robin Hood: Prince of Thieves\",\"Robin Hood: Prince of Thieves\",\"Robin Hood: Prince of Thieves\",\"Robin Hood: Prince of Thieves\",\"Robin Hood: Prince of Thieves\",\"Robin Hood: Prince of Thieves\",\"Robin Hood: Prince of Thieves\",\"Robin Hood: Prince of Thieves\",\"Robin Hood: Prince of Thieves\",\"Robin Hood: Prince of Thieves\",\"Robin Hood: Prince of Thieves\",\"Robin Hood: Prince of Thieves\",\"Robin Hood: Prince of Thieves\",\"Robin Hood: Prince of Thieves\",\"Robin Hood: Prince of Thieves\",\"The Bodyguard (1992 film)\",\"The Bodyguard (1992 film)\",\"The Bodyguard (1992 film)\",\"The Bodyguard (1992 film)\",\"The Bodyguard (1992 film)\",\"The Bodyguard (1992 film)\",\"The Bodyguard (1992 film)\",\"The Bodyguard (1992 film)\",\"The Bodyguard (1992 film)\",\"The Bodyguard (1992 film)\",\"Waterworld\",\"Waterworld\",\"Waterworld\",\"Waterworld\",\"Waterworld\",\"Waterworld\",\"Waterworld\",\"Waterworld\",\"Waterworld\",\"Waterworld\",\"Waterworld\",\"Waterworld\",\"Waterworld\",\"Waterworld\",\"Waterworld\",\"Waterworld\",\"Waterworld\",\"Waterworld\",\"Waterworld\",\"Waterworld\",\"Waterworld\",\"Die Hard with a Vengeance\",\"The Mask of Zorro\",\"The Mask of Zorro\",\"Ghost (1990 film)\",\"Ghost (1990 film)\",\"Ghost (1990 film)\",\"Ghost (1990 film)\",\"Ghost (1990 film)\",\"Ghost (1990 film)\",\"Ghost (1990 film)\",\"Ghost (1990 film)\",\"Ghost (1990 film)\",\"Ghost (1990 film)\",\"Ghost (1990 film)\",\"Ghost (1990 film)\",\"Ghost (1990 film)\",\"Ghost (1990 film)\",\"Ghost (1990 film)\",\"Ghost (1990 film)\",\"Ghost (1990 film)\",\"Ghost (1990 film)\",\"Ghost (1990 film)\",\"Indecent Proposal\",\"Indecent Proposal\",\"Indecent Proposal\",\"Indecent Proposal\",\"Indecent Proposal\",\"Indecent Proposal\",\"Indecent Proposal\",\"Indecent Proposal\",\"Indecent Proposal\",\"Indecent Proposal\",\"Disclosure (1994 film)\",\"Disclosure (1994 film)\",\"Disclosure (1994 film)\",\"Disclosure (1994 film)\",\"Disclosure (1994 film)\",\"Disclosure (1994 film)\",\"Disclosure (1994 film)\",\"Disclosure (1994 film)\",\"Disclosure (1994 film)\",\"Disclosure (1994 film)\",\"Disclosure (1994 film)\",\"Disclosure (1994 film)\",\"Disclosure (1994 film)\",\"Disclosure (1994 film)\",\"A Few Good Men\",\"A Few Good Men\",\"A Few Good Men\",\"A Few Good Men\",\"A Few Good Men\",\"A Few Good Men\",\"A Few Good Men\",\"A Few Good Men\",\"A Few Good Men\",\"A Few Good Men\",\"A Few Good Men\",\"A Few Good Men\",\"A Few Good Men\",\"A Few Good Men\",\"A Few Good Men\",\"A Few Good Men\",\"A Few Good Men\",\"A Few Good Men\",\"A Few Good Men\",\"Ghost (1990 film)\",\"Ghost (1990 film)\",\"Ghost (1990 film)\",\"Ghost (1990 film)\",\"Ghost (1990 film)\",\"Ghost (1990 film)\",\"Ghost (1990 film)\",\"Ghost (1990 film)\",\"Sister Act\",\"Sister Act\",\"Sister Act\",\"Sister Act\",\"Sister Act\",\"Sister Act\",\"Sister Act\",\"Sister Act\",\"Sister Act\",\"Sister Act\",\"Sister Act\",\"Sister Act\",\"Sister Act\",\"Sister Act\",\"Sister Act\",\"Sister Act\",\"Sister Act\",\"Sister Act\",\"Sister Act\",\"Sister Act\",\"Sister Act\",\"Sister Act\",\"Sister Act\",\"Sister Act\",\"Sister Act\",\"Sister Act\",\"Sister Act\",\"Sister Act\",\"Sister Act\",\"Sister Act\",\"Waterworld\",\"Jerry Maguire\",\"Jerry Maguire\",\"Jerry Maguire\",\"Jerry Maguire\",\"Jerry Maguire\",\"Jerry Maguire\",\"Jerry Maguire\",\"Jerry Maguire\",\"Jerry Maguire\",\"Jerry Maguire\",\"Jerry Maguire\",\"Jerry Maguire\",\"Jerry Maguire\",\"Jerry Maguire\",\"Jerry Maguire\",\"Jerry Maguire\",\"Jerry Maguire\",\"Jerry Maguire\",\"Jerry Maguire\",\"Jerry Maguire\",\"Jerry Maguire\",\"Jerry Maguire\",\"Jerry Maguire\",\"Jerry Maguire\",\"Jerry Maguire\",\"Jerry Maguire\",\"Jerry Maguire\",\"Jerry Maguire\",\"Jerry Maguire\",\"Jerry Maguire\",\"Jerry Maguire\",\"Jerry Maguire\",\"Jerry Maguire\",\"A Few Good Men\",\"A Few Good Men\",\"A Few Good Men\",\"A Few Good Men\",\"A Few Good Men\",\"A Few Good Men\",\"A Few Good Men\",\"A Few Good Men\",\"A Few Good Men\",\"A Few Good Men\",\"A Few Good Men\",\"A Few Good Men\",\"A Few Good Men\",\"A Few Good Men\",\"A Few Good Men\",\"A Few Good Men\",\"A Few Good Men\",\"A Few Good Men\",\"The Firm (1993 film)\",\"The Firm (1993 film)\",\"The Firm (1993 film)\",\"The Firm (1993 film)\",\"The Firm (1993 film)\",\"The Firm (1993 film)\",\"The Firm (1993 film)\",\"The Firm (1993 film)\",\"The Firm (1993 film)\",\"The Firm (1993 film)\",\"The Firm (1993 film)\",\"The Firm (1993 film)\",\"The Firm (1993 film)\",\"The Firm (1993 film)\",\"The Firm (1993 film)\",\"The Firm (1993 film)\",\"The Firm (1993 film)\",\"The Firm (1993 film)\",\"The Firm (1993 film)\",\"Jerry Maguire\",\"Jerry Maguire\",\"Jerry Maguire\",\"Jerry Maguire\",\"Jerry Maguire\",\"Jerry Maguire\",\"Jerry Maguire\",\"Jerry Maguire\",\"Jerry Maguire\",\"Jerry Maguire\",\"Jerry Maguire\",\"Jerry Maguire\",\"Jerry Maguire\",\"Jerry Maguire\",\"Jerry Maguire\",\"Jerry Maguire\",\"Jerry Maguire\",\"Jerry Maguire\",\"Jerry Maguire\",\"Jerry Maguire\",\"Jerry Maguire\",\"Jerry Maguire\",\"Jerry Maguire\",\"Jerry Maguire\",\"Jerry Maguire\",\"Jerry Maguire\",\"Jerry Maguire\",\"Jerry Maguire\",\"Jerry Maguire\",\"Jerry Maguire\",\"Jerry Maguire\",\"Jerry Maguire\",\"Jerry Maguire\",\"As Good as It Gets\",\"As Good as It Gets\",\"As Good as It Gets\",\"As Good as It Gets\",\"As Good as It Gets\",\"As Good as It Gets\",\"As Good as It Gets\",\"As Good as It Gets\",\"As Good as It Gets\",\"As Good as It Gets\",\"As Good as It Gets\",\"As Good as It Gets\",\"As Good as It Gets\",\"As Good as It Gets\",\"As Good as It Gets\",\"As Good as It Gets\",\"As Good as It Gets\",\"As Good as It Gets\",\"As Good as It Gets\",\"A Few Good Men\",\"A Few Good Men\",\"A Few Good Men\",\"A Few Good Men\",\"A Few Good Men\",\"A Few Good Men\",\"A Few Good Men\",\"A Few Good Men\",\"A Few Good Men\",\"A Few Good Men\",\"Jerry Maguire\",\"Jerry Maguire\",\"Jerry Maguire\",\"Jerry Maguire\",\"Jerry Maguire\",\"Jerry Maguire\",\"Jerry Maguire\",\"Jerry Maguire\",\"Jerry Maguire\",\"Jerry Maguire\",\"Jerry Maguire\",\"Jerry Maguire\",\"Jerry Maguire\",\"Jerry Maguire\",\"Jerry Maguire\",\"Jerry Maguire\",\"Jerry Maguire\",\"Jerry Maguire\",\"Jerry Maguire\",\"Jerry Maguire\",\"Jerry Maguire\",\"Jerry Maguire\",\"Jerry Maguire\",\"Jerry Maguire\",\"Jerry Maguire\",\"Jerry Maguire\",\"Jerry Maguire\",\"Jerry Maguire\",\"Jerry Maguire\",\"Jerry Maguire\",\"Jerry Maguire\",\"Jerry Maguire\",\"Jerry Maguire\",\"Jerry Maguire\",\"Jerry Maguire\",\"Jerry Maguire\",\"Jerry Maguire\",\"Jerry Maguire\",\"Jerry Maguire\",\"Jerry Maguire\",\"Jerry Maguire\",\"Jerry Maguire\",\"Jerry Maguire\",\"Jerry Maguire\",\"Jerry Maguire\",\"Jerry Maguire\",\"Jerry Maguire\",\"Jerry Maguire\",\"Jerry Maguire\",\"Jerry Maguire\",\"Jerry Maguire\",\"Jerry Maguire\",\"Jerry Maguire\",\"Jerry Maguire\",\"Jerry Maguire\",\"Jerry Maguire\",\"Jerry Maguire\",\"Jerry Maguire\",\"Jerry Maguire\",\"Jerry Maguire\",\"Jerry Maguire\",\"Dr. Dolittle (1998 film)\",\"Dr. Dolittle (1998 film)\",\"Dr. Dolittle (1998 film)\",\"Dr. Dolittle (1998 film)\",\"Jerry Maguire\",\"Jerry Maguire\",\"Jerry Maguire\",\"Jerry Maguire\",\"Jerry Maguire\",\"Jerry Maguire\",\"Jerry Maguire\",\"Jerry Maguire\",\"Jerry Maguire\",\"Jerry Maguire\",\"Disclosure (1994 film)\",\"Disclosure (1994 film)\",\"Jerry Maguire\",\"Jerry Maguire\",\"Home Alone\",\"Home Alone\",\"Jerry Maguire\",\"Jerry Maguire\",\"Jerry Maguire\",\"Jerry Maguire\",\"Jerry Maguire\",\"Jerry Maguire\",\"Jerry Maguire\",\"Jerry Maguire\",\"Jerry Maguire\",\"Jerry Maguire\",\"Jerry Maguire\",\"Jerry Maguire\",\"Jerry Maguire\",\"Jerry Maguire\",\"Jerry Maguire\",\"Jerry Maguire\",\"Jerry Maguire\",\"Jumanji\",\"Jumanji\",\"Jumanji\",\"As Good as It Gets\",\"As Good as It Gets\",\"As Good as It Gets\",\"As Good as It Gets\",\"As Good as It Gets\",\"As Good as It Gets\",\"As Good as It Gets\",\"As Good as It Gets\",\"As Good as It Gets\",\"As Good as It Gets\",\"As Good as It Gets\",\"As Good as It Gets\",\"As Good as It Gets\",\"As Good as It Gets\",\"As Good as It Gets\",\"As Good as It Gets\",\"As Good as It Gets\",\"As Good as It Gets\",\"As Good as It Gets\",\"A Few Good Men\",\"A Few Good Men\",\"A Few Good Men\",\"A Few Good Men\",\"A Few Good Men\",\"A Few Good Men\",\"A Few Good Men\",\"A Few Good Men\",\"A Few Good Men\",\"A Few Good Men\",\"A Few Good Men\",\"A Few Good Men\",\"A Few Good Men\",\"A Few Good Men\",\"A Few Good Men\",\"As Good as It Gets\",\"As Good as It Gets\",\"As Good as It Gets\",\"As Good as It Gets\",\"As Good as It Gets\",\"As Good as It Gets\",\"As Good as It Gets\",\"As Good as It Gets\",\"As Good as It Gets\",\"As Good as It Gets\",\"As Good as It Gets\",\"As Good as It Gets\",\"As Good as It Gets\",\"As Good as It Gets\",\"As Good as It Gets\",\"As Good as It Gets\",\"As Good as It Gets\",\"As Good as It Gets\",\"Twister (1996 film)\",\"Twister (1996 film)\",\"Twister (1996 film)\",\"Twister (1996 film)\",\"Twister (1996 film)\",\"Twister (1996 film)\",\"Twister (1996 film)\",\"Twister (1996 film)\",\"Twister (1996 film)\",\"Twister (1996 film)\",\"Twister (1996 film)\",\"Twister (1996 film)\",\"Twister (1996 film)\",\"Twister (1996 film)\",\"Twister (1996 film)\",\"As Good as It Gets\",\"As Good as It Gets\",\"As Good as It Gets\",\"As Good as It Gets\",\"As Good as It Gets\",\"As Good as It Gets\",\"As Good as It Gets\",\"As Good as It Gets\",\"As Good as It Gets\",\"As Good as It Gets\",\"As Good as It Gets\",\"As Good as It Gets\",\"As Good as It Gets\",\"As Good as It Gets\",\"As Good as It Gets\",\"As Good as It Gets\",\"As Good as It Gets\",\"You've Got Mail\",\"You've Got Mail\",\"You've Got Mail\",\"You've Got Mail\",\"You've Got Mail\",\"You've Got Mail\",\"You've Got Mail\",\"You've Got Mail\",\"You've Got Mail\",\"You've Got Mail\",\"You've Got Mail\",\"You've Got Mail\",\"You've Got Mail\",\"Dr. Dolittle (1998 film)\",\"Dr. Dolittle (1998 film)\",\"Dr. Dolittle (1998 film)\",\"Good Will Hunting\",\"Good Will Hunting\",\"Good Will Hunting\",\"Good Will Hunting\",\"Good Will Hunting\",\"Good Will Hunting\",\"Good Will Hunting\",\"Good Will Hunting\",\"Good Will Hunting\",\"Good Will Hunting\",\"Mrs. Doubtfire\",\"Mrs. Doubtfire\",\"Mrs. Doubtfire\",\"Mrs. Doubtfire\",\"Mrs. Doubtfire\",\"Mrs. Doubtfire\",\"Mrs. Doubtfire\",\"Mrs. Doubtfire\",\"Mrs. Doubtfire\",\"Jumanji\",\"Jumanji\",\"Jumanji\",\"Good Will Hunting\",\"Good Will Hunting\",\"Good Will Hunting\",\"Good Will Hunting\",\"Good Will Hunting\",\"Good Will Hunting\",\"Good Will Hunting\",\"Good Will Hunting\",\"Good Will Hunting\",\"Good Will Hunting\",\"Good Will Hunting\",\"Good Will Hunting\",\"Good Will Hunting\",\"Good Will Hunting\",\"Good Will Hunting\",\"Good Will Hunting\",\"Good Will Hunting\",\"Good Will Hunting\",\"Good Will Hunting\",\"Good Will Hunting\",\"Good Will Hunting\",\"Good Will Hunting\",\"Good Will Hunting\",\"Good Will Hunting\",\"The Fifth Element\",\"The Fifth Element\",\"The Fifth Element\",\"The Fifth Element\",\"The Fifth Element\",\"The Fifth Element\",\"The Fifth Element\",\"The Fifth Element\",\"The Fifth Element\",\"The Fifth Element\",\"The Fifth Element\",\"Bram Stoker's Dracula (1992 film)\",\"Bram Stoker's Dracula (1992 film)\",\"Bram Stoker's Dracula (1992 film)\",\"Bram Stoker's Dracula (1992 film)\",\"Bram Stoker's Dracula (1992 film)\",\"Bram Stoker's Dracula (1992 film)\",\"Bram Stoker's Dracula (1992 film)\",\"Bram Stoker's Dracula (1992 film)\",\"Bram Stoker's Dracula (1992 film)\",\"Bram Stoker's Dracula (1992 film)\",\"Bram Stoker's Dracula (1992 film)\",\"The Fifth Element\",\"The Fifth Element\",\"The Fifth Element\",\"The Fifth Element\",\"The Fifth Element\",\"The Fifth Element\",\"The Fifth Element\",\"The Fifth Element\",\"The Fifth Element\",\"The Fifth Element\",\"The Fifth Element\",\"The Fifth Element\",\"The Fifth Element\",\"The Fifth Element\",\"The Fifth Element\",\"The Fifth Element\",\"The Fifth Element\",\"The Fifth Element\",\"The Fifth Element\",\"Rush Hour (1998 film)\",\"Rush Hour (1998 film)\",\"Rush Hour (1998 film)\",\"Rush Hour (1998 film)\",\"Rush Hour (1998 film)\",\"Rush Hour (1998 film)\",\"Rush Hour (1998 film)\",\"Rush Hour (1998 film)\",\"Rush Hour (1998 film)\",\"Rush Hour (1998 film)\",\"Rush Hour (1998 film)\",\"Rush Hour (1998 film)\",\"The Fifth Element\",\"The Fifth Element\",\"The Fifth Element\",\"The Fifth Element\",\"The Fifth Element\",\"The Fifth Element\",\"The Fifth Element\",\"The Fifth Element\",\"There's Something About Mary\",\"There's Something About Mary\",\"There's Something About Mary\",\"Pretty Woman\",\"Pretty Woman\",\"Pretty Woman\",\"Pretty Woman\",\"Pretty Woman\",\"Pretty Woman\",\"Pretty Woman\",\"Pretty Woman\",\"Pretty Woman\",\"Pretty Woman\",\"Pretty Woman\",\"Pretty Woman\",\"Pretty Woman\",\"Pretty Woman\",\"Pretty Woman\",\"Pretty Woman\",\"Pretty Woman\",\"Pretty Woman\",\"Pretty Woman\",\"Pretty Woman\",\"Pretty Woman\",\"Pretty Woman\",\"Pretty Woman\",\"Pretty Woman\",\"Pretty Woman\",\"Pretty Woman\",\"Pretty Woman\",\"Pretty Woman\",\"Pretty Woman\",\"Pretty Woman\",\"Pretty Woman\",\"My Best Friend's Wedding\",\"My Best Friend's Wedding\",\"My Best Friend's Wedding\",\"My Best Friend's Wedding\",\"My Best Friend's Wedding\",\"My Best Friend's Wedding\",\"My Best Friend's Wedding\",\"My Best Friend's Wedding\",\"The Nutty Professor (1996 film)\",\"Godzilla (1998 film)\",\"Godzilla (1998 film)\",\"You've Got Mail\",\"You've Got Mail\",\"You've Got Mail\",\"You've Got Mail\",\"You've Got Mail\",\"You've Got Mail\",\"You've Got Mail\",\"You've Got Mail\",\"You've Got Mail\",\"You've Got Mail\",\"You've Got Mail\",\"You've Got Mail\",\"You've Got Mail\",\"You've Got Mail\",\"You've Got Mail\",\"Sleepless in Seattle\",\"Sleepless in Seattle\",\"Sleepless in Seattle\",\"Sleepless in Seattle\",\"Sleepless in Seattle\",\"Sleepless in Seattle\",\"Sleepless in Seattle\",\"Sleepless in Seattle\",\"Sleepless in Seattle\",\"Sleepless in Seattle\",\"Sleepless in Seattle\",\"Sleepless in Seattle\",\"Sleepless in Seattle\",\"Sleepless in Seattle\",\"You've Got Mail\",\"You've Got Mail\",\"You've Got Mail\",\"You've Got Mail\",\"You've Got Mail\",\"You've Got Mail\",\"You've Got Mail\",\"You've Got Mail\",\"You've Got Mail\",\"You've Got Mail\",\"You've Got Mail\",\"You've Got Mail\",\"You've Got Mail\",\"You've Got Mail\",\"The Nutty Professor (1996 film)\",\"The Nutty Professor (1996 film)\",\"The World Is Not Enough\",\"The World Is Not Enough\",\"The World Is Not Enough\",\"The World Is Not Enough\",\"The World Is Not Enough\",\"The World Is Not Enough\",\"The World Is Not Enough\",\"The World Is Not Enough\",\"The World Is Not Enough\",\"The World Is Not Enough\",\"The World Is Not Enough\",\"The World Is Not Enough\",\"The World Is Not Enough\",\"The World Is Not Enough\",\"The World Is Not Enough\",\"The World Is Not Enough\",\"GoldenEye\",\"GoldenEye\",\"GoldenEye\",\"GoldenEye\",\"GoldenEye\",\"GoldenEye\",\"GoldenEye\",\"GoldenEye\",\"Tomorrow Never Dies\",\"Tomorrow Never Dies\",\"Tomorrow Never Dies\",\"Tomorrow Never Dies\",\"Tomorrow Never Dies\",\"Tomorrow Never Dies\",\"Tomorrow Never Dies\",\"Tomorrow Never Dies\",\"Tomorrow Never Dies\",\"Tomorrow Never Dies\",\"Tomorrow Never Dies\",\"Tomorrow Never Dies\",\"Tomorrow Never Dies\",\"Mrs. Doubtfire\",\"Mrs. Doubtfire\",\"Mrs. Doubtfire\",\"Mrs. Doubtfire\",\"Mrs. Doubtfire\",\"Mrs. Doubtfire\",\"Mrs. Doubtfire\",\"Mrs. Doubtfire\",\"The World Is Not Enough\",\"The World Is Not Enough\",\"The World Is Not Enough\",\"The World Is Not Enough\",\"The World Is Not Enough\",\"The World Is Not Enough\",\"The World Is Not Enough\",\"The World Is Not Enough\",\"The World Is Not Enough\",\"The World Is Not Enough\",\"The World Is Not Enough\",\"The World Is Not Enough\",\"The World Is Not Enough\",\"The World Is Not Enough\",\"The World Is Not Enough\",\"The World Is Not Enough\",\"The World Is Not Enough\",\"GoldenEye\",\"GoldenEye\",\"GoldenEye\",\"GoldenEye\",\"Tomorrow Never Dies\",\"Tomorrow Never Dies\",\"GoldenEye\",\"GoldenEye\",\"GoldenEye\",\"GoldenEye\",\"Tomorrow Never Dies\",\"Tomorrow Never Dies\",\"Tomorrow Never Dies\",\"Tomorrow Never Dies\",\"Men in Black (1997 film)\",\"Men in Black (1997 film)\",\"Men in Black (1997 film)\",\"Men in Black (1997 film)\",\"Men in Black (1997 film)\",\"Men in Black (1997 film)\",\"Men in Black (1997 film)\",\"Men in Black (1997 film)\",\"Men in Black (1997 film)\",\"Men in Black (1997 film)\",\"Men in Black (1997 film)\",\"Men in Black (1997 film)\",\"Men in Black (1997 film)\",\"Men in Black (1997 film)\",\"Men in Black (1997 film)\",\"Men in Black (1997 film)\",\"Men in Black (1997 film)\",\"Men in Black (1997 film)\",\"Men in Black (1997 film)\",\"Men in Black (1997 film)\",\"Twister (1996 film)\",\"Twister (1996 film)\",\"Waterworld\",\"Seven (1995 film)\",\"Seven (1995 film)\",\"Seven (1995 film)\",\"Seven (1995 film)\",\"Seven (1995 film)\",\"Seven (1995 film)\",\"Seven (1995 film)\",\"Seven (1995 film)\",\"Seven (1995 film)\",\"Seven (1995 film)\",\"Seven (1995 film)\",\"Seven (1995 film)\",\"Seven (1995 film)\",\"Seven (1995 film)\",\"Seven (1995 film)\",\"Seven (1995 film)\",\"Seven (1995 film)\",\"Seven (1995 film)\",\"Seven (1995 film)\",\"Seven (1995 film)\",\"Seven (1995 film)\",\"Seven (1995 film)\",\"Seven (1995 film)\",\"Seven (1995 film)\",\"Seven (1995 film)\",\"Robin Hood: Prince of Thieves\",\"Robin Hood: Prince of Thieves\",\"Robin Hood: Prince of Thieves\",\"Robin Hood: Prince of Thieves\",\"Robin Hood: Prince of Thieves\",\"Robin Hood: Prince of Thieves\",\"Robin Hood: Prince of Thieves\",\"Robin Hood: Prince of Thieves\",\"Robin Hood: Prince of Thieves\",\"Robin Hood: Prince of Thieves\",\"Robin Hood: Prince of Thieves\",\"Robin Hood: Prince of Thieves\",\"Robin Hood: Prince of Thieves\",\"Robin Hood: Prince of Thieves\",\"Robin Hood: Prince of Thieves\",\"Robin Hood: Prince of Thieves\",\"Robin Hood: Prince of Thieves\",\"Robin Hood: Prince of Thieves\",\"The Mask (1994 film)\",\"Back to the Future Part III\",\"Back to the Future Part III\",\"Back to the Future Part III\",\"Back to the Future Part III\",\"Back to the Future Part III\",\"Back to the Future Part III\",\"Back to the Future Part III\",\"Back to the Future Part III\",\"Back to the Future Part III\",\"Home Alone\",\"Home Alone\",\"Home Alone\",\"Home Alone\",\"Home Alone\",\"Home Alone\",\"Home Alone\",\"Home Alone\",\"Home Alone\",\"Home Alone\",\"Home Alone\",\"Home Alone\",\"Home Alone\",\"Home Alone\",\"Home Alone\",\"Home Alone\",\"Home Alone\",\"Home Alone\",\"Home Alone\",\"Home Alone\",\"Home Alone\",\"Home Alone\",\"Home Alone\",\"Home Alone\",\"Home Alone\",\"Home Alone\",\"Home Alone\",\"Home Alone\",\"Home Alone\",\"Home Alone\",\"Home Alone 2: Lost in New York\",\"Home Alone 2: Lost in New York\",\"Home Alone 2: Lost in New York\",\"Home Alone 2: Lost in New York\",\"Home Alone 2: Lost in New York\",\"Home Alone 2: Lost in New York\",\"Home Alone 2: Lost in New York\",\"Home Alone 2: Lost in New York\",\"Home Alone 2: Lost in New York\",\"Home Alone 2: Lost in New York\",\"Home Alone 2: Lost in New York\",\"Home Alone 2: Lost in New York\",\"Home Alone 2: Lost in New York\",\"Home Alone 2: Lost in New York\",\"Home Alone 2: Lost in New York\",\"Home Alone 2: Lost in New York\",\"Home Alone 2: Lost in New York\",\"Home Alone\",\"Home Alone\",\"Home Alone\",\"Home Alone\",\"Home Alone\",\"Home Alone\",\"Home Alone\",\"Home Alone\",\"Home Alone\",\"Home Alone\",\"Home Alone\",\"Home Alone\",\"Home Alone\",\"Home Alone\",\"Home Alone\",\"Home Alone\",\"Home Alone\",\"Home Alone\",\"Home Alone\",\"Home Alone\",\"Home Alone\",\"Home Alone\",\"Home Alone\",\"Home Alone\",\"Home Alone\",\"Home Alone\",\"Home Alone\",\"Home Alone\",\"Home Alone 2: Lost in New York\",\"Home Alone 2: Lost in New York\",\"Home Alone 2: Lost in New York\",\"Home Alone 2: Lost in New York\",\"Home Alone 2: Lost in New York\",\"Home Alone 2: Lost in New York\",\"Home Alone 2: Lost in New York\",\"Home Alone 2: Lost in New York\",\"Home Alone 2: Lost in New York\",\"Home Alone 2: Lost in New York\",\"Home Alone 2: Lost in New York\",\"Home Alone 2: Lost in New York\",\"Home Alone 2: Lost in New York\",\"Home Alone 2: Lost in New York\",\"Home Alone 2: Lost in New York\",\"Home Alone 2: Lost in New York\",\"Home Alone 2: Lost in New York\",\"Lethal Weapon 3\",\"Lethal Weapon 3\",\"Lethal Weapon 3\",\"Lethal Weapon 3\",\"Lethal Weapon 3\",\"Lethal Weapon 3\",\"Lethal Weapon 3\",\"Lethal Weapon 3\",\"Lethal Weapon 3\",\"Lethal Weapon 3\",\"Lethal Weapon 3\",\"Lethal Weapon 4\",\"Lethal Weapon 4\",\"Lethal Weapon 4\",\"Lethal Weapon 4\",\"Lethal Weapon 4\",\"Lethal Weapon 4\",\"Lethal Weapon 4\",\"Lethal Weapon 4\",\"Home Alone 2: Lost in New York\",\"Home Alone 2: Lost in New York\",\"Home Alone 2: Lost in New York\",\"Home Alone 2: Lost in New York\",\"Home Alone 2: Lost in New York\",\"Home Alone 2: Lost in New York\",\"The Bodyguard (1992 film)\",\"Home Alone 2: Lost in New York\",\"Home Alone 2: Lost in New York\",\"Home Alone\",\"Home Alone\",\"Home Alone\",\"Home Alone\",\"Home Alone\",\"Home Alone\",\"Home Alone\",\"Home Alone\",\"Home Alone\",\"Home Alone\",\"Home Alone\",\"Home Alone\",\"Home Alone\",\"Home Alone\",\"Home Alone\",\"Home Alone\",\"Home Alone\",\"Home Alone\",\"Home Alone\",\"Home Alone\",\"Home Alone\",\"Home Alone 2: Lost in New York\",\"Home Alone 2: Lost in New York\",\"Home Alone 2: Lost in New York\",\"Home Alone 2: Lost in New York\",\"Home Alone 2: Lost in New York\",\"Home Alone 2: Lost in New York\",\"Home Alone 2: Lost in New York\",\"Home Alone 2: Lost in New York\",\"Home Alone 2: Lost in New York\",\"Home Alone 2: Lost in New York\",\"Home Alone 2: Lost in New York\",\"Home Alone 2: Lost in New York\",\"Home Alone 2: Lost in New York\",\"Home Alone 2: Lost in New York\",\"Home Alone 2: Lost in New York\",\"Home Alone 2: Lost in New York\",\"Home Alone 2: Lost in New York\",\"Home Alone 2: Lost in New York\",\"Home Alone 2: Lost in New York\",\"The Truman Show\",\"The Truman Show\",\"The Truman Show\",\"The Truman Show\",\"The Truman Show\",\"The Truman Show\",\"The Truman Show\",\"The Truman Show\",\"The Truman Show\",\"The Truman Show\",\"The Truman Show\",\"The Firm (1993 film)\",\"The Firm (1993 film)\",\"The Firm (1993 film)\",\"The Firm (1993 film)\",\"The Firm (1993 film)\",\"The Firm (1993 film)\",\"The Firm (1993 film)\",\"The Firm (1993 film)\",\"The Firm (1993 film)\",\"The Firm (1993 film)\",\"The Firm (1993 film)\",\"Godzilla (1998 film)\",\"Godzilla (1998 film)\",\"Austin Powers: The Spy Who Shagged Me\",\"Austin Powers: The Spy Who Shagged Me\",\"Austin Powers: The Spy Who Shagged Me\",\"Austin Powers: The Spy Who Shagged Me\",\"Austin Powers: The Spy Who Shagged Me\",\"Austin Powers: The Spy Who Shagged Me\",\"Austin Powers: The Spy Who Shagged Me\",\"Austin Powers: The Spy Who Shagged Me\",\"Austin Powers: The Spy Who Shagged Me\",\"Austin Powers: The Spy Who Shagged Me\",\"Austin Powers: The Spy Who Shagged Me\",\"Austin Powers: The Spy Who Shagged Me\",\"Austin Powers: The Spy Who Shagged Me\",\"Austin Powers: The Spy Who Shagged Me\",\"Austin Powers: The Spy Who Shagged Me\",\"Austin Powers: The Spy Who Shagged Me\",\"Austin Powers: The Spy Who Shagged Me\",\"Austin Powers: The Spy Who Shagged Me\",\"Austin Powers: The Spy Who Shagged Me\",\"Austin Powers: The Spy Who Shagged Me\",\"Austin Powers: The Spy Who Shagged Me\",\"Austin Powers: The Spy Who Shagged Me\",\"Austin Powers: The Spy Who Shagged Me\",\"Austin Powers: The Spy Who Shagged Me\",\"Austin Powers: The Spy Who Shagged Me\",\"Austin Powers: The Spy Who Shagged Me\",\"Austin Powers: The Spy Who Shagged Me\",\"Austin Powers: The Spy Who Shagged Me\",\"Austin Powers: The Spy Who Shagged Me\",\"Austin Powers: The Spy Who Shagged Me\",\"Austin Powers: The Spy Who Shagged Me\",\"Austin Powers: The Spy Who Shagged Me\",\"Austin Powers: The Spy Who Shagged Me\",\"Austin Powers: The Spy Who Shagged Me\",\"Austin Powers: The Spy Who Shagged Me\",\"Austin Powers: The Spy Who Shagged Me\",\"Austin Powers: The Spy Who Shagged Me\",\"Austin Powers: The Spy Who Shagged Me\",\"Austin Powers: The Spy Who Shagged Me\",\"Austin Powers: The Spy Who Shagged Me\",\"Austin Powers: The Spy Who Shagged Me\",\"Austin Powers: The Spy Who Shagged Me\",\"Austin Powers: The Spy Who Shagged Me\",\"Austin Powers: The Spy Who Shagged Me\",\"Austin Powers: The Spy Who Shagged Me\",\"Indecent Proposal\",\"Indecent Proposal\",\"Indecent Proposal\",\"Indecent Proposal\",\"Indecent Proposal\",\"Indecent Proposal\",\"Indecent Proposal\",\"Indecent Proposal\",\"Indecent Proposal\",\"Austin Powers: The Spy Who Shagged Me\",\"Austin Powers: The Spy Who Shagged Me\",\"Austin Powers: The Spy Who Shagged Me\",\"Austin Powers: The Spy Who Shagged Me\",\"Austin Powers: The Spy Who Shagged Me\",\"Austin Powers: The Spy Who Shagged Me\",\"Austin Powers: The Spy Who Shagged Me\",\"Austin Powers: The Spy Who Shagged Me\",\"Austin Powers: The Spy Who Shagged Me\",\"Austin Powers: The Spy Who Shagged Me\",\"Austin Powers: The Spy Who Shagged Me\",\"Austin Powers: The Spy Who Shagged Me\",\"Austin Powers: The Spy Who Shagged Me\",\"Austin Powers: The Spy Who Shagged Me\",\"Austin Powers: The Spy Who Shagged Me\",\"Austin Powers: The Spy Who Shagged Me\",\"Austin Powers: The Spy Who Shagged Me\",\"Austin Powers: The Spy Who Shagged Me\",\"Austin Powers: The Spy Who Shagged Me\",\"Austin Powers: The Spy Who Shagged Me\",\"Austin Powers: The Spy Who Shagged Me\",\"Austin Powers: The Spy Who Shagged Me\",\"Austin Powers: The Spy Who Shagged Me\",\"Austin Powers: The Spy Who Shagged Me\",\"Austin Powers: The Spy Who Shagged Me\",\"Austin Powers: The Spy Who Shagged Me\",\"Robin Hood: Prince of Thieves\",\"Robin Hood: Prince of Thieves\",\"Robin Hood: Prince of Thieves\",\"Robin Hood: Prince of Thieves\",\"Robin Hood: Prince of Thieves\",\"Robin Hood: Prince of Thieves\",\"Robin Hood: Prince of Thieves\",\"Robin Hood: Prince of Thieves\",\"Robin Hood: Prince of Thieves\",\"Robin Hood: Prince of Thieves\",\"Robin Hood: Prince of Thieves\",\"Robin Hood: Prince of Thieves\",\"Robin Hood: Prince of Thieves\",\"Robin Hood: Prince of Thieves\",\"Robin Hood: Prince of Thieves\",\"Robin Hood: Prince of Thieves\",\"Space Jam\",\"Space Jam\",\"Space Jam\",\"Space Jam\",\"Space Jam\",\"Space Jam\",\"Space Jam\",\"Space Jam\",\"Space Jam\",\"Space Jam\",\"Space Jam\",\"Space Jam\",\"Space Jam\",\"Space Jam\",\"Space Jam\",\"Space Jam\",\"Space Jam\",\"Space Jam\",\"Space Jam\",\"Space Jam\",\"Space Jam\",\"Space Jam\",\"Space Jam\",\"Space Jam\",\"Space Jam\",\"Space Jam\",\"Space Jam\",\"Space Jam\",\"Space Jam\",\"Godzilla (1998 film)\",\"Godzilla (1998 film)\",\"GoldenEye\",\"GoldenEye\",\"GoldenEye\",\"GoldenEye\",\"GoldenEye\",\"GoldenEye\",\"GoldenEye\",\"GoldenEye\",\"GoldenEye\",\"GoldenEye\",\"GoldenEye\",\"Tomorrow Never Dies\",\"Tomorrow Never Dies\",\"My Best Friend's Wedding\",\"My Best Friend's Wedding\",\"My Best Friend's Wedding\",\"My Best Friend's Wedding\",\"My Best Friend's Wedding\",\"My Best Friend's Wedding\",\"There's Something About Mary\",\"There's Something About Mary\",\"There's Something About Mary\",\"There's Something About Mary\",\"There's Something About Mary\",\"There's Something About Mary\",\"There's Something About Mary\",\"There's Something About Mary\",\"There's Something About Mary\",\"There's Something About Mary\",\"There's Something About Mary\",\"There's Something About Mary\",\"There's Something About Mary\",\"There's Something About Mary\",\"There's Something About Mary\",\"There's Something About Mary\",\"There's Something About Mary\",\"There's Something About Mary\",\"The Mask (1994 film)\",\"The Mask (1994 film)\",\"The Mask (1994 film)\",\"The Mask (1994 film)\",\"The Mask (1994 film)\",\"The Mask (1994 film)\",\"The Mask (1994 film)\",\"The Mask (1994 film)\",\"The Mask (1994 film)\",\"The Mask (1994 film)\",\"The Mask (1994 film)\",\"The Mask (1994 film)\",\"My Best Friend's Wedding\",\"My Best Friend's Wedding\",\"My Best Friend's Wedding\",\"There's Something About Mary\",\"There's Something About Mary\",\"There's Something About Mary\",\"There's Something About Mary\",\"There's Something About Mary\",\"There's Something About Mary\",\"There's Something About Mary\",\"There's Something About Mary\",\"There's Something About Mary\",\"There's Something About Mary\",\"There's Something About Mary\",\"There's Something About Mary\",\"There's Something About Mary\",\"There's Something About Mary\",\"There's Something About Mary\",\"There's Something About Mary\",\"There's Something About Mary\",\"There's Something About Mary\",\"There's Something About Mary\",\"There's Something About Mary\",\"There's Something About Mary\",\"There's Something About Mary\",\"There's Something About Mary\",\"There's Something About Mary\",\"There's Something About Mary\",\"There's Something About Mary\",\"There's Something About Mary\",\"There's Something About Mary\",\"There's Something About Mary\",\"There's Something About Mary\",\"There's Something About Mary\",\"There's Something About Mary\",\"Dumb and Dumber\",\"Dr. Dolittle (1998 film)\",\"Dumb and Dumber\",\"Kindergarten Cop\",\"There's Something About Mary\",\"Home Alone 2: Lost in New York\",\"Home Alone 2: Lost in New York\",\"Home Alone 2: Lost in New York\",\"Home Alone 2: Lost in New York\",\"Home Alone 2: Lost in New York\",\"Home Alone 2: Lost in New York\",\"Home Alone 2: Lost in New York\",\"Home Alone 2: Lost in New York\",\"Home Alone 2: Lost in New York\",\"Home Alone 2: Lost in New York\",\"Home Alone 2: Lost in New York\",\"Home Alone 2: Lost in New York\",\"Home Alone 2: Lost in New York\",\"Home Alone 2: Lost in New York\",\"Home Alone 2: Lost in New York\",\"Home Alone 2: Lost in New York\",\"Home Alone 2: Lost in New York\",\"Home Alone 2: Lost in New York\",\"Home Alone 2: Lost in New York\",\"Home Alone 2: Lost in New York\",\"Home Alone 2: Lost in New York\",\"Home Alone 2: Lost in New York\",\"Home Alone 2: Lost in New York\",\"Home Alone 2: Lost in New York\",\"Home Alone 2: Lost in New York\",\"Home Alone 2: Lost in New York\",\"Home Alone 2: Lost in New York\",\"Home Alone 2: Lost in New York\",\"Home Alone 2: Lost in New York\",\"Home Alone 2: Lost in New York\",\"Home Alone 2: Lost in New York\",\"Home Alone 2: Lost in New York\",\"Home Alone 2: Lost in New York\",\"Home Alone 2: Lost in New York\",\"Home Alone 2: Lost in New York\",\"Home Alone 2: Lost in New York\",\"Home Alone 2: Lost in New York\",\"Home Alone 2: Lost in New York\",\"Home Alone 2: Lost in New York\",\"Home Alone 2: Lost in New York\",\"Indecent Proposal\",\"Twister (1996 film)\",\"Twister (1996 film)\",\"Twister (1996 film)\",\"Twister (1996 film)\",\"Twister (1996 film)\",\"Twister (1996 film)\",\"Twister (1996 film)\",\"Twister (1996 film)\",\"Twister (1996 film)\",\"Twister (1996 film)\",\"Twister (1996 film)\",\"Twister (1996 film)\",\"Bram Stoker's Dracula (1992 film)\",\"Bram Stoker's Dracula (1992 film)\",\"Bram Stoker's Dracula (1992 film)\",\"Bram Stoker's Dracula (1992 film)\",\"Bram Stoker's Dracula (1992 film)\",\"Bram Stoker's Dracula (1992 film)\",\"Bram Stoker's Dracula (1992 film)\",\"Bram Stoker's Dracula (1992 film)\",\"Bram Stoker's Dracula (1992 film)\",\"Bram Stoker's Dracula (1992 film)\",\"Liar Liar\",\"Liar Liar\",\"Liar Liar\",\"Liar Liar\",\"Liar Liar\",\"Liar Liar\",\"Liar Liar\",\"Liar Liar\",\"Liar Liar\",\"Liar Liar\",\"Liar Liar\",\"Liar Liar\",\"Liar Liar\",\"Twister (1996 film)\",\"Twister (1996 film)\",\"Twister (1996 film)\",\"Twister (1996 film)\",\"Twister (1996 film)\",\"Twister (1996 film)\",\"Twister (1996 film)\",\"Twister (1996 film)\",\"Twister (1996 film)\",\"Twister (1996 film)\",\"Tomorrow Never Dies\",\"Tomorrow Never Dies\",\"Tomorrow Never Dies\",\"Tomorrow Never Dies\",\"Tomorrow Never Dies\",\"Tomorrow Never Dies\",\"Tomorrow Never Dies\",\"Tomorrow Never Dies\",\"Tomorrow Never Dies\",\"Tomorrow Never Dies\",\"Tomorrow Never Dies\",\"Tomorrow Never Dies\",\"Tomorrow Never Dies\",\"Tomorrow Never Dies\",\"Tomorrow Never Dies\",\"Tomorrow Never Dies\",\"Tomorrow Never Dies\",\"Tomorrow Never Dies\",\"Tomorrow Never Dies\",\"Tomorrow Never Dies\",\"Tomorrow Never Dies\",\"Tomorrow Never Dies\",\"Tomorrow Never Dies\",\"Tomorrow Never Dies\",\"Tomorrow Never Dies\",\"Bram Stoker's Dracula (1992 film)\",\"Bram Stoker's Dracula (1992 film)\",\"Bram Stoker's Dracula (1992 film)\",\"Bram Stoker's Dracula (1992 film)\",\"Bram Stoker's Dracula (1992 film)\",\"Bram Stoker's Dracula (1992 film)\",\"Bram Stoker's Dracula (1992 film)\",\"Bram Stoker's Dracula (1992 film)\",\"Bram Stoker's Dracula (1992 film)\",\"Bram Stoker's Dracula (1992 film)\",\"Bram Stoker's Dracula (1992 film)\",\"Bram Stoker's Dracula (1992 film)\",\"Bram Stoker's Dracula (1992 film)\",\"Bram Stoker's Dracula (1992 film)\",\"Bram Stoker's Dracula (1992 film)\",\"Bram Stoker's Dracula (1992 film)\",\"Bram Stoker's Dracula (1992 film)\",\"The Mask of Zorro\",\"The Mask of Zorro\",\"The Mask of Zorro\",\"The Mask of Zorro\",\"The Mask of Zorro\",\"The Mask of Zorro\",\"The Mask of Zorro\",\"The Mask of Zorro\",\"The Mask of Zorro\",\"The Mask of Zorro\",\"The Mask of Zorro\",\"The Mask of Zorro\",\"Bram Stoker's Dracula (1992 film)\",\"Bram Stoker's Dracula (1992 film)\",\"Bram Stoker's Dracula (1992 film)\",\"Bram Stoker's Dracula (1992 film)\",\"Bram Stoker's Dracula (1992 film)\",\"Bram Stoker's Dracula (1992 film)\",\"Bram Stoker's Dracula (1992 film)\",\"Die Hard with a Vengeance\",\"Die Hard with a Vengeance\",\"Die Hard with a Vengeance\",\"Die Hard with a Vengeance\",\"Die Hard with a Vengeance\",\"Die Hard with a Vengeance\",\"Die Hard with a Vengeance\",\"Die Hard with a Vengeance\",\"Die Hard with a Vengeance\",\"Die Hard with a Vengeance\",\"The Bodyguard (1992 film)\",\"The Bodyguard (1992 film)\",\"The Bodyguard (1992 film)\",\"The Bodyguard (1992 film)\",\"The Bodyguard (1992 film)\",\"The Bodyguard (1992 film)\",\"The Bodyguard (1992 film)\",\"The Bodyguard (1992 film)\",\"Basic Instinct\",\"Basic Instinct\",\"Basic Instinct\",\"Basic Instinct\",\"Basic Instinct\",\"Basic Instinct\",\"Basic Instinct\",\"Basic Instinct\",\"Basic Instinct\",\"Basic Instinct\",\"Basic Instinct\",\"Basic Instinct\",\"Basic Instinct\",\"Disclosure (1994 film)\",\"Disclosure (1994 film)\",\"Disclosure (1994 film)\",\"Disclosure (1994 film)\",\"Disclosure (1994 film)\",\"Disclosure (1994 film)\",\"Disclosure (1994 film)\",\"Disclosure (1994 film)\",\"Disclosure (1994 film)\",\"Disclosure (1994 film)\",\"Disclosure (1994 film)\",\"Disclosure (1994 film)\",\"Basic Instinct\",\"Basic Instinct\",\"Basic Instinct\",\"Basic Instinct\",\"Basic Instinct\",\"Basic Instinct\",\"Lethal Weapon 3\",\"Rush Hour (1998 film)\",\"Rush Hour (1998 film)\",\"Rush Hour (1998 film)\",\"Rush Hour (1998 film)\",\"Rush Hour (1998 film)\",\"Rush Hour (1998 film)\",\"Rush Hour (1998 film)\",\"Rush Hour (1998 film)\",\"Rush Hour (1998 film)\",\"Rush Hour (1998 film)\",\"Rush Hour (1998 film)\",\"Waterworld\",\"Waterworld\",\"Waterworld\",\"Waterworld\",\"Waterworld\",\"Waterworld\",\"Waterworld\",\"Waterworld\",\"Waterworld\",\"Waterworld\",\"Lethal Weapon 4\",\"Lethal Weapon 4\",\"Lethal Weapon 4\",\"Lethal Weapon 4\",\"Lethal Weapon 4\",\"Face/Off\",\"Face/Off\",\"Face/Off\",\"Face/Off\",\"Face/Off\",\"Face/Off\",\"Face/Off\",\"Face/Off\",\"Face/Off\",\"Face/Off\",\"Face/Off\",\"Face/Off\",\"Face/Off\",\"Face/Off\",\"Face/Off\",\"Face/Off\",\"Face/Off\",\"Face/Off\",\"Face/Off\",\"Face/Off\",\"Face/Off\",\"Face/Off\",\"Face/Off\",\"Face/Off\",\"Face/Off\",\"Face/Off\",\"Face/Off\",\"Face/Off\",\"Face/Off\",\"Face/Off\",\"Face/Off\",\"Face/Off\",\"Face/Off\",\"Face/Off\",\"Face/Off\",\"Face/Off\",\"Face/Off\",\"The Lost World: Jurassic Park\",\"The Lost World: Jurassic Park\",\"The Lost World: Jurassic Park\",\"The Lost World: Jurassic Park\",\"The Lost World: Jurassic Park\",\"The Lost World: Jurassic Park\",\"The Lost World: Jurassic Park\",\"The Lost World: Jurassic Park\",\"The Lost World: Jurassic Park\",\"The Lost World: Jurassic Park\",\"The Fugitive (1993 film)\",\"The Fugitive (1993 film)\",\"The Fugitive (1993 film)\",\"The Fugitive (1993 film)\",\"The Fugitive (1993 film)\",\"The Fugitive (1993 film)\",\"The Fugitive (1993 film)\",\"The Fugitive (1993 film)\",\"The Fugitive (1993 film)\",\"The Fugitive (1993 film)\",\"The Fugitive (1993 film)\",\"The Fugitive (1993 film)\",\"The Fugitive (1993 film)\",\"The Lost World: Jurassic Park\",\"The Lost World: Jurassic Park\",\"The Lost World: Jurassic Park\",\"The Lost World: Jurassic Park\",\"The Lost World: Jurassic Park\",\"The Lost World: Jurassic Park\",\"The Lost World: Jurassic Park\",\"The Lost World: Jurassic Park\",\"The Lost World: Jurassic Park\",\"The Lost World: Jurassic Park\",\"The Lost World: Jurassic Park\",\"The Lost World: Jurassic Park\",\"The Lost World: Jurassic Park\",\"The Lost World: Jurassic Park\",\"The Lost World: Jurassic Park\",\"The Lost World: Jurassic Park\",\"The Lost World: Jurassic Park\",\"The Lost World: Jurassic Park\",\"The Lost World: Jurassic Park\",\"Lethal Weapon 3\",\"Lethal Weapon 3\",\"Lethal Weapon 3\",\"Lethal Weapon 3\",\"Lethal Weapon 3\",\"Lethal Weapon 3\",\"Lethal Weapon 3\",\"Lethal Weapon 3\",\"Lethal Weapon 3\",\"Lethal Weapon 4\",\"Lethal Weapon 4\",\"Lethal Weapon 4\",\"Lethal Weapon 4\",\"Lethal Weapon 4\",\"Lethal Weapon 4\",\"Lethal Weapon 4\",\"Ransom (1996 film)\",\"Ransom (1996 film)\",\"Ransom (1996 film)\",\"Ransom (1996 film)\",\"Ransom (1996 film)\",\"Ransom (1996 film)\",\"Ransom (1996 film)\",\"Ransom (1996 film)\",\"Ransom (1996 film)\",\"Lethal Weapon 3\",\"Lethal Weapon 3\",\"Lethal Weapon 3\",\"Lethal Weapon 3\",\"Lethal Weapon 3\",\"Lethal Weapon 3\",\"Lethal Weapon 3\",\"Lethal Weapon 3\",\"Lethal Weapon 3\",\"Lethal Weapon 3\",\"Lethal Weapon 3\",\"Lethal Weapon 3\",\"Lethal Weapon 3\",\"Lethal Weapon 3\",\"Lethal Weapon 3\",\"Lethal Weapon 4\",\"Lethal Weapon 4\",\"Lethal Weapon 4\",\"Lethal Weapon 4\",\"Lethal Weapon 4\",\"Lethal Weapon 4\",\"Lethal Weapon 4\",\"Ransom (1996 film)\",\"Ransom (1996 film)\",\"Ransom (1996 film)\",\"Ransom (1996 film)\",\"Ransom (1996 film)\",\"Ransom (1996 film)\",\"Ransom (1996 film)\",\"Ransom (1996 film)\",\"Ransom (1996 film)\",\"Ransom (1996 film)\",\"Lethal Weapon 3\",\"The Mask of Zorro\",\"The Mask of Zorro\",\"Lethal Weapon 3\",\"Lethal Weapon 3\",\"Lethal Weapon 3\",\"Lethal Weapon 3\",\"Lethal Weapon 3\",\"Lethal Weapon 3\",\"Lethal Weapon 3\",\"Lethal Weapon 4\",\"Lethal Weapon 4\",\"Lethal Weapon 4\",\"Lethal Weapon 4\",\"Lethal Weapon 4\",\"Lethal Weapon 4\",\"Lethal Weapon 4\",\"Lethal Weapon 4\",\"Lethal Weapon 4\",\"Lethal Weapon 4\",\"Lethal Weapon 4\",\"Lethal Weapon 4\",\"Lethal Weapon 4\",\"Lethal Weapon 4\",\"Lethal Weapon 4\",\"Lethal Weapon 4\",\"Lethal Weapon 4\",\"Lethal Weapon 4\",\"Lethal Weapon 4\",\"Lethal Weapon 4\",\"Lethal Weapon 4\",\"Lethal Weapon 4\",\"Lethal Weapon 4\",\"Lethal Weapon 4\",\"Lethal Weapon 4\",\"Dr. Dolittle (1998 film)\",\"Dr. Dolittle (1998 film)\",\"Dr. Dolittle (1998 film)\",\"Dr. Dolittle (1998 film)\",\"Dr. Dolittle (1998 film)\",\"Dr. Dolittle (1998 film)\",\"Dr. Dolittle (1998 film)\",\"Dr. Dolittle (1998 film)\",\"Dr. Dolittle (1998 film)\",\"Dr. Dolittle (1998 film)\",\"Dr. Dolittle (1998 film)\",\"Dr. Dolittle (1998 film)\",\"Dr. Dolittle (1998 film)\",\"Dr. Dolittle (1998 film)\",\"Dr. Dolittle (1998 film)\",\"Dr. Dolittle (1998 film)\",\"Dr. Dolittle (1998 film)\",\"Dr. Dolittle (1998 film)\",\"Dr. Dolittle (1998 film)\",\"Dr. Dolittle (1998 film)\",\"Dr. Dolittle (1998 film)\",\"Dr. Dolittle (1998 film)\",\"Dr. Dolittle (1998 film)\",\"Dr. Dolittle (1998 film)\",\"Lethal Weapon 4\",\"Lethal Weapon 4\",\"Lethal Weapon 4\",\"Lethal Weapon 4\",\"Lethal Weapon 4\",\"The Mummy (franchise)\",\"The Mask of Zorro\",\"The Mask of Zorro\",\"The Mask of Zorro\",\"The Mask of Zorro\",\"The Mask of Zorro\",\"The Mask of Zorro\",\"The Mask of Zorro\",\"The Mask of Zorro\",\"The Mask of Zorro\",\"The Mask of Zorro\",\"The Mask of Zorro\",\"The Mask of Zorro\",\"The Mask of Zorro\",\"The Mask of Zorro\",\"The Mask of Zorro\",\"The Mask of Zorro\",\"The Mask of Zorro\",\"The Mask of Zorro\",\"The Mask of Zorro\",\"The Mask of Zorro\",\"Dumb and Dumber\",\"Dumb and Dumber\",\"Dumb and Dumber\",\"Dumb and Dumber\",\"Dumb and Dumber\",\"Dumb and Dumber\",\"Dumb and Dumber\",\"Dumb and Dumber\",\"Indecent Proposal\",\"Indecent Proposal\",\"Indecent Proposal\",\"Indecent Proposal\",\"Indecent Proposal\",\"Indecent Proposal\",\"Indecent Proposal\",\"Dr. Dolittle (1998 film)\",\"Sister Act\",\"Sister Act\",\"Sister Act\",\"Sister Act\",\"Sister Act\",\"Sister Act\",\"Sister Act\",\"Sister Act\",\"Sister Act\",\"Sister Act\",\"Sister Act\",\"Sister Act\",\"Sister Act\",\"Sister Act\",\"Sister Act\",\"Sister Act\",\"Sister Act\",\"Sister Act\",\"Sister Act\",\"Sister Act\",\"Sister Act\",\"Sister Act\",\"Sister Act\",\"Sister Act\",\"Sister Act\",\"Sister Act\",\"Sister Act\",\"Sister Act\",\"Sister Act\",\"Sister Act\",\"Sister Act\",\"Sister Act\",\"Kindergarten Cop\",\"Ransom (1996 film)\",\"Ransom (1996 film)\",\"Ransom (1996 film)\",\"Ransom (1996 film)\",\"Ransom (1996 film)\",\"Ransom (1996 film)\",\"Ransom (1996 film)\",\"Ransom (1996 film)\",\"Ransom (1996 film)\",\"Ransom (1996 film)\",\"Ransom (1996 film)\",\"Ransom (1996 film)\",\"Ransom (1996 film)\",\"Kindergarten Cop\",\"Kindergarten Cop\",\"Kindergarten Cop\",\"Kindergarten Cop\",\"Kindergarten Cop\",\"Kindergarten Cop\",\"Kindergarten Cop\",\"Kindergarten Cop\",\"Kindergarten Cop\",\"Kindergarten Cop\",\"Kindergarten Cop\",\"Kindergarten Cop\",\"Kindergarten Cop\",\"Kindergarten Cop\",\"Kindergarten Cop\",\"Kindergarten Cop\",\"Godzilla (1998 film)\",\"Godzilla (1998 film)\",\"Godzilla (1998 film)\",\"Godzilla (1998 film)\",\"Godzilla (1998 film)\",\"Godzilla (1998 film)\",\"Godzilla (1998 film)\",\"Godzilla (1998 film)\",\"Godzilla (1998 film)\",\"Godzilla (1998 film)\",\"Godzilla (1998 film)\",\"Godzilla (1998 film)\",\"Godzilla (1998 film)\",\"Godzilla (1998 film)\",\"Godzilla (1998 film)\",\"Godzilla (1998 film)\",\"Godzilla (1998 film)\",\"Godzilla (1998 film)\",\"Godzilla (1998 film)\",\"Godzilla (1998 film)\",\"Godzilla (1998 film)\",\"Godzilla (1998 film)\",\"Godzilla (1998 film)\",\"Godzilla (1998 film)\",\"Godzilla (1998 film)\",\"Godzilla (1998 film)\",\"Godzilla (1998 film)\",\"Godzilla (1998 film)\",\"Godzilla (1998 film)\",\"Godzilla (1998 film)\",\"Godzilla (1998 film)\",\"The Fugitive (1993 film)\",\"The Fugitive (1993 film)\",\"The Fugitive (1993 film)\",\"The Fugitive (1993 film)\",\"The Fugitive (1993 film)\",\"The Fugitive (1993 film)\",\"The Fugitive (1993 film)\",\"The Fugitive (1993 film)\",\"The Fugitive (1993 film)\",\"The Fugitive (1993 film)\",\"The Fugitive (1993 film)\",\"The Fugitive (1993 film)\",\"The Fugitive (1993 film)\",\"The Fugitive (1993 film)\",\"The Fugitive (1993 film)\",\"The Fugitive (1993 film)\",\"The Fugitive (1993 film)\",\"The Fugitive (1993 film)\",\"The Fugitive (1993 film)\",\"The Fugitive (1993 film)\",\"Teenage Mutant Ninja Turtles (1990 film)\",\"Teenage Mutant Ninja Turtles (1990 film)\",\"Teenage Mutant Ninja Turtles (1990 film)\",\"Teenage Mutant Ninja Turtles (1990 film)\",\"Teenage Mutant Ninja Turtles (1990 film)\",\"Teenage Mutant Ninja Turtles (1990 film)\",\"Teenage Mutant Ninja Turtles (1990 film)\",\"Teenage Mutant Ninja Turtles (1990 film)\",\"Teenage Mutant Ninja Turtles (1990 film)\",\"Teenage Mutant Ninja Turtles (1990 film)\",\"Teenage Mutant Ninja Turtles (1990 film)\",\"Teenage Mutant Ninja Turtles (1990 film)\",\"Teenage Mutant Ninja Turtles (1990 film)\",\"Teenage Mutant Ninja Turtles (1990 film)\",\"Teenage Mutant Ninja Turtles (1990 film)\",\"Teenage Mutant Ninja Turtles (1990 film)\",\"Teenage Mutant Ninja Turtles (1990 film)\",\"Teenage Mutant Ninja Turtles (1990 film)\",\"Dr. Dolittle (1998 film)\",\"Dr. Dolittle (1998 film)\",\"Dr. Dolittle (1998 film)\",\"Dr. Dolittle (1998 film)\",\"Dr. Dolittle (1998 film)\",\"Dr. Dolittle (1998 film)\",\"Dr. Dolittle (1998 film)\",\"Dr. Dolittle (1998 film)\",\"Dr. Dolittle (1998 film)\",\"Dr. Dolittle (1998 film)\",\"Dr. Dolittle (1998 film)\",\"Dr. Dolittle (1998 film)\",\"Dr. Dolittle (1998 film)\",\"Dr. Dolittle (1998 film)\",\"Dr. Dolittle (1998 film)\",\"Dr. Dolittle (1998 film)\",\"Dr. Dolittle (1998 film)\",\"Dr. Dolittle (1998 film)\",\"Dr. Dolittle (1998 film)\",\"Dr. Dolittle (1998 film)\",\"Dr. Dolittle (1998 film)\",\"Dr. Dolittle (1998 film)\",\"Dr. Dolittle (1998 film)\",\"Dr. Dolittle (1998 film)\",\"Dr. Dolittle (1998 film)\",\"Dr. Dolittle (1998 film)\",\"Dr. Dolittle (1998 film)\",\"Dr. Dolittle (1998 film)\",\"Dr. Dolittle (1998 film)\",\"Dr. Dolittle (1998 film)\",\"Dr. Dolittle (1998 film)\",\"Dr. Dolittle (1998 film)\",\"Dr. Dolittle (1998 film)\",\"The Nutty Professor (1996 film)\",\"The Nutty Professor (1996 film)\",\"The Nutty Professor (1996 film)\",\"The Nutty Professor (1996 film)\",\"The Nutty Professor (1996 film)\",\"The Nutty Professor (1996 film)\",\"Dr. Dolittle (1998 film)\",\"Dr. Dolittle (1998 film)\",\"Dr. Dolittle (1998 film)\",\"Dr. Dolittle (1998 film)\",\"Dr. Dolittle (1998 film)\",\"Dr. Dolittle (1998 film)\",\"Dr. Dolittle (1998 film)\",\"Dr. Dolittle (1998 film)\",\"Dr. Dolittle (1998 film)\",\"Dr. Dolittle (1998 film)\",\"Dr. Dolittle (1998 film)\",\"Dr. Dolittle (1998 film)\",\"Dr. Dolittle (1998 film)\",\"Dr. Dolittle (1998 film)\",\"Dr. Dolittle (1998 film)\",\"Dr. Dolittle (1998 film)\",\"Dr. Dolittle (1998 film)\",\"Dr. Dolittle (1998 film)\",\"Dr. Dolittle (1998 film)\",\"Dr. Dolittle (1998 film)\",\"Dr. Dolittle (1998 film)\",\"Dr. Dolittle (1998 film)\",\"Dr. Dolittle (1998 film)\",\"Dr. Dolittle (1998 film)\",\"Dr. Dolittle (1998 film)\",\"Dr. Dolittle (1998 film)\",\"Dr. Dolittle (1998 film)\",\"Dr. Dolittle (1998 film)\",\"Dr. Dolittle (1998 film)\",\"Dr. Dolittle (1998 film)\",\"Dr. Dolittle (1998 film)\",\"Dr. Dolittle (1998 film)\",\"Disclosure (1994 film)\",\"Disclosure (1994 film)\",\"Disclosure (1994 film)\",\"Disclosure (1994 film)\",\"Disclosure (1994 film)\",\"Disclosure (1994 film)\",\"Disclosure (1994 film)\",\"Disclosure (1994 film)\",\"Disclosure (1994 film)\",\"Disclosure (1994 film)\",\"Disclosure (1994 film)\",\"Jumanji\",\"Jumanji\",\"The Nutty Professor (1996 film)\",\"The Nutty Professor (1996 film)\",\"The Nutty Professor (1996 film)\",\"The Nutty Professor (1996 film)\",\"The Nutty Professor (1996 film)\",\"The Nutty Professor (1996 film)\",\"The Nutty Professor (1996 film)\",\"The Mummy (franchise)\",\"The Mummy (franchise)\",\"The Mummy (franchise)\",\"The Mummy (franchise)\",\"A Few Good Men\",\"A Few Good Men\",\"A Few Good Men\",\"A Few Good Men\",\"A Few Good Men\",\"A Few Good Men\",\"A Few Good Men\",\"A Few Good Men\",\"A Few Good Men\",\"A Few Good Men\",\"A Few Good Men\",\"A Few Good Men\",\"A Few Good Men\",\"A Few Good Men\",\"A Few Good Men\",\"A Few Good Men\",\"A Few Good Men\",\"A Few Good Men\",\"A Few Good Men\",\"A Few Good Men\",\"A Few Good Men\",\"A Few Good Men\",\"A Few Good Men\",\"A Few Good Men\",\"A Few Good Men\",\"A Few Good Men\",\"A Few Good Men\",\"Terminator 2: Judgment Day\",\"The Firm (1993 film)\",\"The Firm (1993 film)\",\"The Firm (1993 film)\",\"The Firm (1993 film)\",\"The Firm (1993 film)\",\"The Firm (1993 film)\",\"The Firm (1993 film)\",\"The Firm (1993 film)\",\"The Firm (1993 film)\",\"The Firm (1993 film)\",\"The Firm (1993 film)\",\"The Firm (1993 film)\",\"The Firm (1993 film)\",\"The Firm (1993 film)\",\"The Firm (1993 film)\",\"The Firm (1993 film)\",\"The Firm (1993 film)\",\"The Firm (1993 film)\",\"The Firm (1993 film)\",\"The Firm (1993 film)\",\"The Firm (1993 film)\",\"The Firm (1993 film)\",\"The Firm (1993 film)\",\"The Firm (1993 film)\",\"The Firm (1993 film)\",\"The Firm (1993 film)\",\"The Firm (1993 film)\",\"The Firm (1993 film)\",\"The Firm (1993 film)\",\"The Firm (1993 film)\",\"The Firm (1993 film)\",\"The Firm (1993 film)\",\"The Firm (1993 film)\",\"The Firm (1993 film)\",\"The Firm (1993 film)\",\"The Firm (1993 film)\",\"The Firm (1993 film)\",\"The Firm (1993 film)\",\"The Firm (1993 film)\",\"The Firm (1993 film)\",\"The Firm (1993 film)\",\"The Firm (1993 film)\",\"The Firm (1993 film)\",\"The Firm (1993 film)\",\"The Firm (1993 film)\",\"The Firm (1993 film)\",\"The Firm (1993 film)\",\"The Firm (1993 film)\",\"The Firm (1993 film)\",\"The Firm (1993 film)\",\"The Firm (1993 film)\",\"The Firm (1993 film)\",\"The Firm (1993 film)\",\"The Firm (1993 film)\",\"The Firm (1993 film)\",\"The Firm (1993 film)\",\"The Firm (1993 film)\",\"The Firm (1993 film)\",\"The Firm (1993 film)\",\"The Firm (1993 film)\",\"The Firm (1993 film)\",\"The Firm (1993 film)\"]},\"selected\":{\"id\":\"127786\"},\"selection_policy\":{\"id\":\"127785\"}},\"id\":\"125692\",\"type\":\"ColumnDataSource\"},{\"attributes\":{},\"id\":\"127786\",\"type\":\"Selection\"},{\"attributes\":{\"axis\":{\"id\":\"125667\"},\"coordinates\":null,\"group\":null,\"ticker\":null},\"id\":\"125670\",\"type\":\"Grid\"}],\"root_ids\":[\"125658\"]},\"title\":\"Bokeh Application\",\"version\":\"2.4.1\"}};\n",
       "  const render_items = [{\"docid\":\"db981442-dd03-4ccc-b969-fffbf79e1869\",\"root_ids\":[\"125658\"],\"roots\":{\"125658\":\"9d157022-28a9-4b7a-998e-9fb1aa0cf281\"}}];\n",
       "  root.Bokeh.embed.embed_items_notebook(docs_json, render_items);\n",
       "\n",
       "  }\n",
       "  if (root.Bokeh !== undefined) {\n",
       "    embed_document(root);\n",
       "  } else {\n",
       "    let attempts = 0;\n",
       "    const timer = setInterval(function(root) {\n",
       "      if (root.Bokeh !== undefined) {\n",
       "        clearInterval(timer);\n",
       "        embed_document(root);\n",
       "      } else {\n",
       "        attempts++;\n",
       "        if (attempts > 100) {\n",
       "          clearInterval(timer);\n",
       "          console.log(\"Bokeh: ERROR: Unable to run BokehJS code because BokehJS library is missing\");\n",
       "        }\n",
       "      }\n",
       "    }, 10, root)\n",
       "  }\n",
       "})(window);"
      ],
      "application/vnd.bokehjs_exec.v0+json": ""
     },
     "metadata": {
      "application/vnd.bokehjs_exec.v0+json": {
       "id": "125658"
      }
     },
     "output_type": "display_data"
    }
   ],
   "source": [
    "#Choose a title\n",
    "title = '90s Hollywood Network'\n",
    "\n",
    "#Establish which categories will appear when hovering over each node\n",
    "HOVER_TOOLTIPS = [(\"Actor\", \"@index\")]\n",
    "\n",
    "#Create a plot — set dimensions, toolbar, and title\n",
    "plot = figure(tooltips = HOVER_TOOLTIPS,\n",
    "              tools=\"pan,wheel_zoom,save,reset\", active_scroll='wheel_zoom',\n",
    "            x_range=Range1d(-10.1, 10.1), y_range=Range1d(-10.1, 10.1), title=title)\n",
    "\n",
    "#Create a network graph object with spring layout\n",
    "# https://networkx.github.io/documentation/networkx-1.9/reference/generated/networkx.drawing.layout.spring_layout.html\n",
    "network_graph = from_networkx(G_90s, nx.spring_layout, scale=10, center=(0, 0))\n",
    "\n",
    "#Set node size and color\n",
    "network_graph.node_renderer.glyph = Circle(size=15, fill_color='skyblue')\n",
    "\n",
    "#Set edge opacity and width\n",
    "network_graph.edge_renderer.glyph = MultiLine(line_alpha=0.5, line_width=1)\n",
    "\n",
    "#Add network graph to the plot\n",
    "plot.renderers.append(network_graph)\n",
    "\n",
    "show(plot)"
   ]
  },
  {
   "cell_type": "markdown",
   "id": "02eee034",
   "metadata": {},
   "source": [
    "* We still have a very 'hairball' like graph. Lets make some adjustments"
   ]
  },
  {
   "cell_type": "markdown",
   "id": "b3bcfa36",
   "metadata": {},
   "source": [
    "**To classify which nodes/actors are important, we are going to use the node degree, which is the number of edges adjacent to the node. In doing so, we are assuming that the actors who participated in the most successful/top revenue films were the most rated and, therefore, the most relevant within the reference decade.**"
   ]
  },
  {
   "cell_type": "code",
   "execution_count": 394,
   "id": "7abbee4a",
   "metadata": {},
   "outputs": [],
   "source": [
    "# Create degrees attribute\n",
    "degrees_90s = dict(nx.degree(G_90s))\n",
    "nx.set_node_attributes(G_90s, name='degree', values=degrees_90s)\n",
    "\n",
    "# Remove from graph those with little relevance (or degree <= 20)\n",
    "remove = [node for node,degree in dict(G_90s.degree()).items() if degree <= 25]\n",
    "G_90s.remove_nodes_from(remove)"
   ]
  },
  {
   "cell_type": "code",
   "execution_count": 395,
   "id": "14c782e0",
   "metadata": {
    "scrolled": true
   },
   "outputs": [
    {
     "data": {
      "text/html": [
       "\n",
       "\n",
       "\n",
       "\n",
       "\n",
       "\n",
       "  <div class=\"bk-root\" id=\"a66a53bf-9f6d-4f05-a062-247c0e2bdd02\" data-root-id=\"127906\"></div>\n"
      ]
     },
     "metadata": {},
     "output_type": "display_data"
    },
    {
     "data": {
      "application/javascript": [
       "(function(root) {\n",
       "  function embed_document(root) {\n",
       "    \n",
       "  const docs_json = {\"00fe5678-63a1-40ac-8436-51b5b9f0f4b9\":{\"defs\":[],\"roots\":{\"references\":[{\"attributes\":{\"below\":[{\"id\":\"127915\"}],\"center\":[{\"id\":\"127918\"},{\"id\":\"127922\"}],\"left\":[{\"id\":\"127919\"}],\"renderers\":[{\"id\":\"127934\"},{\"id\":\"127964\"}],\"title\":{\"id\":\"127907\"},\"toolbar\":{\"id\":\"127928\"},\"x_range\":{\"id\":\"127904\"},\"x_scale\":{\"id\":\"127911\"},\"y_range\":{\"id\":\"127905\"},\"y_scale\":{\"id\":\"127913\"}},\"id\":\"127906\",\"subtype\":\"Figure\",\"type\":\"Plot\"},{\"attributes\":{\"data\":{\"end\":[\"Bill Murray\",\"Jim Carrey\",\"Will Smith\",\"Julianne Moore\",\"Cary Elwes\",\"Jeff Daniels\",\"Cameron Diaz\",\"Matt Damon\",\"Vin Diesel\",\"Barry Pepper\",\"Giovanni Ribisi\",\"Paul Giamatti\",\"Gary Sinise\",\"Meg Ryan\",\"Greg Kinnear\",\"Bill Pullman\",\"Vin Diesel\",\"Barry Pepper\",\"Giovanni Ribisi\",\"Paul Giamatti\",\"Robin Williams\",\"Barry Pepper\",\"Giovanni Ribisi\",\"Paul Giamatti\",\"Giovanni Ribisi\",\"Paul Giamatti\",\"Paul Giamatti\",\"Julia Roberts\",\"Cameron Diaz\",\"Eddie Murphy\",\"Chris Rock\",\"Albert Brooks\",\"Dennis Hopper\",\"Jeff Daniels\",\"Cary Elwes\",\"Billy Bob Thornton\",\"Ben Affleck\",\"John Travolta\",\"Harvey Keitel\",\"Mel Gibson\",\"Rene Russo\",\"Kate Winslet\",\"Billy Zane\",\"Kathy Bates\",\"Bill Paxton\",\"Gloria Stuart\",\"Billy Zane\",\"Kathy Bates\",\"Bill Paxton\",\"Gloria Stuart\",\"Kathy Bates\",\"Bill Paxton\",\"Gloria Stuart\",\"Bill Paxton\",\"Gloria Stuart\",\"Gloria Stuart\",\"Arnold Schwarzenegger\",\"Helen Hunt\",\"Cary Elwes\",\"Bill Pullman\",\"Jeff Goldblum\",\"Mary McDonnell\",\"Jeff Goldblum\",\"Mary McDonnell\",\"Meg Ryan\",\"Mary McDonnell\",\"Julianne Moore\",\"Kevin Costner\",\"Ben Affleck\",\"Demi Moore\",\"Gwyneth Paltrow\",\"Judi Dench\",\"Tom Wilkinson\",\"Robin Williams\",\"Harvey Keitel\",\"Whoopi Goldberg\",\"Maggie Smith\",\"Sharon Stone\",\"Michael Douglas\",\"Ben Kingsley\",\"Ralph Fiennes\",\"Ralph Fiennes\",\"Judi Dench\",\"Tom Wilkinson\",\"Morgan Freeman\",\"Tom Wilkinson\",\"Jeff Daniels\",\"Kevin Costner\",\"Morgan Freeman\",\"Whoopi Goldberg\",\"Michael Douglas\",\"Tom Cruise\",\"Jack Nicholson\",\"Cuba Gooding Jr.\",\"Maggie Smith\",\"Cuba Gooding Jr.\",\"Ren\\u00e9e Zellweger\",\"Regina King\",\"Jack Nicholson\",\"Ren\\u00e9e Zellweger\",\"Bonnie Hunt\",\"Regina King\",\"Jack Nicholson\",\"Helen Hunt\",\"Greg Kinnear\",\"Bonnie Hunt\",\"Regina King\",\"Bonnie Hunt\",\"Robin Williams\",\"Helen Hunt\",\"Greg Kinnear\",\"Greg Kinnear\",\"Cary Elwes\",\"Meg Ryan\",\"Pierce Brosnan\",\"Cameron Diaz\",\"Joe Pesci\",\"Tim Curry\",\"Brenda Fricker\",\"Tim Curry\",\"Brenda Fricker\",\"Rene Russo\",\"Chris Rock\",\"Brenda Fricker\",\"Rene Russo\",\"Chris Rock\",\"Chris Rock\",\"Albert Brooks\",\"Albert Brooks\"],\"start\":[\"Danny DeVito\",\"Tommy Lee Jones\",\"Tommy Lee Jones\",\"Tommy Lee Jones\",\"Jim Carrey\",\"Jim Carrey\",\"Jim Carrey\",\"Tom Hanks\",\"Tom Hanks\",\"Tom Hanks\",\"Tom Hanks\",\"Tom Hanks\",\"Tom Hanks\",\"Tom Hanks\",\"Tom Hanks\",\"Tom Hanks\",\"Matt Damon\",\"Matt Damon\",\"Matt Damon\",\"Matt Damon\",\"Matt Damon\",\"Vin Diesel\",\"Vin Diesel\",\"Vin Diesel\",\"Barry Pepper\",\"Barry Pepper\",\"Giovanni Ribisi\",\"Paul Giamatti\",\"Paul Giamatti\",\"Paul Giamatti\",\"Paul Giamatti\",\"Paul Giamatti\",\"Keanu Reeves\",\"Keanu Reeves\",\"Keanu Reeves\",\"Bruce Willis\",\"Bruce Willis\",\"Bruce Willis\",\"Bruce Willis\",\"Gary Sinise\",\"Gary Sinise\",\"Leonardo DiCaprio\",\"Leonardo DiCaprio\",\"Leonardo DiCaprio\",\"Leonardo DiCaprio\",\"Leonardo DiCaprio\",\"Kate Winslet\",\"Kate Winslet\",\"Kate Winslet\",\"Kate Winslet\",\"Billy Zane\",\"Billy Zane\",\"Billy Zane\",\"Kathy Bates\",\"Kathy Bates\",\"Bill Paxton\",\"Bill Paxton\",\"Bill Paxton\",\"Bill Paxton\",\"Will Smith\",\"Will Smith\",\"Will Smith\",\"Bill Pullman\",\"Bill Pullman\",\"Bill Pullman\",\"Jeff Goldblum\",\"Jeff Goldblum\",\"Mary McDonnell\",\"Billy Bob Thornton\",\"Billy Bob Thornton\",\"Ben Affleck\",\"Ben Affleck\",\"Ben Affleck\",\"Ben Affleck\",\"John Travolta\",\"Harvey Keitel\",\"Harvey Keitel\",\"Arnold Schwarzenegger\",\"Sharon Stone\",\"Liam Neeson\",\"Liam Neeson\",\"Ben Kingsley\",\"Gwyneth Paltrow\",\"Gwyneth Paltrow\",\"Gwyneth Paltrow\",\"Judi Dench\",\"Dennis Hopper\",\"Dennis Hopper\",\"Kevin Costner\",\"Demi Moore\",\"Demi Moore\",\"Demi Moore\",\"Demi Moore\",\"Demi Moore\",\"Whoopi Goldberg\",\"Tom Cruise\",\"Tom Cruise\",\"Tom Cruise\",\"Tom Cruise\",\"Cuba Gooding Jr.\",\"Cuba Gooding Jr.\",\"Cuba Gooding Jr.\",\"Cuba Gooding Jr.\",\"Cuba Gooding Jr.\",\"Cuba Gooding Jr.\",\"Ren\\u00e9e Zellweger\",\"Ren\\u00e9e Zellweger\",\"Regina King\",\"Bonnie Hunt\",\"Jack Nicholson\",\"Jack Nicholson\",\"Helen Hunt\",\"Helen Hunt\",\"Greg Kinnear\",\"Robin Williams\",\"Julia Roberts\",\"Macaulay Culkin\",\"Macaulay Culkin\",\"Macaulay Culkin\",\"Joe Pesci\",\"Joe Pesci\",\"Joe Pesci\",\"Joe Pesci\",\"Tim Curry\",\"Mel Gibson\",\"Mel Gibson\",\"Rene Russo\",\"Chris Rock\",\"Eddie Murphy\"],\"title\":[\"Space Jam\",\"Batman Forever\",\"Men in Black (1997 film)\",\"The Fugitive (1993 film)\",\"Liar Liar\",\"Dumb and Dumber\",\"The Mask (1994 film)\",\"Saving Private Ryan\",\"Saving Private Ryan\",\"Saving Private Ryan\",\"Saving Private Ryan\",\"Saving Private Ryan\",\"Forrest Gump\",\"You've Got Mail\",\"You've Got Mail\",\"Sleepless in Seattle\",\"Saving Private Ryan\",\"Saving Private Ryan\",\"Saving Private Ryan\",\"Saving Private Ryan\",\"Good Will Hunting\",\"Saving Private Ryan\",\"Saving Private Ryan\",\"Saving Private Ryan\",\"Saving Private Ryan\",\"Saving Private Ryan\",\"Saving Private Ryan\",\"My Best Friend's Wedding\",\"My Best Friend's Wedding\",\"Dr. Dolittle (1998 film)\",\"Dr. Dolittle (1998 film)\",\"Dr. Dolittle (1998 film)\",\"Speed (1994 film)\",\"Speed (1994 film)\",\"Bram Stoker's Dracula (1992 film)\",\"Armageddon (1998 film)\",\"Armageddon (1998 film)\",\"Pulp Fiction\",\"Pulp Fiction\",\"Ransom (1996 film)\",\"Ransom (1996 film)\",\"Titanic (1997 film)\",\"Titanic (1997 film)\",\"Titanic (1997 film)\",\"Titanic (1997 film)\",\"Titanic (1997 film)\",\"Titanic (1997 film)\",\"Titanic (1997 film)\",\"Titanic (1997 film)\",\"Titanic (1997 film)\",\"Titanic (1997 film)\",\"Titanic (1997 film)\",\"Titanic (1997 film)\",\"Titanic (1997 film)\",\"Titanic (1997 film)\",\"Titanic (1997 film)\",\"True Lies\",\"Twister (1996 film)\",\"Twister (1996 film)\",\"Independence Day (1996 film)\",\"Independence Day (1996 film)\",\"Independence Day (1996 film)\",\"Independence Day (1996 film)\",\"Independence Day (1996 film)\",\"Sleepless in Seattle\",\"Independence Day (1996 film)\",\"The Lost World: Jurassic Park\",\"Dances with Wolves\",\"Armageddon (1998 film)\",\"Indecent Proposal\",\"Shakespeare in Love\",\"Shakespeare in Love\",\"Shakespeare in Love\",\"Good Will Hunting\",\"Pulp Fiction\",\"Sister Act\",\"Sister Act\",\"Total Recall (1990 film)\",\"Basic Instinct\",\"Schindler's List\",\"Schindler's List\",\"Schindler's List\",\"Shakespeare in Love\",\"Shakespeare in Love\",\"Seven (1995 film)\",\"Shakespeare in Love\",\"Speed (1994 film)\",\"Waterworld\",\"Robin Hood: Prince of Thieves\",\"Ghost (1990 film)\",\"Disclosure (1994 film)\",\"A Few Good Men\",\"A Few Good Men\",\"A Few Good Men\",\"Sister Act\",\"Jerry Maguire\",\"Jerry Maguire\",\"Jerry Maguire\",\"A Few Good Men\",\"Jerry Maguire\",\"Jerry Maguire\",\"Jerry Maguire\",\"As Good as It Gets\",\"As Good as It Gets\",\"As Good as It Gets\",\"Jerry Maguire\",\"Jerry Maguire\",\"Jerry Maguire\",\"Jumanji\",\"As Good as It Gets\",\"As Good as It Gets\",\"As Good as It Gets\",\"Twister (1996 film)\",\"You've Got Mail\",\"Mrs. Doubtfire\",\"My Best Friend's Wedding\",\"Home Alone\",\"Home Alone 2: Lost in New York\",\"Home Alone 2: Lost in New York\",\"Home Alone 2: Lost in New York\",\"Home Alone 2: Lost in New York\",\"Lethal Weapon 3\",\"Lethal Weapon 4\",\"Home Alone 2: Lost in New York\",\"Lethal Weapon 3\",\"Lethal Weapon 4\",\"Lethal Weapon 4\",\"Dr. Dolittle (1998 film)\",\"Dr. Dolittle (1998 film)\"]},\"selected\":{\"id\":\"130069\"},\"selection_policy\":{\"id\":\"130068\"}},\"id\":\"127940\",\"type\":\"ColumnDataSource\"},{\"attributes\":{},\"id\":\"130062\",\"type\":\"BasicTickFormatter\"},{\"attributes\":{\"source\":{\"id\":\"127940\"}},\"id\":\"127942\",\"type\":\"CDSView\"},{\"attributes\":{\"active_scroll\":{\"id\":\"127924\"},\"tools\":[{\"id\":\"127923\"},{\"id\":\"127924\"},{\"id\":\"127925\"},{\"id\":\"127926\"},{\"id\":\"127927\"}]},\"id\":\"127928\",\"type\":\"Toolbar\"},{\"attributes\":{},\"id\":\"130063\",\"type\":\"AllLabels\"},{\"attributes\":{},\"id\":\"127926\",\"type\":\"ResetTool\"},{\"attributes\":{},\"id\":\"127925\",\"type\":\"SaveTool\"},{\"attributes\":{},\"id\":\"127924\",\"type\":\"WheelZoomTool\"},{\"attributes\":{},\"id\":\"130057\",\"type\":\"NodesOnly\"},{\"attributes\":{\"coordinates\":null,\"data_source\":{\"id\":\"127940\"},\"glyph\":{\"id\":\"127958\"},\"group\":null,\"hover_glyph\":null,\"view\":{\"id\":\"127942\"}},\"id\":\"127941\",\"type\":\"GlyphRenderer\"},{\"attributes\":{},\"id\":\"130066\",\"type\":\"UnionRenderers\"},{\"attributes\":{},\"id\":\"130067\",\"type\":\"Selection\"},{\"attributes\":{\"fill_color\":{\"field\":\"degree\",\"transform\":{\"id\":\"127952\"}},\"size\":{\"field\":\"degree\"}},\"id\":\"127953\",\"type\":\"Circle\"},{\"attributes\":{\"data\":{\"name\":[\"Danny DeVito\",\"Tommy Lee Jones\",\"Jim Carrey\",\"Tom Hanks\",\"Matt Damon\",\"Vin Diesel\",\"Barry Pepper\",\"Giovanni Ribisi\",\"Paul Giamatti\",\"Keanu Reeves\",\"Bruce Willis\",\"Gary Sinise\",\"Leonardo DiCaprio\",\"Kate Winslet\",\"Billy Zane\",\"Kathy Bates\",\"Bill Paxton\",\"Gloria Stuart\",\"Will Smith\",\"Bill Pullman\",\"Jeff Goldblum\",\"Mary McDonnell\",\"Billy Bob Thornton\",\"Ben Affleck\",\"John Travolta\",\"Harvey Keitel\",\"Arnold Schwarzenegger\",\"Sharon Stone\",\"Liam Neeson\",\"Ben Kingsley\",\"Ralph Fiennes\",\"Gwyneth Paltrow\",\"Judi Dench\",\"Tom Wilkinson\",\"Dennis Hopper\",\"Jeff Daniels\",\"Kevin Costner\",\"Demi Moore\",\"Whoopi Goldberg\",\"Tom Cruise\",\"Cuba Gooding Jr.\",\"Ren\\u00e9e Zellweger\",\"Regina King\",\"Bonnie Hunt\",\"Jack Nicholson\",\"Helen Hunt\",\"Greg Kinnear\",\"Robin Williams\",\"Julia Roberts\",\"Meg Ryan\",\"Pierce Brosnan\",\"Morgan Freeman\",\"Macaulay Culkin\",\"Joe Pesci\",\"Bill Murray\",\"Cameron Diaz\",\"Tim Curry\",\"Brenda Fricker\",\"Cary Elwes\",\"Michael Douglas\",\"Julianne Moore\",\"Mel Gibson\",\"Rene Russo\",\"Chris Rock\",\"Maggie Smith\",\"Eddie Murphy\",\"Albert Brooks\"],\"x\":[-2.6736529998027683,-0.9315437702272336,-0.1712449624269251,0.6237659966372678,0.27030197015794066,0.8942337928640836,1.1781885417744689,1.0272620910226187,1.5176705441316523,-0.8839721527070916,-4.028883750368071,2.4303023562950328,2.7770965959542355,2.7623544875625456,2.96234911447352,3.0582431244507737,1.9861834356724481,3.160356409164098,-1.5718247222263793,-0.9335286807618682,-1.757294109534298,-2.1778926248433597,-3.043608132312793,-3.5902023129472167,-4.861103985001098,-4.258439124648528,1.6508018297165037,0.7691317944122583,3.6652728726961508,3.577382585931307,4.044571484772621,-4.444886204049297,-4.617945314020985,-4.657101290559831,-2.0512696442319496,-1.2167229729467741,-3.161930477652533,-1.6298462812198364,-3.2295479734910018,-0.9358788498021517,-0.5857815110940999,-1.0823200384182234,-0.7473435736337468,-1.2528535746997167,-0.5001149775397682,0.5080176374245094,-0.030282150333316285,-1.6487212867748096,1.2992219808067842,-0.2726328865233463,-2.4171739996291928,-4.227786699243166,5.837023121543515,4.779307995081574,-2.450820516172897,0.7275493553173454,5.783232100328612,5.6143551771640965,0.5269893312400099,-0.4422467739965017,-1.5341106169406424,3.3569485086782715,3.7397136182463133,3.202754423708143,-4.253171124541054,2.0784856271820935,2.4646121609116975],\"y\":[-10.0,3.604138953576346,2.3083366134599093,2.0049451610228295,1.5970871655850196,2.4024438805746264,1.9853514537805304,2.1665319653365653,2.7350988344374607,1.3359062543484739,-1.6412072283179144,2.684149976644794,-1.6535152669534574,-1.347002697225336,-1.1078548333994578,-1.5820487624326613,-1.0023257966039316,-1.307181206006785,3.4804048899242734,2.7984640933777545,3.7491512346407094,3.1017135364207555,-1.4843704353597615,-0.4881718867722241,-2.3432423426175206,-2.283864213919677,-2.2600899933556207,-2.9375541540146033,-9.831288069550544,-9.120208232429897,-9.665400938714118,0.3370706742683885,-0.4005367537990437,-0.1327006125377125,1.937487895324773,2.0471085286834403,2.303078646958396,-1.8023324339489355,-2.0728766061749027,-1.6028998525365135,-1.146270456876287,-1.8992440720756416,-1.8636600084950332,-1.112974833794137,-0.9071944171778777,-0.5775749578996615,0.29567704534009615,0.1380112373667158,3.6906162993277754,1.6472643850498958,-0.28908546062560253,1.5021875719961035,3.0628900878841434,3.191593368308115,-9.21521528420802,3.1866527474943,3.5528070690017564,3.287132010406683,0.5297283529434006,-2.7434490093715977,4.450892573649594,3.3649339886408516,3.050339347606778,3.0614002292818108,-1.7889189902350355,3.672510414623813,3.3471533201426094]},\"selected\":{\"id\":\"130065\"},\"selection_policy\":{\"id\":\"130064\"}},\"id\":\"127963\",\"type\":\"ColumnDataSource\"},{\"attributes\":{},\"id\":\"127913\",\"type\":\"LinearScale\"},{\"attributes\":{\"graph_layout\":{\"Albert Brooks\":[2.4646121609116975,3.3471533201426094],\"Arnold Schwarzenegger\":[1.6508018297165037,-2.2600899933556207],\"Barry Pepper\":[1.1781885417744689,1.9853514537805304],\"Ben Affleck\":[-3.5902023129472167,-0.4881718867722241],\"Ben Kingsley\":[3.577382585931307,-9.120208232429897],\"Bill Murray\":[-2.450820516172897,-9.21521528420802],\"Bill Paxton\":[1.9861834356724481,-1.0023257966039316],\"Bill Pullman\":[-0.9335286807618682,2.7984640933777545],\"Billy Bob Thornton\":[-3.043608132312793,-1.4843704353597615],\"Billy Zane\":[2.96234911447352,-1.1078548333994578],\"Bonnie Hunt\":[-1.2528535746997167,-1.112974833794137],\"Brenda Fricker\":[5.6143551771640965,3.287132010406683],\"Bruce Willis\":[-4.028883750368071,-1.6412072283179144],\"Cameron Diaz\":[0.7275493553173454,3.1866527474943],\"Cary Elwes\":[0.5269893312400099,0.5297283529434006],\"Chris Rock\":[3.202754423708143,3.0614002292818108],\"Cuba Gooding Jr.\":[-0.5857815110940999,-1.146270456876287],\"Danny DeVito\":[-2.6736529998027683,-10.0],\"Demi Moore\":[-1.6298462812198364,-1.8023324339489355],\"Dennis Hopper\":[-2.0512696442319496,1.937487895324773],\"Eddie Murphy\":[2.0784856271820935,3.672510414623813],\"Gary Sinise\":[2.4303023562950328,2.684149976644794],\"Giovanni Ribisi\":[1.0272620910226187,2.1665319653365653],\"Gloria Stuart\":[3.160356409164098,-1.307181206006785],\"Greg Kinnear\":[-0.030282150333316285,0.29567704534009615],\"Gwyneth Paltrow\":[-4.444886204049297,0.3370706742683885],\"Harvey Keitel\":[-4.258439124648528,-2.283864213919677],\"Helen Hunt\":[0.5080176374245094,-0.5775749578996615],\"Jack Nicholson\":[-0.5001149775397682,-0.9071944171778777],\"Jeff Daniels\":[-1.2167229729467741,2.0471085286834403],\"Jeff Goldblum\":[-1.757294109534298,3.7491512346407094],\"Jim Carrey\":[-0.1712449624269251,2.3083366134599093],\"Joe Pesci\":[4.779307995081574,3.191593368308115],\"John Travolta\":[-4.861103985001098,-2.3432423426175206],\"Judi Dench\":[-4.617945314020985,-0.4005367537990437],\"Julia Roberts\":[1.2992219808067842,3.6906162993277754],\"Julianne Moore\":[-1.5341106169406424,4.450892573649594],\"Kate Winslet\":[2.7623544875625456,-1.347002697225336],\"Kathy Bates\":[3.0582431244507737,-1.5820487624326613],\"Keanu Reeves\":[-0.8839721527070916,1.3359062543484739],\"Kevin Costner\":[-3.161930477652533,2.303078646958396],\"Leonardo DiCaprio\":[2.7770965959542355,-1.6535152669534574],\"Liam Neeson\":[3.6652728726961508,-9.831288069550544],\"Macaulay Culkin\":[5.837023121543515,3.0628900878841434],\"Maggie Smith\":[-4.253171124541054,-1.7889189902350355],\"Mary McDonnell\":[-2.1778926248433597,3.1017135364207555],\"Matt Damon\":[0.27030197015794066,1.5970871655850196],\"Meg Ryan\":[-0.2726328865233463,1.6472643850498958],\"Mel Gibson\":[3.3569485086782715,3.3649339886408516],\"Michael Douglas\":[-0.4422467739965017,-2.7434490093715977],\"Morgan Freeman\":[-4.227786699243166,1.5021875719961035],\"Paul Giamatti\":[1.5176705441316523,2.7350988344374607],\"Pierce Brosnan\":[-2.4171739996291928,-0.28908546062560253],\"Ralph Fiennes\":[4.044571484772621,-9.665400938714118],\"Regina King\":[-0.7473435736337468,-1.8636600084950332],\"Rene Russo\":[3.7397136182463133,3.050339347606778],\"Ren\\u00e9e Zellweger\":[-1.0823200384182234,-1.8992440720756416],\"Robin Williams\":[-1.6487212867748096,0.1380112373667158],\"Sharon Stone\":[0.7691317944122583,-2.9375541540146033],\"Tim Curry\":[5.783232100328612,3.5528070690017564],\"Tom Cruise\":[-0.9358788498021517,-1.6028998525365135],\"Tom Hanks\":[0.6237659966372678,2.0049451610228295],\"Tom Wilkinson\":[-4.657101290559831,-0.1327006125377125],\"Tommy Lee Jones\":[-0.9315437702272336,3.604138953576346],\"Vin Diesel\":[0.8942337928640836,2.4024438805746264],\"Whoopi Goldberg\":[-3.2295479734910018,-2.0728766061749027],\"Will Smith\":[-1.5718247222263793,3.4804048899242734]}},\"id\":\"127943\",\"type\":\"StaticLayoutProvider\"},{\"attributes\":{},\"id\":\"127916\",\"type\":\"BasicTicker\"},{\"attributes\":{},\"id\":\"130068\",\"type\":\"UnionRenderers\"},{\"attributes\":{\"coordinates\":null,\"group\":null,\"text\":\"90s Hollywood Network\"},\"id\":\"127907\",\"type\":\"Title\"},{\"attributes\":{},\"id\":\"130059\",\"type\":\"BasicTickFormatter\"},{\"attributes\":{\"coordinates\":null,\"formatter\":{\"id\":\"130062\"},\"group\":null,\"major_label_policy\":{\"id\":\"130063\"},\"ticker\":{\"id\":\"127916\"}},\"id\":\"127915\",\"type\":\"LinearAxis\"},{\"attributes\":{\"coordinates\":null,\"data_source\":{\"id\":\"127936\"},\"glyph\":{\"id\":\"127953\"},\"group\":null,\"hover_glyph\":null,\"view\":{\"id\":\"127938\"}},\"id\":\"127937\",\"type\":\"GlyphRenderer\"},{\"attributes\":{\"source\":{\"id\":\"127936\"}},\"id\":\"127938\",\"type\":\"CDSView\"},{\"attributes\":{\"coordinates\":null,\"formatter\":{\"id\":\"130059\"},\"group\":null,\"major_label_policy\":{\"id\":\"130060\"},\"ticker\":{\"id\":\"127920\"}},\"id\":\"127919\",\"type\":\"LinearAxis\"},{\"attributes\":{},\"id\":\"130064\",\"type\":\"UnionRenderers\"},{\"attributes\":{\"axis\":{\"id\":\"127915\"},\"coordinates\":null,\"group\":null,\"ticker\":null},\"id\":\"127918\",\"type\":\"Grid\"},{\"attributes\":{\"data\":{\"degree\":[45,61,79,77,40,28,27,27,63,46,77,27,35,35,35,35,59,30,43,37,30,46,34,54,33,44,48,32,26,26,26,38,45,42,43,37,77,56,42,73,65,35,32,35,37,40,34,28,26,33,50,37,48,66,30,43,30,30,45,30,26,28,38,45,34,45,28],\"index\":[\"Danny DeVito\",\"Tommy Lee Jones\",\"Jim Carrey\",\"Tom Hanks\",\"Matt Damon\",\"Vin Diesel\",\"Barry Pepper\",\"Giovanni Ribisi\",\"Paul Giamatti\",\"Keanu Reeves\",\"Bruce Willis\",\"Gary Sinise\",\"Leonardo DiCaprio\",\"Kate Winslet\",\"Billy Zane\",\"Kathy Bates\",\"Bill Paxton\",\"Gloria Stuart\",\"Will Smith\",\"Bill Pullman\",\"Jeff Goldblum\",\"Mary McDonnell\",\"Billy Bob Thornton\",\"Ben Affleck\",\"John Travolta\",\"Harvey Keitel\",\"Arnold Schwarzenegger\",\"Sharon Stone\",\"Liam Neeson\",\"Ben Kingsley\",\"Ralph Fiennes\",\"Gwyneth Paltrow\",\"Judi Dench\",\"Tom Wilkinson\",\"Dennis Hopper\",\"Jeff Daniels\",\"Kevin Costner\",\"Demi Moore\",\"Whoopi Goldberg\",\"Tom Cruise\",\"Cuba Gooding Jr.\",\"Ren\\u00e9e Zellweger\",\"Regina King\",\"Bonnie Hunt\",\"Jack Nicholson\",\"Helen Hunt\",\"Greg Kinnear\",\"Robin Williams\",\"Julia Roberts\",\"Meg Ryan\",\"Pierce Brosnan\",\"Morgan Freeman\",\"Macaulay Culkin\",\"Joe Pesci\",\"Bill Murray\",\"Cameron Diaz\",\"Tim Curry\",\"Brenda Fricker\",\"Cary Elwes\",\"Michael Douglas\",\"Julianne Moore\",\"Mel Gibson\",\"Rene Russo\",\"Chris Rock\",\"Maggie Smith\",\"Eddie Murphy\",\"Albert Brooks\"]},\"selected\":{\"id\":\"130067\"},\"selection_policy\":{\"id\":\"130066\"}},\"id\":\"127936\",\"type\":\"ColumnDataSource\"},{\"attributes\":{},\"id\":\"130056\",\"type\":\"NodesOnly\"},{\"attributes\":{\"callback\":null,\"tooltips\":[[\"Actor\",\"@index\"],[\"Degree\",\"@degree\"]]},\"id\":\"127927\",\"type\":\"HoverTool\"},{\"attributes\":{},\"id\":\"130069\",\"type\":\"Selection\"},{\"attributes\":{\"high\":79,\"low\":26,\"palette\":[\"#000003\",\"#270B52\",\"#63146E\",\"#9E2963\",\"#D24742\",\"#F57C15\",\"#FABF25\",\"#FCFEA4\"]},\"id\":\"127952\",\"type\":\"LinearColorMapper\"},{\"attributes\":{},\"id\":\"127911\",\"type\":\"LinearScale\"},{\"attributes\":{\"axis\":{\"id\":\"127919\"},\"coordinates\":null,\"dimension\":1,\"group\":null,\"ticker\":null},\"id\":\"127922\",\"type\":\"Grid\"},{\"attributes\":{\"line_alpha\":{\"value\":0.5}},\"id\":\"127958\",\"type\":\"MultiLine\"},{\"attributes\":{\"background_fill_alpha\":{\"value\":0.5},\"background_fill_color\":{\"value\":\"white\"},\"coordinates\":null,\"group\":null,\"source\":{\"id\":\"127963\"},\"text\":{\"field\":\"name\"},\"text_align\":{\"value\":\"center\"},\"text_font_size\":{\"value\":\"10px\"},\"x\":{\"field\":\"x\"},\"y\":{\"field\":\"y\"}},\"id\":\"127964\",\"type\":\"LabelSet\"},{\"attributes\":{},\"id\":\"127920\",\"type\":\"BasicTicker\"},{\"attributes\":{},\"id\":\"130065\",\"type\":\"Selection\"},{\"attributes\":{\"coordinates\":null,\"edge_renderer\":{\"id\":\"127941\"},\"group\":null,\"inspection_policy\":{\"id\":\"130057\"},\"layout_provider\":{\"id\":\"127943\"},\"node_renderer\":{\"id\":\"127937\"},\"selection_policy\":{\"id\":\"130056\"}},\"id\":\"127934\",\"type\":\"GraphRenderer\"},{\"attributes\":{},\"id\":\"127923\",\"type\":\"PanTool\"},{\"attributes\":{},\"id\":\"130060\",\"type\":\"AllLabels\"},{\"attributes\":{\"end\":10.1,\"start\":-10.1},\"id\":\"127905\",\"type\":\"Range1d\"},{\"attributes\":{\"end\":10.1,\"start\":-10.1},\"id\":\"127904\",\"type\":\"Range1d\"}],\"root_ids\":[\"127906\"]},\"title\":\"Bokeh Application\",\"version\":\"2.4.1\"}};\n",
       "  const render_items = [{\"docid\":\"00fe5678-63a1-40ac-8436-51b5b9f0f4b9\",\"root_ids\":[\"127906\"],\"roots\":{\"127906\":\"a66a53bf-9f6d-4f05-a062-247c0e2bdd02\"}}];\n",
       "  root.Bokeh.embed.embed_items_notebook(docs_json, render_items);\n",
       "\n",
       "  }\n",
       "  if (root.Bokeh !== undefined) {\n",
       "    embed_document(root);\n",
       "  } else {\n",
       "    let attempts = 0;\n",
       "    const timer = setInterval(function(root) {\n",
       "      if (root.Bokeh !== undefined) {\n",
       "        clearInterval(timer);\n",
       "        embed_document(root);\n",
       "      } else {\n",
       "        attempts++;\n",
       "        if (attempts > 100) {\n",
       "          clearInterval(timer);\n",
       "          console.log(\"Bokeh: ERROR: Unable to run BokehJS code because BokehJS library is missing\");\n",
       "        }\n",
       "      }\n",
       "    }, 10, root)\n",
       "  }\n",
       "})(window);"
      ],
      "application/vnd.bokehjs_exec.v0+json": ""
     },
     "metadata": {
      "application/vnd.bokehjs_exec.v0+json": {
       "id": "127906"
      }
     },
     "output_type": "display_data"
    },
    {
     "data": {
      "text/plain": [
       "'C:\\\\Users\\\\biby_\\\\Desktop\\\\Cursos\\\\DataCamp\\\\Movies\\\\90s_with_labels.html'"
      ]
     },
     "execution_count": 395,
     "metadata": {},
     "output_type": "execute_result"
    }
   ],
   "source": [
    "# Attributes from G network to size and color\n",
    "size_by_this_attribute = 'degree'\n",
    "color_by_this_attribute = 'degree'\n",
    "\n",
    "#Color palette\n",
    "color_palette = Inferno8 \n",
    "\n",
    "#Choose a title\n",
    "title = '90s Hollywood Network'\n",
    "\n",
    "#Categories that will appear when hovering over each node\n",
    "HOVER_TOOLTIPS = [\n",
    "       (\"Actor\", \"@index\"),\n",
    "        (\"Degree\", \"@degree\")\n",
    "]\n",
    "\n",
    "#Create plot — set dimensions, toolbar, and title\n",
    "plot = figure(tooltips = HOVER_TOOLTIPS,\n",
    "              tools=\"pan,wheel_zoom,save,reset\", active_scroll='wheel_zoom',\n",
    "            x_range=Range1d(-10.1, 10.1), y_range=Range1d(-10.1, 10.1), title=title)\n",
    "\n",
    "#Create a network graph object\n",
    "# https://networkx.github.io/documentation/networkx-1.9/reference/generated/networkx.drawing.layout.spring_layout.html\\\n",
    "network_graph = from_networkx(G_90s, nx.spring_layout, scale=10, center=(0, 0))\n",
    "\n",
    "#Set node sizes and colors according to node degree (color as spectrum of color palette)\n",
    "minimum_value_color = min(network_graph.node_renderer.data_source.data[color_by_this_attribute])\n",
    "maximum_value_color = max(network_graph.node_renderer.data_source.data[color_by_this_attribute])\n",
    "network_graph.node_renderer.glyph = Circle(size=size_by_this_attribute, fill_color=linear_cmap(color_by_this_attribute, color_palette, minimum_value_color, maximum_value_color))\n",
    "\n",
    "#Set edge opacity and width\n",
    "network_graph.edge_renderer.glyph = MultiLine(line_alpha=0.5, line_width=1)\n",
    "\n",
    "plot.renderers.append(network_graph)\n",
    "\n",
    "#Add labels:\n",
    "x, y = zip(*network_graph.layout_provider.graph_layout.values())\n",
    "node_labels = list(G_90s.nodes())\n",
    "source = ColumnDataSource({'x': x, 'y': y, 'name': [node_labels[i] for i in range(len(x))]})\n",
    "labels = LabelSet(x='x', y='y', text='name', source=source, background_fill_color='white', text_font_size='10px', background_fill_alpha=.5, text_align='center')\n",
    "plot.renderers.append(labels)\n",
    "\n",
    "show(plot)\n",
    "save(plot, filename=\"90s_with_labels.html\")"
   ]
  },
  {
   "cell_type": "code",
   "execution_count": 396,
   "id": "6abab8af",
   "metadata": {
    "scrolled": true
   },
   "outputs": [
    {
     "data": {
      "text/plain": [
       "[('Jim Carrey', 79),\n",
       " ('Tom Hanks', 77),\n",
       " ('Bruce Willis', 77),\n",
       " ('Kevin Costner', 77),\n",
       " ('Tom Cruise', 73),\n",
       " ('Joe Pesci', 66),\n",
       " ('Cuba Gooding Jr.', 65),\n",
       " ('Paul Giamatti', 63),\n",
       " ('Tommy Lee Jones', 61),\n",
       " ('Bill Paxton', 59)]"
      ]
     },
     "execution_count": 396,
     "metadata": {},
     "output_type": "execute_result"
    }
   ],
   "source": [
    "top_degrees_90s = sorted(degrees_90s.items(), key=lambda x:x[1], reverse=True)[0:10]\n",
    "top_degrees_90s"
   ]
  },
  {
   "cell_type": "markdown",
   "id": "dddc1646",
   "metadata": {},
   "source": [
    "* These are the top 10 actors of the 90s era"
   ]
  },
  {
   "cell_type": "markdown",
   "id": "1cdabb25",
   "metadata": {},
   "source": [
    "Lets do the same for the 00s and the 10s"
   ]
  },
  {
   "cell_type": "code",
   "execution_count": 397,
   "id": "be2ab098",
   "metadata": {},
   "outputs": [],
   "source": [
    "# Create degrees attribute\n",
    "degrees_00s = dict(nx.degree(G_00s))\n",
    "nx.set_node_attributes(G_00s, name='degree', values=degrees_00s)\n",
    "\n",
    "# Remove from graph those with little relevance (or degree <= 20)\n",
    "remove = [node for node,degree in dict(G_00s.degree()).items() if degree <= 20]\n",
    "G_00s.remove_nodes_from(remove)"
   ]
  },
  {
   "cell_type": "code",
   "execution_count": 398,
   "id": "c2689793",
   "metadata": {
    "scrolled": true
   },
   "outputs": [
    {
     "data": {
      "text/html": [
       "\n",
       "\n",
       "\n",
       "\n",
       "\n",
       "\n",
       "  <div class=\"bk-root\" id=\"d1463ec7-1916-419f-ab71-d3459771dabb\" data-root-id=\"130534\"></div>\n"
      ]
     },
     "metadata": {},
     "output_type": "display_data"
    },
    {
     "data": {
      "application/javascript": [
       "(function(root) {\n",
       "  function embed_document(root) {\n",
       "    \n",
       "  const docs_json = {\"d38babbf-151a-4985-8f58-5bcb026fc284\":{\"defs\":[],\"roots\":{\"references\":[{\"attributes\":{\"below\":[{\"id\":\"130543\"}],\"center\":[{\"id\":\"130546\"},{\"id\":\"130550\"}],\"left\":[{\"id\":\"130547\"}],\"renderers\":[{\"id\":\"130562\"},{\"id\":\"130592\"}],\"title\":{\"id\":\"130535\"},\"toolbar\":{\"id\":\"130556\"},\"x_range\":{\"id\":\"130532\"},\"x_scale\":{\"id\":\"130539\"},\"y_range\":{\"id\":\"130533\"},\"y_scale\":{\"id\":\"130541\"}},\"id\":\"130534\",\"subtype\":\"Figure\",\"type\":\"Plot\"},{\"attributes\":{\"coordinates\":null,\"edge_renderer\":{\"id\":\"130569\"},\"group\":null,\"inspection_policy\":{\"id\":\"132708\"},\"layout_provider\":{\"id\":\"130571\"},\"node_renderer\":{\"id\":\"130565\"},\"selection_policy\":{\"id\":\"132707\"}},\"id\":\"130562\",\"type\":\"GraphRenderer\"},{\"attributes\":{},\"id\":\"130541\",\"type\":\"LinearScale\"},{\"attributes\":{\"background_fill_alpha\":{\"value\":0.5},\"background_fill_color\":{\"value\":\"white\"},\"coordinates\":null,\"group\":null,\"source\":{\"id\":\"130591\"},\"text\":{\"field\":\"name\"},\"text_align\":{\"value\":\"center\"},\"text_font_size\":{\"value\":\"10px\"},\"x\":{\"field\":\"x\"},\"y\":{\"field\":\"y\"}},\"id\":\"130592\",\"type\":\"LabelSet\"},{\"attributes\":{},\"id\":\"132715\",\"type\":\"UnionRenderers\"},{\"attributes\":{\"end\":10.1,\"start\":-10.1},\"id\":\"130533\",\"type\":\"Range1d\"},{\"attributes\":{\"source\":{\"id\":\"130564\"}},\"id\":\"130566\",\"type\":\"CDSView\"},{\"attributes\":{},\"id\":\"132714\",\"type\":\"AllLabels\"},{\"attributes\":{\"line_alpha\":{\"value\":0.5}},\"id\":\"130586\",\"type\":\"MultiLine\"},{\"attributes\":{\"data\":{\"name\":[\"Tom Hanks\",\"Helen Hunt\",\"Mel Gibson\",\"Joaquin Phoenix\",\"Ben Affleck\",\"Josh Hartnett\",\"Kate Beckinsale\",\"Cuba Gooding Jr.\",\"Jon Voight\",\"Alec Baldwin\",\"Jennifer Garner\",\"Michael Shannon\",\"Dan Aykroyd\",\"Keanu Reeves\",\"Jada Pinkett Smith\",\"Laurence Fishburne\",\"Carrie-Anne Moss\",\"Hugo Weaving\",\"Tom Cruise\",\"Colin Farrell\",\"Samantha Morton\",\"Max von Sydow\",\"Mike Myers\",\"Seth Green\",\"Michael Caine\",\"Gwyneth Paltrow\",\"Kevin Spacey\",\"Rob Lowe\",\"Pierce Brosnan\",\"Halle Berry\",\"Rosamund Pike\",\"John Cleese\",\"Judi Dench\",\"Elijah Wood\",\"Ian McKellen\",\"Liv Tyler\",\"Viggo Mortensen\",\"Sean Astin\",\"Cate Blanchett\",\"John Rhys-Davies\",\"Orlando Bloom\",\"Christopher Lee\",\"Sean Bean\",\"Ian Holm\",\"Andy Serkis\",\"Karl Urban\",\"Jim Caviezel\",\"Catherine Zeta-Jones\",\"John C. Reilly\",\"Amy Adams\",\"Ken Watanabe\",\"Jim Carrey\",\"Morgan Freeman\",\"Steve Carell\",\"Johnny Depp\",\"Geoffrey Rush\",\"Keira Knightley\",\"Jonathan Pryce\",\"Jack Davenport\",\"Zoe Saldana\",\"Brad Pitt\",\"Eric Bana\",\"Brendan Gleeson\",\"Dennis Quaid\",\"Jake Gyllenhaal\",\"Emmy Rossum\",\"Thandiwe Newton\",\"Anthony Hopkins\",\"Christian Bale\",\"Liam Neeson\",\"Gary Oldman\",\"Dakota Fanning\",\"Will Smith\",\"James Cromwell\",\"Shia LaBeouf\",\"Alfred Molina\",\"Julianne Moore\",\"Ray Liotta\",\"Don Cheadle\",\"Daniel Radcliffe\",\"Emma Watson\",\"Richard Harris\",\"Julie Walters\",\"Helena Bonham Carter\",\"Rosario Dawson\",\"Ben Stiller\",\"Owen Wilson\",\"Topher Grace\",\"Jim Broadbent\",\"Matt Damon\",\"Michelle Monaghan\",\"Brendan Fraser\",\"Stellan Skarsg\\u00e5rd\",\"George Clooney\",\"Bernie Mac\",\"Casey Affleck\",\"Vincent Cassel\",\"Bruce Willis\",\"Julia Roberts\",\"James Marsden\",\"Nicole Kidman\",\"Sam Elliott\",\"Eva Green\",\"Freddie Highmore\",\"Kathy Bates\",\"Kristin Scott Thomas\",\"Daniel Craig\",\"Tilda Swinton\",\"Paul Bettany\",\"Simon Pegg\",\"Hugh Jackman\",\"Tyrese Gibson\",\"Josh Duhamel\",\"Megan Fox\",\"John Turturro\",\"Chris Pine\",\"Russell Crowe\",\"Ed Harris\",\"Nicolas Cage\",\"Dick Van Dyke\",\"Robin Williams\",\"Steve Coogan\",\"Sam Worthington\",\"Ewan McGregor\",\"Sarah Jessica Parker\",\"Jennifer Hudson\",\"John Cusack\",\"Chiwetel Ejiofor\",\"Danny Glover\",\"Amanda Peet\",\"Woody Harrelson\",\"Christopher Guest\",\"Mindy Kaling\",\"Ed Helms\",\"Jonah Hill\",\"Bill Hader\",\"Michael Sheen\"],\"x\":[1.3979444316295593,0.6711090255681403,-0.4670237372476382,-1.4995986244054942,-2.279664593552694,-2.0066809192815427,-2.0302307832013993,-2.1276026600200826,-1.260742910103266,-2.145770558629573,-2.2598299271595628,-2.1247215262068058,-2.1768044630850403,2.3593520143230653,1.3593413867964235,0.7715560440669009,2.2708665026955774,0.02380132744967315,0.17756095356524668,0.6759751102272701,0.7586901270290041,0.5007439601878396,0.20259860871920138,-0.023879817723434994,-0.3593773334283275,0.12072471686233334,0.1362373963685957,-0.045634845828506826,-1.8180391677469125,-2.640328737559482,-2.557768571979327,-2.0545646779853763,-2.6634291965203936,0.04595654821122046,0.4443892024266694,0.24789937838187798,0.20012432184282278,0.3046038765630224,-0.14449849541714074,0.15170237974784118,-0.14235974718461342,0.29978406808680963,0.14822058012990347,-0.016551669658357752,0.06353505978557267,0.17949182321587762,-9.311534591752261,1.1502499396131585,1.9186924006840256,3.727762341156252,-0.6620103792019004,-0.5265226575902852,-0.6809460782270716,-0.9349681532632401,-0.6619834970514451,-0.671557349191244,-0.8840018181052233,-0.913027722709757,-0.7780718902496961,-0.4745207977956539,0.3054918325015756,-0.004879193803960858,-0.3029803775622937,-0.368781159003693,-0.11057708056986924,-0.27267240939721527,1.0718445136245556,0.010863364274273488,-0.9149557430450954,-1.0591214717870066,-0.8519358607098155,-0.35301524789664734,-1.440490003460992,-0.7644548834386027,-0.7761208250421086,1.1444531804533982,-0.43008920143907403,-0.5973717860345398,0.7665101832607041,-1.3580778609375652,-1.2917367955801102,-1.7889383183287442,-1.2413869206999042,-1.0594640881621937,-2.1462994368296853,4.907315985364558,4.601919567392437,0.3401854939425634,-1.0021862735506253,0.6671079278125233,0.32591091199521977,9.6971807579368,-0.33370204779875784,0.8019170023596633,0.1880349757214296,0.718221358790534,0.8544752398022041,0.9166846042158515,1.0005428232020364,0.4227757517728702,0.6160081487429866,0.5144286457565521,0.786574465222408,0.7703890353334649,0.664591619633726,0.5835035798643892,0.406319049348377,-1.4092465710654931,0.49555979908109293,0.1025170002814407,-1.2025536882063823,-0.4037903971223817,-0.46106659642796016,-0.4692413754804885,-0.5236321130118938,-0.07656552322631711,-1.5840135264771968,-0.8081011810510613,-10.0,5.158553888385663,4.67482792424722,4.651945733885821,-0.8459869221996906,0.7478917391824397,-7.491922453022855,-8.005964511219874,1.8614689818455463,1.9886729966215264,2.303388852267617,1.9575397771158825,2.0285227498293006,4.422699111628719,4.4296578181146895,4.554689786473664,4.494542326767623,4.364099237947735,-0.5331715246821438],\"y\":[1.0580495560201528,0.40763564216414294,-0.19258226154758445,-0.2131279955500262,0.6543276665741691,0.9387328730106055,0.7352620609401657,0.5914835133448654,0.5732763963093098,1.0054816264386919,0.8610716022938804,0.869957485173012,0.6956011655437925,-0.6169123457859252,-0.46394904866162123,-1.3991099130913471,-0.8901854417925051,0.5572370585189197,-2.156164225695275,-3.0180041498393577,-2.87572085577279,-3.067787475052255,-2.8925782304965626,-2.95213607518553,-2.5332964444729895,-2.789633306911432,-3.141377559406497,-2.8331298845595163,0.48046241354535235,0.6363085715868624,0.756656013346439,-0.03773009044296781,0.4715586370881865,0.933959649616639,1.2722053464364211,0.9769390622901966,0.8723076985939707,0.9003030460640784,0.7418464738278429,0.9798746825248279,0.5541096084631005,1.3252442853235307,0.5264989518297957,1.3141245261613073,1.048206515823388,0.3598337891184782,-5.512172095427884,-0.786792480054647,-1.402805464025656,1.0650609149811032,-2.344018628517123,-2.781058689097942,-2.5774799634607795,-3.283997693288846,0.4321694976358227,0.6823470369050593,0.33485210994414877,0.4920552598799722,0.6207792243997502,-0.06391151461052996,-0.2830860294087983,-0.2237939775617412,-0.7931849352517969,2.2163804283241153,2.305342670698988,2.3559939113810873,-0.963844272423247,-1.7851303070255773,-1.984387129004086,-2.2571259420143015,-1.711879296453362,-3.2312116592782707,0.9493718353162311,0.06198251655016996,0.41887942483309776,1.5832890666814239,-2.1585627704032238,-2.1237111806934243,-0.4867224841176107,-0.8303090225344166,-0.7707307029593016,-0.40484367236983637,-0.2653531473833457,-1.1034709420072837,1.6666475707288497,1.1748317438614917,1.1371804386947386,-0.5097638063808624,-0.42070469102987756,-0.4123134492798949,-0.9119509336287177,-0.40296159576690826,0.6940073505661007,-0.7644416142921353,-0.13496768001258205,-0.6410124049972554,-0.5348479577172259,-0.8924856897827028,-0.3210450558887026,-3.9869648433451004,1.8943060020132405,1.9841344177127276,1.9090154045600378,2.1746143800757025,1.9994807556440226,2.244039305113151,2.0446696825241113,-1.4888499468894258,1.4894885084696303,-0.8535860718576807,9.911004258527358,0.29227280109554227,0.41931201617072156,0.16070301099936013,0.27359090353660254,-0.3957347302735222,0.33930102906560333,1.1518031335307681,3.2868346842586553,1.1811494574262558,1.026344246254714,1.2455334854970557,-1.1602030497217006,1.0844937680200315,4.165429547887867,4.4756256332205115,-0.16061974112222752,-0.2186661948311419,0.3150502895145099,-0.7263567915509409,-0.37473622442338506,1.16068723834762,1.0344034290570934,0.9037277569442089,1.3577668966478214,0.8281585020874952,-4.127445687127489]},\"selected\":{\"id\":\"132716\"},\"selection_policy\":{\"id\":\"132715\"}},\"id\":\"130591\",\"type\":\"ColumnDataSource\"},{\"attributes\":{\"end\":10.1,\"start\":-10.1},\"id\":\"130532\",\"type\":\"Range1d\"},{\"attributes\":{\"data\":{\"degree\":[61,27,30,30,42,43,43,43,75,41,37,34,33,32,37,49,32,96,101,27,27,26,55,55,66,23,23,43,42,38,22,36,36,36,91,36,36,36,42,36,79,46,45,49,30,56,30,35,22,51,23,38,36,23,29,25,28,26,28,38,61,37,38,24,24,24,43,41,28,45,44,44,63,24,76,23,21,22,32,27,26,26,36,29,24,64,53,27,32,46,32,22,67,39,55,33,22,34,27,22,25,25,24,23,24,21,39,22,28,38,25,55,57,56,55,21,25,21,21,22,47,40,24,23,24,21,33,35,34,32,34,39,36,51,31,32,24],\"index\":[\"Tom Hanks\",\"Helen Hunt\",\"Mel Gibson\",\"Joaquin Phoenix\",\"Ben Affleck\",\"Josh Hartnett\",\"Kate Beckinsale\",\"Cuba Gooding Jr.\",\"Jon Voight\",\"Alec Baldwin\",\"Jennifer Garner\",\"Michael Shannon\",\"Dan Aykroyd\",\"Keanu Reeves\",\"Jada Pinkett Smith\",\"Laurence Fishburne\",\"Carrie-Anne Moss\",\"Hugo Weaving\",\"Tom Cruise\",\"Colin Farrell\",\"Samantha Morton\",\"Max von Sydow\",\"Mike Myers\",\"Seth Green\",\"Michael Caine\",\"Gwyneth Paltrow\",\"Kevin Spacey\",\"Rob Lowe\",\"Pierce Brosnan\",\"Halle Berry\",\"Rosamund Pike\",\"John Cleese\",\"Judi Dench\",\"Elijah Wood\",\"Ian McKellen\",\"Liv Tyler\",\"Viggo Mortensen\",\"Sean Astin\",\"Cate Blanchett\",\"John Rhys-Davies\",\"Orlando Bloom\",\"Christopher Lee\",\"Sean Bean\",\"Ian Holm\",\"Andy Serkis\",\"Karl Urban\",\"Jim Caviezel\",\"Catherine Zeta-Jones\",\"John C. Reilly\",\"Amy Adams\",\"Ken Watanabe\",\"Jim Carrey\",\"Morgan Freeman\",\"Steve Carell\",\"Johnny Depp\",\"Geoffrey Rush\",\"Keira Knightley\",\"Jonathan Pryce\",\"Jack Davenport\",\"Zoe Saldana\",\"Brad Pitt\",\"Eric Bana\",\"Brendan Gleeson\",\"Dennis Quaid\",\"Jake Gyllenhaal\",\"Emmy Rossum\",\"Thandiwe Newton\",\"Anthony Hopkins\",\"Christian Bale\",\"Liam Neeson\",\"Gary Oldman\",\"Dakota Fanning\",\"Will Smith\",\"James Cromwell\",\"Shia LaBeouf\",\"Alfred Molina\",\"Julianne Moore\",\"Ray Liotta\",\"Don Cheadle\",\"Daniel Radcliffe\",\"Emma Watson\",\"Richard Harris\",\"Julie Walters\",\"Helena Bonham Carter\",\"Rosario Dawson\",\"Ben Stiller\",\"Owen Wilson\",\"Topher Grace\",\"Jim Broadbent\",\"Matt Damon\",\"Michelle Monaghan\",\"Brendan Fraser\",\"Stellan Skarsg\\u00e5rd\",\"George Clooney\",\"Bernie Mac\",\"Casey Affleck\",\"Vincent Cassel\",\"Bruce Willis\",\"Julia Roberts\",\"James Marsden\",\"Nicole Kidman\",\"Sam Elliott\",\"Eva Green\",\"Freddie Highmore\",\"Kathy Bates\",\"Kristin Scott Thomas\",\"Daniel Craig\",\"Tilda Swinton\",\"Paul Bettany\",\"Simon Pegg\",\"Hugh Jackman\",\"Tyrese Gibson\",\"Josh Duhamel\",\"Megan Fox\",\"John Turturro\",\"Chris Pine\",\"Russell Crowe\",\"Ed Harris\",\"Nicolas Cage\",\"Dick Van Dyke\",\"Robin Williams\",\"Steve Coogan\",\"Sam Worthington\",\"Ewan McGregor\",\"Sarah Jessica Parker\",\"Jennifer Hudson\",\"John Cusack\",\"Chiwetel Ejiofor\",\"Danny Glover\",\"Amanda Peet\",\"Woody Harrelson\",\"Christopher Guest\",\"Mindy Kaling\",\"Ed Helms\",\"Jonah Hill\",\"Bill Hader\",\"Michael Sheen\"]},\"selected\":{\"id\":\"132718\"},\"selection_policy\":{\"id\":\"132717\"}},\"id\":\"130564\",\"type\":\"ColumnDataSource\"},{\"attributes\":{},\"id\":\"132717\",\"type\":\"UnionRenderers\"},{\"attributes\":{},\"id\":\"132718\",\"type\":\"Selection\"},{\"attributes\":{},\"id\":\"132707\",\"type\":\"NodesOnly\"},{\"attributes\":{},\"id\":\"132716\",\"type\":\"Selection\"},{\"attributes\":{\"active_scroll\":{\"id\":\"130552\"},\"tools\":[{\"id\":\"130551\"},{\"id\":\"130552\"},{\"id\":\"130553\"},{\"id\":\"130554\"},{\"id\":\"130555\"}]},\"id\":\"130556\",\"type\":\"Toolbar\"},{\"attributes\":{\"graph_layout\":{\"Alec Baldwin\":[-2.145770558629573,1.0054816264386919],\"Alfred Molina\":[1.1444531804533982,1.5832890666814239],\"Amanda Peet\":[1.9575397771158825,-0.7263567915509409],\"Amy Adams\":[3.727762341156252,1.0650609149811032],\"Andy Serkis\":[0.06353505978557267,1.048206515823388],\"Anthony Hopkins\":[0.010863364274273488,-1.7851303070255773],\"Ben Affleck\":[-2.279664593552694,0.6543276665741691],\"Ben Stiller\":[4.907315985364558,1.1748317438614917],\"Bernie Mac\":[0.1880349757214296,-0.13496768001258205],\"Bill Hader\":[4.364099237947735,0.8281585020874952],\"Brad Pitt\":[0.3054918325015756,-0.2830860294087983],\"Brendan Fraser\":[9.6971807579368,-0.40296159576690826],\"Brendan Gleeson\":[-0.3029803775622937,-0.7931849352517969],\"Bruce Willis\":[0.9166846042158515,-0.8924856897827028],\"Carrie-Anne Moss\":[2.2708665026955774,-0.8901854417925051],\"Casey Affleck\":[0.718221358790534,-0.6410124049972554],\"Cate Blanchett\":[-0.14449849541714074,0.7418464738278429],\"Catherine Zeta-Jones\":[1.1502499396131585,-0.786792480054647],\"Chiwetel Ejiofor\":[1.9886729966215264,-0.2186661948311419],\"Chris Pine\":[-0.07656552322631711,-0.3957347302735222],\"Christian Bale\":[-0.9149557430450954,-1.984387129004086],\"Christopher Guest\":[4.422699111628719,1.16068723834762],\"Christopher Lee\":[0.29978406808680963,1.3252442853235307],\"Colin Farrell\":[0.6759751102272701,-3.0180041498393577],\"Cuba Gooding Jr.\":[-2.1276026600200826,0.5914835133448654],\"Dakota Fanning\":[-0.35301524789664734,-3.2312116592782707],\"Dan Aykroyd\":[-2.1768044630850403,0.6956011655437925],\"Daniel Craig\":[0.406319049348377,2.0446696825241113],\"Daniel Radcliffe\":[-1.3580778609375652,-0.8303090225344166],\"Danny Glover\":[2.303388852267617,0.3150502895145099],\"Dennis Quaid\":[-0.368781159003693,2.2163804283241153],\"Dick Van Dyke\":[5.158553888385663,1.1811494574262558],\"Don Cheadle\":[0.7665101832607041,-0.4867224841176107],\"Ed Harris\":[-0.8081011810510613,1.1518031335307681],\"Ed Helms\":[4.554689786473664,0.9037277569442089],\"Elijah Wood\":[0.04595654821122046,0.933959649616639],\"Emma Watson\":[-1.2917367955801102,-0.7707307029593016],\"Emmy Rossum\":[-0.27267240939721527,2.3559939113810873],\"Eric Bana\":[-0.004879193803960858,-0.2237939775617412],\"Eva Green\":[0.786574465222408,1.9090154045600378],\"Ewan McGregor\":[0.7478917391824397,1.0844937680200315],\"Freddie Highmore\":[0.7703890353334649,2.1746143800757025],\"Gary Oldman\":[-0.8519358607098155,-1.711879296453362],\"Geoffrey Rush\":[-0.671557349191244,0.6823470369050593],\"George Clooney\":[0.8019170023596633,-0.7644416142921353],\"Gwyneth Paltrow\":[0.12072471686233334,-2.789633306911432],\"Halle Berry\":[-2.640328737559482,0.6363085715868624],\"Helen Hunt\":[0.6711090255681403,0.40763564216414294],\"Helena Bonham Carter\":[-1.0594640881621937,-1.1034709420072837],\"Hugh Jackman\":[-1.2025536882063823,9.911004258527358],\"Hugo Weaving\":[0.02380132744967315,0.5572370585189197],\"Ian Holm\":[-0.016551669658357752,1.3141245261613073],\"Ian McKellen\":[0.4443892024266694,1.2722053464364211],\"Jack Davenport\":[-0.7780718902496961,0.6207792243997502],\"Jada Pinkett Smith\":[1.3593413867964235,-0.46394904866162123],\"Jake Gyllenhaal\":[-0.11057708056986924,2.305342670698988],\"James Cromwell\":[-0.7644548834386027,0.06198251655016996],\"James Marsden\":[0.4227757517728702,-3.9869648433451004],\"Jennifer Garner\":[-2.2598299271595628,0.8610716022938804],\"Jennifer Hudson\":[-8.005964511219874,4.4756256332205115],\"Jim Broadbent\":[-1.0021862735506253,-0.42070469102987756],\"Jim Carrey\":[-0.5265226575902852,-2.781058689097942],\"Jim Caviezel\":[-9.311534591752261,-5.512172095427884],\"Joaquin Phoenix\":[-1.4995986244054942,-0.2131279955500262],\"John C. Reilly\":[1.9186924006840256,-1.402805464025656],\"John Cleese\":[-2.0545646779853763,-0.03773009044296781],\"John Cusack\":[1.8614689818455463,-0.16061974112222752],\"John Rhys-Davies\":[0.15170237974784118,0.9798746825248279],\"John Turturro\":[-0.5236321130118938,0.27359090353660254],\"Johnny Depp\":[-0.6619834970514451,0.4321694976358227],\"Jon Voight\":[-1.260742910103266,0.5732763963093098],\"Jonah Hill\":[4.494542326767623,1.3577668966478214],\"Jonathan Pryce\":[-0.913027722709757,0.4920552598799722],\"Josh Duhamel\":[-0.46106659642796016,0.41931201617072156],\"Josh Hartnett\":[-2.0066809192815427,0.9387328730106055],\"Judi Dench\":[-2.6634291965203936,0.4715586370881865],\"Julia Roberts\":[1.0005428232020364,-0.3210450558887026],\"Julianne Moore\":[-0.43008920143907403,-2.1585627704032238],\"Julie Walters\":[-1.2413869206999042,-0.2653531473833457],\"Karl Urban\":[0.17949182321587762,0.3598337891184782],\"Kate Beckinsale\":[-2.0302307832013993,0.7352620609401657],\"Kathy Bates\":[0.664591619633726,1.9994807556440226],\"Keanu Reeves\":[2.3593520143230653,-0.6169123457859252],\"Keira Knightley\":[-0.8840018181052233,0.33485210994414877],\"Ken Watanabe\":[-0.6620103792019004,-2.344018628517123],\"Kevin Spacey\":[0.1362373963685957,-3.141377559406497],\"Kristin Scott Thomas\":[0.5835035798643892,2.244039305113151],\"Laurence Fishburne\":[0.7715560440669009,-1.3991099130913471],\"Liam Neeson\":[-1.0591214717870066,-2.2571259420143015],\"Liv Tyler\":[0.24789937838187798,0.9769390622901966],\"Matt Damon\":[0.6671079278125233,-0.4123134492798949],\"Max von Sydow\":[0.5007439601878396,-3.067787475052255],\"Megan Fox\":[-0.4692413754804885,0.16070301099936013],\"Mel Gibson\":[-0.4670237372476382,-0.19258226154758445],\"Michael Caine\":[-0.3593773334283275,-2.5332964444729895],\"Michael Shannon\":[-2.1247215262068058,0.869957485173012],\"Michael Sheen\":[-0.5331715246821438,-4.127445687127489],\"Michelle Monaghan\":[0.32591091199521977,-0.9119509336287177],\"Mike Myers\":[0.20259860871920138,-2.8925782304965626],\"Mindy Kaling\":[4.4296578181146895,1.0344034290570934],\"Morgan Freeman\":[-0.6809460782270716,-2.5774799634607795],\"Nicolas Cage\":[-10.0,3.2868346842586553],\"Nicole Kidman\":[0.6160081487429866,1.8943060020132405],\"Orlando Bloom\":[-0.14235974718461342,0.5541096084631005],\"Owen Wilson\":[4.601919567392437,1.1371804386947386],\"Paul Bettany\":[0.49555979908109293,1.4894885084696303],\"Pierce Brosnan\":[-1.8180391677469125,0.48046241354535235],\"Ray Liotta\":[-0.5973717860345398,-2.1237111806934243],\"Richard Harris\":[-1.7889383183287442,-0.40484367236983637],\"Rob Lowe\":[-0.045634845828506826,-2.8331298845595163],\"Robin Williams\":[4.67482792424722,1.026344246254714],\"Rosamund Pike\":[-2.557768571979327,0.756656013346439],\"Rosario Dawson\":[-2.1462994368296853,1.6666475707288497],\"Russell Crowe\":[-1.5840135264771968,0.33930102906560333],\"Sam Elliott\":[0.5144286457565521,1.9841344177127276],\"Sam Worthington\":[-0.8459869221996906,-1.1602030497217006],\"Samantha Morton\":[0.7586901270290041,-2.87572085577279],\"Sarah Jessica Parker\":[-7.491922453022855,4.165429547887867],\"Sean Astin\":[0.3046038765630224,0.9003030460640784],\"Sean Bean\":[0.14822058012990347,0.5264989518297957],\"Seth Green\":[-0.023879817723434994,-2.95213607518553],\"Shia LaBeouf\":[-0.7761208250421086,0.41887942483309776],\"Simon Pegg\":[0.1025170002814407,-0.8535860718576807],\"Stellan Skarsg\\u00e5rd\":[-0.33370204779875784,0.6940073505661007],\"Steve Carell\":[-0.9349681532632401,-3.283997693288846],\"Steve Coogan\":[4.651945733885821,1.2455334854970557],\"Thandiwe Newton\":[1.0718445136245556,-0.963844272423247],\"Tilda Swinton\":[-1.4092465710654931,-1.4888499468894258],\"Tom Cruise\":[0.17756095356524668,-2.156164225695275],\"Tom Hanks\":[1.3979444316295593,1.0580495560201528],\"Topher Grace\":[0.3401854939425634,-0.5097638063808624],\"Tyrese Gibson\":[-0.4037903971223817,0.29227280109554227],\"Viggo Mortensen\":[0.20012432184282278,0.8723076985939707],\"Vincent Cassel\":[0.8544752398022041,-0.5348479577172259],\"Will Smith\":[-1.440490003460992,0.9493718353162311],\"Woody Harrelson\":[2.0285227498293006,-0.37473622442338506],\"Zoe Saldana\":[-0.4745207977956539,-0.06391151461052996]}},\"id\":\"130571\",\"type\":\"StaticLayoutProvider\"},{\"attributes\":{},\"id\":\"132711\",\"type\":\"AllLabels\"},{\"attributes\":{},\"id\":\"132720\",\"type\":\"Selection\"},{\"attributes\":{},\"id\":\"132719\",\"type\":\"UnionRenderers\"},{\"attributes\":{},\"id\":\"130554\",\"type\":\"ResetTool\"},{\"attributes\":{\"coordinates\":null,\"data_source\":{\"id\":\"130568\"},\"glyph\":{\"id\":\"130586\"},\"group\":null,\"hover_glyph\":null,\"view\":{\"id\":\"130570\"}},\"id\":\"130569\",\"type\":\"GlyphRenderer\"},{\"attributes\":{},\"id\":\"130553\",\"type\":\"SaveTool\"},{\"attributes\":{},\"id\":\"130551\",\"type\":\"PanTool\"},{\"attributes\":{\"fill_color\":{\"field\":\"degree\",\"transform\":{\"id\":\"130580\"}},\"size\":{\"field\":\"degree\"}},\"id\":\"130581\",\"type\":\"Circle\"},{\"attributes\":{},\"id\":\"132708\",\"type\":\"NodesOnly\"},{\"attributes\":{},\"id\":\"130552\",\"type\":\"WheelZoomTool\"},{\"attributes\":{\"source\":{\"id\":\"130568\"}},\"id\":\"130570\",\"type\":\"CDSView\"},{\"attributes\":{},\"id\":\"130548\",\"type\":\"BasicTicker\"},{\"attributes\":{\"axis\":{\"id\":\"130547\"},\"coordinates\":null,\"dimension\":1,\"group\":null,\"ticker\":null},\"id\":\"130550\",\"type\":\"Grid\"},{\"attributes\":{\"data\":{\"end\":[\"Helen Hunt\",\"Amy Adams\",\"Ian McKellen\",\"Alfred Molina\",\"Paul Bettany\",\"Ewan McGregor\",\"Stellan Skarsg\\u00e5rd\",\"Mel Gibson\",\"Joaquin Phoenix\",\"Russell Crowe\",\"Richard Harris\",\"Josh Hartnett\",\"Kate Beckinsale\",\"Cuba Gooding Jr.\",\"Jon Voight\",\"Alec Baldwin\",\"Jennifer Garner\",\"Michael Shannon\",\"Dan Aykroyd\",\"Kate Beckinsale\",\"Cuba Gooding Jr.\",\"Jon Voight\",\"Alec Baldwin\",\"Jennifer Garner\",\"Michael Shannon\",\"Dan Aykroyd\",\"Cuba Gooding Jr.\",\"Jon Voight\",\"Alec Baldwin\",\"Jennifer Garner\",\"Michael Shannon\",\"Dan Aykroyd\",\"Jon Voight\",\"Alec Baldwin\",\"Jennifer Garner\",\"Michael Shannon\",\"Dan Aykroyd\",\"Alec Baldwin\",\"Jennifer Garner\",\"Michael Shannon\",\"Dan Aykroyd\",\"Shia LaBeouf\",\"Tyrese Gibson\",\"Josh Duhamel\",\"Megan Fox\",\"John Turturro\",\"Bernie Mac\",\"Hugo Weaving\",\"Ed Harris\",\"Jennifer Garner\",\"Michael Shannon\",\"Dan Aykroyd\",\"Michael Shannon\",\"Dan Aykroyd\",\"Dan Aykroyd\",\"Jada Pinkett Smith\",\"Laurence Fishburne\",\"Carrie-Anne Moss\",\"Hugo Weaving\",\"Tom Cruise\",\"Simon Pegg\",\"Elijah Wood\",\"Ian McKellen\",\"Liv Tyler\",\"Viggo Mortensen\",\"Sean Astin\",\"Cate Blanchett\",\"John Rhys-Davies\",\"Orlando Bloom\",\"Christopher Lee\",\"Sean Bean\",\"Ian Holm\",\"Andy Serkis\",\"Karl Urban\",\"Shia LaBeouf\",\"Tyrese Gibson\",\"Josh Duhamel\",\"Megan Fox\",\"John Turturro\",\"Bernie Mac\",\"Colin Farrell\",\"Samantha Morton\",\"Max von Sydow\",\"Mike Myers\",\"Seth Green\",\"Michael Caine\",\"Rob Lowe\",\"Gwyneth Paltrow\",\"Kevin Spacey\",\"Ken Watanabe\",\"Thandiwe Newton\",\"Brendan Gleeson\",\"Anthony Hopkins\",\"Dakota Fanning\",\"Morgan Freeman\",\"Michelle Monaghan\",\"Simon Pegg\",\"Samantha Morton\",\"Max von Sydow\",\"Max von Sydow\",\"Seth Green\",\"Michael Caine\",\"Gwyneth Paltrow\",\"Kevin Spacey\",\"Michael Caine\",\"Rob Lowe\",\"Gwyneth Paltrow\",\"Kevin Spacey\",\"Rob Lowe\",\"Gwyneth Paltrow\",\"Kevin Spacey\",\"Christian Bale\",\"Liam Neeson\",\"Gary Oldman\",\"Ken Watanabe\",\"Morgan Freeman\",\"Rob Lowe\",\"Kevin Spacey\",\"Rob Lowe\",\"James Marsden\",\"Halle Berry\",\"Rosamund Pike\",\"John Cleese\",\"Judi Dench\",\"Stellan Skarsg\\u00e5rd\",\"Julie Walters\",\"Rosamund Pike\",\"John Cleese\",\"Judi Dench\",\"John Cleese\",\"Judi Dench\",\"Judi Dench\",\"Daniel Radcliffe\",\"Emma Watson\",\"Richard Harris\",\"Julie Walters\",\"Ian McKellen\",\"Liv Tyler\",\"Viggo Mortensen\",\"Sean Astin\",\"Cate Blanchett\",\"John Rhys-Davies\",\"Orlando Bloom\",\"Christopher Lee\",\"Sean Bean\",\"Ian Holm\",\"Andy Serkis\",\"Karl Urban\",\"Liv Tyler\",\"Viggo Mortensen\",\"Sean Astin\",\"Cate Blanchett\",\"John Rhys-Davies\",\"Orlando Bloom\",\"Christopher Lee\",\"Sean Bean\",\"Ian Holm\",\"Andy Serkis\",\"Karl Urban\",\"Nicole Kidman\",\"Sam Elliott\",\"Eva Green\",\"Freddie Highmore\",\"Kathy Bates\",\"Daniel Craig\",\"Alfred Molina\",\"Paul Bettany\",\"Viggo Mortensen\",\"Sean Astin\",\"Cate Blanchett\",\"John Rhys-Davies\",\"Orlando Bloom\",\"Christopher Lee\",\"Sean Bean\",\"Ian Holm\",\"Andy Serkis\",\"Karl Urban\",\"Sean Astin\",\"Cate Blanchett\",\"John Rhys-Davies\",\"Orlando Bloom\",\"Christopher Lee\",\"Sean Bean\",\"Ian Holm\",\"Andy Serkis\",\"Karl Urban\",\"Cate Blanchett\",\"John Rhys-Davies\",\"Orlando Bloom\",\"Christopher Lee\",\"Sean Bean\",\"Ian Holm\",\"Andy Serkis\",\"Karl Urban\",\"John Rhys-Davies\",\"Orlando Bloom\",\"Christopher Lee\",\"Sean Bean\",\"Ian Holm\",\"Andy Serkis\",\"Karl Urban\",\"Jim Broadbent\",\"Shia LaBeouf\",\"Orlando Bloom\",\"Christopher Lee\",\"Sean Bean\",\"Ian Holm\",\"Andy Serkis\",\"Karl Urban\",\"Christopher Lee\",\"Sean Bean\",\"Ian Holm\",\"Andy Serkis\",\"Karl Urban\",\"Johnny Depp\",\"Geoffrey Rush\",\"Keira Knightley\",\"Jonathan Pryce\",\"Jack Davenport\",\"Zoe Saldana\",\"Brad Pitt\",\"Brendan Gleeson\",\"Stellan Skarsg\\u00e5rd\",\"Sean Bean\",\"Ian Holm\",\"Andy Serkis\",\"Karl Urban\",\"Nicole Kidman\",\"Sam Elliott\",\"Eva Green\",\"Kathy Bates\",\"Kristin Scott Thomas\",\"Daniel Craig\",\"Ian Holm\",\"Andy Serkis\",\"Karl Urban\",\"Brad Pitt\",\"Eric Bana\",\"Brendan Gleeson\",\"Andy Serkis\",\"Karl Urban\",\"Dennis Quaid\",\"Jake Gyllenhaal\",\"Emmy Rossum\",\"Karl Urban\",\"Matt Damon\",\"Michelle Monaghan\",\"Simon Pegg\",\"Chris Pine\",\"Zoe Saldana\",\"Eric Bana\",\"John C. Reilly\",\"George Clooney\",\"Matt Damon\",\"Bernie Mac\",\"Casey Affleck\",\"Vincent Cassel\",\"Bruce Willis\",\"Owen Wilson\",\"Christopher Guest\",\"Steve Coogan\",\"Bill Hader\",\"Robin Williams\",\"Mindy Kaling\",\"Ed Helms\",\"Jonah Hill\",\"Christian Bale\",\"Liam Neeson\",\"Gary Oldman\",\"Morgan Freeman\",\"Morgan Freeman\",\"Steve Carell\",\"Anthony Hopkins\",\"Steve Carell\",\"Christian Bale\",\"Liam Neeson\",\"Gary Oldman\",\"Dakota Fanning\",\"Geoffrey Rush\",\"Keira Knightley\",\"Jonathan Pryce\",\"Jack Davenport\",\"Zoe Saldana\",\"Stellan Skarsg\\u00e5rd\",\"Keira Knightley\",\"Jonathan Pryce\",\"Jack Davenport\",\"Zoe Saldana\",\"Stellan Skarsg\\u00e5rd\",\"Jonathan Pryce\",\"Jack Davenport\",\"Zoe Saldana\",\"Jack Davenport\",\"Zoe Saldana\",\"Zoe Saldana\",\"Stellan Skarsg\\u00e5rd\",\"Simon Pegg\",\"Chris Pine\",\"Eric Bana\",\"Sam Worthington\",\"Eric Bana\",\"Brendan Gleeson\",\"Don Cheadle\",\"Bernie Mac\",\"Casey Affleck\",\"Vincent Cassel\",\"Topher Grace\",\"Michelle Monaghan\",\"Brendan Gleeson\",\"Simon Pegg\",\"Chris Pine\",\"Thandiwe Newton\",\"Anthony Hopkins\",\"Daniel Radcliffe\",\"Emma Watson\",\"Gary Oldman\",\"Helena Bonham Carter\",\"Julie Walters\",\"Jake Gyllenhaal\",\"Emmy Rossum\",\"Emmy Rossum\",\"Anthony Hopkins\",\"John Cusack\",\"Chiwetel Ejiofor\",\"Amanda Peet\",\"Woody Harrelson\",\"Julianne Moore\",\"Ray Liotta\",\"Liam Neeson\",\"Gary Oldman\",\"Sam Worthington\",\"Helena Bonham Carter\",\"Gary Oldman\",\"Tilda Swinton\",\"Julianne Moore\",\"Ray Liotta\",\"Daniel Radcliffe\",\"Emma Watson\",\"Helena Bonham Carter\",\"Michael Sheen\",\"James Cromwell\",\"Shia LaBeouf\",\"Rosario Dawson\",\"Shia LaBeouf\",\"Topher Grace\",\"Jim Broadbent\",\"Tyrese Gibson\",\"Josh Duhamel\",\"Megan Fox\",\"John Turturro\",\"Paul Bettany\",\"Ray Liotta\",\"Matt Damon\",\"Bernie Mac\",\"Julia Roberts\",\"Casey Affleck\",\"Vincent Cassel\",\"Bruce Willis\",\"Emma Watson\",\"Richard Harris\",\"Julie Walters\",\"Helena Bonham Carter\",\"Jim Broadbent\",\"Richard Harris\",\"Julie Walters\",\"Helena Bonham Carter\",\"Jim Broadbent\",\"Julie Walters\",\"Russell Crowe\",\"Helena Bonham Carter\",\"Jim Broadbent\",\"Stellan Skarsg\\u00e5rd\",\"Jim Broadbent\",\"Sam Worthington\",\"Dick Van Dyke\",\"Robin Williams\",\"Steve Coogan\",\"Christopher Guest\",\"Mindy Kaling\",\"Ed Helms\",\"Jonah Hill\",\"Dick Van Dyke\",\"Robin Williams\",\"Christopher Guest\",\"Mindy Kaling\",\"Ed Helms\",\"Jonah Hill\",\"George Clooney\",\"Matt Damon\",\"Bernie Mac\",\"Casey Affleck\",\"Vincent Cassel\",\"Bruce Willis\",\"Tilda Swinton\",\"Michelle Monaghan\",\"Bernie Mac\",\"Vincent Cassel\",\"Bruce Willis\",\"Simon Pegg\",\"Ewan McGregor\",\"Bernie Mac\",\"Casey Affleck\",\"Vincent Cassel\",\"Bruce Willis\",\"Julia Roberts\",\"Casey Affleck\",\"Vincent Cassel\",\"Tyrese Gibson\",\"Josh Duhamel\",\"Megan Fox\",\"John Turturro\",\"Julia Roberts\",\"Vincent Cassel\",\"Bruce Willis\",\"Julia Roberts\",\"Bruce Willis\",\"Sam Elliott\",\"Eva Green\",\"Freddie Highmore\",\"Kathy Bates\",\"Kristin Scott Thomas\",\"Daniel Craig\",\"Eva Green\",\"Freddie Highmore\",\"Kathy Bates\",\"Kristin Scott Thomas\",\"Daniel Craig\",\"Freddie Highmore\",\"Kathy Bates\",\"Kristin Scott Thomas\",\"Kathy Bates\",\"Kristin Scott Thomas\",\"Daniel Craig\",\"Kristin Scott Thomas\",\"Daniel Craig\",\"Daniel Craig\",\"Ed Harris\",\"Chris Pine\",\"Josh Duhamel\",\"Megan Fox\",\"John Turturro\",\"Megan Fox\",\"John Turturro\",\"John Turturro\",\"Ed Harris\",\"Robin Williams\",\"Steve Coogan\",\"Steve Coogan\",\"Christopher Guest\",\"Bill Hader\",\"Ed Helms\",\"Jonah Hill\",\"Christopher Guest\",\"Mindy Kaling\",\"Ed Helms\",\"Jonah Hill\",\"Jennifer Hudson\",\"Chiwetel Ejiofor\",\"Danny Glover\",\"Danny Glover\",\"Woody Harrelson\",\"Woody Harrelson\",\"Bill Hader\",\"Mindy Kaling\",\"Ed Helms\",\"Jonah Hill\",\"Bill Hader\",\"Ed Helms\",\"Jonah Hill\",\"Bill Hader\"],\"start\":[\"Tom Hanks\",\"Tom Hanks\",\"Tom Hanks\",\"Tom Hanks\",\"Tom Hanks\",\"Tom Hanks\",\"Tom Hanks\",\"Helen Hunt\",\"Mel Gibson\",\"Joaquin Phoenix\",\"Joaquin Phoenix\",\"Ben Affleck\",\"Ben Affleck\",\"Ben Affleck\",\"Ben Affleck\",\"Ben Affleck\",\"Ben Affleck\",\"Ben Affleck\",\"Ben Affleck\",\"Josh Hartnett\",\"Josh Hartnett\",\"Josh Hartnett\",\"Josh Hartnett\",\"Josh Hartnett\",\"Josh Hartnett\",\"Josh Hartnett\",\"Kate Beckinsale\",\"Kate Beckinsale\",\"Kate Beckinsale\",\"Kate Beckinsale\",\"Kate Beckinsale\",\"Kate Beckinsale\",\"Cuba Gooding Jr.\",\"Cuba Gooding Jr.\",\"Cuba Gooding Jr.\",\"Cuba Gooding Jr.\",\"Cuba Gooding Jr.\",\"Jon Voight\",\"Jon Voight\",\"Jon Voight\",\"Jon Voight\",\"Jon Voight\",\"Jon Voight\",\"Jon Voight\",\"Jon Voight\",\"Jon Voight\",\"Jon Voight\",\"Jon Voight\",\"Jon Voight\",\"Alec Baldwin\",\"Alec Baldwin\",\"Alec Baldwin\",\"Jennifer Garner\",\"Jennifer Garner\",\"Michael Shannon\",\"Keanu Reeves\",\"Jada Pinkett Smith\",\"Jada Pinkett Smith\",\"Jada Pinkett Smith\",\"Laurence Fishburne\",\"Laurence Fishburne\",\"Hugo Weaving\",\"Hugo Weaving\",\"Hugo Weaving\",\"Hugo Weaving\",\"Hugo Weaving\",\"Hugo Weaving\",\"Hugo Weaving\",\"Hugo Weaving\",\"Hugo Weaving\",\"Hugo Weaving\",\"Hugo Weaving\",\"Hugo Weaving\",\"Hugo Weaving\",\"Hugo Weaving\",\"Hugo Weaving\",\"Hugo Weaving\",\"Hugo Weaving\",\"Hugo Weaving\",\"Hugo Weaving\",\"Tom Cruise\",\"Tom Cruise\",\"Tom Cruise\",\"Tom Cruise\",\"Tom Cruise\",\"Tom Cruise\",\"Tom Cruise\",\"Tom Cruise\",\"Tom Cruise\",\"Tom Cruise\",\"Tom Cruise\",\"Tom Cruise\",\"Tom Cruise\",\"Tom Cruise\",\"Tom Cruise\",\"Tom Cruise\",\"Tom Cruise\",\"Colin Farrell\",\"Colin Farrell\",\"Samantha Morton\",\"Mike Myers\",\"Mike Myers\",\"Mike Myers\",\"Mike Myers\",\"Seth Green\",\"Seth Green\",\"Seth Green\",\"Seth Green\",\"Michael Caine\",\"Michael Caine\",\"Michael Caine\",\"Michael Caine\",\"Michael Caine\",\"Michael Caine\",\"Michael Caine\",\"Michael Caine\",\"Gwyneth Paltrow\",\"Gwyneth Paltrow\",\"Kevin Spacey\",\"Kevin Spacey\",\"Pierce Brosnan\",\"Pierce Brosnan\",\"Pierce Brosnan\",\"Pierce Brosnan\",\"Pierce Brosnan\",\"Pierce Brosnan\",\"Halle Berry\",\"Halle Berry\",\"Halle Berry\",\"Rosamund Pike\",\"Rosamund Pike\",\"John Cleese\",\"John Cleese\",\"John Cleese\",\"John Cleese\",\"John Cleese\",\"Elijah Wood\",\"Elijah Wood\",\"Elijah Wood\",\"Elijah Wood\",\"Elijah Wood\",\"Elijah Wood\",\"Elijah Wood\",\"Elijah Wood\",\"Elijah Wood\",\"Elijah Wood\",\"Elijah Wood\",\"Elijah Wood\",\"Ian McKellen\",\"Ian McKellen\",\"Ian McKellen\",\"Ian McKellen\",\"Ian McKellen\",\"Ian McKellen\",\"Ian McKellen\",\"Ian McKellen\",\"Ian McKellen\",\"Ian McKellen\",\"Ian McKellen\",\"Ian McKellen\",\"Ian McKellen\",\"Ian McKellen\",\"Ian McKellen\",\"Ian McKellen\",\"Ian McKellen\",\"Ian McKellen\",\"Ian McKellen\",\"Liv Tyler\",\"Liv Tyler\",\"Liv Tyler\",\"Liv Tyler\",\"Liv Tyler\",\"Liv Tyler\",\"Liv Tyler\",\"Liv Tyler\",\"Liv Tyler\",\"Liv Tyler\",\"Viggo Mortensen\",\"Viggo Mortensen\",\"Viggo Mortensen\",\"Viggo Mortensen\",\"Viggo Mortensen\",\"Viggo Mortensen\",\"Viggo Mortensen\",\"Viggo Mortensen\",\"Viggo Mortensen\",\"Sean Astin\",\"Sean Astin\",\"Sean Astin\",\"Sean Astin\",\"Sean Astin\",\"Sean Astin\",\"Sean Astin\",\"Sean Astin\",\"Cate Blanchett\",\"Cate Blanchett\",\"Cate Blanchett\",\"Cate Blanchett\",\"Cate Blanchett\",\"Cate Blanchett\",\"Cate Blanchett\",\"Cate Blanchett\",\"Cate Blanchett\",\"John Rhys-Davies\",\"John Rhys-Davies\",\"John Rhys-Davies\",\"John Rhys-Davies\",\"John Rhys-Davies\",\"John Rhys-Davies\",\"Orlando Bloom\",\"Orlando Bloom\",\"Orlando Bloom\",\"Orlando Bloom\",\"Orlando Bloom\",\"Orlando Bloom\",\"Orlando Bloom\",\"Orlando Bloom\",\"Orlando Bloom\",\"Orlando Bloom\",\"Orlando Bloom\",\"Orlando Bloom\",\"Orlando Bloom\",\"Orlando Bloom\",\"Christopher Lee\",\"Christopher Lee\",\"Christopher Lee\",\"Christopher Lee\",\"Christopher Lee\",\"Christopher Lee\",\"Christopher Lee\",\"Christopher Lee\",\"Christopher Lee\",\"Christopher Lee\",\"Sean Bean\",\"Sean Bean\",\"Sean Bean\",\"Sean Bean\",\"Sean Bean\",\"Sean Bean\",\"Ian Holm\",\"Ian Holm\",\"Ian Holm\",\"Ian Holm\",\"Ian Holm\",\"Andy Serkis\",\"Karl Urban\",\"Karl Urban\",\"Karl Urban\",\"Karl Urban\",\"Karl Urban\",\"Karl Urban\",\"Catherine Zeta-Jones\",\"Catherine Zeta-Jones\",\"Catherine Zeta-Jones\",\"Catherine Zeta-Jones\",\"Catherine Zeta-Jones\",\"Catherine Zeta-Jones\",\"Catherine Zeta-Jones\",\"Amy Adams\",\"Amy Adams\",\"Amy Adams\",\"Amy Adams\",\"Amy Adams\",\"Amy Adams\",\"Amy Adams\",\"Amy Adams\",\"Ken Watanabe\",\"Ken Watanabe\",\"Ken Watanabe\",\"Ken Watanabe\",\"Jim Carrey\",\"Jim Carrey\",\"Jim Carrey\",\"Morgan Freeman\",\"Morgan Freeman\",\"Morgan Freeman\",\"Morgan Freeman\",\"Morgan Freeman\",\"Johnny Depp\",\"Johnny Depp\",\"Johnny Depp\",\"Johnny Depp\",\"Johnny Depp\",\"Johnny Depp\",\"Geoffrey Rush\",\"Geoffrey Rush\",\"Geoffrey Rush\",\"Geoffrey Rush\",\"Geoffrey Rush\",\"Keira Knightley\",\"Keira Knightley\",\"Keira Knightley\",\"Jonathan Pryce\",\"Jonathan Pryce\",\"Jack Davenport\",\"Jack Davenport\",\"Zoe Saldana\",\"Zoe Saldana\",\"Zoe Saldana\",\"Zoe Saldana\",\"Brad Pitt\",\"Brad Pitt\",\"Brad Pitt\",\"Brad Pitt\",\"Brad Pitt\",\"Brad Pitt\",\"Brad Pitt\",\"Brad Pitt\",\"Eric Bana\",\"Eric Bana\",\"Eric Bana\",\"Brendan Gleeson\",\"Brendan Gleeson\",\"Brendan Gleeson\",\"Brendan Gleeson\",\"Brendan Gleeson\",\"Brendan Gleeson\",\"Brendan Gleeson\",\"Dennis Quaid\",\"Dennis Quaid\",\"Jake Gyllenhaal\",\"Thandiwe Newton\",\"Thandiwe Newton\",\"Thandiwe Newton\",\"Thandiwe Newton\",\"Thandiwe Newton\",\"Anthony Hopkins\",\"Anthony Hopkins\",\"Christian Bale\",\"Christian Bale\",\"Christian Bale\",\"Christian Bale\",\"Liam Neeson\",\"Liam Neeson\",\"Gary Oldman\",\"Gary Oldman\",\"Gary Oldman\",\"Gary Oldman\",\"Gary Oldman\",\"Dakota Fanning\",\"Will Smith\",\"Will Smith\",\"Will Smith\",\"James Cromwell\",\"James Cromwell\",\"Shia LaBeouf\",\"Shia LaBeouf\",\"Shia LaBeouf\",\"Shia LaBeouf\",\"Shia LaBeouf\",\"Alfred Molina\",\"Julianne Moore\",\"Don Cheadle\",\"Don Cheadle\",\"Don Cheadle\",\"Don Cheadle\",\"Don Cheadle\",\"Don Cheadle\",\"Daniel Radcliffe\",\"Daniel Radcliffe\",\"Daniel Radcliffe\",\"Daniel Radcliffe\",\"Daniel Radcliffe\",\"Emma Watson\",\"Emma Watson\",\"Emma Watson\",\"Emma Watson\",\"Richard Harris\",\"Richard Harris\",\"Julie Walters\",\"Julie Walters\",\"Julie Walters\",\"Helena Bonham Carter\",\"Helena Bonham Carter\",\"Ben Stiller\",\"Ben Stiller\",\"Ben Stiller\",\"Ben Stiller\",\"Ben Stiller\",\"Ben Stiller\",\"Ben Stiller\",\"Owen Wilson\",\"Owen Wilson\",\"Owen Wilson\",\"Owen Wilson\",\"Owen Wilson\",\"Owen Wilson\",\"Topher Grace\",\"Topher Grace\",\"Topher Grace\",\"Topher Grace\",\"Topher Grace\",\"Topher Grace\",\"Jim Broadbent\",\"Matt Damon\",\"Matt Damon\",\"Matt Damon\",\"Matt Damon\",\"Michelle Monaghan\",\"Stellan Skarsg\\u00e5rd\",\"George Clooney\",\"George Clooney\",\"George Clooney\",\"George Clooney\",\"Bernie Mac\",\"Bernie Mac\",\"Bernie Mac\",\"Bernie Mac\",\"Bernie Mac\",\"Bernie Mac\",\"Bernie Mac\",\"Casey Affleck\",\"Casey Affleck\",\"Casey Affleck\",\"Vincent Cassel\",\"Vincent Cassel\",\"Nicole Kidman\",\"Nicole Kidman\",\"Nicole Kidman\",\"Nicole Kidman\",\"Nicole Kidman\",\"Nicole Kidman\",\"Sam Elliott\",\"Sam Elliott\",\"Sam Elliott\",\"Sam Elliott\",\"Sam Elliott\",\"Eva Green\",\"Eva Green\",\"Eva Green\",\"Freddie Highmore\",\"Freddie Highmore\",\"Freddie Highmore\",\"Kathy Bates\",\"Kathy Bates\",\"Kristin Scott Thomas\",\"Paul Bettany\",\"Simon Pegg\",\"Tyrese Gibson\",\"Tyrese Gibson\",\"Tyrese Gibson\",\"Josh Duhamel\",\"Josh Duhamel\",\"Megan Fox\",\"Russell Crowe\",\"Dick Van Dyke\",\"Dick Van Dyke\",\"Robin Williams\",\"Robin Williams\",\"Robin Williams\",\"Robin Williams\",\"Robin Williams\",\"Steve Coogan\",\"Steve Coogan\",\"Steve Coogan\",\"Steve Coogan\",\"Sarah Jessica Parker\",\"John Cusack\",\"John Cusack\",\"Chiwetel Ejiofor\",\"Danny Glover\",\"Amanda Peet\",\"Christopher Guest\",\"Christopher Guest\",\"Christopher Guest\",\"Christopher Guest\",\"Mindy Kaling\",\"Mindy Kaling\",\"Mindy Kaling\",\"Ed Helms\"],\"title\":[\"Cast Away\",\"Catch Me If You Can\",\"The Da Vinci Code (film)\",\"The Da Vinci Code (film)\",\"The Da Vinci Code (film)\",\"Angels & Demons (film)\",\"Angels & Demons (film)\",\"What Women Want\",\"Signs (2002 film)\",\"Gladiator (2000 film)\",\"Gladiator (2000 film)\",\"Pearl Harbor (film)\",\"Pearl Harbor (film)\",\"Pearl Harbor (film)\",\"Pearl Harbor (film)\",\"Pearl Harbor (film)\",\"Pearl Harbor (film)\",\"Pearl Harbor (film)\",\"Pearl Harbor (film)\",\"Pearl Harbor (film)\",\"Pearl Harbor (film)\",\"Pearl Harbor (film)\",\"Pearl Harbor (film)\",\"Pearl Harbor (film)\",\"Pearl Harbor (film)\",\"Pearl Harbor (film)\",\"Pearl Harbor (film)\",\"Pearl Harbor (film)\",\"Pearl Harbor (film)\",\"Pearl Harbor (film)\",\"Pearl Harbor (film)\",\"Pearl Harbor (film)\",\"Pearl Harbor (film)\",\"Pearl Harbor (film)\",\"Pearl Harbor (film)\",\"Pearl Harbor (film)\",\"Pearl Harbor (film)\",\"Pearl Harbor (film)\",\"Pearl Harbor (film)\",\"Pearl Harbor (film)\",\"Pearl Harbor (film)\",\"Transformers (film)\",\"Transformers (film)\",\"Transformers (film)\",\"Transformers (film)\",\"Transformers (film)\",\"Transformers (film)\",\"Transformers (film)\",\"National Treasure: Book of Secrets\",\"Pearl Harbor (film)\",\"Pearl Harbor (film)\",\"Pearl Harbor (film)\",\"Pearl Harbor (film)\",\"Pearl Harbor (film)\",\"Pearl Harbor (film)\",\"The Matrix Reloaded\",\"The Matrix Reloaded\",\"The Matrix Reloaded\",\"The Matrix Reloaded\",\"Mission: Impossible III\",\"Mission: Impossible III\",\"The Lord of the Rings: The Fellowship of the Ring\",\"The Lord of the Rings: The Fellowship of the Ring\",\"The Lord of the Rings: The Fellowship of the Ring\",\"The Lord of the Rings: The Fellowship of the Ring\",\"The Lord of the Rings: The Fellowship of the Ring\",\"The Lord of the Rings: The Fellowship of the Ring\",\"The Lord of the Rings: The Fellowship of the Ring\",\"The Lord of the Rings: The Fellowship of the Ring\",\"The Lord of the Rings: The Fellowship of the Ring\",\"The Lord of the Rings: The Fellowship of the Ring\",\"The Lord of the Rings: The Fellowship of the Ring\",\"The Lord of the Rings: The Fellowship of the Ring\",\"The Lord of the Rings: The Two Towers\",\"Transformers (film)\",\"Transformers (film)\",\"Transformers (film)\",\"Transformers (film)\",\"Transformers (film)\",\"Transformers (film)\",\"Minority Report (film)\",\"Minority Report (film)\",\"Minority Report (film)\",\"Austin Powers in Goldmember\",\"Austin Powers in Goldmember\",\"Austin Powers in Goldmember\",\"Austin Powers in Goldmember\",\"Austin Powers in Goldmember\",\"Austin Powers in Goldmember\",\"The Last Samurai\",\"Mission: Impossible 2\",\"Mission: Impossible 2\",\"Mission: Impossible 2\",\"War of the Worlds (2005 film)\",\"War of the Worlds (2005 film)\",\"Mission: Impossible III\",\"Mission: Impossible III\",\"Minority Report (film)\",\"Minority Report (film)\",\"Minority Report (film)\",\"Austin Powers in Goldmember\",\"Austin Powers in Goldmember\",\"Austin Powers in Goldmember\",\"Austin Powers in Goldmember\",\"Austin Powers in Goldmember\",\"Austin Powers in Goldmember\",\"Austin Powers in Goldmember\",\"Austin Powers in Goldmember\",\"Austin Powers in Goldmember\",\"Austin Powers in Goldmember\",\"Austin Powers in Goldmember\",\"Batman Begins\",\"Batman Begins\",\"Batman Begins\",\"Batman Begins\",\"Batman Begins\",\"Austin Powers in Goldmember\",\"Austin Powers in Goldmember\",\"Austin Powers in Goldmember\",\"Superman Returns\",\"Die Another Day\",\"Die Another Day\",\"Die Another Day\",\"Die Another Day\",\"Mamma Mia! (film)\",\"Mamma Mia! (film)\",\"Die Another Day\",\"Die Another Day\",\"Die Another Day\",\"Die Another Day\",\"Die Another Day\",\"Die Another Day\",\"Harry Potter and the Philosopher's Stone (film)\",\"Harry Potter and the Philosopher's Stone (film)\",\"Harry Potter and the Philosopher's Stone (film)\",\"Harry Potter and the Philosopher's Stone (film)\",\"The Lord of the Rings: The Fellowship of the Ring\",\"The Lord of the Rings: The Fellowship of the Ring\",\"The Lord of the Rings: The Fellowship of the Ring\",\"The Lord of the Rings: The Fellowship of the Ring\",\"The Lord of the Rings: The Fellowship of the Ring\",\"The Lord of the Rings: The Fellowship of the Ring\",\"The Lord of the Rings: The Fellowship of the Ring\",\"The Lord of the Rings: The Fellowship of the Ring\",\"The Lord of the Rings: The Fellowship of the Ring\",\"The Lord of the Rings: The Fellowship of the Ring\",\"The Lord of the Rings: The Fellowship of the Ring\",\"The Lord of the Rings: The Two Towers\",\"The Lord of the Rings: The Fellowship of the Ring\",\"The Lord of the Rings: The Fellowship of the Ring\",\"The Lord of the Rings: The Fellowship of the Ring\",\"The Lord of the Rings: The Fellowship of the Ring\",\"The Lord of the Rings: The Fellowship of the Ring\",\"The Lord of the Rings: The Fellowship of the Ring\",\"The Lord of the Rings: The Fellowship of the Ring\",\"The Lord of the Rings: The Fellowship of the Ring\",\"The Lord of the Rings: The Fellowship of the Ring\",\"The Lord of the Rings: The Fellowship of the Ring\",\"The Lord of the Rings: The Two Towers\",\"The Golden Compass (film)\",\"The Golden Compass (film)\",\"The Golden Compass (film)\",\"The Golden Compass (film)\",\"The Golden Compass (film)\",\"The Golden Compass (film)\",\"The Da Vinci Code (film)\",\"The Da Vinci Code (film)\",\"The Lord of the Rings: The Fellowship of the Ring\",\"The Lord of the Rings: The Fellowship of the Ring\",\"The Lord of the Rings: The Fellowship of the Ring\",\"The Lord of the Rings: The Fellowship of the Ring\",\"The Lord of the Rings: The Fellowship of the Ring\",\"The Lord of the Rings: The Fellowship of the Ring\",\"The Lord of the Rings: The Fellowship of the Ring\",\"The Lord of the Rings: The Fellowship of the Ring\",\"The Lord of the Rings: The Fellowship of the Ring\",\"The Lord of the Rings: The Two Towers\",\"The Lord of the Rings: The Fellowship of the Ring\",\"The Lord of the Rings: The Fellowship of the Ring\",\"The Lord of the Rings: The Fellowship of the Ring\",\"The Lord of the Rings: The Fellowship of the Ring\",\"The Lord of the Rings: The Fellowship of the Ring\",\"The Lord of the Rings: The Fellowship of the Ring\",\"The Lord of the Rings: The Fellowship of the Ring\",\"The Lord of the Rings: The Fellowship of the Ring\",\"The Lord of the Rings: The Two Towers\",\"The Lord of the Rings: The Fellowship of the Ring\",\"The Lord of the Rings: The Fellowship of the Ring\",\"The Lord of the Rings: The Fellowship of the Ring\",\"The Lord of the Rings: The Fellowship of the Ring\",\"The Lord of the Rings: The Fellowship of the Ring\",\"The Lord of the Rings: The Fellowship of the Ring\",\"The Lord of the Rings: The Fellowship of the Ring\",\"The Lord of the Rings: The Two Towers\",\"The Lord of the Rings: The Fellowship of the Ring\",\"The Lord of the Rings: The Fellowship of the Ring\",\"The Lord of the Rings: The Fellowship of the Ring\",\"The Lord of the Rings: The Fellowship of the Ring\",\"The Lord of the Rings: The Fellowship of the Ring\",\"The Lord of the Rings: The Fellowship of the Ring\",\"The Lord of the Rings: The Two Towers\",\"Indiana Jones and the Kingdom of the Crystal Skull\",\"Indiana Jones and the Kingdom of the Crystal Skull\",\"The Lord of the Rings: The Fellowship of the Ring\",\"The Lord of the Rings: The Fellowship of the Ring\",\"The Lord of the Rings: The Fellowship of the Ring\",\"The Lord of the Rings: The Fellowship of the Ring\",\"The Lord of the Rings: The Fellowship of the Ring\",\"The Lord of the Rings: The Two Towers\",\"The Lord of the Rings: The Fellowship of the Ring\",\"The Lord of the Rings: The Fellowship of the Ring\",\"The Lord of the Rings: The Fellowship of the Ring\",\"The Lord of the Rings: The Fellowship of the Ring\",\"The Lord of the Rings: The Two Towers\",\"Pirates of the Caribbean: The Curse of the Black Pearl\",\"Pirates of the Caribbean: The Curse of the Black Pearl\",\"Pirates of the Caribbean: The Curse of the Black Pearl\",\"Pirates of the Caribbean: The Curse of the Black Pearl\",\"Pirates of the Caribbean: The Curse of the Black Pearl\",\"Pirates of the Caribbean: The Curse of the Black Pearl\",\"Troy (film)\",\"Troy (film)\",\"Pirates of the Caribbean: Dead Man's Chest\",\"The Lord of the Rings: The Fellowship of the Ring\",\"The Lord of the Rings: The Fellowship of the Ring\",\"The Lord of the Rings: The Fellowship of the Ring\",\"The Lord of the Rings: The Two Towers\",\"The Golden Compass (film)\",\"The Golden Compass (film)\",\"The Golden Compass (film)\",\"The Golden Compass (film)\",\"The Golden Compass (film)\",\"The Golden Compass (film)\",\"The Lord of the Rings: The Fellowship of the Ring\",\"The Lord of the Rings: The Fellowship of the Ring\",\"The Lord of the Rings: The Two Towers\",\"Troy (film)\",\"Troy (film)\",\"Troy (film)\",\"The Lord of the Rings: The Fellowship of the Ring\",\"The Lord of the Rings: The Return of the King\",\"The Day After Tomorrow\",\"The Day After Tomorrow\",\"The Day After Tomorrow\",\"The Lord of the Rings: The Two Towers\",\"The Bourne Supremacy (film)\",\"The Bourne Supremacy (film)\",\"Star Trek (film)\",\"Star Trek (film)\",\"Star Trek (film)\",\"Star Trek (film)\",\"Chicago (2002 film)\",\"Ocean's Twelve\",\"Ocean's Twelve\",\"Ocean's Twelve\",\"Ocean's Twelve\",\"Ocean's Twelve\",\"Ocean's Twelve\",\"Night at the Museum: Battle of the Smithsonian\",\"Night at the Museum: Battle of the Smithsonian\",\"Night at the Museum: Battle of the Smithsonian\",\"Night at the Museum: Battle of the Smithsonian\",\"Night at the Museum: Battle of the Smithsonian\",\"Night at the Museum: Battle of the Smithsonian\",\"Night at the Museum: Battle of the Smithsonian\",\"Night at the Museum: Battle of the Smithsonian\",\"Batman Begins\",\"Batman Begins\",\"Batman Begins\",\"Batman Begins\",\"Bruce Almighty\",\"Bruce Almighty\",\"How the Grinch Stole Christmas (2000 film)\",\"Bruce Almighty\",\"Batman Begins\",\"Batman Begins\",\"Batman Begins\",\"War of the Worlds (2005 film)\",\"Pirates of the Caribbean: The Curse of the Black Pearl\",\"Pirates of the Caribbean: The Curse of the Black Pearl\",\"Pirates of the Caribbean: The Curse of the Black Pearl\",\"Pirates of the Caribbean: The Curse of the Black Pearl\",\"Pirates of the Caribbean: The Curse of the Black Pearl\",\"Pirates of the Caribbean: Dead Man's Chest\",\"Pirates of the Caribbean: The Curse of the Black Pearl\",\"Pirates of the Caribbean: The Curse of the Black Pearl\",\"Pirates of the Caribbean: The Curse of the Black Pearl\",\"Pirates of the Caribbean: The Curse of the Black Pearl\",\"Pirates of the Caribbean: Dead Man's Chest\",\"Pirates of the Caribbean: The Curse of the Black Pearl\",\"Pirates of the Caribbean: The Curse of the Black Pearl\",\"Pirates of the Caribbean: The Curse of the Black Pearl\",\"Pirates of the Caribbean: The Curse of the Black Pearl\",\"Pirates of the Caribbean: The Curse of the Black Pearl\",\"Pirates of the Caribbean: The Curse of the Black Pearl\",\"Pirates of the Caribbean: Dead Man's Chest\",\"Star Trek (film)\",\"Star Trek (film)\",\"Star Trek (film)\",\"Avatar (2009 film)\",\"Troy (film)\",\"Troy (film)\",\"Ocean's Twelve\",\"Ocean's Twelve\",\"Ocean's Twelve\",\"Ocean's Twelve\",\"Ocean's Twelve\",\"Mr. & Mrs. Smith (2005 film)\",\"Troy (film)\",\"Star Trek (film)\",\"Star Trek (film)\",\"Mission: Impossible 2\",\"Mission: Impossible 2\",\"Harry Potter and the Goblet of Fire (film)\",\"Harry Potter and the Goblet of Fire (film)\",\"Harry Potter and the Goblet of Fire (film)\",\"Harry Potter and the Order of the Phoenix (film)\",\"Harry Potter and the Order of the Phoenix (film)\",\"The Day After Tomorrow\",\"The Day After Tomorrow\",\"The Day After Tomorrow\",\"Mission: Impossible 2\",\"2012 (film)\",\"2012 (film)\",\"2012 (film)\",\"2012 (film)\",\"Hannibal (2001 film)\",\"Hannibal (2001 film)\",\"Batman Begins\",\"Batman Begins\",\"Terminator Salvation\",\"Terminator Salvation\",\"Batman Begins\",\"The Chronicles of Narnia: The Lion, the Witch and the Wardrobe\",\"Hannibal (2001 film)\",\"Hannibal (2001 film)\",\"Harry Potter and the Prisoner of Azkaban (film)\",\"Harry Potter and the Prisoner of Azkaban (film)\",\"Harry Potter and the Order of the Phoenix (film)\",\"The Twilight Saga: New Moon\",\"I, Robot (film)\",\"I, Robot (film)\",\"Men in Black II\",\"I, Robot (film)\",\"Spider-Man 3\",\"Indiana Jones and the Kingdom of the Crystal Skull\",\"Transformers (film)\",\"Transformers (film)\",\"Transformers (film)\",\"Transformers (film)\",\"The Da Vinci Code (film)\",\"Hannibal (2001 film)\",\"Ocean's Twelve\",\"Ocean's Twelve\",\"Ocean's Twelve\",\"Ocean's Twelve\",\"Ocean's Twelve\",\"Ocean's Twelve\",\"Harry Potter and the Philosopher's Stone (film)\",\"Harry Potter and the Philosopher's Stone (film)\",\"Harry Potter and the Philosopher's Stone (film)\",\"Harry Potter and the Order of the Phoenix (film)\",\"Harry Potter and the Half-Blood Prince (film)\",\"Harry Potter and the Philosopher's Stone (film)\",\"Harry Potter and the Philosopher's Stone (film)\",\"Harry Potter and the Order of the Phoenix (film)\",\"Harry Potter and the Half-Blood Prince (film)\",\"Harry Potter and the Philosopher's Stone (film)\",\"Gladiator (2000 film)\",\"Harry Potter and the Order of the Phoenix (film)\",\"Harry Potter and the Half-Blood Prince (film)\",\"Mamma Mia! (film)\",\"Harry Potter and the Half-Blood Prince (film)\",\"Terminator Salvation\",\"Night at the Museum\",\"Night at the Museum\",\"Night at the Museum\",\"Night at the Museum: Battle of the Smithsonian\",\"Night at the Museum: Battle of the Smithsonian\",\"Night at the Museum: Battle of the Smithsonian\",\"Night at the Museum: Battle of the Smithsonian\",\"Night at the Museum\",\"Night at the Museum\",\"Night at the Museum: Battle of the Smithsonian\",\"Night at the Museum: Battle of the Smithsonian\",\"Night at the Museum: Battle of the Smithsonian\",\"Night at the Museum: Battle of the Smithsonian\",\"Ocean's Twelve\",\"Ocean's Twelve\",\"Ocean's Twelve\",\"Ocean's Twelve\",\"Ocean's Twelve\",\"Ocean's Twelve\",\"The Chronicles of Narnia: The Lion, the Witch and the Wardrobe\",\"The Bourne Supremacy (film)\",\"Ocean's Twelve\",\"Ocean's Twelve\",\"Ocean's Twelve\",\"Mission: Impossible III\",\"Angels & Demons (film)\",\"Ocean's Twelve\",\"Ocean's Twelve\",\"Ocean's Twelve\",\"Ocean's Twelve\",\"Ocean's Twelve\",\"Ocean's Twelve\",\"Ocean's Twelve\",\"Transformers (film)\",\"Transformers (film)\",\"Transformers (film)\",\"Transformers (film)\",\"Ocean's Twelve\",\"Ocean's Twelve\",\"Ocean's Twelve\",\"Ocean's Twelve\",\"Ocean's Twelve\",\"The Golden Compass (film)\",\"The Golden Compass (film)\",\"The Golden Compass (film)\",\"The Golden Compass (film)\",\"The Golden Compass (film)\",\"The Golden Compass (film)\",\"The Golden Compass (film)\",\"The Golden Compass (film)\",\"The Golden Compass (film)\",\"The Golden Compass (film)\",\"The Golden Compass (film)\",\"The Golden Compass (film)\",\"The Golden Compass (film)\",\"The Golden Compass (film)\",\"The Golden Compass (film)\",\"The Golden Compass (film)\",\"The Golden Compass (film)\",\"The Golden Compass (film)\",\"The Golden Compass (film)\",\"The Golden Compass (film)\",\"A Beautiful Mind (film)\",\"Star Trek (film)\",\"Transformers (film)\",\"Transformers (film)\",\"Transformers (film)\",\"Transformers (film)\",\"Transformers (film)\",\"Transformers (film)\",\"A Beautiful Mind (film)\",\"Night at the Museum\",\"Night at the Museum\",\"Night at the Museum\",\"Night at the Museum: Battle of the Smithsonian\",\"Night at the Museum: Battle of the Smithsonian\",\"Night at the Museum: Battle of the Smithsonian\",\"Night at the Museum: Battle of the Smithsonian\",\"Night at the Museum: Battle of the Smithsonian\",\"Night at the Museum: Battle of the Smithsonian\",\"Night at the Museum: Battle of the Smithsonian\",\"Night at the Museum: Battle of the Smithsonian\",\"Sex and the City (film)\",\"2012 (film)\",\"2012 (film)\",\"2012 (film)\",\"2012 (film)\",\"2012 (film)\",\"Night at the Museum: Battle of the Smithsonian\",\"Night at the Museum: Battle of the Smithsonian\",\"Night at the Museum: Battle of the Smithsonian\",\"Night at the Museum: Battle of the Smithsonian\",\"Night at the Museum: Battle of the Smithsonian\",\"Night at the Museum: Battle of the Smithsonian\",\"Night at the Museum: Battle of the Smithsonian\",\"Night at the Museum: Battle of the Smithsonian\"]},\"selected\":{\"id\":\"132720\"},\"selection_policy\":{\"id\":\"132719\"}},\"id\":\"130568\",\"type\":\"ColumnDataSource\"},{\"attributes\":{\"callback\":null,\"tooltips\":[[\"Actor\",\"@index\"],[\"Degree\",\"@degree\"]]},\"id\":\"130555\",\"type\":\"HoverTool\"},{\"attributes\":{\"axis\":{\"id\":\"130543\"},\"coordinates\":null,\"group\":null,\"ticker\":null},\"id\":\"130546\",\"type\":\"Grid\"},{\"attributes\":{\"coordinates\":null,\"formatter\":{\"id\":\"132710\"},\"group\":null,\"major_label_policy\":{\"id\":\"132711\"},\"ticker\":{\"id\":\"130548\"}},\"id\":\"130547\",\"type\":\"LinearAxis\"},{\"attributes\":{},\"id\":\"132713\",\"type\":\"BasicTickFormatter\"},{\"attributes\":{\"coordinates\":null,\"formatter\":{\"id\":\"132713\"},\"group\":null,\"major_label_policy\":{\"id\":\"132714\"},\"ticker\":{\"id\":\"130544\"}},\"id\":\"130543\",\"type\":\"LinearAxis\"},{\"attributes\":{\"coordinates\":null,\"data_source\":{\"id\":\"130564\"},\"glyph\":{\"id\":\"130581\"},\"group\":null,\"hover_glyph\":null,\"view\":{\"id\":\"130566\"}},\"id\":\"130565\",\"type\":\"GlyphRenderer\"},{\"attributes\":{},\"id\":\"132710\",\"type\":\"BasicTickFormatter\"},{\"attributes\":{\"coordinates\":null,\"group\":null,\"text\":\"00s Hollywood Network\"},\"id\":\"130535\",\"type\":\"Title\"},{\"attributes\":{},\"id\":\"130544\",\"type\":\"BasicTicker\"},{\"attributes\":{\"high\":101,\"low\":21,\"palette\":[\"#000003\",\"#270B52\",\"#63146E\",\"#9E2963\",\"#D24742\",\"#F57C15\",\"#FABF25\",\"#FCFEA4\"]},\"id\":\"130580\",\"type\":\"LinearColorMapper\"},{\"attributes\":{},\"id\":\"130539\",\"type\":\"LinearScale\"}],\"root_ids\":[\"130534\"]},\"title\":\"Bokeh Application\",\"version\":\"2.4.1\"}};\n",
       "  const render_items = [{\"docid\":\"d38babbf-151a-4985-8f58-5bcb026fc284\",\"root_ids\":[\"130534\"],\"roots\":{\"130534\":\"d1463ec7-1916-419f-ab71-d3459771dabb\"}}];\n",
       "  root.Bokeh.embed.embed_items_notebook(docs_json, render_items);\n",
       "\n",
       "  }\n",
       "  if (root.Bokeh !== undefined) {\n",
       "    embed_document(root);\n",
       "  } else {\n",
       "    let attempts = 0;\n",
       "    const timer = setInterval(function(root) {\n",
       "      if (root.Bokeh !== undefined) {\n",
       "        clearInterval(timer);\n",
       "        embed_document(root);\n",
       "      } else {\n",
       "        attempts++;\n",
       "        if (attempts > 100) {\n",
       "          clearInterval(timer);\n",
       "          console.log(\"Bokeh: ERROR: Unable to run BokehJS code because BokehJS library is missing\");\n",
       "        }\n",
       "      }\n",
       "    }, 10, root)\n",
       "  }\n",
       "})(window);"
      ],
      "application/vnd.bokehjs_exec.v0+json": ""
     },
     "metadata": {
      "application/vnd.bokehjs_exec.v0+json": {
       "id": "130534"
      }
     },
     "output_type": "display_data"
    },
    {
     "data": {
      "text/plain": [
       "'C:\\\\Users\\\\biby_\\\\Desktop\\\\Cursos\\\\DataCamp\\\\Movies\\\\00s_with_labels.html'"
      ]
     },
     "execution_count": 398,
     "metadata": {},
     "output_type": "execute_result"
    }
   ],
   "source": [
    "# Attributes from G network to size and color\n",
    "size_by_this_attribute = 'degree'\n",
    "color_by_this_attribute = 'degree'\n",
    "\n",
    "#Color palette\n",
    "color_palette = Inferno8 \n",
    "\n",
    "#Choose a title\n",
    "title = '00s Hollywood Network'\n",
    "\n",
    "#Categories that will appear when hovering over each node\n",
    "HOVER_TOOLTIPS = [\n",
    "       (\"Actor\", \"@index\"),\n",
    "        (\"Degree\", \"@degree\")\n",
    "]\n",
    "\n",
    "#Create plot — set dimensions, toolbar, and title\n",
    "plot = figure(tooltips = HOVER_TOOLTIPS,\n",
    "              tools=\"pan,wheel_zoom,save,reset\", active_scroll='wheel_zoom',\n",
    "            x_range=Range1d(-10.1, 10.1), y_range=Range1d(-10.1, 10.1), title=title)\n",
    "\n",
    "#Create a network graph object\n",
    "# https://networkx.github.io/documentation/networkx-1.9/reference/generated/networkx.drawing.layout.spring_layout.html\\\n",
    "network_graph = from_networkx(G_00s, nx.spring_layout, scale=10, center=(0, 0))\n",
    "\n",
    "#Set node sizes and colors according to node degree (color as spectrum of color palette)\n",
    "minimum_value_color = min(network_graph.node_renderer.data_source.data[color_by_this_attribute])\n",
    "maximum_value_color = max(network_graph.node_renderer.data_source.data[color_by_this_attribute])\n",
    "network_graph.node_renderer.glyph = Circle(size=size_by_this_attribute, fill_color=linear_cmap(color_by_this_attribute, color_palette, minimum_value_color, maximum_value_color))\n",
    "\n",
    "#Set edge opacity and width\n",
    "network_graph.edge_renderer.glyph = MultiLine(line_alpha=0.5, line_width=1)\n",
    "\n",
    "plot.renderers.append(network_graph)\n",
    "\n",
    "#Add labels:\n",
    "x, y = zip(*network_graph.layout_provider.graph_layout.values())\n",
    "node_labels = list(G_00s.nodes())\n",
    "source = ColumnDataSource({'x': x, 'y': y, 'name': [node_labels[i] for i in range(len(x))]})\n",
    "labels = LabelSet(x='x', y='y', text='name', source=source, background_fill_color='white', text_font_size='10px', background_fill_alpha=.5, text_align='center')\n",
    "plot.renderers.append(labels)\n",
    "\n",
    "show(plot)\n",
    "save(plot, filename=\"00s_with_labels.html\")"
   ]
  },
  {
   "cell_type": "code",
   "execution_count": 399,
   "id": "37f4123c",
   "metadata": {
    "scrolled": false
   },
   "outputs": [
    {
     "data": {
      "text/plain": [
       "[('Tom Cruise', 101),\n",
       " ('Hugo Weaving', 96),\n",
       " ('Ian McKellen', 91),\n",
       " ('Orlando Bloom', 79),\n",
       " ('Shia LaBeouf', 76),\n",
       " ('Jon Voight', 75),\n",
       " ('Stellan Skarsgård', 67),\n",
       " ('Michael Caine', 66),\n",
       " ('Ben Stiller', 64),\n",
       " ('Will Smith', 63)]"
      ]
     },
     "execution_count": 399,
     "metadata": {},
     "output_type": "execute_result"
    }
   ],
   "source": [
    "top_degrees_00s = sorted(degrees_00s.items(), key=lambda x:x[1], reverse=True)[0:10]\n",
    "top_degrees_00s"
   ]
  },
  {
   "cell_type": "code",
   "execution_count": 400,
   "id": "253140be",
   "metadata": {},
   "outputs": [],
   "source": [
    "# Create degrees attribute\n",
    "degrees_10s = dict(nx.degree(G_10s))\n",
    "nx.set_node_attributes(G_10s, name='degree', values=degrees_10s)\n",
    "\n",
    "# Remove from graph those with little relevance (or degree <= 20)\n",
    "remove = [node for node,degree in dict(G_10s.degree()).items() if degree <= 20]\n",
    "G_10s.remove_nodes_from(remove)"
   ]
  },
  {
   "cell_type": "code",
   "execution_count": 401,
   "id": "b9e11ad4",
   "metadata": {
    "scrolled": true
   },
   "outputs": [
    {
     "data": {
      "text/html": [
       "\n",
       "\n",
       "\n",
       "\n",
       "\n",
       "\n",
       "  <div class=\"bk-root\" id=\"1d995ffc-6cb0-46bb-9d90-33cfbe7e0ff2\" data-root-id=\"133185\"></div>\n"
      ]
     },
     "metadata": {},
     "output_type": "display_data"
    },
    {
     "data": {
      "application/javascript": [
       "(function(root) {\n",
       "  function embed_document(root) {\n",
       "    \n",
       "  const docs_json = {\"d00b0235-6bc2-467a-9a04-06fb2488c9b9\":{\"defs\":[],\"roots\":{\"references\":[{\"attributes\":{\"below\":[{\"id\":\"133194\"}],\"center\":[{\"id\":\"133197\"},{\"id\":\"133201\"}],\"left\":[{\"id\":\"133198\"}],\"renderers\":[{\"id\":\"133213\"},{\"id\":\"133243\"}],\"title\":{\"id\":\"133186\"},\"toolbar\":{\"id\":\"133207\"},\"x_range\":{\"id\":\"133183\"},\"x_scale\":{\"id\":\"133190\"},\"y_range\":{\"id\":\"133184\"},\"y_scale\":{\"id\":\"133192\"}},\"id\":\"133185\",\"subtype\":\"Figure\",\"type\":\"Plot\"},{\"attributes\":{},\"id\":\"135382\",\"type\":\"NodesOnly\"},{\"attributes\":{\"data\":{\"end\":[\"Irrfan Khan\",\"Zoe Saldana\",\"Vin Diesel\",\"Bradley Cooper\",\"Karen Gillan\",\"Djimon Hounsou\",\"Benicio del Toro\",\"Robert Downey Jr.\",\"Chris Hemsworth\",\"Mark Ruffalo\",\"Benedict Cumberbatch\",\"Don Cheadle\",\"Chadwick Boseman\",\"Paul Bettany\",\"Elizabeth Olsen\",\"Josh Brolin\",\"Tom Hiddleston\",\"Idris Elba\",\"Peter Dinklage\",\"Benedict Wong\",\"Gwyneth Paltrow\",\"Amy Adams\",\"Diane Lane\",\"Laurence Fishburne\",\"Gal Gadot\",\"Ezra Miller\",\"Diane Lane\",\"Laurence Fishburne\",\"Gal Gadot\",\"Ezra Miller\",\"Laurence Fishburne\",\"Gal Gadot\",\"Ezra Miller\",\"Gal Gadot\",\"Paul Rudd\",\"Evangeline Lilly\",\"Tyrese Gibson\",\"Dwayne Johnson\",\"Ezra Miller\",\"Jessica Chastain\",\"Michael Caine\",\"Matt Damon\",\"Johnny Depp\",\"Helena Bonham Carter\",\"Christopher Lee\",\"Gary Oldman\",\"Tom Hardy\",\"Michael Caine\",\"Matt Damon\",\"Benedict Wong\",\"Matt Damon\",\"Leonardo DiCaprio\",\"Elliot Page\",\"Tom Hardy\",\"Benedict Wong\",\"Josh Brolin\",\"Robert Downey Jr.\",\"Chris Hemsworth\",\"Mark Ruffalo\",\"Benedict Cumberbatch\",\"Chadwick Boseman\",\"Paul Bettany\",\"Zoe Saldana\",\"Tom Hiddleston\",\"Peter Dinklage\",\"Benedict Wong\",\"Karen Gillan\",\"Vin Diesel\",\"Bradley Cooper\",\"Gwyneth Paltrow\",\"Jeremy Renner\",\"Paul Rudd\",\"Brie Larson\",\"Jon Favreau\",\"Eddie Redmayne\",\"Ezra Miller\",\"Stellan Skarsg\\u00e5rd\",\"James McAvoy\",\"Michael Fassbender\",\"Jennifer Lawrence\",\"Nicholas Hoult\",\"Benicio del Toro\",\"Keri Russell\",\"Chadwick Boseman\",\"Idris Elba\",\"Scarlett Johansson\",\"Jon Favreau\",\"Benicio del Toro\",\"Keri Russell\",\"Gary Oldman\",\"Keri Russell\",\"Chadwick Boseman\",\"Benicio del Toro\",\"Chris Hemsworth\",\"Scarlett Johansson\",\"Jeremy Renner\",\"Tom Hiddleston\",\"Cobie Smulders\",\"Stellan Skarsg\\u00e5rd\",\"Don Cheadle\",\"Jon Favreau\",\"Aaron Taylor-Johnson\",\"Elizabeth Olsen\",\"Paul Bettany\",\"Anthony Mackie\",\"Idris Elba\",\"Chadwick Boseman\",\"Paul Rudd\",\"Benedict Cumberbatch\",\"Zoe Saldana\",\"Peter Dinklage\",\"Benedict Wong\",\"Karen Gillan\",\"Vin Diesel\",\"Bradley Cooper\",\"Benicio del Toro\",\"Brie Larson\",\"Mark Ruffalo\",\"Scarlett Johansson\",\"Jeremy Renner\",\"Cobie Smulders\",\"Samuel L. Jackson\",\"Don Cheadle\",\"Aaron Taylor-Johnson\",\"Elizabeth Olsen\",\"Paul Bettany\",\"Anthony Mackie\",\"Cate Blanchett\",\"Benedict Cumberbatch\",\"Chadwick Boseman\",\"Peter Dinklage\",\"Benedict Wong\",\"Karen Gillan\",\"Vin Diesel\",\"Bradley Cooper\",\"Gwyneth Paltrow\",\"Benicio del Toro\",\"Paul Rudd\",\"Brie Larson\",\"Jon Favreau\",\"Mark Ruffalo\",\"Jeremy Renner\",\"Tom Hiddleston\",\"Cobie Smulders\",\"Stellan Skarsg\\u00e5rd\",\"Gwyneth Paltrow\",\"Don Cheadle\",\"Anthony Mackie\",\"Aaron Taylor-Johnson\",\"Elizabeth Olsen\",\"Paul Bettany\",\"Idris Elba\",\"Chadwick Boseman\",\"Paul Rudd\",\"Zoe Saldana\",\"Peter Dinklage\",\"Benedict Wong\",\"Karen Gillan\",\"Vin Diesel\",\"Benicio del Toro\",\"Mark Ruffalo\",\"Tom Hiddleston\",\"Cobie Smulders\",\"Stellan Skarsg\\u00e5rd\",\"Don Cheadle\",\"Aaron Taylor-Johnson\",\"Elizabeth Olsen\",\"Paul Bettany\",\"Chadwick Boseman\",\"Paul Rudd\",\"Brie Larson\",\"Karen Gillan\",\"Benedict Wong\",\"Jon Favreau\",\"Gwyneth Paltrow\",\"Mark Ruffalo\",\"Cobie Smulders\",\"Samuel L. Jackson\",\"Cate Blanchett\",\"John Goodman\",\"Brie Larson\",\"Don Cheadle\",\"Chadwick Boseman\",\"Paul Bettany\",\"Anthony Mackie\",\"Zoe Saldana\",\"Peter Dinklage\",\"Benedict Wong\",\"Karen Gillan\",\"Vin Diesel\",\"Bradley Cooper\",\"Gwyneth Paltrow\",\"Benicio del Toro\",\"Mark Ruffalo\",\"Stellan Skarsg\\u00e5rd\",\"Samuel L. Jackson\",\"Anthony Mackie\",\"Don Cheadle\",\"Aaron Taylor-Johnson\",\"Elizabeth Olsen\",\"Paul Bettany\",\"Idris Elba\",\"Jon Favreau\",\"Mark Ruffalo\",\"Aaron Taylor-Johnson\",\"Elizabeth Olsen\",\"Anthony Mackie\",\"Cate Blanchett\",\"Samuel L. Jackson\",\"Don Cheadle\",\"Aaron Taylor-Johnson\",\"Elizabeth Olsen\",\"Paul Bettany\",\"Anthony Mackie\",\"Idris Elba\",\"Cate Blanchett\",\"Benedict Cumberbatch\",\"Chadwick Boseman\",\"Peter Dinklage\",\"Benedict Wong\",\"Karen Gillan\",\"Vin Diesel\",\"Bradley Cooper\",\"Benicio del Toro\",\"Paul Rudd\",\"Jon Favreau\",\"Aaron Taylor-Johnson\",\"Elizabeth Olsen\",\"Paul Bettany\",\"Idris Elba\",\"John Goodman\",\"Jon Favreau\",\"Gwyneth Paltrow\",\"Jon Favreau\",\"Aaron Taylor-Johnson\",\"Elizabeth Olsen\",\"Paul Bettany\",\"Anthony Mackie\",\"Idris Elba\",\"Chadwick Boseman\",\"Paul Rudd\",\"Benedict Cumberbatch\",\"Zoe Saldana\",\"Peter Dinklage\",\"Benedict Wong\",\"Karen Gillan\",\"Vin Diesel\",\"Bradley Cooper\",\"Brie Larson\",\"Jon Favreau\",\"Benedict Cumberbatch\",\"Chadwick Boseman\",\"Elizabeth Olsen\",\"Anthony Mackie\",\"Zoe Saldana\",\"Idris Elba\",\"Peter Dinklage\",\"Vin Diesel\",\"Bradley Cooper\",\"Benicio del Toro\",\"Paul Rudd\",\"Brie Larson\",\"Idris Elba\",\"Brie Larson\",\"Ralph Fiennes\",\"Nicholas Hoult\",\"Benedict Cumberbatch\",\"Nicholas Hoult\",\"Elliot Page\",\"Peter Dinklage\",\"Ian McKellen\",\"Ken Watanabe\",\"Elliot Page\",\"Tom Hardy\",\"Elliot Page\",\"Tom Hardy\",\"Mark Wahlberg\",\"Stanley Tucci\",\"John Goodman\",\"Aaron Taylor-Johnson\",\"Elizabeth Olsen\",\"Josh Duhamel\",\"Anthony Hopkins\",\"John Turturro\",\"Steve Buscemi\",\"Tom Hardy\",\"James McAvoy\",\"Michael Fassbender\",\"Jennifer Lawrence\",\"Peter Dinklage\",\"Gary Oldman\",\"Vin Diesel\",\"Karen Gillan\",\"Djimon Hounsou\",\"Benicio del Toro\",\"Benedict Cumberbatch\",\"Chadwick Boseman\",\"Paul Bettany\",\"Elizabeth Olsen\",\"Anthony Mackie\",\"Idris Elba\",\"Peter Dinklage\",\"Brie Larson\",\"John Malkovich\",\"Frances McDormand\",\"Josh Duhamel\",\"Tyrese Gibson\",\"Hugo Weaving\",\"Josh Duhamel\",\"Tyrese Gibson\",\"Hugo Weaving\",\"Mark Wahlberg\",\"Stanley Tucci\",\"Anthony Hopkins\",\"John Goodman\",\"Steve Buscemi\",\"Mark Wahlberg\",\"Vin Diesel\",\"Dwayne Johnson\",\"Djimon Hounsou\",\"Dwayne Johnson\",\"Karen Gillan\",\"Djimon Hounsou\",\"Benicio del Toro\",\"Jason Statham\",\"Benedict Cumberbatch\",\"Chadwick Boseman\",\"Paul Bettany\",\"Elizabeth Olsen\",\"Anthony Mackie\",\"Idris Elba\",\"Djimon Hounsou\",\"Jason Statham\",\"Karen Gillan\",\"Idris Elba\",\"Keri Russell\",\"Liam Hemsworth\",\"Woody Harrelson\",\"Elizabeth Banks\",\"Stanley Tucci\",\"Donald Sutherland\",\"Peter Dinklage\",\"Ian McKellen\",\"Woody Harrelson\",\"Elizabeth Banks\",\"Stanley Tucci\",\"Donald Sutherland\",\"Elizabeth Banks\",\"Stanley Tucci\",\"Donald Sutherland\",\"Stanley Tucci\",\"Donald Sutherland\",\"Donald Sutherland\",\"John Goodman\",\"Anthony Hopkins\",\"Giovanni Ribisi\",\"Anthony Hopkins\",\"Steve Buscemi\",\"Mila Kunis\",\"Cate Blanchett\",\"John Goodman\",\"Steve Buscemi\",\"Aaron Taylor-Johnson\",\"Elizabeth Olsen\",\"Paul Bettany\",\"Anthony Mackie\",\"Cate Blanchett\",\"Benedict Cumberbatch\",\"Chadwick Boseman\",\"Peter Dinklage\",\"Benedict Wong\",\"Karen Gillan\",\"Benicio del Toro\",\"Jason Statham\",\"Elizabeth Olsen\",\"Paul Bettany\",\"Anthony Mackie\",\"Paul Bettany\",\"Anthony Mackie\",\"Chadwick Boseman\",\"Paul Rudd\",\"Benedict Cumberbatch\",\"Zoe Saldana\",\"Peter Dinklage\",\"Benedict Wong\",\"Karen Gillan\",\"Benicio del Toro\",\"Paul Rudd\",\"Paul Bettany\",\"Chadwick Boseman\",\"Zoe Saldana\",\"Peter Dinklage\",\"Benedict Wong\",\"Karen Gillan\",\"Benicio del Toro\",\"Karen Gillan\",\"Djimon Hounsou\",\"Benicio del Toro\",\"Chadwick Boseman\",\"Paul Bettany\",\"Benedict Wong\",\"Benedict Cumberbatch\",\"Chadwick Boseman\",\"Paul Bettany\",\"Peter Dinklage\",\"Paul Rudd\",\"Brie Larson\",\"Benicio del Toro\",\"Jason Statham\",\"Brie Larson\",\"Benedict Cumberbatch\",\"Chadwick Boseman\",\"Paul Bettany\",\"Peter Dinklage\",\"Evangeline Lilly\",\"Chadwick Boseman\",\"Paul Bettany\",\"Brie Larson\",\"Benedict Wong\",\"Chadwick Boseman\",\"Peter Dinklage\",\"Benedict Wong\",\"Ian McKellen\",\"Peter Dinklage\",\"Ian McKellen\",\"Ian McKellen\",\"Benedict Cumberbatch\",\"Chadwick Boseman\",\"Benedict Wong\",\"Benedict Wong\",\"Chadwick Boseman\",\"Chadwick Boseman\",\"Brie Larson\",\"Eddie Redmayne\"],\"start\":[\"Chris Pratt\",\"Chris Pratt\",\"Chris Pratt\",\"Chris Pratt\",\"Chris Pratt\",\"Chris Pratt\",\"Chris Pratt\",\"Chris Pratt\",\"Chris Pratt\",\"Chris Pratt\",\"Chris Pratt\",\"Chris Pratt\",\"Chris Pratt\",\"Chris Pratt\",\"Chris Pratt\",\"Chris Pratt\",\"Chris Pratt\",\"Chris Pratt\",\"Chris Pratt\",\"Chris Pratt\",\"Chris Pratt\",\"Henry Cavill\",\"Henry Cavill\",\"Henry Cavill\",\"Henry Cavill\",\"Henry Cavill\",\"Amy Adams\",\"Amy Adams\",\"Amy Adams\",\"Amy Adams\",\"Diane Lane\",\"Diane Lane\",\"Diane Lane\",\"Laurence Fishburne\",\"Laurence Fishburne\",\"Laurence Fishburne\",\"Gal Gadot\",\"Gal Gadot\",\"Gal Gadot\",\"Anne Hathaway\",\"Anne Hathaway\",\"Anne Hathaway\",\"Anne Hathaway\",\"Anne Hathaway\",\"Anne Hathaway\",\"Anne Hathaway\",\"Anne Hathaway\",\"Jessica Chastain\",\"Jessica Chastain\",\"Jessica Chastain\",\"Michael Caine\",\"Michael Caine\",\"Michael Caine\",\"Michael Caine\",\"Matt Damon\",\"Will Smith\",\"Josh Brolin\",\"Josh Brolin\",\"Josh Brolin\",\"Josh Brolin\",\"Josh Brolin\",\"Josh Brolin\",\"Josh Brolin\",\"Josh Brolin\",\"Josh Brolin\",\"Josh Brolin\",\"Josh Brolin\",\"Josh Brolin\",\"Josh Brolin\",\"Josh Brolin\",\"Josh Brolin\",\"Josh Brolin\",\"Josh Brolin\",\"Josh Brolin\",\"Johnny Depp\",\"Johnny Depp\",\"Helena Bonham Carter\",\"Oscar Isaac\",\"Oscar Isaac\",\"Oscar Isaac\",\"Oscar Isaac\",\"Oscar Isaac\",\"Oscar Isaac\",\"Lupita Nyong'o\",\"Lupita Nyong'o\",\"Lupita Nyong'o\",\"Lupita Nyong'o\",\"Lupita Nyong'o\",\"Lupita Nyong'o\",\"Andy Serkis\",\"Andy Serkis\",\"Andy Serkis\",\"Andy Serkis\",\"Robert Downey Jr.\",\"Robert Downey Jr.\",\"Robert Downey Jr.\",\"Robert Downey Jr.\",\"Robert Downey Jr.\",\"Robert Downey Jr.\",\"Robert Downey Jr.\",\"Robert Downey Jr.\",\"Robert Downey Jr.\",\"Robert Downey Jr.\",\"Robert Downey Jr.\",\"Robert Downey Jr.\",\"Robert Downey Jr.\",\"Robert Downey Jr.\",\"Robert Downey Jr.\",\"Robert Downey Jr.\",\"Robert Downey Jr.\",\"Robert Downey Jr.\",\"Robert Downey Jr.\",\"Robert Downey Jr.\",\"Robert Downey Jr.\",\"Robert Downey Jr.\",\"Robert Downey Jr.\",\"Robert Downey Jr.\",\"Chris Hemsworth\",\"Chris Hemsworth\",\"Chris Hemsworth\",\"Chris Hemsworth\",\"Chris Hemsworth\",\"Chris Hemsworth\",\"Chris Hemsworth\",\"Chris Hemsworth\",\"Chris Hemsworth\",\"Chris Hemsworth\",\"Chris Hemsworth\",\"Chris Hemsworth\",\"Chris Hemsworth\",\"Chris Hemsworth\",\"Chris Hemsworth\",\"Chris Hemsworth\",\"Chris Hemsworth\",\"Chris Hemsworth\",\"Chris Hemsworth\",\"Chris Hemsworth\",\"Chris Hemsworth\",\"Chris Hemsworth\",\"Chris Hemsworth\",\"Scarlett Johansson\",\"Scarlett Johansson\",\"Scarlett Johansson\",\"Scarlett Johansson\",\"Scarlett Johansson\",\"Scarlett Johansson\",\"Scarlett Johansson\",\"Scarlett Johansson\",\"Scarlett Johansson\",\"Scarlett Johansson\",\"Scarlett Johansson\",\"Scarlett Johansson\",\"Scarlett Johansson\",\"Scarlett Johansson\",\"Scarlett Johansson\",\"Scarlett Johansson\",\"Scarlett Johansson\",\"Scarlett Johansson\",\"Scarlett Johansson\",\"Scarlett Johansson\",\"Jeremy Renner\",\"Jeremy Renner\",\"Jeremy Renner\",\"Jeremy Renner\",\"Jeremy Renner\",\"Jeremy Renner\",\"Jeremy Renner\",\"Jeremy Renner\",\"Jeremy Renner\",\"Jeremy Renner\",\"Jeremy Renner\",\"Jeremy Renner\",\"Jeremy Renner\",\"Jeremy Renner\",\"Jeremy Renner\",\"Tom Hiddleston\",\"Tom Hiddleston\",\"Tom Hiddleston\",\"Tom Hiddleston\",\"Tom Hiddleston\",\"Tom Hiddleston\",\"Tom Hiddleston\",\"Tom Hiddleston\",\"Tom Hiddleston\",\"Tom Hiddleston\",\"Tom Hiddleston\",\"Tom Hiddleston\",\"Tom Hiddleston\",\"Tom Hiddleston\",\"Tom Hiddleston\",\"Tom Hiddleston\",\"Tom Hiddleston\",\"Tom Hiddleston\",\"Cobie Smulders\",\"Cobie Smulders\",\"Cobie Smulders\",\"Cobie Smulders\",\"Cobie Smulders\",\"Cobie Smulders\",\"Cobie Smulders\",\"Cobie Smulders\",\"Cobie Smulders\",\"Cobie Smulders\",\"Stellan Skarsg\\u00e5rd\",\"Stellan Skarsg\\u00e5rd\",\"Stellan Skarsg\\u00e5rd\",\"Stellan Skarsg\\u00e5rd\",\"Stellan Skarsg\\u00e5rd\",\"Mark Ruffalo\",\"Mark Ruffalo\",\"Mark Ruffalo\",\"Mark Ruffalo\",\"Mark Ruffalo\",\"Mark Ruffalo\",\"Mark Ruffalo\",\"Mark Ruffalo\",\"Mark Ruffalo\",\"Mark Ruffalo\",\"Mark Ruffalo\",\"Mark Ruffalo\",\"Mark Ruffalo\",\"Mark Ruffalo\",\"Mark Ruffalo\",\"Mark Ruffalo\",\"Mark Ruffalo\",\"Mark Ruffalo\",\"Samuel L. Jackson\",\"Samuel L. Jackson\",\"Samuel L. Jackson\",\"Samuel L. Jackson\",\"Samuel L. Jackson\",\"Samuel L. Jackson\",\"Don Cheadle\",\"Don Cheadle\",\"Don Cheadle\",\"Don Cheadle\",\"Don Cheadle\",\"Don Cheadle\",\"Don Cheadle\",\"Don Cheadle\",\"Don Cheadle\",\"Don Cheadle\",\"Don Cheadle\",\"Don Cheadle\",\"Don Cheadle\",\"Don Cheadle\",\"Don Cheadle\",\"Don Cheadle\",\"Don Cheadle\",\"Gwyneth Paltrow\",\"Gwyneth Paltrow\",\"Gwyneth Paltrow\",\"Gwyneth Paltrow\",\"Gwyneth Paltrow\",\"Gwyneth Paltrow\",\"Gwyneth Paltrow\",\"Gwyneth Paltrow\",\"Gwyneth Paltrow\",\"Gwyneth Paltrow\",\"Gwyneth Paltrow\",\"Gwyneth Paltrow\",\"Gwyneth Paltrow\",\"Jon Favreau\",\"Jon Favreau\",\"Mads Mikkelsen\",\"Mads Mikkelsen\",\"Mads Mikkelsen\",\"Ralph Fiennes\",\"Nicholas Hoult\",\"Nicholas Hoult\",\"Nicholas Hoult\",\"Leonardo DiCaprio\",\"Leonardo DiCaprio\",\"Leonardo DiCaprio\",\"Ken Watanabe\",\"Ken Watanabe\",\"Ken Watanabe\",\"Ken Watanabe\",\"Ken Watanabe\",\"Ken Watanabe\",\"Ken Watanabe\",\"Ken Watanabe\",\"Ken Watanabe\",\"Ken Watanabe\",\"Ken Watanabe\",\"Elliot Page\",\"Elliot Page\",\"Elliot Page\",\"Elliot Page\",\"Elliot Page\",\"Tom Hardy\",\"Bradley Cooper\",\"Bradley Cooper\",\"Bradley Cooper\",\"Bradley Cooper\",\"Bradley Cooper\",\"Bradley Cooper\",\"Bradley Cooper\",\"Bradley Cooper\",\"Bradley Cooper\",\"Bradley Cooper\",\"Bradley Cooper\",\"Bradley Cooper\",\"Shia LaBeouf\",\"Shia LaBeouf\",\"John Malkovich\",\"John Malkovich\",\"John Malkovich\",\"Frances McDormand\",\"Frances McDormand\",\"Frances McDormand\",\"Josh Duhamel\",\"Josh Duhamel\",\"Josh Duhamel\",\"Josh Duhamel\",\"Josh Duhamel\",\"John Turturro\",\"Tyrese Gibson\",\"Tyrese Gibson\",\"Tyrese Gibson\",\"Vin Diesel\",\"Vin Diesel\",\"Vin Diesel\",\"Vin Diesel\",\"Vin Diesel\",\"Vin Diesel\",\"Vin Diesel\",\"Vin Diesel\",\"Vin Diesel\",\"Vin Diesel\",\"Vin Diesel\",\"Dwayne Johnson\",\"Dwayne Johnson\",\"Dwayne Johnson\",\"Dwayne Johnson\",\"Gary Oldman\",\"Jennifer Lawrence\",\"Jennifer Lawrence\",\"Jennifer Lawrence\",\"Jennifer Lawrence\",\"Jennifer Lawrence\",\"Jennifer Lawrence\",\"Jennifer Lawrence\",\"Liam Hemsworth\",\"Liam Hemsworth\",\"Liam Hemsworth\",\"Liam Hemsworth\",\"Woody Harrelson\",\"Woody Harrelson\",\"Woody Harrelson\",\"Elizabeth Banks\",\"Elizabeth Banks\",\"Stanley Tucci\",\"Stanley Tucci\",\"Stanley Tucci\",\"Mark Wahlberg\",\"Mark Wahlberg\",\"Mark Wahlberg\",\"Giovanni Ribisi\",\"Anthony Hopkins\",\"Anthony Hopkins\",\"Anthony Hopkins\",\"Idris Elba\",\"Idris Elba\",\"Idris Elba\",\"Idris Elba\",\"Idris Elba\",\"Idris Elba\",\"Idris Elba\",\"Idris Elba\",\"Idris Elba\",\"Idris Elba\",\"Idris Elba\",\"Idris Elba\",\"Aaron Taylor-Johnson\",\"Aaron Taylor-Johnson\",\"Aaron Taylor-Johnson\",\"Elizabeth Olsen\",\"Elizabeth Olsen\",\"Elizabeth Olsen\",\"Elizabeth Olsen\",\"Elizabeth Olsen\",\"Elizabeth Olsen\",\"Elizabeth Olsen\",\"Elizabeth Olsen\",\"Elizabeth Olsen\",\"Elizabeth Olsen\",\"Anthony Mackie\",\"Anthony Mackie\",\"Anthony Mackie\",\"Anthony Mackie\",\"Anthony Mackie\",\"Anthony Mackie\",\"Anthony Mackie\",\"Anthony Mackie\",\"Zoe Saldana\",\"Zoe Saldana\",\"Zoe Saldana\",\"Zoe Saldana\",\"Zoe Saldana\",\"Zoe Saldana\",\"Karen Gillan\",\"Karen Gillan\",\"Karen Gillan\",\"Karen Gillan\",\"Karen Gillan\",\"Karen Gillan\",\"Djimon Hounsou\",\"Djimon Hounsou\",\"Djimon Hounsou\",\"Benicio del Toro\",\"Benicio del Toro\",\"Benicio del Toro\",\"Benicio del Toro\",\"Paul Rudd\",\"Paul Rudd\",\"Paul Rudd\",\"Paul Rudd\",\"Paul Rudd\",\"Paul Bettany\",\"Paul Bettany\",\"Paul Bettany\",\"James McAvoy\",\"Michael Fassbender\",\"Michael Fassbender\",\"Peter Dinklage\",\"Peter Dinklage\",\"Peter Dinklage\",\"Peter Dinklage\",\"Benedict Cumberbatch\",\"Benedict Cumberbatch\",\"Benedict Wong\",\"Benedict Wong\",\"Ezra Miller\"],\"title\":[\"Jurassic World\",\"Guardians of the Galaxy (film)\",\"Guardians of the Galaxy (film)\",\"Guardians of the Galaxy (film)\",\"Guardians of the Galaxy (film)\",\"Guardians of the Galaxy (film)\",\"Guardians of the Galaxy (film)\",\"Avengers: Infinity War\",\"Avengers: Infinity War\",\"Avengers: Infinity War\",\"Avengers: Infinity War\",\"Avengers: Infinity War\",\"Avengers: Infinity War\",\"Avengers: Infinity War\",\"Avengers: Infinity War\",\"Avengers: Infinity War\",\"Avengers: Infinity War\",\"Avengers: Infinity War\",\"Avengers: Infinity War\",\"Avengers: Infinity War\",\"Avengers: Infinity War\",\"Batman v Superman: Dawn of Justice\",\"Batman v Superman: Dawn of Justice\",\"Batman v Superman: Dawn of Justice\",\"Batman v Superman: Dawn of Justice\",\"Justice League (film)\",\"Batman v Superman: Dawn of Justice\",\"Batman v Superman: Dawn of Justice\",\"Batman v Superman: Dawn of Justice\",\"Justice League (film)\",\"Batman v Superman: Dawn of Justice\",\"Batman v Superman: Dawn of Justice\",\"Justice League (film)\",\"Batman v Superman: Dawn of Justice\",\"Ant-Man and the Wasp\",\"Ant-Man and the Wasp\",\"Fast Five\",\"Fast Five\",\"Justice League (film)\",\"Interstellar (film)\",\"Interstellar (film)\",\"Interstellar (film)\",\"Alice in Wonderland (2010 film)\",\"Alice in Wonderland (2010 film)\",\"Alice in Wonderland (2010 film)\",\"The Dark Knight Rises\",\"The Dark Knight Rises\",\"Interstellar (film)\",\"Interstellar (film)\",\"The Martian (film)\",\"Interstellar (film)\",\"Inception\",\"Inception\",\"Inception\",\"The Martian (film)\",\"Men in Black 3\",\"Avengers: Infinity War\",\"Avengers: Infinity War\",\"Avengers: Infinity War\",\"Avengers: Infinity War\",\"Avengers: Infinity War\",\"Avengers: Infinity War\",\"Avengers: Infinity War\",\"Avengers: Infinity War\",\"Avengers: Infinity War\",\"Avengers: Infinity War\",\"Avengers: Infinity War\",\"Avengers: Infinity War\",\"Avengers: Infinity War\",\"Avengers: Infinity War\",\"Avengers: Endgame\",\"Avengers: Endgame\",\"Avengers: Endgame\",\"Avengers: Endgame\",\"Fantastic Beasts: The Crimes of Grindelwald\",\"Fantastic Beasts: The Crimes of Grindelwald\",\"Cinderella (2015 Disney film)\",\"X-Men: Apocalypse\",\"X-Men: Apocalypse\",\"X-Men: Apocalypse\",\"X-Men: Apocalypse\",\"Star Wars: The Last Jedi\",\"Star Wars: The Rise of Skywalker\",\"Black Panther (film)\",\"The Jungle Book (2016 film)\",\"The Jungle Book (2016 film)\",\"The Jungle Book (2016 film)\",\"Star Wars: The Last Jedi\",\"Star Wars: The Rise of Skywalker\",\"Dawn of the Planet of the Apes\",\"Dawn of the Planet of the Apes\",\"Black Panther (film)\",\"Star Wars: The Last Jedi\",\"The Avengers (2012 film)\",\"The Avengers (2012 film)\",\"The Avengers (2012 film)\",\"The Avengers (2012 film)\",\"The Avengers (2012 film)\",\"The Avengers (2012 film)\",\"Iron Man 2\",\"Iron Man 3\",\"Avengers: Age of Ultron\",\"Avengers: Age of Ultron\",\"Avengers: Age of Ultron\",\"Avengers: Age of Ultron\",\"Avengers: Age of Ultron\",\"Captain America: Civil War\",\"Captain America: Civil War\",\"Avengers: Infinity War\",\"Avengers: Infinity War\",\"Avengers: Infinity War\",\"Avengers: Infinity War\",\"Avengers: Infinity War\",\"Avengers: Infinity War\",\"Avengers: Infinity War\",\"Avengers: Infinity War\",\"Avengers: Endgame\",\"The Avengers (2012 film)\",\"The Avengers (2012 film)\",\"The Avengers (2012 film)\",\"The Avengers (2012 film)\",\"The Avengers (2012 film)\",\"Avengers: Age of Ultron\",\"Avengers: Age of Ultron\",\"Avengers: Age of Ultron\",\"Avengers: Age of Ultron\",\"Avengers: Age of Ultron\",\"Thor: Ragnarok\",\"Avengers: Infinity War\",\"Avengers: Infinity War\",\"Avengers: Infinity War\",\"Avengers: Infinity War\",\"Avengers: Infinity War\",\"Avengers: Infinity War\",\"Avengers: Infinity War\",\"Avengers: Infinity War\",\"Avengers: Infinity War\",\"Avengers: Endgame\",\"Avengers: Endgame\",\"Avengers: Endgame\",\"The Avengers (2012 film)\",\"The Avengers (2012 film)\",\"The Avengers (2012 film)\",\"The Avengers (2012 film)\",\"The Avengers (2012 film)\",\"Iron Man 2\",\"Iron Man 2\",\"Captain America: The Winter Soldier\",\"Avengers: Age of Ultron\",\"Avengers: Age of Ultron\",\"Avengers: Age of Ultron\",\"Avengers: Age of Ultron\",\"Captain America: Civil War\",\"Captain America: Civil War\",\"Avengers: Infinity War\",\"Avengers: Infinity War\",\"Avengers: Infinity War\",\"Avengers: Infinity War\",\"Avengers: Infinity War\",\"Avengers: Infinity War\",\"The Avengers (2012 film)\",\"The Avengers (2012 film)\",\"The Avengers (2012 film)\",\"The Avengers (2012 film)\",\"Avengers: Age of Ultron\",\"Avengers: Age of Ultron\",\"Avengers: Age of Ultron\",\"Avengers: Age of Ultron\",\"Captain America: Civil War\",\"Captain America: Civil War\",\"Avengers: Endgame\",\"Avengers: Endgame\",\"Avengers: Endgame\",\"Avengers: Endgame\",\"Avengers: Endgame\",\"The Avengers (2012 film)\",\"The Avengers (2012 film)\",\"The Avengers (2012 film)\",\"Thor: Ragnarok\",\"Kong: Skull Island\",\"Kong: Skull Island\",\"Avengers: Infinity War\",\"Avengers: Infinity War\",\"Avengers: Infinity War\",\"Avengers: Infinity War\",\"Avengers: Infinity War\",\"Avengers: Infinity War\",\"Avengers: Infinity War\",\"Avengers: Infinity War\",\"Avengers: Infinity War\",\"Avengers: Infinity War\",\"Avengers: Infinity War\",\"Avengers: Infinity War\",\"The Avengers (2012 film)\",\"The Avengers (2012 film)\",\"The Avengers (2012 film)\",\"Captain America: The Winter Soldier\",\"Avengers: Age of Ultron\",\"Avengers: Age of Ultron\",\"Avengers: Age of Ultron\",\"Avengers: Age of Ultron\",\"Avengers: Age of Ultron\",\"Spider-Man: Far From Home\",\"The Avengers (2012 film)\",\"Avengers: Age of Ultron\",\"Avengers: Age of Ultron\",\"Avengers: Age of Ultron\",\"Cinderella (2015 Disney film)\",\"The Avengers (2012 film)\",\"Avengers: Age of Ultron\",\"Avengers: Age of Ultron\",\"Avengers: Age of Ultron\",\"Avengers: Age of Ultron\",\"Avengers: Age of Ultron\",\"Avengers: Age of Ultron\",\"Thor: Ragnarok\",\"Avengers: Infinity War\",\"Avengers: Infinity War\",\"Avengers: Infinity War\",\"Avengers: Infinity War\",\"Avengers: Infinity War\",\"Avengers: Infinity War\",\"Avengers: Infinity War\",\"Avengers: Infinity War\",\"Avengers: Endgame\",\"Avengers: Endgame\",\"Avengers: Age of Ultron\",\"Avengers: Age of Ultron\",\"Avengers: Age of Ultron\",\"Avengers: Age of Ultron\",\"Kong: Skull Island\",\"Spider-Man: Far From Home\",\"Iron Man 2\",\"Iron Man 3\",\"Avengers: Age of Ultron\",\"Avengers: Age of Ultron\",\"Avengers: Age of Ultron\",\"Avengers: Age of Ultron\",\"Avengers: Age of Ultron\",\"Captain America: Civil War\",\"Captain America: Civil War\",\"Avengers: Infinity War\",\"Avengers: Infinity War\",\"Avengers: Infinity War\",\"Avengers: Infinity War\",\"Avengers: Infinity War\",\"Avengers: Infinity War\",\"Avengers: Infinity War\",\"Avengers: Endgame\",\"Iron Man 3\",\"Avengers: Infinity War\",\"Avengers: Infinity War\",\"Avengers: Infinity War\",\"Avengers: Infinity War\",\"Avengers: Infinity War\",\"Avengers: Infinity War\",\"Avengers: Infinity War\",\"Avengers: Infinity War\",\"Avengers: Infinity War\",\"Avengers: Infinity War\",\"Avengers: Endgame\",\"Avengers: Endgame\",\"The Jungle Book (2016 film)\",\"Avengers: Endgame\",\"Clash of the Titans (2010 film)\",\"Clash of the Titans (2010 film)\",\"Doctor Strange (2016 film)\",\"Clash of the Titans (2010 film)\",\"X-Men: Days of Future Past\",\"X-Men: Days of Future Past\",\"X-Men: Days of Future Past\",\"Inception\",\"Inception\",\"Inception\",\"Inception\",\"Inception\",\"Transformers: Age of Extinction\",\"Transformers: Age of Extinction\",\"Transformers: Age of Extinction\",\"Godzilla (2014 film)\",\"Godzilla (2014 film)\",\"Transformers: The Last Knight\",\"Transformers: The Last Knight\",\"Transformers: The Last Knight\",\"Transformers: The Last Knight\",\"Inception\",\"X-Men: Days of Future Past\",\"X-Men: Days of Future Past\",\"X-Men: Days of Future Past\",\"X-Men: Days of Future Past\",\"The Dark Knight Rises\",\"Guardians of the Galaxy (film)\",\"Guardians of the Galaxy (film)\",\"Guardians of the Galaxy (film)\",\"Guardians of the Galaxy (film)\",\"Avengers: Infinity War\",\"Avengers: Infinity War\",\"Avengers: Infinity War\",\"Avengers: Infinity War\",\"Avengers: Infinity War\",\"Avengers: Infinity War\",\"Avengers: Infinity War\",\"Avengers: Endgame\",\"Transformers: Dark of the Moon\",\"Transformers: Dark of the Moon\",\"Transformers: Dark of the Moon\",\"Transformers: Dark of the Moon\",\"Transformers: Dark of the Moon\",\"Transformers: Dark of the Moon\",\"Transformers: Dark of the Moon\",\"Transformers: Dark of the Moon\",\"Transformers: The Last Knight\",\"Transformers: The Last Knight\",\"Transformers: The Last Knight\",\"Transformers: The Last Knight\",\"Transformers: The Last Knight\",\"Transformers: The Last Knight\",\"Fast Five\",\"Fast Five\",\"Furious 7\",\"Fast Five\",\"Guardians of the Galaxy (film)\",\"Guardians of the Galaxy (film)\",\"Guardians of the Galaxy (film)\",\"Furious 7\",\"Avengers: Infinity War\",\"Avengers: Infinity War\",\"Avengers: Infinity War\",\"Avengers: Infinity War\",\"Avengers: Infinity War\",\"Avengers: Infinity War\",\"Furious 7\",\"Furious 7\",\"Jumanji: Welcome to the Jungle\",\"Hobbs & Shaw\",\"Dawn of the Planet of the Apes\",\"The Hunger Games (film)\",\"The Hunger Games (film)\",\"The Hunger Games (film)\",\"The Hunger Games (film)\",\"The Hunger Games (film)\",\"X-Men: Days of Future Past\",\"X-Men: Days of Future Past\",\"The Hunger Games (film)\",\"The Hunger Games (film)\",\"The Hunger Games (film)\",\"The Hunger Games (film)\",\"The Hunger Games (film)\",\"The Hunger Games (film)\",\"The Hunger Games (film)\",\"The Hunger Games (film)\",\"The Hunger Games (film)\",\"The Hunger Games (film)\",\"Transformers: Age of Extinction\",\"Transformers: The Last Knight\",\"Ted (film)\",\"Transformers: The Last Knight\",\"Transformers: The Last Knight\",\"Ted (film)\",\"Thor: Ragnarok\",\"Transformers: The Last Knight\",\"Transformers: The Last Knight\",\"Avengers: Age of Ultron\",\"Avengers: Age of Ultron\",\"Avengers: Age of Ultron\",\"Avengers: Age of Ultron\",\"Thor: Ragnarok\",\"Avengers: Infinity War\",\"Avengers: Infinity War\",\"Avengers: Infinity War\",\"Avengers: Infinity War\",\"Avengers: Infinity War\",\"Avengers: Infinity War\",\"Hobbs & Shaw\",\"Godzilla (2014 film)\",\"Avengers: Age of Ultron\",\"Avengers: Age of Ultron\",\"Avengers: Age of Ultron\",\"Avengers: Age of Ultron\",\"Captain America: Civil War\",\"Captain America: Civil War\",\"Avengers: Infinity War\",\"Avengers: Infinity War\",\"Avengers: Infinity War\",\"Avengers: Infinity War\",\"Avengers: Infinity War\",\"Avengers: Infinity War\",\"Ant-Man (film)\",\"Avengers: Age of Ultron\",\"Captain America: Civil War\",\"Avengers: Infinity War\",\"Avengers: Infinity War\",\"Avengers: Infinity War\",\"Avengers: Infinity War\",\"Avengers: Infinity War\",\"Guardians of the Galaxy (film)\",\"Guardians of the Galaxy (film)\",\"Guardians of the Galaxy (film)\",\"Avengers: Infinity War\",\"Avengers: Infinity War\",\"Avengers: Infinity War\",\"Avengers: Infinity War\",\"Avengers: Infinity War\",\"Avengers: Infinity War\",\"Avengers: Infinity War\",\"Avengers: Endgame\",\"Avengers: Endgame\",\"Guardians of the Galaxy (film)\",\"Furious 7\",\"Captain Marvel (film)\",\"Avengers: Infinity War\",\"Avengers: Infinity War\",\"Avengers: Infinity War\",\"Avengers: Infinity War\",\"Ant-Man (film)\",\"Captain America: Civil War\",\"Captain America: Civil War\",\"Avengers: Endgame\",\"Avengers: Endgame\",\"Captain America: Civil War\",\"Avengers: Infinity War\",\"Avengers: Infinity War\",\"X-Men: Days of Future Past\",\"X-Men: Days of Future Past\",\"X-Men: Days of Future Past\",\"X-Men: Days of Future Past\",\"Avengers: Infinity War\",\"Avengers: Infinity War\",\"Avengers: Infinity War\",\"Doctor Strange (2016 film)\",\"Avengers: Infinity War\",\"Avengers: Infinity War\",\"Avengers: Endgame\",\"Fantastic Beasts: The Crimes of Grindelwald\"]},\"selected\":{\"id\":\"135394\"},\"selection_policy\":{\"id\":\"135393\"}},\"id\":\"133219\",\"type\":\"ColumnDataSource\"},{\"attributes\":{},\"id\":\"135389\",\"type\":\"UnionRenderers\"},{\"attributes\":{\"coordinates\":null,\"edge_renderer\":{\"id\":\"133220\"},\"group\":null,\"inspection_policy\":{\"id\":\"135382\"},\"layout_provider\":{\"id\":\"133222\"},\"node_renderer\":{\"id\":\"133216\"},\"selection_policy\":{\"id\":\"135381\"}},\"id\":\"133213\",\"type\":\"GraphRenderer\"},{\"attributes\":{\"data\":{\"degree\":[54,29,25,24,22,21,38,40,33,31,24,32,40,33,23,31,30,38,47,55,38,47,28,39,25,25,37,30,42,37,33,25,25,31,22,57,21,31,61,35,49,48,72,61,61,48,48,50,22,56,30,30,29,81,28,82,21,28,47,54,47,28,21,41,37,26,25,28,28,34,45,35,22,23,37,46,57,27,44,27,25,26,40,29,35,24,21],\"index\":[\"Chris Pratt\",\"Irrfan Khan\",\"Henry Cavill\",\"Amy Adams\",\"Diane Lane\",\"Laurence Fishburne\",\"Gal Gadot\",\"Anne Hathaway\",\"Jessica Chastain\",\"Michael Caine\",\"Matt Damon\",\"Will Smith\",\"Josh Brolin\",\"Johnny Depp\",\"Helena Bonham Carter\",\"Christopher Lee\",\"Oscar Isaac\",\"Lupita Nyong'o\",\"Andy Serkis\",\"Robert Downey Jr.\",\"Chris Hemsworth\",\"Scarlett Johansson\",\"Jeremy Renner\",\"Tom Hiddleston\",\"Cobie Smulders\",\"Stellan Skarsg\\u00e5rd\",\"Mark Ruffalo\",\"Samuel L. Jackson\",\"Don Cheadle\",\"Gwyneth Paltrow\",\"Jon Favreau\",\"Mads Mikkelsen\",\"Ralph Fiennes\",\"Nicholas Hoult\",\"Leonardo DiCaprio\",\"Ken Watanabe\",\"Elliot Page\",\"Tom Hardy\",\"Bradley Cooper\",\"Shia LaBeouf\",\"John Malkovich\",\"Frances McDormand\",\"Josh Duhamel\",\"John Turturro\",\"Tyrese Gibson\",\"Hugo Weaving\",\"Vin Diesel\",\"Dwayne Johnson\",\"Gary Oldman\",\"Jennifer Lawrence\",\"Liam Hemsworth\",\"Woody Harrelson\",\"Elizabeth Banks\",\"Stanley Tucci\",\"Donald Sutherland\",\"Mark Wahlberg\",\"Giovanni Ribisi\",\"Mila Kunis\",\"Anthony Hopkins\",\"Idris Elba\",\"John Goodman\",\"Keri Russell\",\"Aaron Taylor-Johnson\",\"Elizabeth Olsen\",\"Anthony Mackie\",\"Zoe Saldana\",\"Karen Gillan\",\"Djimon Hounsou\",\"Benicio del Toro\",\"Paul Rudd\",\"Evangeline Lilly\",\"Paul Bettany\",\"James McAvoy\",\"Michael Fassbender\",\"Peter Dinklage\",\"Ian McKellen\",\"Benedict Cumberbatch\",\"Orlando Bloom\",\"Cate Blanchett\",\"Ian Holm\",\"Jason Statham\",\"Benedict Wong\",\"Chadwick Boseman\",\"Brie Larson\",\"Ezra Miller\",\"Eddie Redmayne\",\"Steve Buscemi\"]},\"selected\":{\"id\":\"135392\"},\"selection_policy\":{\"id\":\"135391\"}},\"id\":\"133215\",\"type\":\"ColumnDataSource\"},{\"attributes\":{\"line_alpha\":{\"value\":0.5}},\"id\":\"133237\",\"type\":\"MultiLine\"},{\"attributes\":{},\"id\":\"135391\",\"type\":\"UnionRenderers\"},{\"attributes\":{\"coordinates\":null,\"data_source\":{\"id\":\"133219\"},\"glyph\":{\"id\":\"133237\"},\"group\":null,\"hover_glyph\":null,\"view\":{\"id\":\"133221\"}},\"id\":\"133220\",\"type\":\"GlyphRenderer\"},{\"attributes\":{},\"id\":\"135387\",\"type\":\"BasicTickFormatter\"},{\"attributes\":{},\"id\":\"135392\",\"type\":\"Selection\"},{\"attributes\":{\"active_scroll\":{\"id\":\"133203\"},\"tools\":[{\"id\":\"133202\"},{\"id\":\"133203\"},{\"id\":\"133204\"},{\"id\":\"133205\"},{\"id\":\"133206\"}]},\"id\":\"133207\",\"type\":\"Toolbar\"},{\"attributes\":{},\"id\":\"135393\",\"type\":\"UnionRenderers\"},{\"attributes\":{\"coordinates\":null,\"group\":null,\"text\":\"10s Hollywood Network\"},\"id\":\"133186\",\"type\":\"Title\"},{\"attributes\":{},\"id\":\"135385\",\"type\":\"AllLabels\"},{\"attributes\":{\"coordinates\":null,\"formatter\":{\"id\":\"135387\"},\"group\":null,\"major_label_policy\":{\"id\":\"135388\"},\"ticker\":{\"id\":\"133195\"}},\"id\":\"133194\",\"type\":\"LinearAxis\"},{\"attributes\":{\"source\":{\"id\":\"133215\"}},\"id\":\"133217\",\"type\":\"CDSView\"},{\"attributes\":{},\"id\":\"133205\",\"type\":\"ResetTool\"},{\"attributes\":{},\"id\":\"135384\",\"type\":\"BasicTickFormatter\"},{\"attributes\":{},\"id\":\"133195\",\"type\":\"BasicTicker\"},{\"attributes\":{\"axis\":{\"id\":\"133194\"},\"coordinates\":null,\"group\":null,\"ticker\":null},\"id\":\"133197\",\"type\":\"Grid\"},{\"attributes\":{},\"id\":\"133204\",\"type\":\"SaveTool\"},{\"attributes\":{},\"id\":\"135390\",\"type\":\"Selection\"},{\"attributes\":{\"graph_layout\":{\"Aaron Taylor-Johnson\":[-0.09464352679678083,0.4723942718444996],\"Amy Adams\":[2.6798538675473202,-0.4624203216403485],\"Andy Serkis\":[-1.7228533246210909,0.21461085460541776],\"Anne Hathaway\":[-0.5980499782779749,-1.8037811964633774],\"Anthony Hopkins\":[1.1476525099656807,-0.44838603694586654],\"Anthony Mackie\":[-0.5219054574836769,0.6545049225147105],\"Benedict Cumberbatch\":[-1.0355274782820811,0.8787244758322104],\"Benedict Wong\":[-0.6837271758611073,0.42393470190938914],\"Benicio del Toro\":[-0.8684689877710948,0.7159839028954196],\"Bradley Cooper\":[-0.48463799664828583,1.1647571857033716],\"Brie Larson\":[-0.3357709734836326,1.4034808997991353],\"Cate Blanchett\":[0.28369953310329804,0.32519321809552304],\"Chadwick Boseman\":[-0.8231844996417799,0.8997961959454642],\"Chris Hemsworth\":[-0.4443393960954635,0.8265460330754825],\"Chris Pratt\":[-0.5488638707922081,1.3215450898309213],\"Christopher Lee\":[-1.0518718158049207,-2.947880903972375],\"Cobie Smulders\":[-0.6745267734646765,0.5536229533885061],\"Diane Lane\":[2.476442881378319,-0.5740106131890763],\"Djimon Hounsou\":[0.2091805516100938,1.35585229343785],\"Don Cheadle\":[-0.5741975711025175,1.0038197357953447],\"Donald Sutherland\":[0.28781753872044163,-2.165969609063127],\"Dwayne Johnson\":[0.8057506980728907,0.9839937468422901],\"Eddie Redmayne\":[2.1416020380909626,-2.1589001702523687],\"Elizabeth Banks\":[0.016775667606017473,-2.0396615618842397],\"Elizabeth Olsen\":[-0.34227683137342335,0.6042451454274489],\"Elliot Page\":[-0.9370518356550346,-0.799105872980742],\"Evangeline Lilly\":[1.3439699285743631,1.1666818862950865],\"Ezra Miller\":[2.255497196088728,-1.1825654400390275],\"Frances McDormand\":[2.6528993880276497,0.44480577160636214],\"Gal Gadot\":[2.042188695779271,-0.04313254912878214],\"Gary Oldman\":[-1.6192599735874356,-0.9579465474255402],\"Giovanni Ribisi\":[3.469743780821922,0.9577817605025216],\"Gwyneth Paltrow\":[-0.694908740823359,1.104233110288765],\"Helena Bonham Carter\":[-0.3509008190950723,-1.0687605898612067],\"Henry Cavill\":[2.536544017014282,-0.35120353847090846],\"Hugo Weaving\":[3.451908615201088,0.7361120672434509],\"Ian Holm\":[-10.0,3.4992458660650185],\"Ian McKellen\":[-1.4747696560566017,-0.7815889682967314],\"Idris Elba\":[-0.2896982559116083,0.9106475342312889],\"Irrfan Khan\":[-0.8161604338823152,2.6363042163270136],\"James McAvoy\":[-1.907140737087094,-1.2156020486652401],\"Jason Statham\":[0.4756848849929282,1.6618097793554687],\"Jennifer Lawrence\":[-0.4660584561192684,-1.3091695852373686],\"Jeremy Renner\":[-0.38635963471198476,0.9960714872117449],\"Jessica Chastain\":[-0.902508740354963,-1.0176190834874799],\"John Goodman\":[0.6444707204398735,-0.20244561286970353],\"John Malkovich\":[2.6381120109454748,0.6183492595119258],\"John Turturro\":[1.5322482573630405,-0.1940858677659497],\"Johnny Depp\":[1.1747811574304388,-1.9969712691231762],\"Jon Favreau\":[-0.9304478390926554,1.1277370608878103],\"Josh Brolin\":[-0.787245366614818,1.3126598562444682],\"Josh Duhamel\":[1.6517069278161574,-0.2951945657249876],\"Karen Gillan\":[-0.27755358659530555,1.1208364214177091],\"Ken Watanabe\":[0.549589021801002,-0.48599911488185477],\"Keri Russell\":[-2.1266867675620067,-0.09153221318263642],\"Laurence Fishburne\":[1.7919431238433867,0.29556491871494867],\"Leonardo DiCaprio\":[-0.21070922899779213,-1.3159231037913137],\"Liam Hemsworth\":[0.26961771857991346,-1.9752642215781473],\"Lupita Nyong'o\":[-1.4613389845869216,0.79767872989564],\"Mads Mikkelsen\":[-2.443580969286558,0.32469723449396165],\"Mark Ruffalo\":[-0.4165784184762609,0.726953552125569],\"Mark Wahlberg\":[2.0133416093944576,0.05920051431544943],\"Matt Damon\":[-1.1036777621885419,-1.0465996714249337],\"Michael Caine\":[-0.9720959697591395,-1.6061529238506225],\"Michael Fassbender\":[-1.712459378045025,-0.4678159475142492],\"Mila Kunis\":[4.475668407353787,1.4492166893699991],\"Nicholas Hoult\":[-2.002375392642128,-0.33443843577704824],\"Orlando Bloom\":[3.623297101488824,-9.357808318070724],\"Oscar Isaac\":[-1.487373355218041,-0.49973222979664894],\"Paul Bettany\":[-0.6206368171442583,0.8570935495987541],\"Paul Rudd\":[0.08918339652486444,0.8965547975547439],\"Peter Dinklage\":[-0.8747862740235848,0.3134802557215652],\"Ralph Fiennes\":[-3.08328291527968,-0.27328855773114885],\"Robert Downey Jr.\":[-0.5331740403438763,0.9044355243150201],\"Samuel L. Jackson\":[-0.19437523923244537,0.3625586456916406],\"Scarlett Johansson\":[-0.6708794366498749,0.7259170952917631],\"Shia LaBeouf\":[3.4935778521022627,0.4781464490080631],\"Stanley Tucci\":[0.5880613353966139,-1.2944840791287542],\"Stellan Skarsg\\u00e5rd\":[-0.35087644527324025,0.12664848916881308],\"Steve Buscemi\":[1.6109539355413727,-0.6548155792968653],\"Tom Hardy\":[-0.6358859623556457,-1.2218212320233122],\"Tom Hiddleston\":[-0.23933233194469908,0.7545181442068082],\"Tyrese Gibson\":[1.4935977877024649,0.8691466853554761],\"Vin Diesel\":[-0.06579531146422188,1.0899211106294853],\"Will Smith\":[-1.4887541629520058,2.4573217609396654],\"Woody Harrelson\":[0.06486474665397612,-2.2190064830307086],\"Zoe Saldana\":[-0.6426620064589846,1.275748213037588]}},\"id\":\"133222\",\"type\":\"StaticLayoutProvider\"},{\"attributes\":{},\"id\":\"133202\",\"type\":\"PanTool\"},{\"attributes\":{},\"id\":\"133192\",\"type\":\"LinearScale\"},{\"attributes\":{},\"id\":\"133203\",\"type\":\"WheelZoomTool\"},{\"attributes\":{\"callback\":null,\"tooltips\":[[\"Actor\",\"@index\"],[\"Degree\",\"@degree\"]]},\"id\":\"133206\",\"type\":\"HoverTool\"},{\"attributes\":{},\"id\":\"133190\",\"type\":\"LinearScale\"},{\"attributes\":{\"fill_color\":{\"field\":\"degree\",\"transform\":{\"id\":\"133231\"}},\"size\":{\"field\":\"degree\"}},\"id\":\"133232\",\"type\":\"Circle\"},{\"attributes\":{},\"id\":\"135388\",\"type\":\"AllLabels\"},{\"attributes\":{},\"id\":\"135394\",\"type\":\"Selection\"},{\"attributes\":{},\"id\":\"133199\",\"type\":\"BasicTicker\"},{\"attributes\":{\"axis\":{\"id\":\"133198\"},\"coordinates\":null,\"dimension\":1,\"group\":null,\"ticker\":null},\"id\":\"133201\",\"type\":\"Grid\"},{\"attributes\":{\"background_fill_alpha\":{\"value\":0.5},\"background_fill_color\":{\"value\":\"white\"},\"coordinates\":null,\"group\":null,\"source\":{\"id\":\"133242\"},\"text\":{\"field\":\"name\"},\"text_align\":{\"value\":\"center\"},\"text_font_size\":{\"value\":\"10px\"},\"x\":{\"field\":\"x\"},\"y\":{\"field\":\"y\"}},\"id\":\"133243\",\"type\":\"LabelSet\"},{\"attributes\":{\"source\":{\"id\":\"133219\"}},\"id\":\"133221\",\"type\":\"CDSView\"},{\"attributes\":{\"end\":10.1,\"start\":-10.1},\"id\":\"133183\",\"type\":\"Range1d\"},{\"attributes\":{\"end\":10.1,\"start\":-10.1},\"id\":\"133184\",\"type\":\"Range1d\"},{\"attributes\":{\"coordinates\":null,\"data_source\":{\"id\":\"133215\"},\"glyph\":{\"id\":\"133232\"},\"group\":null,\"hover_glyph\":null,\"view\":{\"id\":\"133217\"}},\"id\":\"133216\",\"type\":\"GlyphRenderer\"},{\"attributes\":{\"high\":82,\"low\":21,\"palette\":[\"#000003\",\"#270B52\",\"#63146E\",\"#9E2963\",\"#D24742\",\"#F57C15\",\"#FABF25\",\"#FCFEA4\"]},\"id\":\"133231\",\"type\":\"LinearColorMapper\"},{\"attributes\":{},\"id\":\"135381\",\"type\":\"NodesOnly\"},{\"attributes\":{\"coordinates\":null,\"formatter\":{\"id\":\"135384\"},\"group\":null,\"major_label_policy\":{\"id\":\"135385\"},\"ticker\":{\"id\":\"133199\"}},\"id\":\"133198\",\"type\":\"LinearAxis\"},{\"attributes\":{\"data\":{\"name\":[\"Chris Pratt\",\"Irrfan Khan\",\"Henry Cavill\",\"Amy Adams\",\"Diane Lane\",\"Laurence Fishburne\",\"Gal Gadot\",\"Anne Hathaway\",\"Jessica Chastain\",\"Michael Caine\",\"Matt Damon\",\"Will Smith\",\"Josh Brolin\",\"Johnny Depp\",\"Helena Bonham Carter\",\"Christopher Lee\",\"Oscar Isaac\",\"Lupita Nyong'o\",\"Andy Serkis\",\"Robert Downey Jr.\",\"Chris Hemsworth\",\"Scarlett Johansson\",\"Jeremy Renner\",\"Tom Hiddleston\",\"Cobie Smulders\",\"Stellan Skarsg\\u00e5rd\",\"Mark Ruffalo\",\"Samuel L. Jackson\",\"Don Cheadle\",\"Gwyneth Paltrow\",\"Jon Favreau\",\"Mads Mikkelsen\",\"Ralph Fiennes\",\"Nicholas Hoult\",\"Leonardo DiCaprio\",\"Ken Watanabe\",\"Elliot Page\",\"Tom Hardy\",\"Bradley Cooper\",\"Shia LaBeouf\",\"John Malkovich\",\"Frances McDormand\",\"Josh Duhamel\",\"John Turturro\",\"Tyrese Gibson\",\"Hugo Weaving\",\"Vin Diesel\",\"Dwayne Johnson\",\"Gary Oldman\",\"Jennifer Lawrence\",\"Liam Hemsworth\",\"Woody Harrelson\",\"Elizabeth Banks\",\"Stanley Tucci\",\"Donald Sutherland\",\"Mark Wahlberg\",\"Giovanni Ribisi\",\"Mila Kunis\",\"Anthony Hopkins\",\"Idris Elba\",\"John Goodman\",\"Keri Russell\",\"Aaron Taylor-Johnson\",\"Elizabeth Olsen\",\"Anthony Mackie\",\"Zoe Saldana\",\"Karen Gillan\",\"Djimon Hounsou\",\"Benicio del Toro\",\"Paul Rudd\",\"Evangeline Lilly\",\"Paul Bettany\",\"James McAvoy\",\"Michael Fassbender\",\"Peter Dinklage\",\"Ian McKellen\",\"Benedict Cumberbatch\",\"Orlando Bloom\",\"Cate Blanchett\",\"Ian Holm\",\"Jason Statham\",\"Benedict Wong\",\"Chadwick Boseman\",\"Brie Larson\",\"Ezra Miller\",\"Eddie Redmayne\",\"Steve Buscemi\"],\"x\":[-0.5488638707922081,-0.8161604338823152,2.536544017014282,2.6798538675473202,2.476442881378319,1.7919431238433867,2.042188695779271,-0.5980499782779749,-0.902508740354963,-0.9720959697591395,-1.1036777621885419,-1.4887541629520058,-0.787245366614818,1.1747811574304388,-0.3509008190950723,-1.0518718158049207,-1.487373355218041,-1.4613389845869216,-1.7228533246210909,-0.5331740403438763,-0.4443393960954635,-0.6708794366498749,-0.38635963471198476,-0.23933233194469908,-0.6745267734646765,-0.35087644527324025,-0.4165784184762609,-0.19437523923244537,-0.5741975711025175,-0.694908740823359,-0.9304478390926554,-2.443580969286558,-3.08328291527968,-2.002375392642128,-0.21070922899779213,0.549589021801002,-0.9370518356550346,-0.6358859623556457,-0.48463799664828583,3.4935778521022627,2.6381120109454748,2.6528993880276497,1.6517069278161574,1.5322482573630405,1.4935977877024649,3.451908615201088,-0.06579531146422188,0.8057506980728907,-1.6192599735874356,-0.4660584561192684,0.26961771857991346,0.06486474665397612,0.016775667606017473,0.5880613353966139,0.28781753872044163,2.0133416093944576,3.469743780821922,4.475668407353787,1.1476525099656807,-0.2896982559116083,0.6444707204398735,-2.1266867675620067,-0.09464352679678083,-0.34227683137342335,-0.5219054574836769,-0.6426620064589846,-0.27755358659530555,0.2091805516100938,-0.8684689877710948,0.08918339652486444,1.3439699285743631,-0.6206368171442583,-1.907140737087094,-1.712459378045025,-0.8747862740235848,-1.4747696560566017,-1.0355274782820811,3.623297101488824,0.28369953310329804,-10.0,0.4756848849929282,-0.6837271758611073,-0.8231844996417799,-0.3357709734836326,2.255497196088728,2.1416020380909626,1.6109539355413727],\"y\":[1.3215450898309213,2.6363042163270136,-0.35120353847090846,-0.4624203216403485,-0.5740106131890763,0.29556491871494867,-0.04313254912878214,-1.8037811964633774,-1.0176190834874799,-1.6061529238506225,-1.0465996714249337,2.4573217609396654,1.3126598562444682,-1.9969712691231762,-1.0687605898612067,-2.947880903972375,-0.49973222979664894,0.79767872989564,0.21461085460541776,0.9044355243150201,0.8265460330754825,0.7259170952917631,0.9960714872117449,0.7545181442068082,0.5536229533885061,0.12664848916881308,0.726953552125569,0.3625586456916406,1.0038197357953447,1.104233110288765,1.1277370608878103,0.32469723449396165,-0.27328855773114885,-0.33443843577704824,-1.3159231037913137,-0.48599911488185477,-0.799105872980742,-1.2218212320233122,1.1647571857033716,0.4781464490080631,0.6183492595119258,0.44480577160636214,-0.2951945657249876,-0.1940858677659497,0.8691466853554761,0.7361120672434509,1.0899211106294853,0.9839937468422901,-0.9579465474255402,-1.3091695852373686,-1.9752642215781473,-2.2190064830307086,-2.0396615618842397,-1.2944840791287542,-2.165969609063127,0.05920051431544943,0.9577817605025216,1.4492166893699991,-0.44838603694586654,0.9106475342312889,-0.20244561286970353,-0.09153221318263642,0.4723942718444996,0.6042451454274489,0.6545049225147105,1.275748213037588,1.1208364214177091,1.35585229343785,0.7159839028954196,0.8965547975547439,1.1666818862950865,0.8570935495987541,-1.2156020486652401,-0.4678159475142492,0.3134802557215652,-0.7815889682967314,0.8787244758322104,-9.357808318070724,0.32519321809552304,3.4992458660650185,1.6618097793554687,0.42393470190938914,0.8997961959454642,1.4034808997991353,-1.1825654400390275,-2.1589001702523687,-0.6548155792968653]},\"selected\":{\"id\":\"135390\"},\"selection_policy\":{\"id\":\"135389\"}},\"id\":\"133242\",\"type\":\"ColumnDataSource\"}],\"root_ids\":[\"133185\"]},\"title\":\"Bokeh Application\",\"version\":\"2.4.1\"}};\n",
       "  const render_items = [{\"docid\":\"d00b0235-6bc2-467a-9a04-06fb2488c9b9\",\"root_ids\":[\"133185\"],\"roots\":{\"133185\":\"1d995ffc-6cb0-46bb-9d90-33cfbe7e0ff2\"}}];\n",
       "  root.Bokeh.embed.embed_items_notebook(docs_json, render_items);\n",
       "\n",
       "  }\n",
       "  if (root.Bokeh !== undefined) {\n",
       "    embed_document(root);\n",
       "  } else {\n",
       "    let attempts = 0;\n",
       "    const timer = setInterval(function(root) {\n",
       "      if (root.Bokeh !== undefined) {\n",
       "        clearInterval(timer);\n",
       "        embed_document(root);\n",
       "      } else {\n",
       "        attempts++;\n",
       "        if (attempts > 100) {\n",
       "          clearInterval(timer);\n",
       "          console.log(\"Bokeh: ERROR: Unable to run BokehJS code because BokehJS library is missing\");\n",
       "        }\n",
       "      }\n",
       "    }, 10, root)\n",
       "  }\n",
       "})(window);"
      ],
      "application/vnd.bokehjs_exec.v0+json": ""
     },
     "metadata": {
      "application/vnd.bokehjs_exec.v0+json": {
       "id": "133185"
      }
     },
     "output_type": "display_data"
    },
    {
     "data": {
      "text/plain": [
       "'C:\\\\Users\\\\biby_\\\\Desktop\\\\Cursos\\\\DataCamp\\\\Movies\\\\10s_with_labels.html'"
      ]
     },
     "execution_count": 401,
     "metadata": {},
     "output_type": "execute_result"
    }
   ],
   "source": [
    "# Attributes from G network to size and color\n",
    "size_by_this_attribute = 'degree'\n",
    "color_by_this_attribute = 'degree'\n",
    "\n",
    "#Color palette\n",
    "color_palette = Inferno8 \n",
    "\n",
    "#Choose a title\n",
    "title = '10s Hollywood Network'\n",
    "\n",
    "#Categories that will appear when hovering over each node\n",
    "HOVER_TOOLTIPS = [\n",
    "       (\"Actor\", \"@index\"),\n",
    "        (\"Degree\", \"@degree\")\n",
    "]\n",
    "\n",
    "#Create plot — set dimensions, toolbar, and title\n",
    "plot = figure(tooltips = HOVER_TOOLTIPS,\n",
    "              tools=\"pan,wheel_zoom,save,reset\", active_scroll='wheel_zoom',\n",
    "            x_range=Range1d(-10.1, 10.1), y_range=Range1d(-10.1, 10.1), title=title)\n",
    "\n",
    "#Create a network graph object\n",
    "# https://networkx.github.io/documentation/networkx-1.9/reference/generated/networkx.drawing.layout.spring_layout.html\\\n",
    "network_graph = from_networkx(G_10s, nx.spring_layout, scale=10, center=(0, 0))\n",
    "\n",
    "#Set node sizes and colors according to node degree (color as spectrum of color palette)\n",
    "minimum_value_color = min(network_graph.node_renderer.data_source.data[color_by_this_attribute])\n",
    "maximum_value_color = max(network_graph.node_renderer.data_source.data[color_by_this_attribute])\n",
    "network_graph.node_renderer.glyph = Circle(size=size_by_this_attribute, fill_color=linear_cmap(color_by_this_attribute, color_palette, minimum_value_color, maximum_value_color))\n",
    "\n",
    "#Set edge opacity and width\n",
    "network_graph.edge_renderer.glyph = MultiLine(line_alpha=0.5, line_width=1)\n",
    "\n",
    "plot.renderers.append(network_graph)\n",
    "\n",
    "#Add labels:\n",
    "x, y = zip(*network_graph.layout_provider.graph_layout.values())\n",
    "node_labels = list(G_10s.nodes())\n",
    "source = ColumnDataSource({'x': x, 'y': y, 'name': [node_labels[i] for i in range(len(x))]})\n",
    "labels = LabelSet(x='x', y='y', text='name', source=source, background_fill_color='white', text_font_size='10px', background_fill_alpha=.5, text_align='center')\n",
    "plot.renderers.append(labels)\n",
    "\n",
    "show(plot)\n",
    "save(plot, filename=\"10s_with_labels.html\")"
   ]
  },
  {
   "cell_type": "code",
   "execution_count": 402,
   "id": "7b25ddd8",
   "metadata": {
    "scrolled": true
   },
   "outputs": [
    {
     "data": {
      "text/plain": [
       "[('Mark Wahlberg', 82),\n",
       " ('Stanley Tucci', 81),\n",
       " ('Josh Duhamel', 72),\n",
       " ('Bradley Cooper', 61),\n",
       " ('John Turturro', 61),\n",
       " ('Tyrese Gibson', 61),\n",
       " ('Ken Watanabe', 57),\n",
       " ('Benedict Cumberbatch', 57),\n",
       " ('Jennifer Lawrence', 56),\n",
       " ('Robert Downey Jr.', 55)]"
      ]
     },
     "execution_count": 402,
     "metadata": {},
     "output_type": "execute_result"
    }
   ],
   "source": [
    "top_degrees_10s = sorted(degrees_10s.items(), key=lambda x:x[1], reverse=True)[0:10]\n",
    "top_degrees_10s"
   ]
  },
  {
   "cell_type": "markdown",
   "id": "89532751",
   "metadata": {},
   "source": [
    "### 8. Comparing"
   ]
  },
  {
   "cell_type": "code",
   "execution_count": 403,
   "id": "33e1d171",
   "metadata": {},
   "outputs": [],
   "source": [
    "df_degrees_90 = pd.DataFrame.from_dict(degrees_90s, orient='index', columns=['degree_90s'])\n",
    "df_degrees_00 = pd.DataFrame.from_dict(degrees_00s, orient='index', columns=['degree_00s'])\n",
    "df_degrees_10 = pd.DataFrame.from_dict(degrees_10s, orient='index', columns=['degree_10s'])"
   ]
  },
  {
   "cell_type": "code",
   "execution_count": 404,
   "id": "81148edf",
   "metadata": {
    "scrolled": true
   },
   "outputs": [
    {
     "data": {
      "text/html": [
       "<div>\n",
       "<style scoped>\n",
       "    .dataframe tbody tr th:only-of-type {\n",
       "        vertical-align: middle;\n",
       "    }\n",
       "\n",
       "    .dataframe tbody tr th {\n",
       "        vertical-align: top;\n",
       "    }\n",
       "\n",
       "    .dataframe thead th {\n",
       "        text-align: right;\n",
       "    }\n",
       "</style>\n",
       "<table border=\"1\" class=\"dataframe\">\n",
       "  <thead>\n",
       "    <tr style=\"text-align: right;\">\n",
       "      <th></th>\n",
       "      <th>degree_90s</th>\n",
       "      <th>degree_00s</th>\n",
       "      <th>degree_10s</th>\n",
       "    </tr>\n",
       "  </thead>\n",
       "  <tbody>\n",
       "    <tr>\n",
       "      <th>Jim Carrey</th>\n",
       "      <td>79.0</td>\n",
       "      <td>38.0</td>\n",
       "      <td>NaN</td>\n",
       "    </tr>\n",
       "    <tr>\n",
       "      <th>Kevin Costner</th>\n",
       "      <td>77.0</td>\n",
       "      <td>NaN</td>\n",
       "      <td>9.0</td>\n",
       "    </tr>\n",
       "    <tr>\n",
       "      <th>Bruce Willis</th>\n",
       "      <td>77.0</td>\n",
       "      <td>34.0</td>\n",
       "      <td>NaN</td>\n",
       "    </tr>\n",
       "    <tr>\n",
       "      <th>Tom Hanks</th>\n",
       "      <td>77.0</td>\n",
       "      <td>61.0</td>\n",
       "      <td>NaN</td>\n",
       "    </tr>\n",
       "    <tr>\n",
       "      <th>Tom Cruise</th>\n",
       "      <td>73.0</td>\n",
       "      <td>101.0</td>\n",
       "      <td>NaN</td>\n",
       "    </tr>\n",
       "  </tbody>\n",
       "</table>\n",
       "</div>"
      ],
      "text/plain": [
       "               degree_90s  degree_00s  degree_10s\n",
       "Jim Carrey           79.0        38.0         NaN\n",
       "Kevin Costner        77.0         NaN         9.0\n",
       "Bruce Willis         77.0        34.0         NaN\n",
       "Tom Hanks            77.0        61.0         NaN\n",
       "Tom Cruise           73.0       101.0         NaN"
      ]
     },
     "execution_count": 404,
     "metadata": {},
     "output_type": "execute_result"
    }
   ],
   "source": [
    "result_degrees = pd.concat([df_degrees_90, df_degrees_00, df_degrees_10], axis=1)\n",
    "result_degrees.sort_values(by='degree_90s', ascending=False).head()"
   ]
  },
  {
   "cell_type": "code",
   "execution_count": 405,
   "id": "595be9aa",
   "metadata": {},
   "outputs": [
    {
     "data": {
      "text/html": [
       "<div>\n",
       "<style scoped>\n",
       "    .dataframe tbody tr th:only-of-type {\n",
       "        vertical-align: middle;\n",
       "    }\n",
       "\n",
       "    .dataframe tbody tr th {\n",
       "        vertical-align: top;\n",
       "    }\n",
       "\n",
       "    .dataframe thead th {\n",
       "        text-align: right;\n",
       "    }\n",
       "</style>\n",
       "<table border=\"1\" class=\"dataframe\">\n",
       "  <thead>\n",
       "    <tr style=\"text-align: right;\">\n",
       "      <th></th>\n",
       "      <th>degree_90s</th>\n",
       "      <th>degree_00s</th>\n",
       "      <th>degree_10s</th>\n",
       "    </tr>\n",
       "  </thead>\n",
       "  <tbody>\n",
       "    <tr>\n",
       "      <th>Mark Wahlberg</th>\n",
       "      <td>NaN</td>\n",
       "      <td>11.0</td>\n",
       "      <td>82.0</td>\n",
       "    </tr>\n",
       "    <tr>\n",
       "      <th>Stanley Tucci</th>\n",
       "      <td>NaN</td>\n",
       "      <td>NaN</td>\n",
       "      <td>81.0</td>\n",
       "    </tr>\n",
       "    <tr>\n",
       "      <th>Josh Duhamel</th>\n",
       "      <td>NaN</td>\n",
       "      <td>57.0</td>\n",
       "      <td>72.0</td>\n",
       "    </tr>\n",
       "    <tr>\n",
       "      <th>John Turturro</th>\n",
       "      <td>NaN</td>\n",
       "      <td>55.0</td>\n",
       "      <td>61.0</td>\n",
       "    </tr>\n",
       "    <tr>\n",
       "      <th>Bradley Cooper</th>\n",
       "      <td>NaN</td>\n",
       "      <td>19.0</td>\n",
       "      <td>61.0</td>\n",
       "    </tr>\n",
       "  </tbody>\n",
       "</table>\n",
       "</div>"
      ],
      "text/plain": [
       "                degree_90s  degree_00s  degree_10s\n",
       "Mark Wahlberg          NaN        11.0        82.0\n",
       "Stanley Tucci          NaN         NaN        81.0\n",
       "Josh Duhamel           NaN        57.0        72.0\n",
       "John Turturro          NaN        55.0        61.0\n",
       "Bradley Cooper         NaN        19.0        61.0"
      ]
     },
     "execution_count": 405,
     "metadata": {},
     "output_type": "execute_result"
    }
   ],
   "source": [
    "result_degrees.sort_values(by='degree_10s', ascending=False).head()"
   ]
  },
  {
   "cell_type": "code",
   "execution_count": 406,
   "id": "a6091911",
   "metadata": {
    "scrolled": true
   },
   "outputs": [
    {
     "data": {
      "text/html": [
       "<div>\n",
       "<style scoped>\n",
       "    .dataframe tbody tr th:only-of-type {\n",
       "        vertical-align: middle;\n",
       "    }\n",
       "\n",
       "    .dataframe tbody tr th {\n",
       "        vertical-align: top;\n",
       "    }\n",
       "\n",
       "    .dataframe thead th {\n",
       "        text-align: right;\n",
       "    }\n",
       "</style>\n",
       "<table border=\"1\" class=\"dataframe\">\n",
       "  <thead>\n",
       "    <tr style=\"text-align: right;\">\n",
       "      <th></th>\n",
       "      <th>degree_90s</th>\n",
       "      <th>degree_00s</th>\n",
       "      <th>degree_10s</th>\n",
       "    </tr>\n",
       "  </thead>\n",
       "  <tbody>\n",
       "    <tr>\n",
       "      <th>Tommy Lee Jones</th>\n",
       "      <td>61.0</td>\n",
       "      <td>20.0</td>\n",
       "      <td>12.0</td>\n",
       "    </tr>\n",
       "    <tr>\n",
       "      <th>Ben Affleck</th>\n",
       "      <td>54.0</td>\n",
       "      <td>42.0</td>\n",
       "      <td>15.0</td>\n",
       "    </tr>\n",
       "    <tr>\n",
       "      <th>Danny DeVito</th>\n",
       "      <td>45.0</td>\n",
       "      <td>19.0</td>\n",
       "      <td>10.0</td>\n",
       "    </tr>\n",
       "    <tr>\n",
       "      <th>Judi Dench</th>\n",
       "      <td>45.0</td>\n",
       "      <td>36.0</td>\n",
       "      <td>7.0</td>\n",
       "    </tr>\n",
       "    <tr>\n",
       "      <th>Will Smith</th>\n",
       "      <td>43.0</td>\n",
       "      <td>63.0</td>\n",
       "      <td>32.0</td>\n",
       "    </tr>\n",
       "  </tbody>\n",
       "</table>\n",
       "</div>"
      ],
      "text/plain": [
       "                 degree_90s  degree_00s  degree_10s\n",
       "Tommy Lee Jones        61.0        20.0        12.0\n",
       "Ben Affleck            54.0        42.0        15.0\n",
       "Danny DeVito           45.0        19.0        10.0\n",
       "Judi Dench             45.0        36.0         7.0\n",
       "Will Smith             43.0        63.0        32.0"
      ]
     },
     "execution_count": 406,
     "metadata": {},
     "output_type": "execute_result"
    }
   ],
   "source": [
    "result_degrees_stable = result_degrees.dropna()\n",
    "result_degrees_stable.sort_values(by='degree_90s', ascending=False).head()"
   ]
  },
  {
   "cell_type": "code",
   "execution_count": 407,
   "id": "3c86ad1b",
   "metadata": {},
   "outputs": [
    {
     "data": {
      "text/html": [
       "<div>\n",
       "<style scoped>\n",
       "    .dataframe tbody tr th:only-of-type {\n",
       "        vertical-align: middle;\n",
       "    }\n",
       "\n",
       "    .dataframe tbody tr th {\n",
       "        vertical-align: top;\n",
       "    }\n",
       "\n",
       "    .dataframe thead th {\n",
       "        text-align: right;\n",
       "    }\n",
       "</style>\n",
       "<table border=\"1\" class=\"dataframe\">\n",
       "  <thead>\n",
       "    <tr style=\"text-align: right;\">\n",
       "      <th></th>\n",
       "      <th>degree_90s</th>\n",
       "      <th>degree_00s</th>\n",
       "      <th>degree_10s</th>\n",
       "    </tr>\n",
       "  </thead>\n",
       "  <tbody>\n",
       "    <tr>\n",
       "      <th>Vin Diesel</th>\n",
       "      <td>28.0</td>\n",
       "      <td>4.0</td>\n",
       "      <td>48.0</td>\n",
       "    </tr>\n",
       "    <tr>\n",
       "      <th>Hugo Weaving</th>\n",
       "      <td>13.0</td>\n",
       "      <td>96.0</td>\n",
       "      <td>48.0</td>\n",
       "    </tr>\n",
       "    <tr>\n",
       "      <th>Anthony Hopkins</th>\n",
       "      <td>25.0</td>\n",
       "      <td>41.0</td>\n",
       "      <td>47.0</td>\n",
       "    </tr>\n",
       "    <tr>\n",
       "      <th>Gwyneth Paltrow</th>\n",
       "      <td>38.0</td>\n",
       "      <td>23.0</td>\n",
       "      <td>37.0</td>\n",
       "    </tr>\n",
       "    <tr>\n",
       "      <th>Will Smith</th>\n",
       "      <td>43.0</td>\n",
       "      <td>63.0</td>\n",
       "      <td>32.0</td>\n",
       "    </tr>\n",
       "  </tbody>\n",
       "</table>\n",
       "</div>"
      ],
      "text/plain": [
       "                 degree_90s  degree_00s  degree_10s\n",
       "Vin Diesel             28.0         4.0        48.0\n",
       "Hugo Weaving           13.0        96.0        48.0\n",
       "Anthony Hopkins        25.0        41.0        47.0\n",
       "Gwyneth Paltrow        38.0        23.0        37.0\n",
       "Will Smith             43.0        63.0        32.0"
      ]
     },
     "execution_count": 407,
     "metadata": {},
     "output_type": "execute_result"
    }
   ],
   "source": [
    "result_degrees_stable.sort_values(by='degree_10s', ascending=False).head()"
   ]
  },
  {
   "cell_type": "code",
   "execution_count": 408,
   "id": "e68922be",
   "metadata": {},
   "outputs": [
    {
     "name": "stdout",
     "output_type": "stream",
     "text": [
      "<class 'pandas.core.frame.DataFrame'>\n",
      "Index: 2946 entries, Michael Keaton to Colin Hanks\n",
      "Data columns (total 3 columns):\n",
      " #   Column      Non-Null Count  Dtype  \n",
      "---  ------      --------------  -----  \n",
      " 0   degree_90s  1172 non-null   float64\n",
      " 1   degree_00s  1297 non-null   float64\n",
      " 2   degree_10s  891 non-null    float64\n",
      "dtypes: float64(3)\n",
      "memory usage: 92.1+ KB\n",
      "----------\n",
      "<class 'pandas.core.frame.DataFrame'>\n",
      "Index: 46 entries, Danny DeVito to David Strathairn\n",
      "Data columns (total 3 columns):\n",
      " #   Column      Non-Null Count  Dtype  \n",
      "---  ------      --------------  -----  \n",
      " 0   degree_90s  46 non-null     float64\n",
      " 1   degree_00s  46 non-null     float64\n",
      " 2   degree_10s  46 non-null     float64\n",
      "dtypes: float64(3)\n",
      "memory usage: 1.4+ KB\n"
     ]
    }
   ],
   "source": [
    "result_degrees.info()\n",
    "print(\"-\"*10)\n",
    "result_degrees_stable.info()"
   ]
  },
  {
   "cell_type": "markdown",
   "id": "a9369e8a",
   "metadata": {},
   "source": [
    "* From our top 10 list, we can see that Tom Cruise seems to have maintained a successful career from the 90s to the entire 00s.\n",
    "* 4 of the 5 top actors in the 90s don't appear to have significant relevancy in the 10s decade. \n",
    "* Similarly, the relevant actors of the 10s do not have a relevant degree in the 90s, probably due to age.\n",
    "* Only 46 actors from our 1172 sample remained significant on the Hollywood scene during the three decades.\n",
    "* Will Smith had his peak in the 00s era, but appears in the top 5 of the actors with stable carrers in the 90s and in the 10s.\n",
    "* All graphs show a predominance of male actors, especially in the top lists"
   ]
  },
  {
   "cell_type": "code",
   "execution_count": null,
   "id": "404f8a88",
   "metadata": {},
   "outputs": [],
   "source": []
  }
 ],
 "metadata": {
  "kernelspec": {
   "display_name": "Python 3 (ipykernel)",
   "language": "python",
   "name": "python3"
  },
  "language_info": {
   "codemirror_mode": {
    "name": "ipython",
    "version": 3
   },
   "file_extension": ".py",
   "mimetype": "text/x-python",
   "name": "python",
   "nbconvert_exporter": "python",
   "pygments_lexer": "ipython3",
   "version": "3.9.7"
  }
 },
 "nbformat": 4,
 "nbformat_minor": 5
}
